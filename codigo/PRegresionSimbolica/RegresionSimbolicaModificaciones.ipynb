{
 "cells": [
  {
   "cell_type": "code",
   "execution_count": 1,
   "metadata": {},
   "outputs": [],
   "source": [
    "import pandas as pd\n",
    "import numpy as np\n",
    "import random\n",
    "import re\n",
    "\n"
   ]
  },
  {
   "cell_type": "code",
   "execution_count": 2,
   "metadata": {},
   "outputs": [
    {
     "name": "stdout",
     "output_type": "stream",
     "text": [
      "<class 'pandas.core.frame.DataFrame'>\n",
      "RangeIndex: 36400 entries, 0 to 36399\n",
      "Data columns (total 5 columns):\n",
      " #   Column  Non-Null Count  Dtype  \n",
      "---  ------  --------------  -----  \n",
      " 0   date    36400 non-null  object \n",
      " 1   open    36400 non-null  float64\n",
      " 2   high    36400 non-null  float64\n",
      " 3   low     36400 non-null  float64\n",
      " 4   close   36400 non-null  float64\n",
      "dtypes: float64(4), object(1)\n",
      "memory usage: 1.4+ MB\n",
      "None\n"
     ]
    }
   ],
   "source": [
    "df = pd.read_csv('SOLUSTDAtas_tratado.csv')\n",
    "print(df.info())"
   ]
  },
  {
   "cell_type": "markdown",
   "metadata": {},
   "source": [
    "# Preprocesado de Datos"
   ]
  },
  {
   "cell_type": "code",
   "execution_count": 3,
   "metadata": {},
   "outputs": [],
   "source": [
    "tamanio = df.shape[0]"
   ]
  },
  {
   "cell_type": "code",
   "execution_count": 4,
   "metadata": {},
   "outputs": [],
   "source": [
    "NUMHORAS = 7"
   ]
  },
  {
   "cell_type": "code",
   "execution_count": 5,
   "metadata": {},
   "outputs": [],
   "source": [
    "df_train = df.copy().loc[0:int(tamanio*0.7)]\n",
    "df_vali = df.copy().loc[int(tamanio*0.7 + 1):int(tamanio*0.9)]\n",
    "df_test = df.copy().loc[int(tamanio*0.9 + 1):tamanio]"
   ]
  },
  {
   "cell_type": "markdown",
   "metadata": {},
   "source": [
    "# Desarrollo del modelo"
   ]
  },
  {
   "cell_type": "code",
   "execution_count": null,
   "metadata": {},
   "outputs": [],
   "source": [
    "class RegresionSimbolica:\n",
    "    def __init__(self, funcionOptimizacion: callable, operations: list[list], maxSize: int, minSize: int, n : int): \n",
    "        # Asigno a funcionOptimizacion la función que se debe utilizar para calcular el rendimiento de los genes\n",
    "        self.funcionOptimizacion = funcionOptimizacion  \n",
    "        self.operations = operations  # Asigno a operations la lista de listas de operaciones\n",
    "        self.maxSize = maxSize  # Asigno a maxSize el tamañao máximo que puede tener un gen\n",
    "        self.minSize = minSize  # Asigno a minSize el tamaño mínimo que puede tener un gen\n",
    "        self.genes: list[list] = [] # Asigno a genes una lista vacía\n",
    "        self.n = n  # Asigno a n la cantidad de horas anteriores que se tienen en cuenta\n",
    "        pass\n",
    "    \n",
    "    \n",
    "    def __create_priv(self, r : int, numGenes: int):\n",
    "        genes = []\n",
    "        for j in range (numGenes):   \n",
    "            aux = []\n",
    "            aux.append(random.randint(0, r)) # Añado al gen un número aleatorio entre 0 y la posición máxima\n",
    "            # Genero un tamaño aleatorio para el gen comprendido entre el tamaño máximo y el tamaño mínimo\n",
    "            for i in range(random.randint(self.minSize, self.maxSize - 1)): \n",
    "                # Selecciono aleatoriamente una categoría de operación\n",
    "                numLO = random.randint(0, len(self.operations) - 1) \n",
    "                # Añado al gen una operación elegida aleatoriamente de entre las de la categoría \n",
    "                aux.append(self.operations[numLO][random.randint(0, len(self.operations[numLO]) - 1)])  \n",
    "                # Añado al gen un número aleatorio entre 0 y la posición máxima\n",
    "                aux.append(random.randint(0, r))\n",
    "            genes.append(aux)   # Añado el gen generado a la lista de genes\n",
    "        return genes\n",
    "            \n",
    "    \n",
    "    \n",
    "    def create(self, numGenes: int):\n",
    "        if numGenes > 0:    # Compruebo que el número de genes sea al menos 1\n",
    "            return self.__create_priv(4*self.n - 1, numGenes)\n",
    "        else:\n",
    "            # Levanto una excepción porque el número de genes es menor que 1\n",
    "            raise Exception(\"El número de genes no puede ser menor que 1\")  \n",
    "        \n",
    "    def __aplica_operacion(self, op, i, j):\n",
    "        if op == '+':   # Compruebo si la operación es la suma\n",
    "            return i + j    # Sumo i más j\n",
    "        elif op == '-': # Compruebo si la operación es la resta\n",
    "            return i - j    # Resto i menos j\n",
    "        elif op == '*': # Compruebo si la operación es la multiplicación\n",
    "            return i * j    # Multiplico i por j\n",
    "        elif op == '/': # Compruebo si la operación es la división\n",
    "            return i / j if j != 0 else 1e6 # Si j es distinto de 0 divido i entre j\n",
    "        elif op == '^': # Compruebo si la operación es la potencia\n",
    "            return i ** j   # Elevo i a j\n",
    "        \n",
    "    def __evaluate(self, valores: list[float], candidato: list):\n",
    "        candidato_aux = []\n",
    "        # Recorro el gen y sustituyo las posiciones por sus valores correspondientes creando una lista auxiliar\n",
    "        for i in range(0, len(candidato) - 1, 2):  \n",
    "            candidato_aux.append(valores[candidato[i]]) # Añado el valor correspondiente a esa posición\n",
    "            candidato_aux.append(candidato[i+1])    # Añado la operación\n",
    "        candidato_aux.append(valores[candidato[len(candidato) - 1]]) # Añado el valor correspondiente a esa posición\n",
    "        # Recorro las categorías de operaciones ejecutando las operaciones de cada categoría\n",
    "        for categoria_operaciones in self.operations:   \n",
    "            j_offset = 0    # offset del índice\n",
    "            # Recorro las operaciones del gen\n",
    "            for j in range(1, len(candidato_aux), 2):\n",
    "                indice = j + j_offset\n",
    "                op = candidato_aux[indice]  # Asigno la operación a op\n",
    "                # Compruebo si la operación esta en al categoría de operaciones de esta iteración\n",
    "                if(op in categoria_operaciones): \n",
    "                    # Realizo la operación\n",
    "                    op_result = self.__aplica_operacion( op, candidato_aux[indice-1], candidato_aux[indice+1])\n",
    "                    candidato_aux[indice-1] = op_result # Asigno el resultado de la operación al lugar del operador izquierdo\n",
    "                    del candidato_aux[indice+1] # Elimino la operación del gen\n",
    "                    del candidato_aux[indice]   # Elimino el operador derecho del gen\n",
    "                    j_offset = j_offset - 2 # Reduzco en 2 el offset\n",
    "        return candidato_aux[0]   # Devuelvo el valor obtenido\n",
    "    \n",
    "    \n",
    "    def fitness2(self, X, y, candidato: list):\n",
    "        valores_generados = []\n",
    "        for elem in X: # Recorro X obteniendo la predicción del modelo para cada entrada de X\n",
    "            valores_generados.append(self.__evaluate(elem, candidato))\n",
    "        # Ejecuto al función de optimización en al predicción e y\n",
    "        return self.funcionOptimizacion(valores_generados, y)   \n",
    "               \n",
    "                \n",
    "        \n",
    "            \n",
    "        \n",
    "    def display(self,  candidato: list):\n",
    "        # Decuelvo el gen como string\n",
    "        return  ' '.join(map(str, [i for i in candidato]))\n",
    "        \n",
    "    def mutate(self, candidato: list):\n",
    "        numberC = (1 + len(candidato)) / 2\n",
    "        if numberC < self.maxSize and random.randint(0,100) == 0:\n",
    "            op_cat = random.randint(0, len(self.operations) - 1)\n",
    "            candidato.append(self.operations[op_cat][random.randint(0, len(self.operations[op_cat]) - 1)])\n",
    "            candidato.append(random.randrange(0, 4*self.n))\n",
    "            return candidato\n",
    "        elif numberC > self.minSize and random.randint(0,50) == 0:\n",
    "            indice = random.randrange(0, len(candidato) - 1)\n",
    "            del candidato[indice]\n",
    "            del candidato[indice]\n",
    "            return candidato\n",
    "        return candidato\n",
    "    \n",
    "    def mutate2(self, candidato: list):\n",
    "        numberC = (1 + len(candidato)) / 2  # Tamaño del gen\n",
    "        # Si el tamaño del gen no es mayor que el tamaño máximo y el número aleatorio es 0 el gen se muta añadiendo\n",
    "        if numberC < self.maxSize and random.randint(0,49) == 0:    \n",
    "            op_cat = random.randint(0, len(self.operations) - 1) # Selecciono aleatoriamente una categoría de operación\n",
    "            # Añado al gen una operación elegida aleatoriamente de entre las de la categoría \n",
    "            candidato.append(self.operations[op_cat][random.randint(0, len(self.operations[op_cat]) - 1)])\n",
    "            # Añado al gen un número aleatorio entre 0 y la posición máxima\n",
    "            candidato.append(random.randrange(0, 4*self.n))\n",
    "        # Si no se ha añadido, el tamaño del gen menos 2 no es menor que el tamaño mínimo y el número aleatorio es 0 el gen se muta quitando\n",
    "        elif numberC - 2 > self.minSize and random.randint(0,49) == 0:\n",
    "            # Selecciono aleatoriamente un índice del gen\n",
    "            indice = random.randrange(0, len(candidato) - 1)\n",
    "            # Elimino el elemento que está en la posición del índice\n",
    "            del candidato[indice]\n",
    "            # Elimino el elemento que está en la posición del índice\n",
    "            del candidato[indice]\n",
    "        return candidato    # Devuelvo el gen resultante\n",
    "\n",
    "    def cargar(self, linea):\n",
    "        gen = []\n",
    "        # Uso una expresión regular para encontrar todos los números (\\d+) o los operadores (+, -, *, /) en la línea\n",
    "        gen = re.findall(r'\\d+|[+\\-*/]', linea)\n",
    "        # Convierto a entero todos los tokens que sean números y mantengo como cadenas los operadores\n",
    "        gen = [int(tok) if tok.isdigit() else tok for tok in gen]\n",
    "        return gen  # Devuelvo el gen\n",
    "\n",
    "    def runcopy(self, numGenes, X, y, baremo: float, cargar: bool):\n",
    "        resultado = []\n",
    "        num_veces = 0\n",
    "        best = 1000000\n",
    "        candidato_best = []\n",
    "        self.genes = []\n",
    "        if cargar:\n",
    "            with open('estado.txt', 'r') as archivo:\n",
    "                for linea in archivo:\n",
    "                    linea = linea.strip()\n",
    "                    self.genes.append(self.cargar(linea))\n",
    "                numGenes = len(self.genes)\n",
    "        else:\n",
    "            self.genes = self.create(numGenes)\n",
    "        for i in range (0, len(self.genes)):\n",
    "            value = self.fitness2(X, y, self.genes[i])\n",
    "            if(value < best):\n",
    "                best = value\n",
    "                candidato_best = self.genes[i]\n",
    "        while(best > baremo and num_veces < 1000000):\n",
    "            best_iteracion = 1000000\n",
    "            candi_it = []\n",
    "            for j in range (0, len(self.genes)):\n",
    "                self.genes[j] = self.mutate2(self.genes[j])\n",
    "            values_list = []\n",
    "            for r in range (0, len(self.genes)):\n",
    "                value = self.fitness2(X, y, self.genes[r])\n",
    "                values_list.append(value)\n",
    "                if(value < best_iteracion):\n",
    "                    best_iteracion = value\n",
    "                    candi_it = self.genes[r]\n",
    "                    if value < best:\n",
    "                        best = value\n",
    "                        candidato_best = self.genes[r]\n",
    "            if num_veces > 200 and num_veces % 100 == 0:\n",
    "                indexed_fitness = list(enumerate(values_list))\n",
    "                indexed_fitness.sort(key=lambda x: x[1])  # Ordenar por fitness\n",
    "\n",
    "                mejor_indice = indexed_fitness[0][0]\n",
    "                aux = self.genes[mejor_indice]\n",
    "\n",
    "                # Obtener los índices de los 19 peores\n",
    "                peores_indices = [idx for idx, _ in indexed_fitness[-5:]]\n",
    "                peores_indices.sort(reverse=True)\n",
    "\n",
    "                for indice in peores_indices:\n",
    "                    del self.genes[indice]\n",
    "\n",
    "                for _ in range(5):\n",
    "                    self.genes.append(aux)\n",
    "            num_veces += 1\n",
    "            print(f\"Vez num:{num_veces}, valorit{best_iteracion}, valor{best}\")\n",
    "            genBest = self.display(candi_it)\n",
    "            resultado.append({'iteracion' : num_veces, 'valor' : best_iteracion, 'gen' : genBest})\n",
    "            with open('genesIteracion.txt', 'a') as archivo:\n",
    "                archivo.write(f\"Vez num:{num_veces}, valor{best_iteracion}, gen: {genBest} \\n\")\n",
    "            if num_veces % 100 == 0:\n",
    "                df_resultados = pd.DataFrame(resultado)\n",
    "                cadena = \"Dataframes/resultados_regresionSimbolicaC_it\" + str(num_veces) + \".csv\"\n",
    "                df_resultados.to_csv(cadena, index=False)\n",
    "                with open('estado.txt', 'w') as archivo_estado:\n",
    "                    for gen in self.genes:\n",
    "                        cadena  = str(self.display(gen)) + \"\\n\"\n",
    "                        archivo_estado.write(cadena)\n",
    "        print(\"El mejor gen tiene un rendimiento de \" + str(best))\n",
    "        self.display(candidato_best)\n",
    "        df_resultados = pd.DataFrame(resultado)\n",
    "        cadena = \"Dataframes/resultados_regresionSimbolica.csv\"\n",
    "        df_resultados.to_csv(cadena, index=False)\n",
    "        return (candidato_best, best)\n"
   ]
  },
  {
   "cell_type": "code",
   "execution_count": 30,
   "metadata": {},
   "outputs": [],
   "source": [
    "def funcion_optimizacion_mape(valores_generados, y):\n",
    "    suma = 0\n",
    "    n = len(valores_generados)\n",
    "    for i in range(0,n):\n",
    "        suma = abs(valores_generados[i] - y[i])/y[i] +  suma\n",
    "    error_medio = suma/n\n",
    "    return error_medio*100 "
   ]
  },
  {
   "cell_type": "code",
   "execution_count": 31,
   "metadata": {},
   "outputs": [],
   "source": [
    "\n",
    "operations = [\n",
    "    ['*', '/'],   # Primera lista de operaciones prioritarias\n",
    "    ['+', '-']    # Segunda lista de operaciones con menor prioridad\n",
    "]\n",
    "\n",
    "# Declarar el objeto\n",
    "objeto_regresion = RegresionSimbolica(\n",
    "    funcionOptimizacion=funcion_optimizacion_mape,  # Pasas tu función de optimización\n",
    "    operations=operations,                          # Pasas la lista de operaciones\n",
    "    maxSize=50,                                     # Tamaño máximo del cromosoma\n",
    "    minSize=5,                                      # Tamaño mínimo del cromosoma\n",
    "    n=NUMHORAS                                            # Cantidad de horas anteriores a considerar\n",
    ")"
   ]
  },
  {
   "cell_type": "code",
   "execution_count": 9,
   "metadata": {},
   "outputs": [
    {
     "name": "stdout",
     "output_type": "stream",
     "text": [
      "1 + 32 * 5 - 6 + 9 / 2\n"
     ]
    },
    {
     "data": {
      "text/plain": [
       "'1 + 3 * 5 * 3'"
      ]
     },
     "execution_count": 9,
     "metadata": {},
     "output_type": "execute_result"
    }
   ],
   "source": [
    "print(objeto_regresion.display([1, '+', 32, '*', 5, '-', 6, '+', 9, '/', 2]))\n",
    "objeto_regresion.fitness([[1, 3,1,4,5,2,5,8,5]], [10.2], [1, '+', 3, '*', 5])\n",
    "candidato = [1, '+', 3, '*', 5]\n",
    "for i in range(0, 300):\n",
    "    objeto_regresion.mutate(candidato)\n",
    "objeto_regresion.display(candidato)    \n",
    "\n"
   ]
  },
  {
   "cell_type": "markdown",
   "metadata": {},
   "source": [
    "Preparar X e y"
   ]
  },
  {
   "cell_type": "code",
   "execution_count": 10,
   "metadata": {},
   "outputs": [],
   "source": [
    "X = []\n",
    "y= []\n",
    "for i in range(0, df_train.shape[0] - NUMHORAS):\n",
    "    aux = []\n",
    "    for r in range(0, NUMHORAS):\n",
    "        aux.append(df_train.iloc[i + r].open)\n",
    "        aux.append(df_train.iloc[i + r].high)\n",
    "        aux.append(df_train.iloc[i + r].low)\n",
    "        aux.append(df_train.iloc[i + r].close)\n",
    "    X.append(aux)\n",
    "    y.append(df_train.iloc[i + NUMHORAS].close)"
   ]
  },
  {
   "cell_type": "code",
   "execution_count": 32,
   "metadata": {},
   "outputs": [
    {
     "name": "stdout",
     "output_type": "stream",
     "text": [
      "Vez num:1, valor210.12764918098816\n",
      "Vez num:2, valor210.12764918098816\n",
      "Vez num:3, valor210.12764918098816\n",
      "Vez num:4, valor210.12764918098816\n",
      "Vez num:5, valor210.12764918098816\n",
      "Vez num:6, valor210.12764918098816\n",
      "Vez num:7, valor210.12764918098816\n",
      "Vez num:8, valor210.12764918098816\n",
      "Vez num:9, valor109.83969821083967\n",
      "Vez num:10, valor109.83969821083967\n",
      "Vez num:11, valor109.83969821083967\n",
      "Vez num:12, valor109.83969821083967\n",
      "Vez num:13, valor109.83969821083967\n",
      "Vez num:14, valor107.83160893739816\n",
      "Vez num:15, valor107.83160893739816\n",
      "Vez num:16, valor107.83160893739816\n",
      "Vez num:17, valor20.16409617251261\n",
      "Vez num:18, valor20.16409617251261\n",
      "Vez num:19, valor20.16409617251261\n",
      "Vez num:20, valor20.16409617251261\n",
      "Vez num:21, valor20.16409617251261\n",
      "Vez num:22, valor20.16409617251261\n",
      "Vez num:23, valor20.16409617251261\n",
      "Vez num:24, valor20.16409617251261\n",
      "Vez num:25, valor20.16409617251261\n",
      "Vez num:26, valor20.16409617251261\n",
      "Vez num:27, valor20.16409617251261\n",
      "Vez num:28, valor20.16409617251261\n",
      "Vez num:29, valor20.16409617251261\n"
     ]
    },
    {
     "ename": "KeyboardInterrupt",
     "evalue": "",
     "output_type": "error",
     "traceback": [
      "\u001b[1;31m---------------------------------------------------------------------------\u001b[0m",
      "\u001b[1;31mKeyboardInterrupt\u001b[0m                         Traceback (most recent call last)",
      "Cell \u001b[1;32mIn[32], line 1\u001b[0m\n\u001b[1;32m----> 1\u001b[0m pos \u001b[38;5;241m=\u001b[39m \u001b[43mobjeto_regresion\u001b[49m\u001b[38;5;241;43m.\u001b[39;49m\u001b[43mruncopy\u001b[49m\u001b[43m(\u001b[49m\u001b[38;5;241;43m20\u001b[39;49m\u001b[43m,\u001b[49m\u001b[43m \u001b[49m\u001b[43mX\u001b[49m\u001b[43m,\u001b[49m\u001b[43m \u001b[49m\u001b[43my\u001b[49m\u001b[43m,\u001b[49m\u001b[43m \u001b[49m\u001b[38;5;241;43m0.5\u001b[39;49m\u001b[43m,\u001b[49m\u001b[43m \u001b[49m\u001b[38;5;28;43;01mFalse\u001b[39;49;00m\u001b[43m)\u001b[49m\n",
      "Cell \u001b[1;32mIn[29], line 144\u001b[0m, in \u001b[0;36mRegresionSimbolica.runcopy\u001b[1;34m(self, numGenes, X, y, baremo, cargar)\u001b[0m\n\u001b[0;32m    142\u001b[0m values_list \u001b[38;5;241m=\u001b[39m []\n\u001b[0;32m    143\u001b[0m \u001b[38;5;28;01mfor\u001b[39;00m r \u001b[38;5;129;01min\u001b[39;00m \u001b[38;5;28mrange\u001b[39m (\u001b[38;5;241m0\u001b[39m, \u001b[38;5;28mlen\u001b[39m(\u001b[38;5;28mself\u001b[39m\u001b[38;5;241m.\u001b[39mgenes)):\n\u001b[1;32m--> 144\u001b[0m     value \u001b[38;5;241m=\u001b[39m \u001b[38;5;28;43mself\u001b[39;49m\u001b[38;5;241;43m.\u001b[39;49m\u001b[43mfitness2\u001b[49m\u001b[43m(\u001b[49m\u001b[43mX\u001b[49m\u001b[43m,\u001b[49m\u001b[43m \u001b[49m\u001b[43my\u001b[49m\u001b[43m,\u001b[49m\u001b[43m \u001b[49m\u001b[38;5;28;43mself\u001b[39;49m\u001b[38;5;241;43m.\u001b[39;49m\u001b[43mgenes\u001b[49m\u001b[43m[\u001b[49m\u001b[43mr\u001b[49m\u001b[43m]\u001b[49m\u001b[43m)\u001b[49m\n\u001b[0;32m    145\u001b[0m     values_list\u001b[38;5;241m.\u001b[39mappend(value)\n\u001b[0;32m    146\u001b[0m     \u001b[38;5;28;01mif\u001b[39;00m(value \u001b[38;5;241m<\u001b[39m best):\n",
      "Cell \u001b[1;32mIn[29], line 73\u001b[0m, in \u001b[0;36mRegresionSimbolica.fitness2\u001b[1;34m(self, X, y, candidato)\u001b[0m\n\u001b[0;32m     71\u001b[0m valores_generados \u001b[38;5;241m=\u001b[39m []\n\u001b[0;32m     72\u001b[0m \u001b[38;5;28;01mfor\u001b[39;00m elem \u001b[38;5;129;01min\u001b[39;00m X:\n\u001b[1;32m---> 73\u001b[0m     valores_generados\u001b[38;5;241m.\u001b[39mappend(\u001b[38;5;28;43mself\u001b[39;49m\u001b[38;5;241;43m.\u001b[39;49m\u001b[43m__evaluate\u001b[49m\u001b[43m(\u001b[49m\u001b[43melem\u001b[49m\u001b[43m,\u001b[49m\u001b[43m \u001b[49m\u001b[43mcandidato\u001b[49m\u001b[43m)\u001b[49m)\n\u001b[0;32m     74\u001b[0m \u001b[38;5;28;01mreturn\u001b[39;00m \u001b[38;5;28mself\u001b[39m\u001b[38;5;241m.\u001b[39mfuncionOptimizacion(valores_generados, y)\n",
      "Cell \u001b[1;32mIn[29], line 60\u001b[0m, in \u001b[0;36mRegresionSimbolica.__evaluate\u001b[1;34m(self, valores, candidato)\u001b[0m\n\u001b[0;32m     58\u001b[0m             \u001b[38;5;28;01mdel\u001b[39;00m candidato_aux[indice\u001b[38;5;241m+\u001b[39m\u001b[38;5;241m1\u001b[39m]\n\u001b[0;32m     59\u001b[0m             \u001b[38;5;28;01mdel\u001b[39;00m candidato_aux[indice]\n\u001b[1;32m---> 60\u001b[0m             j_offset \u001b[38;5;241m=\u001b[39m \u001b[43mj_offset\u001b[49m\u001b[43m \u001b[49m\u001b[38;5;241;43m-\u001b[39;49m\u001b[43m \u001b[49m\u001b[38;5;241;43m2\u001b[39;49m\n\u001b[0;32m     61\u001b[0m \u001b[38;5;28;01mreturn\u001b[39;00m candidato_aux[\u001b[38;5;241m0\u001b[39m]\n",
      "\u001b[1;31mKeyboardInterrupt\u001b[0m: "
     ]
    }
   ],
   "source": [
    "pos = objeto_regresion.runcopy(200, X, y, 0.5, False)"
   ]
  },
  {
   "cell_type": "code",
   "execution_count": null,
   "metadata": {},
   "outputs": [
    {
     "data": {
      "text/plain": [
       "([27, '-', 7, '+', 7], 1.0167578391944412)"
      ]
     },
     "execution_count": 11,
     "metadata": {},
     "output_type": "execute_result"
    }
   ],
   "source": [
    "pos"
   ]
  },
  {
   "cell_type": "code",
   "execution_count": null,
   "metadata": {},
   "outputs": [],
   "source": [
    "with open('ecuaciones.txt', 'a') as archivo:\n",
    "    archivo.write(str(pos[0]) + \" : \" + str(pos[1]) + \"_nh\" + str(NUMHORAS) + \"\\n\")"
   ]
  }
 ],
 "metadata": {
  "kernelspec": {
   "display_name": "Python 3",
   "language": "python",
   "name": "python3"
  },
  "language_info": {
   "codemirror_mode": {
    "name": "ipython",
    "version": 3
   },
   "file_extension": ".py",
   "mimetype": "text/x-python",
   "name": "python",
   "nbconvert_exporter": "python",
   "pygments_lexer": "ipython3",
   "version": "3.9.0"
  }
 },
 "nbformat": 4,
 "nbformat_minor": 2
}
