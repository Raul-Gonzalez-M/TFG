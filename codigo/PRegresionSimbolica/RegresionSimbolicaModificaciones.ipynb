{
 "cells": [
  {
   "cell_type": "code",
   "execution_count": null,
   "metadata": {},
   "outputs": [],
   "source": [
    "import pandas as pd\n",
    "import numpy as np\n",
    "import random\n",
    "import re\n",
    "\n"
   ]
  },
  {
   "cell_type": "code",
   "execution_count": 2,
   "metadata": {},
   "outputs": [
    {
     "name": "stdout",
     "output_type": "stream",
     "text": [
      "<class 'pandas.core.frame.DataFrame'>\n",
      "RangeIndex: 36400 entries, 0 to 36399\n",
      "Data columns (total 5 columns):\n",
      " #   Column  Non-Null Count  Dtype  \n",
      "---  ------  --------------  -----  \n",
      " 0   date    36400 non-null  object \n",
      " 1   open    36400 non-null  float64\n",
      " 2   high    36400 non-null  float64\n",
      " 3   low     36400 non-null  float64\n",
      " 4   close   36400 non-null  float64\n",
      "dtypes: float64(4), object(1)\n",
      "memory usage: 1.4+ MB\n",
      "None\n"
     ]
    }
   ],
   "source": [
    "df = pd.read_csv('SOLUSTDAtas_tratado.csv')\n",
    "print(df.info())"
   ]
  },
  {
   "cell_type": "markdown",
   "metadata": {},
   "source": [
    "# Preprocesado de Datos"
   ]
  },
  {
   "cell_type": "code",
   "execution_count": 3,
   "metadata": {},
   "outputs": [],
   "source": [
    "tamanio = df.shape[0]"
   ]
  },
  {
   "cell_type": "code",
   "execution_count": 4,
   "metadata": {},
   "outputs": [],
   "source": [
    "NUMHORAS = 7"
   ]
  },
  {
   "cell_type": "code",
   "execution_count": 5,
   "metadata": {},
   "outputs": [],
   "source": [
    "df_train = df.copy().loc[0:int(tamanio*0.7)]\n",
    "df_vali = df.copy().loc[int(tamanio*0.7 + 1):int(tamanio*0.9)]\n",
    "df_test = df.copy().loc[int(tamanio*0.9 + 1):tamanio]"
   ]
  },
  {
   "cell_type": "markdown",
   "metadata": {},
   "source": [
    "# Desarrollo del modelo"
   ]
  },
  {
   "cell_type": "code",
   "execution_count": null,
   "metadata": {},
   "outputs": [],
   "source": [
    "class RegresionSimbolica:\n",
    "    def __init__(self, funcionOptimizacion: callable, operations: list[list], maxSize: int, minSize: int, n : int): # n es la cantidad de horas anteriores que se tienen en cuenta\n",
    "        self.funcionOptimizacion = funcionOptimizacion\n",
    "        self.operations = operations  # La primera lista contendrá las operaciones más prioritarias y así progresivamente\n",
    "        self.maxSize = maxSize\n",
    "        self.minSize = minSize\n",
    "        self.genes: list[list] = []\n",
    "        self.n = n\n",
    "        pass\n",
    "    \n",
    "    \n",
    "    def __create_priv(self, r : int, numGenes: int):\n",
    "        genes = []\n",
    "        for j in range (numGenes):   # Se genera un número aleatorio de genes entre 2 y numGenes\n",
    "            aux = []\n",
    "            aux.append(random.randint(0, r))\n",
    "            for i in range(random.randint(self.minSize, self.maxSize - 1)):\n",
    "                numLO = random.randint(0, len(self.operations) - 1)\n",
    "                aux.append(self.operations[numLO][random.randint(0, len(self.operations[numLO]) - 1)])\n",
    "                aux.append(random.randint(0, r))\n",
    "            genes.append(aux)\n",
    "        return genes\n",
    "            \n",
    "    \n",
    "    \n",
    "    def create(self, numGenes: int):\n",
    "        if numGenes > 0:\n",
    "            return self.__create_priv(4*self.n - 1, numGenes)\n",
    "        else:\n",
    "            raise Exception(\"El número de genes no puede ser menor que 1\")\n",
    "        \n",
    "    def __aplica_operacion(self, op, i, j):\n",
    "        if op == '+':\n",
    "            return i + j\n",
    "        elif op == '-':\n",
    "            return i - j\n",
    "        elif op == '*':\n",
    "            return i * j\n",
    "        elif op == '/':\n",
    "            return i / j\n",
    "        elif op == '^':\n",
    "            return i ** j\n",
    "        \n",
    "    def __evaluate(self, valores: list[float], candidato: list):\n",
    "        candidato_aux = []\n",
    "        for i in range(0, len(candidato) - 1, 2):\n",
    "            candidato_aux.append(valores[candidato[i]])\n",
    "            candidato_aux.append(candidato[i+1])\n",
    "        candidato_aux.append(valores[candidato[len(candidato) - 1]])\n",
    "        for categoria_operaciones in self.operations:\n",
    "            j_offset = 0\n",
    "            for j in range(1, len(candidato_aux), 2):\n",
    "                indice = j + j_offset\n",
    "                op = candidato_aux[indice]\n",
    "                if(op in categoria_operaciones):\n",
    "                    op_result = self.__aplica_operacion( op, candidato_aux[indice-1], candidato_aux[indice+1])\n",
    "                    candidato_aux[indice-1] = op_result\n",
    "                    del candidato_aux[indice+1]\n",
    "                    del candidato_aux[indice]\n",
    "                    j_offset = j_offset - 2\n",
    "        return candidato_aux[0]   \n",
    "    \n",
    "    \n",
    "    def fitness(self, X, y, candidato: list):\n",
    "        valores_generados = []\n",
    "        for elem in X:\n",
    "            valores_generados.append(self.__evaluate(elem, candidato))\n",
    "        return self.funcionOptimizacion(valores_generados, y)\n",
    "    \n",
    "    def fitness2(self, X, y, candidato: list):\n",
    "        valores_generados = []\n",
    "        for elem in X:\n",
    "            valores_generados.append(self.__evaluate(elem, candidato))\n",
    "        return self.funcionOptimizacion(valores_generados, y)\n",
    "               \n",
    "                \n",
    "        \n",
    "            \n",
    "        \n",
    "    def display(self,  candidato: list):\n",
    "        return  ' '.join(map(str, [i for i in candidato]))\n",
    "        \n",
    "    def mutate(self, candidato: list):\n",
    "        numberC = (1 + len(candidato)) / 2\n",
    "        if numberC < self.maxSize and random.randint(0,100) == 0:\n",
    "            op_cat = random.randint(0, len(self.operations) - 1)\n",
    "            candidato.append(self.operations[op_cat][random.randint(0, len(self.operations[op_cat]) - 1)])\n",
    "            candidato.append(random.randrange(0, 4*self.n))\n",
    "            return candidato\n",
    "        elif numberC > self.minSize and random.randint(0,50) == 0:\n",
    "            indice = random.randrange(0, len(candidato) - 1)\n",
    "            del candidato[indice]\n",
    "            del candidato[indice]\n",
    "            return candidato\n",
    "        return candidato\n",
    "    \n",
    "    def mutate2(self, candidato: list):\n",
    "        numberC = (1 + len(candidato)) / 2\n",
    "        #for i in range(0,20):\n",
    "        if numberC < self.maxSize and random.randint(0,50) == 0:\n",
    "            op_cat = random.randint(0, len(self.operations) - 1)\n",
    "            candidato.append(self.operations[op_cat][random.randint(0, len(self.operations[op_cat]) - 1)])\n",
    "            candidato.append(random.randrange(0, 4*self.n))\n",
    "            numberC += 2\n",
    "        elif numberC > self.minSize and random.randint(0,50) == 0:\n",
    "            indice = random.randrange(0, len(candidato) - 1)\n",
    "            del candidato[indice]\n",
    "            del candidato[indice]\n",
    "            numberC -= 2\n",
    "        return candidato\n",
    "    \n",
    "    def run(self, numGenes, X, y, baremo: float):\n",
    "        best = 1000000\n",
    "        post_best = 0\n",
    "        self.genes = self.create(numGenes)\n",
    "        for i in range (0, len(self.genes)):\n",
    "            value = self.fitness(X, y, self.genes[i])\n",
    "            if(value < best):\n",
    "                best = value\n",
    "                post_best = i\n",
    "        while(best > baremo):\n",
    "            for j in range (0, len(self.genes)):\n",
    "                self.genes[j] = self.mutate2(self.genes[j])\n",
    "            for i in range (0, len(self.genes)):\n",
    "                value = self.fitness(X, y, self.genes[i])\n",
    "                if(value < best):\n",
    "                    best = value\n",
    "                    post_best = i\n",
    "        print(\"El mejor gen tiene un rendimiento de \" + str(best))\n",
    "        self.display(self.genes[post_best])\n",
    "        return (post_best, best)\n",
    "        \n",
    "        \n",
    "    def run2(self, numGenes, X, y, baremo: float):\n",
    "        best = 1000000\n",
    "        candidato_best = []\n",
    "        self.genes = self.create(numGenes)\n",
    "        for i in range (0, len(self.genes)):\n",
    "            value = self.fitness(X, y, self.genes[i])\n",
    "            if(value < best):\n",
    "                best = value\n",
    "                candidato_best = self.genes[i]\n",
    "        ronda = 0\n",
    "        while(best > baremo):\n",
    "            ronda +=1\n",
    "            for j in range (0, len(self.genes)):\n",
    "                self.genes[j] = self.mutate2(self.genes[j])\n",
    "            dicc_aux = {}\n",
    "            genes_aux = self.genes.copy()\n",
    "            values_list = []\n",
    "            for r in range (0, len(self.genes)):\n",
    "                value = self.fitness(X, y, self.genes[r])\n",
    "                values_list.append(value)\n",
    "                dicc_aux[value] = r\n",
    "                if(value < best):\n",
    "                    best = value\n",
    "                    candidato_best = self.genes[r]\n",
    "            values_array = np.array(values_list)\n",
    "            values_array.sort()\n",
    "            #Crear la lista que va a ir en el dataFrame\n",
    "            genesauxiliares = []\n",
    "            for value in values_array:\n",
    "                genesauxiliares.append(self.genes[dicc_aux[value]])\n",
    "            df = pd.DataFrame({\n",
    "                'Genes': genesauxiliares,\n",
    "                'Valor': values_array,\n",
    "                'NumHoras': NUMHORAS,\n",
    "                'Ronda': ronda\n",
    "            })\n",
    "            nombre = \"pandas/dataframe\" + str(ronda) + \".csv\"\n",
    "            df.to_csv(nombre, index=False) \n",
    "            num_del = 0\n",
    "            if(values_array.size <= (numGenes - 4)/2):\n",
    "                genescreados = self.create(4)\n",
    "                for gen in genescreados:\n",
    "                    self.genes.append(gen)\n",
    "            else:\n",
    "                for z in range(int(values_array.size/ 2), values_array.size):\n",
    "                    if genes_aux[dicc_aux[values_array[z]]] in self.genes:\n",
    "                        self.genes.remove(genes_aux[dicc_aux[values_array[z]]])\n",
    "                        num_del += 1\n",
    "                if num_del > 2:\n",
    "                    genescreados = self.create(num_del)\n",
    "                    for gen in genescreados:\n",
    "                        self.genes.append(gen)\n",
    "            print(\"El mejor gen,\" + str(self.display(candidato_best)) + \",de la ronda \" + str(ronda) + \" tiene un rendimiento de \" + str(best))\n",
    "            with open('candidatos.txt', 'a') as archivo:\n",
    "                archivo.write(\"El mejor gen,\" + str(self.display(candidato_best)) + \",de la ronda \" + str(ronda) + \" tiene un rendimiento de \" + str(best) + \"\\n\")\n",
    "        print(\"El mejor gen tiene un rendimiento de \" + str(best))\n",
    "        self.display(candidato_best)\n",
    "        return (candidato_best, best)\n",
    "\n",
    "    def cargar(self, linea):\n",
    "        gen = []\n",
    "        gen = re.findall(r'\\d+|[+\\-*/]', linea)\n",
    "        gen = [int(tok) if tok.isdigit() else tok for tok in gen]\n",
    "        return gen\n",
    "\n",
    "\n",
    "\n",
    "    def runcopy(self, numGenes, X, y, baremo: float):\n",
    "        resultado = []\n",
    "        num_veces = 0\n",
    "        best = 1000000\n",
    "        candidato_best = []\n",
    "        cargar = True\n",
    "        if cargar:\n",
    "            with open('estado.txt', 'r') as archivo:\n",
    "                for linea in archivo:\n",
    "                    linea = linea.strip()\n",
    "                    self.genes.append(self.cargar(linea))\n",
    "                numGenes = len(self.genes)\n",
    "        else:\n",
    "            self.genes = self.create(numGenes)\n",
    "        for i in range (0, len(self.genes)):\n",
    "            value = self.fitness2(X, y, self.genes[i])\n",
    "            if(value < best):\n",
    "                best = value\n",
    "                candidato_best = self.genes[i]\n",
    "        while(best > baremo and num_veces < 1000000):\n",
    "            for j in range (0, len(self.genes)):\n",
    "                self.genes[j] = self.mutate2(self.genes[j])\n",
    "            dicc_aux = {}\n",
    "            genes_aux = self.genes.copy()\n",
    "            values_list = []\n",
    "            for r in range (0, len(self.genes)):\n",
    "                value = self.fitness2(X, y, self.genes[r])\n",
    "                values_list.append(value)\n",
    "                dicc_aux[value] = r\n",
    "                if(value < best):\n",
    "                    best = value\n",
    "                    candidato_best = self.genes[r]\n",
    "            values_array = np.array(values_list)\n",
    "            values_array.sort()\n",
    "            if(num_veces > 200):\n",
    "                aux = self.genes[dicc_aux[values_array[0]]]\n",
    "                for ind in range(1,20):\n",
    "                    indice =  dicc_aux[values_array[values_array.size - ind]]\n",
    "                    del self.genes[indice]\n",
    "                for rs in range(1,20):\n",
    "                    self.genes.append(aux)\n",
    "            num_veces += 1\n",
    "            print(f\"Vez num:{num_veces}, valor{best}\")\n",
    "            genBest = self.display(candidato_best)\n",
    "            resultado.append({'iteracion' : num_veces, 'valor' : best, 'gen' : genBest})\n",
    "            with open('genesIteracion.txt', 'a') as archivo:\n",
    "                archivo.write(f\"Vez num:{num_veces}, valor{best}, gen: {genBest} \\n\")\n",
    "            if num_veces % 100 == 0:\n",
    "                df_resultados = pd.DataFrame(resultado)\n",
    "                cadena = \"Dataframes/resultados_regresionSimbolicaC_it\" + str(num_veces) + \".csv\"\n",
    "                df_resultados.to_csv(cadena, index=False)\n",
    "                with open('estado.txt', 'w') as archivo_estado:\n",
    "                    for gen in self.genes:\n",
    "                        cadena  = str(self.display(gen)) + \"\\n\"\n",
    "                        archivo_estado.write(cadena)\n",
    "        print(\"El mejor gen tiene un rendimiento de \" + str(best))\n",
    "        self.display(candidato_best)\n",
    "        df_resultados = pd.DataFrame(resultado)\n",
    "        cadena = \"Dataframes/resultados_regresionSimbolica.csv\"\n",
    "        df_resultados.to_csv(cadena, index=False)\n",
    "        return (candidato_best, best)\n"
   ]
  },
  {
   "cell_type": "code",
   "execution_count": 7,
   "metadata": {},
   "outputs": [],
   "source": [
    "def funcion_optimizacion_mape(valores_generados, y):\n",
    "    suma = 0\n",
    "    n = len(valores_generados)\n",
    "    for i in range(0,n):\n",
    "        suma = abs(valores_generados[i] - y[i])/y[i] +  suma\n",
    "    error_medio = suma/n\n",
    "    return error_medio*100 "
   ]
  },
  {
   "cell_type": "code",
   "execution_count": null,
   "metadata": {},
   "outputs": [],
   "source": [
    "\n",
    "operations = [\n",
    "    ['*', '/'],   # Primera lista de operaciones prioritarias\n",
    "    ['+', '-']    # Segunda lista de operaciones con menor prioridad\n",
    "]\n",
    "\n",
    "# Declarar el objeto\n",
    "objeto_regresion = RegresionSimbolica(\n",
    "    funcionOptimizacion=funcion_optimizacion_mape,  # Pasas tu función de optimización\n",
    "    operations=operations,                          # Pasas la lista de operaciones\n",
    "    maxSize=50,                                     # Tamaño máximo del cromosoma\n",
    "    minSize=5,                                      # Tamaño mínimo del cromosoma\n",
    "    n=NUMHORAS                                            # Cantidad de horas anteriores a considerar\n",
    ")"
   ]
  },
  {
   "cell_type": "code",
   "execution_count": 11,
   "metadata": {},
   "outputs": [
    {
     "name": "stdout",
     "output_type": "stream",
     "text": [
      "1 + 32 * 5 - 6 + 9 / 2\n"
     ]
    },
    {
     "data": {
      "text/plain": [
       "'3 * 5 - 22 + 0'"
      ]
     },
     "execution_count": 11,
     "metadata": {},
     "output_type": "execute_result"
    }
   ],
   "source": [
    "print(objeto_regresion.display([1, '+', 32, '*', 5, '-', 6, '+', 9, '/', 2]))\n",
    "objeto_regresion.fitness([[1, 3,1,4,5,2,5,8,5]], [10.2], [1, '+', 3, '*', 5])\n",
    "candidato = [1, '+', 3, '*', 5]\n",
    "for i in range(0, 300):\n",
    "    objeto_regresion.mutate(candidato)\n",
    "objeto_regresion.display(candidato)    \n",
    "\n"
   ]
  },
  {
   "cell_type": "markdown",
   "metadata": {},
   "source": [
    "Preparar X e y"
   ]
  },
  {
   "cell_type": "code",
   "execution_count": 10,
   "metadata": {},
   "outputs": [
    {
     "ename": "KeyboardInterrupt",
     "evalue": "",
     "output_type": "error",
     "traceback": [
      "\u001b[1;31m---------------------------------------------------------------------------\u001b[0m",
      "\u001b[1;31mKeyboardInterrupt\u001b[0m                         Traceback (most recent call last)",
      "Cell \u001b[1;32mIn[10], line 8\u001b[0m\n\u001b[0;32m      6\u001b[0m     aux\u001b[38;5;241m.\u001b[39mappend(df_train\u001b[38;5;241m.\u001b[39miloc[i \u001b[38;5;241m+\u001b[39m r]\u001b[38;5;241m.\u001b[39mopen)\n\u001b[0;32m      7\u001b[0m     aux\u001b[38;5;241m.\u001b[39mappend(df_train\u001b[38;5;241m.\u001b[39miloc[i \u001b[38;5;241m+\u001b[39m r]\u001b[38;5;241m.\u001b[39mhigh)\n\u001b[1;32m----> 8\u001b[0m     aux\u001b[38;5;241m.\u001b[39mappend(\u001b[43mdf_train\u001b[49m\u001b[38;5;241;43m.\u001b[39;49m\u001b[43miloc\u001b[49m\u001b[43m[\u001b[49m\u001b[43mi\u001b[49m\u001b[43m \u001b[49m\u001b[38;5;241;43m+\u001b[39;49m\u001b[43m \u001b[49m\u001b[43mr\u001b[49m\u001b[43m]\u001b[49m\u001b[38;5;241;43m.\u001b[39;49m\u001b[43mlow\u001b[49m)\n\u001b[0;32m      9\u001b[0m     aux\u001b[38;5;241m.\u001b[39mappend(df_train\u001b[38;5;241m.\u001b[39miloc[i \u001b[38;5;241m+\u001b[39m r]\u001b[38;5;241m.\u001b[39mclose)\n\u001b[0;32m     10\u001b[0m X\u001b[38;5;241m.\u001b[39mappend(aux)\n",
      "File \u001b[1;32mc:\\Users\\raulg\\AppData\\Local\\Programs\\Python\\Python39\\lib\\site-packages\\pandas\\core\\generic.py:6298\u001b[0m, in \u001b[0;36mNDFrame.__getattr__\u001b[1;34m(self, name)\u001b[0m\n\u001b[0;32m   6290\u001b[0m \u001b[38;5;66;03m# Note: obj.x will always call obj.__getattribute__('x') prior to\u001b[39;00m\n\u001b[0;32m   6291\u001b[0m \u001b[38;5;66;03m# calling obj.__getattr__('x').\u001b[39;00m\n\u001b[0;32m   6292\u001b[0m \u001b[38;5;28;01mif\u001b[39;00m (\n\u001b[0;32m   6293\u001b[0m     name \u001b[38;5;129;01mnot\u001b[39;00m \u001b[38;5;129;01min\u001b[39;00m \u001b[38;5;28mself\u001b[39m\u001b[38;5;241m.\u001b[39m_internal_names_set\n\u001b[0;32m   6294\u001b[0m     \u001b[38;5;129;01mand\u001b[39;00m name \u001b[38;5;129;01mnot\u001b[39;00m \u001b[38;5;129;01min\u001b[39;00m \u001b[38;5;28mself\u001b[39m\u001b[38;5;241m.\u001b[39m_metadata\n\u001b[0;32m   6295\u001b[0m     \u001b[38;5;129;01mand\u001b[39;00m name \u001b[38;5;129;01mnot\u001b[39;00m \u001b[38;5;129;01min\u001b[39;00m \u001b[38;5;28mself\u001b[39m\u001b[38;5;241m.\u001b[39m_accessors\n\u001b[0;32m   6296\u001b[0m     \u001b[38;5;129;01mand\u001b[39;00m \u001b[38;5;28mself\u001b[39m\u001b[38;5;241m.\u001b[39m_info_axis\u001b[38;5;241m.\u001b[39m_can_hold_identifiers_and_holds_name(name)\n\u001b[0;32m   6297\u001b[0m ):\n\u001b[1;32m-> 6298\u001b[0m     \u001b[38;5;28;01mreturn\u001b[39;00m \u001b[38;5;28;43mself\u001b[39;49m\u001b[43m[\u001b[49m\u001b[43mname\u001b[49m\u001b[43m]\u001b[49m\n\u001b[0;32m   6299\u001b[0m \u001b[38;5;28;01mreturn\u001b[39;00m \u001b[38;5;28mobject\u001b[39m\u001b[38;5;241m.\u001b[39m\u001b[38;5;21m__getattribute__\u001b[39m(\u001b[38;5;28mself\u001b[39m, name)\n",
      "File \u001b[1;32mc:\\Users\\raulg\\AppData\\Local\\Programs\\Python\\Python39\\lib\\site-packages\\pandas\\core\\series.py:1121\u001b[0m, in \u001b[0;36mSeries.__getitem__\u001b[1;34m(self, key)\u001b[0m\n\u001b[0;32m   1118\u001b[0m     \u001b[38;5;28;01mreturn\u001b[39;00m \u001b[38;5;28mself\u001b[39m\u001b[38;5;241m.\u001b[39m_values[key]\n\u001b[0;32m   1120\u001b[0m \u001b[38;5;28;01melif\u001b[39;00m key_is_scalar:\n\u001b[1;32m-> 1121\u001b[0m     \u001b[38;5;28;01mreturn\u001b[39;00m \u001b[38;5;28;43mself\u001b[39;49m\u001b[38;5;241;43m.\u001b[39;49m\u001b[43m_get_value\u001b[49m\u001b[43m(\u001b[49m\u001b[43mkey\u001b[49m\u001b[43m)\u001b[49m\n\u001b[0;32m   1123\u001b[0m \u001b[38;5;66;03m# Convert generator to list before going through hashable part\u001b[39;00m\n\u001b[0;32m   1124\u001b[0m \u001b[38;5;66;03m# (We will iterate through the generator there to check for slices)\u001b[39;00m\n\u001b[0;32m   1125\u001b[0m \u001b[38;5;28;01mif\u001b[39;00m is_iterator(key):\n",
      "File \u001b[1;32mc:\\Users\\raulg\\AppData\\Local\\Programs\\Python\\Python39\\lib\\site-packages\\pandas\\core\\series.py:1237\u001b[0m, in \u001b[0;36mSeries._get_value\u001b[1;34m(self, label, takeable)\u001b[0m\n\u001b[0;32m   1234\u001b[0m     \u001b[38;5;28;01mreturn\u001b[39;00m \u001b[38;5;28mself\u001b[39m\u001b[38;5;241m.\u001b[39m_values[label]\n\u001b[0;32m   1236\u001b[0m \u001b[38;5;66;03m# Similar to Index.get_value, but we do not fall back to positional\u001b[39;00m\n\u001b[1;32m-> 1237\u001b[0m loc \u001b[38;5;241m=\u001b[39m \u001b[38;5;28;43mself\u001b[39;49m\u001b[38;5;241;43m.\u001b[39;49m\u001b[43mindex\u001b[49m\u001b[38;5;241;43m.\u001b[39;49m\u001b[43mget_loc\u001b[49m\u001b[43m(\u001b[49m\u001b[43mlabel\u001b[49m\u001b[43m)\u001b[49m\n\u001b[0;32m   1239\u001b[0m \u001b[38;5;28;01mif\u001b[39;00m is_integer(loc):\n\u001b[0;32m   1240\u001b[0m     \u001b[38;5;28;01mreturn\u001b[39;00m \u001b[38;5;28mself\u001b[39m\u001b[38;5;241m.\u001b[39m_values[loc]\n",
      "File \u001b[1;32mc:\\Users\\raulg\\AppData\\Local\\Programs\\Python\\Python39\\lib\\site-packages\\pandas\\core\\indexes\\base.py:3805\u001b[0m, in \u001b[0;36mIndex.get_loc\u001b[1;34m(self, key)\u001b[0m\n\u001b[0;32m   3803\u001b[0m casted_key \u001b[38;5;241m=\u001b[39m \u001b[38;5;28mself\u001b[39m\u001b[38;5;241m.\u001b[39m_maybe_cast_indexer(key)\n\u001b[0;32m   3804\u001b[0m \u001b[38;5;28;01mtry\u001b[39;00m:\n\u001b[1;32m-> 3805\u001b[0m     \u001b[38;5;28;01mreturn\u001b[39;00m \u001b[38;5;28mself\u001b[39m\u001b[38;5;241m.\u001b[39m_engine\u001b[38;5;241m.\u001b[39mget_loc(casted_key)\n\u001b[0;32m   3806\u001b[0m \u001b[38;5;28;01mexcept\u001b[39;00m \u001b[38;5;167;01mKeyError\u001b[39;00m \u001b[38;5;28;01mas\u001b[39;00m err:\n\u001b[0;32m   3807\u001b[0m     \u001b[38;5;28;01mif\u001b[39;00m \u001b[38;5;28misinstance\u001b[39m(casted_key, \u001b[38;5;28mslice\u001b[39m) \u001b[38;5;129;01mor\u001b[39;00m (\n\u001b[0;32m   3808\u001b[0m         \u001b[38;5;28misinstance\u001b[39m(casted_key, abc\u001b[38;5;241m.\u001b[39mIterable)\n\u001b[0;32m   3809\u001b[0m         \u001b[38;5;129;01mand\u001b[39;00m \u001b[38;5;28many\u001b[39m(\u001b[38;5;28misinstance\u001b[39m(x, \u001b[38;5;28mslice\u001b[39m) \u001b[38;5;28;01mfor\u001b[39;00m x \u001b[38;5;129;01min\u001b[39;00m casted_key)\n\u001b[0;32m   3810\u001b[0m     ):\n",
      "\u001b[1;31mKeyboardInterrupt\u001b[0m: "
     ]
    }
   ],
   "source": [
    "X = []\n",
    "y= []\n",
    "for i in range(0, df_train.shape[0] - NUMHORAS):\n",
    "    aux = []\n",
    "    for r in range(0, NUMHORAS):\n",
    "        aux.append(df_train.iloc[i + r].open)\n",
    "        aux.append(df_train.iloc[i + r].high)\n",
    "        aux.append(df_train.iloc[i + r].low)\n",
    "        aux.append(df_train.iloc[i + r].close)\n",
    "    X.append(aux)\n",
    "    y.append(df_train.iloc[i + NUMHORAS].close)"
   ]
  },
  {
   "cell_type": "code",
   "execution_count": null,
   "metadata": {},
   "outputs": [
    {
     "name": "stdout",
     "output_type": "stream",
     "text": [
      "Vez num:1, valor9.609681184505831\n",
      "Vez num:2, valor9.609681184505831\n",
      "Vez num:3, valor9.609681184505831\n",
      "Vez num:4, valor4.812425265545876\n",
      "Vez num:5, valor4.812425265545876\n",
      "Vez num:6, valor2.3712108183115035\n",
      "Vez num:7, valor2.3712108183115035\n",
      "Vez num:8, valor2.3712108183115035\n",
      "Vez num:9, valor2.3712108183115035\n",
      "Vez num:10, valor2.3712108183115035\n",
      "Vez num:11, valor2.3712108183115035\n",
      "Vez num:12, valor2.3712108183115035\n"
     ]
    },
    {
     "ename": "KeyboardInterrupt",
     "evalue": "",
     "output_type": "error",
     "traceback": [
      "\u001b[1;31m---------------------------------------------------------------------------\u001b[0m",
      "\u001b[1;31mKeyboardInterrupt\u001b[0m                         Traceback (most recent call last)",
      "Cell \u001b[1;32mIn[33], line 1\u001b[0m\n\u001b[1;32m----> 1\u001b[0m pos \u001b[38;5;241m=\u001b[39m \u001b[43mobjeto_regresion\u001b[49m\u001b[38;5;241;43m.\u001b[39;49m\u001b[43mruncopy\u001b[49m\u001b[43m(\u001b[49m\u001b[38;5;241;43m200\u001b[39;49m\u001b[43m,\u001b[49m\u001b[43m \u001b[49m\u001b[43mX\u001b[49m\u001b[43m,\u001b[49m\u001b[43m \u001b[49m\u001b[43my\u001b[49m\u001b[43m,\u001b[49m\u001b[43m \u001b[49m\u001b[38;5;241;43m0.5\u001b[39;49m\u001b[43m)\u001b[49m\n",
      "Cell \u001b[1;32mIn[28], line 213\u001b[0m, in \u001b[0;36mRegresionSimbolica.runcopy\u001b[1;34m(self, numGenes, X, y, baremo)\u001b[0m\n\u001b[0;32m    211\u001b[0m values_list \u001b[38;5;241m=\u001b[39m []\n\u001b[0;32m    212\u001b[0m \u001b[38;5;28;01mfor\u001b[39;00m r \u001b[38;5;129;01min\u001b[39;00m \u001b[38;5;28mrange\u001b[39m (\u001b[38;5;241m0\u001b[39m, \u001b[38;5;28mlen\u001b[39m(\u001b[38;5;28mself\u001b[39m\u001b[38;5;241m.\u001b[39mgenes)):\n\u001b[1;32m--> 213\u001b[0m     value \u001b[38;5;241m=\u001b[39m \u001b[38;5;28;43mself\u001b[39;49m\u001b[38;5;241;43m.\u001b[39;49m\u001b[43mfitness2\u001b[49m\u001b[43m(\u001b[49m\u001b[43mX\u001b[49m\u001b[43m,\u001b[49m\u001b[43m \u001b[49m\u001b[43my\u001b[49m\u001b[43m,\u001b[49m\u001b[43m \u001b[49m\u001b[38;5;28;43mself\u001b[39;49m\u001b[38;5;241;43m.\u001b[39;49m\u001b[43mgenes\u001b[49m\u001b[43m[\u001b[49m\u001b[43mr\u001b[49m\u001b[43m]\u001b[49m\u001b[43m)\u001b[49m\n\u001b[0;32m    214\u001b[0m     values_list\u001b[38;5;241m.\u001b[39mappend(value)\n\u001b[0;32m    215\u001b[0m     dicc_aux[value] \u001b[38;5;241m=\u001b[39m r\n",
      "Cell \u001b[1;32mIn[28], line 73\u001b[0m, in \u001b[0;36mRegresionSimbolica.fitness2\u001b[1;34m(self, X, y, candidato)\u001b[0m\n\u001b[0;32m     71\u001b[0m valores_generados \u001b[38;5;241m=\u001b[39m []\n\u001b[0;32m     72\u001b[0m \u001b[38;5;28;01mfor\u001b[39;00m elem \u001b[38;5;129;01min\u001b[39;00m X:\n\u001b[1;32m---> 73\u001b[0m     valores_generados\u001b[38;5;241m.\u001b[39mappend(\u001b[38;5;28;43mself\u001b[39;49m\u001b[38;5;241;43m.\u001b[39;49m\u001b[43m__evaluate\u001b[49m\u001b[43m(\u001b[49m\u001b[43melem\u001b[49m\u001b[43m,\u001b[49m\u001b[43m \u001b[49m\u001b[43mcandidato\u001b[49m\u001b[43m)\u001b[49m)\n\u001b[0;32m     74\u001b[0m \u001b[38;5;28;01mreturn\u001b[39;00m \u001b[38;5;28mself\u001b[39m\u001b[38;5;241m.\u001b[39mfuncionOptimizacion(valores_generados, y)\n",
      "Cell \u001b[1;32mIn[28], line 47\u001b[0m, in \u001b[0;36mRegresionSimbolica.__evaluate\u001b[1;34m(self, valores, candidato)\u001b[0m\n\u001b[0;32m     45\u001b[0m candidato_aux \u001b[38;5;241m=\u001b[39m []\n\u001b[0;32m     46\u001b[0m \u001b[38;5;28;01mfor\u001b[39;00m i \u001b[38;5;129;01min\u001b[39;00m \u001b[38;5;28mrange\u001b[39m(\u001b[38;5;241m0\u001b[39m, \u001b[38;5;28mlen\u001b[39m(candidato) \u001b[38;5;241m-\u001b[39m \u001b[38;5;241m1\u001b[39m, \u001b[38;5;241m2\u001b[39m):\n\u001b[1;32m---> 47\u001b[0m     candidato_aux\u001b[38;5;241m.\u001b[39mappend(valores[\u001b[43mcandidato\u001b[49m\u001b[43m[\u001b[49m\u001b[43mi\u001b[49m\u001b[43m]\u001b[49m])\n\u001b[0;32m     48\u001b[0m     candidato_aux\u001b[38;5;241m.\u001b[39mappend(candidato[i\u001b[38;5;241m+\u001b[39m\u001b[38;5;241m1\u001b[39m])\n\u001b[0;32m     49\u001b[0m candidato_aux\u001b[38;5;241m.\u001b[39mappend(valores[candidato[\u001b[38;5;28mlen\u001b[39m(candidato) \u001b[38;5;241m-\u001b[39m \u001b[38;5;241m1\u001b[39m]])\n",
      "\u001b[1;31mKeyboardInterrupt\u001b[0m: "
     ]
    }
   ],
   "source": [
    "pos = objeto_regresion.runcopy(200, X, y, 0.5)"
   ]
  },
  {
   "cell_type": "code",
   "execution_count": null,
   "metadata": {},
   "outputs": [
    {
     "data": {
      "text/plain": [
       "([27, '-', 7, '+', 7], 1.0167578391944412)"
      ]
     },
     "execution_count": 11,
     "metadata": {},
     "output_type": "execute_result"
    }
   ],
   "source": [
    "pos"
   ]
  },
  {
   "cell_type": "code",
   "execution_count": null,
   "metadata": {},
   "outputs": [],
   "source": [
    "with open('ecuaciones.txt', 'a') as archivo:\n",
    "    archivo.write(str(pos[0]) + \" : \" + str(pos[1]) + \"_nh\" + str(NUMHORAS) + \"\\n\")"
   ]
  }
 ],
 "metadata": {
  "kernelspec": {
   "display_name": "Python 3",
   "language": "python",
   "name": "python3"
  },
  "language_info": {
   "codemirror_mode": {
    "name": "ipython",
    "version": 3
   },
   "file_extension": ".py",
   "mimetype": "text/x-python",
   "name": "python",
   "nbconvert_exporter": "python",
   "pygments_lexer": "ipython3",
   "version": "3.9.0"
  }
 },
 "nbformat": 4,
 "nbformat_minor": 2
}
