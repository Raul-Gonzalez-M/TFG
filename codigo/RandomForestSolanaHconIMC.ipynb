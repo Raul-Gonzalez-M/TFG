{
 "cells": [
  {
   "cell_type": "code",
   "execution_count": 1,
   "metadata": {},
   "outputs": [],
   "source": [
    "import pandas as pd\n",
    "import numpy as np\n",
    "import matplotlib.pyplot as plt \n",
    "import seaborn as sea\n",
    "from sklearn.ensemble import RandomForestRegressor\n",
    "from sklearn.datasets import make_regression\n",
    "import xgboost as xgb\n",
    "import tensorflow as tf"
   ]
  },
  {
   "cell_type": "code",
   "execution_count": 2,
   "metadata": {},
   "outputs": [],
   "source": [
    "df = pd.read_csv('SolAtasIMC_tratado.csv')"
   ]
  },
  {
   "cell_type": "markdown",
   "metadata": {},
   "source": [
    "Imprimimos la información general de los datos"
   ]
  },
  {
   "cell_type": "code",
   "execution_count": 3,
   "metadata": {},
   "outputs": [
    {
     "name": "stdout",
     "output_type": "stream",
     "text": [
      "<class 'pandas.core.frame.DataFrame'>\n",
      "RangeIndex: 36400 entries, 0 to 36399\n",
      "Data columns (total 6 columns):\n",
      " #   Column  Non-Null Count  Dtype  \n",
      "---  ------  --------------  -----  \n",
      " 0   date    36400 non-null  object \n",
      " 1   open    36400 non-null  float64\n",
      " 2   high    36400 non-null  float64\n",
      " 3   low     36400 non-null  float64\n",
      " 4   close   36400 non-null  float64\n",
      " 5   value   36400 non-null  int64  \n",
      "dtypes: float64(4), int64(1), object(1)\n",
      "memory usage: 1.7+ MB\n"
     ]
    }
   ],
   "source": [
    "df.info()"
   ]
  },
  {
   "cell_type": "code",
   "execution_count": 4,
   "metadata": {},
   "outputs": [],
   "source": [
    "tamanio = df.shape[0]"
   ]
  },
  {
   "cell_type": "markdown",
   "metadata": {},
   "source": [
    "Creamos los conjuntos de entrenamiento, validación y test"
   ]
  },
  {
   "cell_type": "code",
   "execution_count": 5,
   "metadata": {},
   "outputs": [
    {
     "data": {
      "text/html": [
       "<div>\n",
       "<style scoped>\n",
       "    .dataframe tbody tr th:only-of-type {\n",
       "        vertical-align: middle;\n",
       "    }\n",
       "\n",
       "    .dataframe tbody tr th {\n",
       "        vertical-align: top;\n",
       "    }\n",
       "\n",
       "    .dataframe thead th {\n",
       "        text-align: right;\n",
       "    }\n",
       "</style>\n",
       "<table border=\"1\" class=\"dataframe\">\n",
       "  <thead>\n",
       "    <tr style=\"text-align: right;\">\n",
       "      <th></th>\n",
       "      <th>date</th>\n",
       "      <th>open</th>\n",
       "      <th>high</th>\n",
       "      <th>low</th>\n",
       "      <th>close</th>\n",
       "      <th>value</th>\n",
       "    </tr>\n",
       "  </thead>\n",
       "  <tbody>\n",
       "    <tr>\n",
       "      <th>0</th>\n",
       "      <td>2020-08-12 03:00:00</td>\n",
       "      <td>3.10</td>\n",
       "      <td>3.35</td>\n",
       "      <td>3.10</td>\n",
       "      <td>3.25</td>\n",
       "      <td>75</td>\n",
       "    </tr>\n",
       "    <tr>\n",
       "      <th>1</th>\n",
       "      <td>2020-08-12 04:00:00</td>\n",
       "      <td>3.25</td>\n",
       "      <td>3.25</td>\n",
       "      <td>3.15</td>\n",
       "      <td>3.15</td>\n",
       "      <td>75</td>\n",
       "    </tr>\n",
       "    <tr>\n",
       "      <th>2</th>\n",
       "      <td>2020-08-12 05:00:00</td>\n",
       "      <td>3.15</td>\n",
       "      <td>3.30</td>\n",
       "      <td>3.15</td>\n",
       "      <td>3.30</td>\n",
       "      <td>75</td>\n",
       "    </tr>\n",
       "    <tr>\n",
       "      <th>3</th>\n",
       "      <td>2020-08-12 06:00:00</td>\n",
       "      <td>3.30</td>\n",
       "      <td>3.30</td>\n",
       "      <td>3.15</td>\n",
       "      <td>3.30</td>\n",
       "      <td>75</td>\n",
       "    </tr>\n",
       "    <tr>\n",
       "      <th>4</th>\n",
       "      <td>2020-08-12 07:00:00</td>\n",
       "      <td>3.25</td>\n",
       "      <td>3.25</td>\n",
       "      <td>3.20</td>\n",
       "      <td>3.25</td>\n",
       "      <td>75</td>\n",
       "    </tr>\n",
       "    <tr>\n",
       "      <th>...</th>\n",
       "      <td>...</td>\n",
       "      <td>...</td>\n",
       "      <td>...</td>\n",
       "      <td>...</td>\n",
       "      <td>...</td>\n",
       "      <td>...</td>\n",
       "    </tr>\n",
       "    <tr>\n",
       "      <th>25476</th>\n",
       "      <td>2023-07-11 21:00:00</td>\n",
       "      <td>22.00</td>\n",
       "      <td>22.05</td>\n",
       "      <td>21.90</td>\n",
       "      <td>22.00</td>\n",
       "      <td>57</td>\n",
       "    </tr>\n",
       "    <tr>\n",
       "      <th>25477</th>\n",
       "      <td>2023-07-11 22:00:00</td>\n",
       "      <td>22.00</td>\n",
       "      <td>22.10</td>\n",
       "      <td>21.90</td>\n",
       "      <td>22.00</td>\n",
       "      <td>57</td>\n",
       "    </tr>\n",
       "    <tr>\n",
       "      <th>25478</th>\n",
       "      <td>2023-07-11 23:00:00</td>\n",
       "      <td>22.00</td>\n",
       "      <td>22.05</td>\n",
       "      <td>21.75</td>\n",
       "      <td>21.95</td>\n",
       "      <td>57</td>\n",
       "    </tr>\n",
       "    <tr>\n",
       "      <th>25479</th>\n",
       "      <td>2023-07-12 00:00:00</td>\n",
       "      <td>21.95</td>\n",
       "      <td>22.10</td>\n",
       "      <td>21.90</td>\n",
       "      <td>22.05</td>\n",
       "      <td>64</td>\n",
       "    </tr>\n",
       "    <tr>\n",
       "      <th>25480</th>\n",
       "      <td>2023-07-12 01:00:00</td>\n",
       "      <td>22.05</td>\n",
       "      <td>22.15</td>\n",
       "      <td>22.00</td>\n",
       "      <td>22.10</td>\n",
       "      <td>64</td>\n",
       "    </tr>\n",
       "  </tbody>\n",
       "</table>\n",
       "<p>25481 rows × 6 columns</p>\n",
       "</div>"
      ],
      "text/plain": [
       "                      date   open   high    low  close  value\n",
       "0      2020-08-12 03:00:00   3.10   3.35   3.10   3.25     75\n",
       "1      2020-08-12 04:00:00   3.25   3.25   3.15   3.15     75\n",
       "2      2020-08-12 05:00:00   3.15   3.30   3.15   3.30     75\n",
       "3      2020-08-12 06:00:00   3.30   3.30   3.15   3.30     75\n",
       "4      2020-08-12 07:00:00   3.25   3.25   3.20   3.25     75\n",
       "...                    ...    ...    ...    ...    ...    ...\n",
       "25476  2023-07-11 21:00:00  22.00  22.05  21.90  22.00     57\n",
       "25477  2023-07-11 22:00:00  22.00  22.10  21.90  22.00     57\n",
       "25478  2023-07-11 23:00:00  22.00  22.05  21.75  21.95     57\n",
       "25479  2023-07-12 00:00:00  21.95  22.10  21.90  22.05     64\n",
       "25480  2023-07-12 01:00:00  22.05  22.15  22.00  22.10     64\n",
       "\n",
       "[25481 rows x 6 columns]"
      ]
     },
     "execution_count": 5,
     "metadata": {},
     "output_type": "execute_result"
    }
   ],
   "source": [
    "df_train = df.copy().loc[0:int(tamanio*0.7)]\n",
    "df_train"
   ]
  },
  {
   "cell_type": "code",
   "execution_count": 6,
   "metadata": {},
   "outputs": [
    {
     "data": {
      "text/html": [
       "<div>\n",
       "<style scoped>\n",
       "    .dataframe tbody tr th:only-of-type {\n",
       "        vertical-align: middle;\n",
       "    }\n",
       "\n",
       "    .dataframe tbody tr th {\n",
       "        vertical-align: top;\n",
       "    }\n",
       "\n",
       "    .dataframe thead th {\n",
       "        text-align: right;\n",
       "    }\n",
       "</style>\n",
       "<table border=\"1\" class=\"dataframe\">\n",
       "  <thead>\n",
       "    <tr style=\"text-align: right;\">\n",
       "      <th></th>\n",
       "      <th>date</th>\n",
       "      <th>open</th>\n",
       "      <th>high</th>\n",
       "      <th>low</th>\n",
       "      <th>close</th>\n",
       "      <th>value</th>\n",
       "    </tr>\n",
       "  </thead>\n",
       "  <tbody>\n",
       "    <tr>\n",
       "      <th>25481</th>\n",
       "      <td>2023-07-12 02:00:00</td>\n",
       "      <td>22.10</td>\n",
       "      <td>22.30</td>\n",
       "      <td>22.05</td>\n",
       "      <td>22.15</td>\n",
       "      <td>64</td>\n",
       "    </tr>\n",
       "    <tr>\n",
       "      <th>25482</th>\n",
       "      <td>2023-07-12 03:00:00</td>\n",
       "      <td>22.15</td>\n",
       "      <td>22.25</td>\n",
       "      <td>22.10</td>\n",
       "      <td>22.10</td>\n",
       "      <td>64</td>\n",
       "    </tr>\n",
       "    <tr>\n",
       "      <th>25483</th>\n",
       "      <td>2023-07-12 04:00:00</td>\n",
       "      <td>22.10</td>\n",
       "      <td>22.10</td>\n",
       "      <td>22.00</td>\n",
       "      <td>22.00</td>\n",
       "      <td>64</td>\n",
       "    </tr>\n",
       "    <tr>\n",
       "      <th>25484</th>\n",
       "      <td>2023-07-12 05:00:00</td>\n",
       "      <td>22.00</td>\n",
       "      <td>22.00</td>\n",
       "      <td>21.90</td>\n",
       "      <td>21.95</td>\n",
       "      <td>64</td>\n",
       "    </tr>\n",
       "    <tr>\n",
       "      <th>25485</th>\n",
       "      <td>2023-07-12 06:00:00</td>\n",
       "      <td>21.95</td>\n",
       "      <td>22.05</td>\n",
       "      <td>21.90</td>\n",
       "      <td>22.00</td>\n",
       "      <td>64</td>\n",
       "    </tr>\n",
       "    <tr>\n",
       "      <th>...</th>\n",
       "      <td>...</td>\n",
       "      <td>...</td>\n",
       "      <td>...</td>\n",
       "      <td>...</td>\n",
       "      <td>...</td>\n",
       "      <td>...</td>\n",
       "    </tr>\n",
       "    <tr>\n",
       "      <th>32756</th>\n",
       "      <td>2024-05-10 05:00:00</td>\n",
       "      <td>153.65</td>\n",
       "      <td>154.35</td>\n",
       "      <td>152.85</td>\n",
       "      <td>153.95</td>\n",
       "      <td>66</td>\n",
       "    </tr>\n",
       "    <tr>\n",
       "      <th>32757</th>\n",
       "      <td>2024-05-10 06:00:00</td>\n",
       "      <td>153.95</td>\n",
       "      <td>154.70</td>\n",
       "      <td>153.45</td>\n",
       "      <td>153.75</td>\n",
       "      <td>66</td>\n",
       "    </tr>\n",
       "    <tr>\n",
       "      <th>32758</th>\n",
       "      <td>2024-05-10 07:00:00</td>\n",
       "      <td>153.75</td>\n",
       "      <td>154.10</td>\n",
       "      <td>152.30</td>\n",
       "      <td>153.30</td>\n",
       "      <td>66</td>\n",
       "    </tr>\n",
       "    <tr>\n",
       "      <th>32759</th>\n",
       "      <td>2024-05-10 08:00:00</td>\n",
       "      <td>153.30</td>\n",
       "      <td>155.10</td>\n",
       "      <td>153.15</td>\n",
       "      <td>154.95</td>\n",
       "      <td>66</td>\n",
       "    </tr>\n",
       "    <tr>\n",
       "      <th>32760</th>\n",
       "      <td>2024-05-10 09:00:00</td>\n",
       "      <td>154.95</td>\n",
       "      <td>155.75</td>\n",
       "      <td>154.25</td>\n",
       "      <td>154.35</td>\n",
       "      <td>66</td>\n",
       "    </tr>\n",
       "  </tbody>\n",
       "</table>\n",
       "<p>7280 rows × 6 columns</p>\n",
       "</div>"
      ],
      "text/plain": [
       "                      date    open    high     low   close  value\n",
       "25481  2023-07-12 02:00:00   22.10   22.30   22.05   22.15     64\n",
       "25482  2023-07-12 03:00:00   22.15   22.25   22.10   22.10     64\n",
       "25483  2023-07-12 04:00:00   22.10   22.10   22.00   22.00     64\n",
       "25484  2023-07-12 05:00:00   22.00   22.00   21.90   21.95     64\n",
       "25485  2023-07-12 06:00:00   21.95   22.05   21.90   22.00     64\n",
       "...                    ...     ...     ...     ...     ...    ...\n",
       "32756  2024-05-10 05:00:00  153.65  154.35  152.85  153.95     66\n",
       "32757  2024-05-10 06:00:00  153.95  154.70  153.45  153.75     66\n",
       "32758  2024-05-10 07:00:00  153.75  154.10  152.30  153.30     66\n",
       "32759  2024-05-10 08:00:00  153.30  155.10  153.15  154.95     66\n",
       "32760  2024-05-10 09:00:00  154.95  155.75  154.25  154.35     66\n",
       "\n",
       "[7280 rows x 6 columns]"
      ]
     },
     "execution_count": 6,
     "metadata": {},
     "output_type": "execute_result"
    }
   ],
   "source": [
    "df_vali = df.copy().loc[int(tamanio*0.7 + 1):int(tamanio*0.9)]\n",
    "df_vali"
   ]
  },
  {
   "cell_type": "code",
   "execution_count": 7,
   "metadata": {},
   "outputs": [
    {
     "data": {
      "text/html": [
       "<div>\n",
       "<style scoped>\n",
       "    .dataframe tbody tr th:only-of-type {\n",
       "        vertical-align: middle;\n",
       "    }\n",
       "\n",
       "    .dataframe tbody tr th {\n",
       "        vertical-align: top;\n",
       "    }\n",
       "\n",
       "    .dataframe thead th {\n",
       "        text-align: right;\n",
       "    }\n",
       "</style>\n",
       "<table border=\"1\" class=\"dataframe\">\n",
       "  <thead>\n",
       "    <tr style=\"text-align: right;\">\n",
       "      <th></th>\n",
       "      <th>date</th>\n",
       "      <th>open</th>\n",
       "      <th>high</th>\n",
       "      <th>low</th>\n",
       "      <th>close</th>\n",
       "      <th>value</th>\n",
       "    </tr>\n",
       "  </thead>\n",
       "  <tbody>\n",
       "    <tr>\n",
       "      <th>32761</th>\n",
       "      <td>2024-05-10 10:00:00</td>\n",
       "      <td>154.35</td>\n",
       "      <td>154.5</td>\n",
       "      <td>153.45</td>\n",
       "      <td>154.10</td>\n",
       "      <td>66</td>\n",
       "    </tr>\n",
       "    <tr>\n",
       "      <th>32762</th>\n",
       "      <td>2024-05-10 11:00:00</td>\n",
       "      <td>154.10</td>\n",
       "      <td>154.8</td>\n",
       "      <td>153.25</td>\n",
       "      <td>154.15</td>\n",
       "      <td>66</td>\n",
       "    </tr>\n",
       "    <tr>\n",
       "      <th>32763</th>\n",
       "      <td>2024-05-10 12:00:00</td>\n",
       "      <td>154.15</td>\n",
       "      <td>154.3</td>\n",
       "      <td>153.25</td>\n",
       "      <td>154.15</td>\n",
       "      <td>66</td>\n",
       "    </tr>\n",
       "    <tr>\n",
       "      <th>32764</th>\n",
       "      <td>2024-05-10 13:00:00</td>\n",
       "      <td>154.15</td>\n",
       "      <td>155.2</td>\n",
       "      <td>153.00</td>\n",
       "      <td>155.05</td>\n",
       "      <td>66</td>\n",
       "    </tr>\n",
       "    <tr>\n",
       "      <th>32765</th>\n",
       "      <td>2024-05-10 14:00:00</td>\n",
       "      <td>155.05</td>\n",
       "      <td>155.4</td>\n",
       "      <td>153.10</td>\n",
       "      <td>153.30</td>\n",
       "      <td>66</td>\n",
       "    </tr>\n",
       "    <tr>\n",
       "      <th>...</th>\n",
       "      <td>...</td>\n",
       "      <td>...</td>\n",
       "      <td>...</td>\n",
       "      <td>...</td>\n",
       "      <td>...</td>\n",
       "      <td>...</td>\n",
       "    </tr>\n",
       "    <tr>\n",
       "      <th>36395</th>\n",
       "      <td>2024-10-08 20:00:00</td>\n",
       "      <td>143.35</td>\n",
       "      <td>143.9</td>\n",
       "      <td>142.35</td>\n",
       "      <td>142.95</td>\n",
       "      <td>49</td>\n",
       "    </tr>\n",
       "    <tr>\n",
       "      <th>36396</th>\n",
       "      <td>2024-10-08 21:00:00</td>\n",
       "      <td>142.95</td>\n",
       "      <td>144.1</td>\n",
       "      <td>142.25</td>\n",
       "      <td>143.75</td>\n",
       "      <td>49</td>\n",
       "    </tr>\n",
       "    <tr>\n",
       "      <th>36397</th>\n",
       "      <td>2024-10-08 22:00:00</td>\n",
       "      <td>143.75</td>\n",
       "      <td>144.5</td>\n",
       "      <td>143.35</td>\n",
       "      <td>144.50</td>\n",
       "      <td>49</td>\n",
       "    </tr>\n",
       "    <tr>\n",
       "      <th>36398</th>\n",
       "      <td>2024-10-08 23:00:00</td>\n",
       "      <td>144.50</td>\n",
       "      <td>144.7</td>\n",
       "      <td>144.05</td>\n",
       "      <td>144.25</td>\n",
       "      <td>49</td>\n",
       "    </tr>\n",
       "    <tr>\n",
       "      <th>36399</th>\n",
       "      <td>2024-10-09 00:00:00</td>\n",
       "      <td>144.25</td>\n",
       "      <td>144.3</td>\n",
       "      <td>143.55</td>\n",
       "      <td>143.80</td>\n",
       "      <td>49</td>\n",
       "    </tr>\n",
       "  </tbody>\n",
       "</table>\n",
       "<p>3639 rows × 6 columns</p>\n",
       "</div>"
      ],
      "text/plain": [
       "                      date    open   high     low   close  value\n",
       "32761  2024-05-10 10:00:00  154.35  154.5  153.45  154.10     66\n",
       "32762  2024-05-10 11:00:00  154.10  154.8  153.25  154.15     66\n",
       "32763  2024-05-10 12:00:00  154.15  154.3  153.25  154.15     66\n",
       "32764  2024-05-10 13:00:00  154.15  155.2  153.00  155.05     66\n",
       "32765  2024-05-10 14:00:00  155.05  155.4  153.10  153.30     66\n",
       "...                    ...     ...    ...     ...     ...    ...\n",
       "36395  2024-10-08 20:00:00  143.35  143.9  142.35  142.95     49\n",
       "36396  2024-10-08 21:00:00  142.95  144.1  142.25  143.75     49\n",
       "36397  2024-10-08 22:00:00  143.75  144.5  143.35  144.50     49\n",
       "36398  2024-10-08 23:00:00  144.50  144.7  144.05  144.25     49\n",
       "36399  2024-10-09 00:00:00  144.25  144.3  143.55  143.80     49\n",
       "\n",
       "[3639 rows x 6 columns]"
      ]
     },
     "execution_count": 7,
     "metadata": {},
     "output_type": "execute_result"
    }
   ],
   "source": [
    "df_test = df.copy().loc[int(tamanio*0.9 + 1):tamanio]\n",
    "df_test"
   ]
  },
  {
   "cell_type": "markdown",
   "metadata": {},
   "source": [
    "Declaramos el modelo RandomForestRegressor"
   ]
  },
  {
   "cell_type": "code",
   "execution_count": 8,
   "metadata": {},
   "outputs": [],
   "source": [
    "regr1 = RandomForestRegressor(max_depth=100, random_state=0)"
   ]
  },
  {
   "cell_type": "markdown",
   "metadata": {},
   "source": [
    "Preparamos los datos en el formato necesario para entrenar el algoritmo"
   ]
  },
  {
   "cell_type": "code",
   "execution_count": 9,
   "metadata": {},
   "outputs": [
    {
     "name": "stderr",
     "output_type": "stream",
     "text": [
      "C:\\Users\\raulg\\AppData\\Local\\Temp\\ipykernel_6648\\2244255699.py:9: FutureWarning: Series.__getitem__ treating keys as positions is deprecated. In a future version, integer keys will always be treated as labels (consistent with DataFrame behavior). To access a value by position, use `ser.iloc[pos]`\n",
      "  aux1.append(aux[r])\n"
     ]
    }
   ],
   "source": [
    "X1 = []\n",
    "y1= []\n",
    "for i in range(0, df_train.shape[0] - 1):\n",
    "    auxy = df_train.iloc[i + 1]\n",
    "    y1.append(auxy.close)\n",
    "    aux = df_train.iloc[i]\n",
    "    aux1 = []\n",
    "    for r in range(1, aux.size):\n",
    "        aux1.append(aux[r])\n",
    "    X1.append(aux1)"
   ]
  },
  {
   "cell_type": "markdown",
   "metadata": {},
   "source": [
    "Entrenamos el algoritmo"
   ]
  },
  {
   "cell_type": "code",
   "execution_count": 10,
   "metadata": {},
   "outputs": [
    {
     "data": {
      "text/html": [
       "<style>#sk-container-id-1 {\n",
       "  /* Definition of color scheme common for light and dark mode */\n",
       "  --sklearn-color-text: black;\n",
       "  --sklearn-color-line: gray;\n",
       "  /* Definition of color scheme for unfitted estimators */\n",
       "  --sklearn-color-unfitted-level-0: #fff5e6;\n",
       "  --sklearn-color-unfitted-level-1: #f6e4d2;\n",
       "  --sklearn-color-unfitted-level-2: #ffe0b3;\n",
       "  --sklearn-color-unfitted-level-3: chocolate;\n",
       "  /* Definition of color scheme for fitted estimators */\n",
       "  --sklearn-color-fitted-level-0: #f0f8ff;\n",
       "  --sklearn-color-fitted-level-1: #d4ebff;\n",
       "  --sklearn-color-fitted-level-2: #b3dbfd;\n",
       "  --sklearn-color-fitted-level-3: cornflowerblue;\n",
       "\n",
       "  /* Specific color for light theme */\n",
       "  --sklearn-color-text-on-default-background: var(--sg-text-color, var(--theme-code-foreground, var(--jp-content-font-color1, black)));\n",
       "  --sklearn-color-background: var(--sg-background-color, var(--theme-background, var(--jp-layout-color0, white)));\n",
       "  --sklearn-color-border-box: var(--sg-text-color, var(--theme-code-foreground, var(--jp-content-font-color1, black)));\n",
       "  --sklearn-color-icon: #696969;\n",
       "\n",
       "  @media (prefers-color-scheme: dark) {\n",
       "    /* Redefinition of color scheme for dark theme */\n",
       "    --sklearn-color-text-on-default-background: var(--sg-text-color, var(--theme-code-foreground, var(--jp-content-font-color1, white)));\n",
       "    --sklearn-color-background: var(--sg-background-color, var(--theme-background, var(--jp-layout-color0, #111)));\n",
       "    --sklearn-color-border-box: var(--sg-text-color, var(--theme-code-foreground, var(--jp-content-font-color1, white)));\n",
       "    --sklearn-color-icon: #878787;\n",
       "  }\n",
       "}\n",
       "\n",
       "#sk-container-id-1 {\n",
       "  color: var(--sklearn-color-text);\n",
       "}\n",
       "\n",
       "#sk-container-id-1 pre {\n",
       "  padding: 0;\n",
       "}\n",
       "\n",
       "#sk-container-id-1 input.sk-hidden--visually {\n",
       "  border: 0;\n",
       "  clip: rect(1px 1px 1px 1px);\n",
       "  clip: rect(1px, 1px, 1px, 1px);\n",
       "  height: 1px;\n",
       "  margin: -1px;\n",
       "  overflow: hidden;\n",
       "  padding: 0;\n",
       "  position: absolute;\n",
       "  width: 1px;\n",
       "}\n",
       "\n",
       "#sk-container-id-1 div.sk-dashed-wrapped {\n",
       "  border: 1px dashed var(--sklearn-color-line);\n",
       "  margin: 0 0.4em 0.5em 0.4em;\n",
       "  box-sizing: border-box;\n",
       "  padding-bottom: 0.4em;\n",
       "  background-color: var(--sklearn-color-background);\n",
       "}\n",
       "\n",
       "#sk-container-id-1 div.sk-container {\n",
       "  /* jupyter's `normalize.less` sets `[hidden] { display: none; }`\n",
       "     but bootstrap.min.css set `[hidden] { display: none !important; }`\n",
       "     so we also need the `!important` here to be able to override the\n",
       "     default hidden behavior on the sphinx rendered scikit-learn.org.\n",
       "     See: https://github.com/scikit-learn/scikit-learn/issues/21755 */\n",
       "  display: inline-block !important;\n",
       "  position: relative;\n",
       "}\n",
       "\n",
       "#sk-container-id-1 div.sk-text-repr-fallback {\n",
       "  display: none;\n",
       "}\n",
       "\n",
       "div.sk-parallel-item,\n",
       "div.sk-serial,\n",
       "div.sk-item {\n",
       "  /* draw centered vertical line to link estimators */\n",
       "  background-image: linear-gradient(var(--sklearn-color-text-on-default-background), var(--sklearn-color-text-on-default-background));\n",
       "  background-size: 2px 100%;\n",
       "  background-repeat: no-repeat;\n",
       "  background-position: center center;\n",
       "}\n",
       "\n",
       "/* Parallel-specific style estimator block */\n",
       "\n",
       "#sk-container-id-1 div.sk-parallel-item::after {\n",
       "  content: \"\";\n",
       "  width: 100%;\n",
       "  border-bottom: 2px solid var(--sklearn-color-text-on-default-background);\n",
       "  flex-grow: 1;\n",
       "}\n",
       "\n",
       "#sk-container-id-1 div.sk-parallel {\n",
       "  display: flex;\n",
       "  align-items: stretch;\n",
       "  justify-content: center;\n",
       "  background-color: var(--sklearn-color-background);\n",
       "  position: relative;\n",
       "}\n",
       "\n",
       "#sk-container-id-1 div.sk-parallel-item {\n",
       "  display: flex;\n",
       "  flex-direction: column;\n",
       "}\n",
       "\n",
       "#sk-container-id-1 div.sk-parallel-item:first-child::after {\n",
       "  align-self: flex-end;\n",
       "  width: 50%;\n",
       "}\n",
       "\n",
       "#sk-container-id-1 div.sk-parallel-item:last-child::after {\n",
       "  align-self: flex-start;\n",
       "  width: 50%;\n",
       "}\n",
       "\n",
       "#sk-container-id-1 div.sk-parallel-item:only-child::after {\n",
       "  width: 0;\n",
       "}\n",
       "\n",
       "/* Serial-specific style estimator block */\n",
       "\n",
       "#sk-container-id-1 div.sk-serial {\n",
       "  display: flex;\n",
       "  flex-direction: column;\n",
       "  align-items: center;\n",
       "  background-color: var(--sklearn-color-background);\n",
       "  padding-right: 1em;\n",
       "  padding-left: 1em;\n",
       "}\n",
       "\n",
       "\n",
       "/* Toggleable style: style used for estimator/Pipeline/ColumnTransformer box that is\n",
       "clickable and can be expanded/collapsed.\n",
       "- Pipeline and ColumnTransformer use this feature and define the default style\n",
       "- Estimators will overwrite some part of the style using the `sk-estimator` class\n",
       "*/\n",
       "\n",
       "/* Pipeline and ColumnTransformer style (default) */\n",
       "\n",
       "#sk-container-id-1 div.sk-toggleable {\n",
       "  /* Default theme specific background. It is overwritten whether we have a\n",
       "  specific estimator or a Pipeline/ColumnTransformer */\n",
       "  background-color: var(--sklearn-color-background);\n",
       "}\n",
       "\n",
       "/* Toggleable label */\n",
       "#sk-container-id-1 label.sk-toggleable__label {\n",
       "  cursor: pointer;\n",
       "  display: block;\n",
       "  width: 100%;\n",
       "  margin-bottom: 0;\n",
       "  padding: 0.5em;\n",
       "  box-sizing: border-box;\n",
       "  text-align: center;\n",
       "}\n",
       "\n",
       "#sk-container-id-1 label.sk-toggleable__label-arrow:before {\n",
       "  /* Arrow on the left of the label */\n",
       "  content: \"▸\";\n",
       "  float: left;\n",
       "  margin-right: 0.25em;\n",
       "  color: var(--sklearn-color-icon);\n",
       "}\n",
       "\n",
       "#sk-container-id-1 label.sk-toggleable__label-arrow:hover:before {\n",
       "  color: var(--sklearn-color-text);\n",
       "}\n",
       "\n",
       "/* Toggleable content - dropdown */\n",
       "\n",
       "#sk-container-id-1 div.sk-toggleable__content {\n",
       "  max-height: 0;\n",
       "  max-width: 0;\n",
       "  overflow: hidden;\n",
       "  text-align: left;\n",
       "  /* unfitted */\n",
       "  background-color: var(--sklearn-color-unfitted-level-0);\n",
       "}\n",
       "\n",
       "#sk-container-id-1 div.sk-toggleable__content.fitted {\n",
       "  /* fitted */\n",
       "  background-color: var(--sklearn-color-fitted-level-0);\n",
       "}\n",
       "\n",
       "#sk-container-id-1 div.sk-toggleable__content pre {\n",
       "  margin: 0.2em;\n",
       "  border-radius: 0.25em;\n",
       "  color: var(--sklearn-color-text);\n",
       "  /* unfitted */\n",
       "  background-color: var(--sklearn-color-unfitted-level-0);\n",
       "}\n",
       "\n",
       "#sk-container-id-1 div.sk-toggleable__content.fitted pre {\n",
       "  /* unfitted */\n",
       "  background-color: var(--sklearn-color-fitted-level-0);\n",
       "}\n",
       "\n",
       "#sk-container-id-1 input.sk-toggleable__control:checked~div.sk-toggleable__content {\n",
       "  /* Expand drop-down */\n",
       "  max-height: 200px;\n",
       "  max-width: 100%;\n",
       "  overflow: auto;\n",
       "}\n",
       "\n",
       "#sk-container-id-1 input.sk-toggleable__control:checked~label.sk-toggleable__label-arrow:before {\n",
       "  content: \"▾\";\n",
       "}\n",
       "\n",
       "/* Pipeline/ColumnTransformer-specific style */\n",
       "\n",
       "#sk-container-id-1 div.sk-label input.sk-toggleable__control:checked~label.sk-toggleable__label {\n",
       "  color: var(--sklearn-color-text);\n",
       "  background-color: var(--sklearn-color-unfitted-level-2);\n",
       "}\n",
       "\n",
       "#sk-container-id-1 div.sk-label.fitted input.sk-toggleable__control:checked~label.sk-toggleable__label {\n",
       "  background-color: var(--sklearn-color-fitted-level-2);\n",
       "}\n",
       "\n",
       "/* Estimator-specific style */\n",
       "\n",
       "/* Colorize estimator box */\n",
       "#sk-container-id-1 div.sk-estimator input.sk-toggleable__control:checked~label.sk-toggleable__label {\n",
       "  /* unfitted */\n",
       "  background-color: var(--sklearn-color-unfitted-level-2);\n",
       "}\n",
       "\n",
       "#sk-container-id-1 div.sk-estimator.fitted input.sk-toggleable__control:checked~label.sk-toggleable__label {\n",
       "  /* fitted */\n",
       "  background-color: var(--sklearn-color-fitted-level-2);\n",
       "}\n",
       "\n",
       "#sk-container-id-1 div.sk-label label.sk-toggleable__label,\n",
       "#sk-container-id-1 div.sk-label label {\n",
       "  /* The background is the default theme color */\n",
       "  color: var(--sklearn-color-text-on-default-background);\n",
       "}\n",
       "\n",
       "/* On hover, darken the color of the background */\n",
       "#sk-container-id-1 div.sk-label:hover label.sk-toggleable__label {\n",
       "  color: var(--sklearn-color-text);\n",
       "  background-color: var(--sklearn-color-unfitted-level-2);\n",
       "}\n",
       "\n",
       "/* Label box, darken color on hover, fitted */\n",
       "#sk-container-id-1 div.sk-label.fitted:hover label.sk-toggleable__label.fitted {\n",
       "  color: var(--sklearn-color-text);\n",
       "  background-color: var(--sklearn-color-fitted-level-2);\n",
       "}\n",
       "\n",
       "/* Estimator label */\n",
       "\n",
       "#sk-container-id-1 div.sk-label label {\n",
       "  font-family: monospace;\n",
       "  font-weight: bold;\n",
       "  display: inline-block;\n",
       "  line-height: 1.2em;\n",
       "}\n",
       "\n",
       "#sk-container-id-1 div.sk-label-container {\n",
       "  text-align: center;\n",
       "}\n",
       "\n",
       "/* Estimator-specific */\n",
       "#sk-container-id-1 div.sk-estimator {\n",
       "  font-family: monospace;\n",
       "  border: 1px dotted var(--sklearn-color-border-box);\n",
       "  border-radius: 0.25em;\n",
       "  box-sizing: border-box;\n",
       "  margin-bottom: 0.5em;\n",
       "  /* unfitted */\n",
       "  background-color: var(--sklearn-color-unfitted-level-0);\n",
       "}\n",
       "\n",
       "#sk-container-id-1 div.sk-estimator.fitted {\n",
       "  /* fitted */\n",
       "  background-color: var(--sklearn-color-fitted-level-0);\n",
       "}\n",
       "\n",
       "/* on hover */\n",
       "#sk-container-id-1 div.sk-estimator:hover {\n",
       "  /* unfitted */\n",
       "  background-color: var(--sklearn-color-unfitted-level-2);\n",
       "}\n",
       "\n",
       "#sk-container-id-1 div.sk-estimator.fitted:hover {\n",
       "  /* fitted */\n",
       "  background-color: var(--sklearn-color-fitted-level-2);\n",
       "}\n",
       "\n",
       "/* Specification for estimator info (e.g. \"i\" and \"?\") */\n",
       "\n",
       "/* Common style for \"i\" and \"?\" */\n",
       "\n",
       ".sk-estimator-doc-link,\n",
       "a:link.sk-estimator-doc-link,\n",
       "a:visited.sk-estimator-doc-link {\n",
       "  float: right;\n",
       "  font-size: smaller;\n",
       "  line-height: 1em;\n",
       "  font-family: monospace;\n",
       "  background-color: var(--sklearn-color-background);\n",
       "  border-radius: 1em;\n",
       "  height: 1em;\n",
       "  width: 1em;\n",
       "  text-decoration: none !important;\n",
       "  margin-left: 1ex;\n",
       "  /* unfitted */\n",
       "  border: var(--sklearn-color-unfitted-level-1) 1pt solid;\n",
       "  color: var(--sklearn-color-unfitted-level-1);\n",
       "}\n",
       "\n",
       ".sk-estimator-doc-link.fitted,\n",
       "a:link.sk-estimator-doc-link.fitted,\n",
       "a:visited.sk-estimator-doc-link.fitted {\n",
       "  /* fitted */\n",
       "  border: var(--sklearn-color-fitted-level-1) 1pt solid;\n",
       "  color: var(--sklearn-color-fitted-level-1);\n",
       "}\n",
       "\n",
       "/* On hover */\n",
       "div.sk-estimator:hover .sk-estimator-doc-link:hover,\n",
       ".sk-estimator-doc-link:hover,\n",
       "div.sk-label-container:hover .sk-estimator-doc-link:hover,\n",
       ".sk-estimator-doc-link:hover {\n",
       "  /* unfitted */\n",
       "  background-color: var(--sklearn-color-unfitted-level-3);\n",
       "  color: var(--sklearn-color-background);\n",
       "  text-decoration: none;\n",
       "}\n",
       "\n",
       "div.sk-estimator.fitted:hover .sk-estimator-doc-link.fitted:hover,\n",
       ".sk-estimator-doc-link.fitted:hover,\n",
       "div.sk-label-container:hover .sk-estimator-doc-link.fitted:hover,\n",
       ".sk-estimator-doc-link.fitted:hover {\n",
       "  /* fitted */\n",
       "  background-color: var(--sklearn-color-fitted-level-3);\n",
       "  color: var(--sklearn-color-background);\n",
       "  text-decoration: none;\n",
       "}\n",
       "\n",
       "/* Span, style for the box shown on hovering the info icon */\n",
       ".sk-estimator-doc-link span {\n",
       "  display: none;\n",
       "  z-index: 9999;\n",
       "  position: relative;\n",
       "  font-weight: normal;\n",
       "  right: .2ex;\n",
       "  padding: .5ex;\n",
       "  margin: .5ex;\n",
       "  width: min-content;\n",
       "  min-width: 20ex;\n",
       "  max-width: 50ex;\n",
       "  color: var(--sklearn-color-text);\n",
       "  box-shadow: 2pt 2pt 4pt #999;\n",
       "  /* unfitted */\n",
       "  background: var(--sklearn-color-unfitted-level-0);\n",
       "  border: .5pt solid var(--sklearn-color-unfitted-level-3);\n",
       "}\n",
       "\n",
       ".sk-estimator-doc-link.fitted span {\n",
       "  /* fitted */\n",
       "  background: var(--sklearn-color-fitted-level-0);\n",
       "  border: var(--sklearn-color-fitted-level-3);\n",
       "}\n",
       "\n",
       ".sk-estimator-doc-link:hover span {\n",
       "  display: block;\n",
       "}\n",
       "\n",
       "/* \"?\"-specific style due to the `<a>` HTML tag */\n",
       "\n",
       "#sk-container-id-1 a.estimator_doc_link {\n",
       "  float: right;\n",
       "  font-size: 1rem;\n",
       "  line-height: 1em;\n",
       "  font-family: monospace;\n",
       "  background-color: var(--sklearn-color-background);\n",
       "  border-radius: 1rem;\n",
       "  height: 1rem;\n",
       "  width: 1rem;\n",
       "  text-decoration: none;\n",
       "  /* unfitted */\n",
       "  color: var(--sklearn-color-unfitted-level-1);\n",
       "  border: var(--sklearn-color-unfitted-level-1) 1pt solid;\n",
       "}\n",
       "\n",
       "#sk-container-id-1 a.estimator_doc_link.fitted {\n",
       "  /* fitted */\n",
       "  border: var(--sklearn-color-fitted-level-1) 1pt solid;\n",
       "  color: var(--sklearn-color-fitted-level-1);\n",
       "}\n",
       "\n",
       "/* On hover */\n",
       "#sk-container-id-1 a.estimator_doc_link:hover {\n",
       "  /* unfitted */\n",
       "  background-color: var(--sklearn-color-unfitted-level-3);\n",
       "  color: var(--sklearn-color-background);\n",
       "  text-decoration: none;\n",
       "}\n",
       "\n",
       "#sk-container-id-1 a.estimator_doc_link.fitted:hover {\n",
       "  /* fitted */\n",
       "  background-color: var(--sklearn-color-fitted-level-3);\n",
       "}\n",
       "</style><div id=\"sk-container-id-1\" class=\"sk-top-container\"><div class=\"sk-text-repr-fallback\"><pre>RandomForestRegressor(max_depth=100, random_state=0)</pre><b>In a Jupyter environment, please rerun this cell to show the HTML representation or trust the notebook. <br />On GitHub, the HTML representation is unable to render, please try loading this page with nbviewer.org.</b></div><div class=\"sk-container\" hidden><div class=\"sk-item\"><div class=\"sk-estimator fitted sk-toggleable\"><input class=\"sk-toggleable__control sk-hidden--visually\" id=\"sk-estimator-id-1\" type=\"checkbox\" checked><label for=\"sk-estimator-id-1\" class=\"sk-toggleable__label fitted sk-toggleable__label-arrow fitted\">&nbsp;&nbsp;RandomForestRegressor<a class=\"sk-estimator-doc-link fitted\" rel=\"noreferrer\" target=\"_blank\" href=\"https://scikit-learn.org/1.4/modules/generated/sklearn.ensemble.RandomForestRegressor.html\">?<span>Documentation for RandomForestRegressor</span></a><span class=\"sk-estimator-doc-link fitted\">i<span>Fitted</span></span></label><div class=\"sk-toggleable__content fitted\"><pre>RandomForestRegressor(max_depth=100, random_state=0)</pre></div> </div></div></div></div>"
      ],
      "text/plain": [
       "RandomForestRegressor(max_depth=100, random_state=0)"
      ]
     },
     "execution_count": 10,
     "metadata": {},
     "output_type": "execute_result"
    }
   ],
   "source": [
    "regr1.fit(X1, y1)"
   ]
  },
  {
   "cell_type": "markdown",
   "metadata": {},
   "source": [
    "Probamos el algoritmo con los datos de validación"
   ]
  },
  {
   "cell_type": "code",
   "execution_count": 11,
   "metadata": {},
   "outputs": [
    {
     "name": "stderr",
     "output_type": "stream",
     "text": [
      "C:\\Users\\raulg\\AppData\\Local\\Temp\\ipykernel_6648\\3274649085.py:7: FutureWarning: Series.__getitem__ treating keys as positions is deprecated. In a future version, integer keys will always be treated as labels (consistent with DataFrame behavior). To access a value by position, use `ser.iloc[pos]`\n",
      "  Vali1aux.append(aux[i])\n"
     ]
    },
    {
     "name": "stdout",
     "output_type": "stream",
     "text": [
      "[ 22.1805  22.116   22.0085 ... 153.837  153.1125 155.9625]\n"
     ]
    }
   ],
   "source": [
    "Vali1 = []\n",
    "aux = df_vali.iloc[0]\n",
    "for r in range (0,df_vali.shape[0] - 1):\n",
    "    aux = df_vali.iloc[r]\n",
    "    Vali1aux = []\n",
    "    for i in range(1, aux.size):\n",
    "        Vali1aux.append(aux[i])\n",
    "    Vali1.append(Vali1aux)\n",
    "predict = regr1.predict(Vali1)\n",
    "print(predict)"
   ]
  },
  {
   "cell_type": "code",
   "execution_count": 12,
   "metadata": {},
   "outputs": [],
   "source": [
    "Valirpr = []\n",
    "for i in range(1,df_vali.shape[0]):\n",
    "    Valirpr.append(df_vali.iloc[i].close)"
   ]
  },
  {
   "cell_type": "code",
   "execution_count": 13,
   "metadata": {},
   "outputs": [
    {
     "data": {
      "image/png": "[encoded data removed]",
      "text/plain": [
       "<Figure size 640x480 with 1 Axes>"
      ]
     },
     "metadata": {},
     "output_type": "display_data"
    }
   ],
   "source": [
    "plt.plot(Valirpr, color='blue', label='Precio real')  # Línea azul\n",
    "plt.plot(predict, color='red', label='Predicción')   # Línea roja\n",
    "plt.title('Gráfico comparación predicción/precio real')\n",
    "plt.xlabel('Índice')\n",
    "plt.ylabel('Valor')\n",
    "plt.legend() \n",
    "\n",
    "plt.show()"
   ]
  },
  {
   "cell_type": "code",
   "execution_count": 14,
   "metadata": {},
   "outputs": [
    {
     "name": "stdout",
     "output_type": "stream",
     "text": [
      "El error medio absoluto es: 0.8113275540694354\n",
      "El error medio porcentualemente es: 0.9670508918721916\n"
     ]
    }
   ],
   "source": [
    "suma = 0\n",
    "n = len(Valirpr)\n",
    "mae = np.mean(np.abs(Valirpr - predict))\n",
    "print(\"El error medio absoluto es: \" + str(mae))\n",
    "for i in range(0,n):\n",
    "    suma = abs(predict[i] - Valirpr[i])/Valirpr[i] +  suma\n",
    "error_medio = suma/n\n",
    "emp = error_medio*100 # error medio en porcentaje\n",
    "print(\"El error medio porcentualemente es: \" + str(emp))"
   ]
  },
  {
   "cell_type": "markdown",
   "metadata": {},
   "source": [
    "Probamos el algoritmo con los datos de test"
   ]
  },
  {
   "cell_type": "code",
   "execution_count": 15,
   "metadata": {},
   "outputs": [
    {
     "name": "stderr",
     "output_type": "stream",
     "text": [
      "C:\\Users\\raulg\\AppData\\Local\\Temp\\ipykernel_6648\\886282011.py:7: FutureWarning: Series.__getitem__ treating keys as positions is deprecated. In a future version, integer keys will always be treated as labels (consistent with DataFrame behavior). To access a value by position, use `ser.iloc[pos]`\n",
      "  Test1aux.append(aux[i])\n"
     ]
    },
    {
     "name": "stdout",
     "output_type": "stream",
     "text": [
      "[154.31   153.732  154.3395 ... 142.393  142.6115 142.779 ]\n"
     ]
    }
   ],
   "source": [
    "Test1 = []\n",
    "aux = df_test.iloc[0]\n",
    "for r in range (0,df_test.shape[0] - 1):\n",
    "    aux = df_test.iloc[r]\n",
    "    Test1aux = []\n",
    "    for i in range(1, aux.size):\n",
    "        Test1aux.append(aux[i])\n",
    "    Test1.append(Test1aux)\n",
    "predictT = regr1.predict(Test1)\n",
    "print(predictT)"
   ]
  },
  {
   "cell_type": "code",
   "execution_count": 16,
   "metadata": {},
   "outputs": [],
   "source": [
    "Testrpr = []\n",
    "for i in range(1,df_test.shape[0]):\n",
    "    Testrpr.append(df_test.iloc[i].close)"
   ]
  },
  {
   "cell_type": "code",
   "execution_count": 17,
   "metadata": {},
   "outputs": [
    {
     "data": {
      "image/png": "[encoded data removed]",
      "text/plain": [
       "<Figure size 640x480 with 1 Axes>"
      ]
     },
     "metadata": {},
     "output_type": "display_data"
    }
   ],
   "source": [
    "plt.plot(Testrpr, color='blue', label='Precio real')  # Línea azul\n",
    "plt.plot(predictT, color='red', label='Predicción')   # Línea roja\n",
    "plt.title('Gráfico comparación predicción/precio real')\n",
    "plt.xlabel('Índice')\n",
    "plt.ylabel('Valor')\n",
    "plt.legend() \n",
    "\n",
    "plt.show()"
   ]
  },
  {
   "cell_type": "code",
   "execution_count": 18,
   "metadata": {},
   "outputs": [
    {
     "name": "stdout",
     "output_type": "stream",
     "text": [
      "El error medio absoluto es: 1.1719781473336992\n",
      "El error medio porcentualemente es: 0.7826227595698083\n"
     ]
    }
   ],
   "source": [
    "suma = 0\n",
    "n = len(Testrpr)\n",
    "mae = np.mean(np.abs(Testrpr - predictT))\n",
    "print(\"El error medio absoluto es: \" + str(mae))\n",
    "for i in range(0,n):\n",
    "    suma = abs(predictT[i] - Testrpr[i])/Testrpr[i] +  suma\n",
    "error_medio = suma/n\n",
    "emp = error_medio*100 # error medio en porcentaje\n",
    "print(\"El error medio porcentualemente es: \" + str(emp))"
   ]
  },
  {
   "cell_type": "markdown",
   "metadata": {},
   "source": [
    "# Predicción Utilizando XGBoost"
   ]
  },
  {
   "cell_type": "code",
   "execution_count": 19,
   "metadata": {},
   "outputs": [],
   "source": [
    "df_xgb = df.copy()\n",
    "df_xgb['close_next'] = df_xgb['close'].shift(-1)"
   ]
  },
  {
   "cell_type": "code",
   "execution_count": 20,
   "metadata": {},
   "outputs": [
    {
     "name": "stdout",
     "output_type": "stream",
     "text": [
      "<class 'pandas.core.frame.DataFrame'>\n",
      "Index: 36399 entries, 0 to 36398\n",
      "Data columns (total 7 columns):\n",
      " #   Column      Non-Null Count  Dtype  \n",
      "---  ------      --------------  -----  \n",
      " 0   date        36399 non-null  object \n",
      " 1   open        36399 non-null  float64\n",
      " 2   high        36399 non-null  float64\n",
      " 3   low         36399 non-null  float64\n",
      " 4   close       36399 non-null  float64\n",
      " 5   value       36399 non-null  int64  \n",
      " 6   close_next  36399 non-null  float64\n",
      "dtypes: float64(5), int64(1), object(1)\n",
      "memory usage: 2.2+ MB\n"
     ]
    }
   ],
   "source": [
    "df_xgb = df_xgb.dropna()\n",
    "df_xgb.info()"
   ]
  },
  {
   "cell_type": "code",
   "execution_count": 21,
   "metadata": {},
   "outputs": [
    {
     "data": {
      "text/plain": [
       "36399"
      ]
     },
     "execution_count": 21,
     "metadata": {},
     "output_type": "execute_result"
    }
   ],
   "source": [
    "tamanio_xgb = df_xgb.shape[0]\n",
    "tamanio_xgb"
   ]
  },
  {
   "cell_type": "code",
   "execution_count": 22,
   "metadata": {},
   "outputs": [
    {
     "data": {
      "text/html": [
       "<div>\n",
       "<style scoped>\n",
       "    .dataframe tbody tr th:only-of-type {\n",
       "        vertical-align: middle;\n",
       "    }\n",
       "\n",
       "    .dataframe tbody tr th {\n",
       "        vertical-align: top;\n",
       "    }\n",
       "\n",
       "    .dataframe thead th {\n",
       "        text-align: right;\n",
       "    }\n",
       "</style>\n",
       "<table border=\"1\" class=\"dataframe\">\n",
       "  <thead>\n",
       "    <tr style=\"text-align: right;\">\n",
       "      <th></th>\n",
       "      <th>date</th>\n",
       "      <th>open</th>\n",
       "      <th>high</th>\n",
       "      <th>low</th>\n",
       "      <th>close</th>\n",
       "      <th>value</th>\n",
       "      <th>close_next</th>\n",
       "    </tr>\n",
       "  </thead>\n",
       "  <tbody>\n",
       "    <tr>\n",
       "      <th>0</th>\n",
       "      <td>2020-08-12 03:00:00</td>\n",
       "      <td>3.10</td>\n",
       "      <td>3.35</td>\n",
       "      <td>3.10</td>\n",
       "      <td>3.25</td>\n",
       "      <td>75</td>\n",
       "      <td>3.15</td>\n",
       "    </tr>\n",
       "    <tr>\n",
       "      <th>1</th>\n",
       "      <td>2020-08-12 04:00:00</td>\n",
       "      <td>3.25</td>\n",
       "      <td>3.25</td>\n",
       "      <td>3.15</td>\n",
       "      <td>3.15</td>\n",
       "      <td>75</td>\n",
       "      <td>3.30</td>\n",
       "    </tr>\n",
       "    <tr>\n",
       "      <th>2</th>\n",
       "      <td>2020-08-12 05:00:00</td>\n",
       "      <td>3.15</td>\n",
       "      <td>3.30</td>\n",
       "      <td>3.15</td>\n",
       "      <td>3.30</td>\n",
       "      <td>75</td>\n",
       "      <td>3.30</td>\n",
       "    </tr>\n",
       "    <tr>\n",
       "      <th>3</th>\n",
       "      <td>2020-08-12 06:00:00</td>\n",
       "      <td>3.30</td>\n",
       "      <td>3.30</td>\n",
       "      <td>3.15</td>\n",
       "      <td>3.30</td>\n",
       "      <td>75</td>\n",
       "      <td>3.25</td>\n",
       "    </tr>\n",
       "    <tr>\n",
       "      <th>4</th>\n",
       "      <td>2020-08-12 07:00:00</td>\n",
       "      <td>3.25</td>\n",
       "      <td>3.25</td>\n",
       "      <td>3.20</td>\n",
       "      <td>3.25</td>\n",
       "      <td>75</td>\n",
       "      <td>3.25</td>\n",
       "    </tr>\n",
       "    <tr>\n",
       "      <th>...</th>\n",
       "      <td>...</td>\n",
       "      <td>...</td>\n",
       "      <td>...</td>\n",
       "      <td>...</td>\n",
       "      <td>...</td>\n",
       "      <td>...</td>\n",
       "      <td>...</td>\n",
       "    </tr>\n",
       "    <tr>\n",
       "      <th>25475</th>\n",
       "      <td>2023-07-11 20:00:00</td>\n",
       "      <td>22.10</td>\n",
       "      <td>22.10</td>\n",
       "      <td>21.95</td>\n",
       "      <td>22.00</td>\n",
       "      <td>57</td>\n",
       "      <td>22.00</td>\n",
       "    </tr>\n",
       "    <tr>\n",
       "      <th>25476</th>\n",
       "      <td>2023-07-11 21:00:00</td>\n",
       "      <td>22.00</td>\n",
       "      <td>22.05</td>\n",
       "      <td>21.90</td>\n",
       "      <td>22.00</td>\n",
       "      <td>57</td>\n",
       "      <td>22.00</td>\n",
       "    </tr>\n",
       "    <tr>\n",
       "      <th>25477</th>\n",
       "      <td>2023-07-11 22:00:00</td>\n",
       "      <td>22.00</td>\n",
       "      <td>22.10</td>\n",
       "      <td>21.90</td>\n",
       "      <td>22.00</td>\n",
       "      <td>57</td>\n",
       "      <td>21.95</td>\n",
       "    </tr>\n",
       "    <tr>\n",
       "      <th>25478</th>\n",
       "      <td>2023-07-11 23:00:00</td>\n",
       "      <td>22.00</td>\n",
       "      <td>22.05</td>\n",
       "      <td>21.75</td>\n",
       "      <td>21.95</td>\n",
       "      <td>57</td>\n",
       "      <td>22.05</td>\n",
       "    </tr>\n",
       "    <tr>\n",
       "      <th>25479</th>\n",
       "      <td>2023-07-12 00:00:00</td>\n",
       "      <td>21.95</td>\n",
       "      <td>22.10</td>\n",
       "      <td>21.90</td>\n",
       "      <td>22.05</td>\n",
       "      <td>64</td>\n",
       "      <td>22.10</td>\n",
       "    </tr>\n",
       "  </tbody>\n",
       "</table>\n",
       "<p>25480 rows × 7 columns</p>\n",
       "</div>"
      ],
      "text/plain": [
       "                      date   open   high    low  close  value  close_next\n",
       "0      2020-08-12 03:00:00   3.10   3.35   3.10   3.25     75        3.15\n",
       "1      2020-08-12 04:00:00   3.25   3.25   3.15   3.15     75        3.30\n",
       "2      2020-08-12 05:00:00   3.15   3.30   3.15   3.30     75        3.30\n",
       "3      2020-08-12 06:00:00   3.30   3.30   3.15   3.30     75        3.25\n",
       "4      2020-08-12 07:00:00   3.25   3.25   3.20   3.25     75        3.25\n",
       "...                    ...    ...    ...    ...    ...    ...         ...\n",
       "25475  2023-07-11 20:00:00  22.10  22.10  21.95  22.00     57       22.00\n",
       "25476  2023-07-11 21:00:00  22.00  22.05  21.90  22.00     57       22.00\n",
       "25477  2023-07-11 22:00:00  22.00  22.10  21.90  22.00     57       21.95\n",
       "25478  2023-07-11 23:00:00  22.00  22.05  21.75  21.95     57       22.05\n",
       "25479  2023-07-12 00:00:00  21.95  22.10  21.90  22.05     64       22.10\n",
       "\n",
       "[25480 rows x 7 columns]"
      ]
     },
     "execution_count": 22,
     "metadata": {},
     "output_type": "execute_result"
    }
   ],
   "source": [
    "df_train_xgb = df_xgb.copy().loc[0:int(tamanio_xgb*0.7)]\n",
    "df_train_xgb"
   ]
  },
  {
   "cell_type": "code",
   "execution_count": 23,
   "metadata": {},
   "outputs": [
    {
     "data": {
      "text/html": [
       "<div>\n",
       "<style scoped>\n",
       "    .dataframe tbody tr th:only-of-type {\n",
       "        vertical-align: middle;\n",
       "    }\n",
       "\n",
       "    .dataframe tbody tr th {\n",
       "        vertical-align: top;\n",
       "    }\n",
       "\n",
       "    .dataframe thead th {\n",
       "        text-align: right;\n",
       "    }\n",
       "</style>\n",
       "<table border=\"1\" class=\"dataframe\">\n",
       "  <thead>\n",
       "    <tr style=\"text-align: right;\">\n",
       "      <th></th>\n",
       "      <th>date</th>\n",
       "      <th>open</th>\n",
       "      <th>high</th>\n",
       "      <th>low</th>\n",
       "      <th>close</th>\n",
       "      <th>value</th>\n",
       "      <th>close_next</th>\n",
       "    </tr>\n",
       "  </thead>\n",
       "  <tbody>\n",
       "    <tr>\n",
       "      <th>25480</th>\n",
       "      <td>2023-07-12 01:00:00</td>\n",
       "      <td>22.05</td>\n",
       "      <td>22.15</td>\n",
       "      <td>22.00</td>\n",
       "      <td>22.10</td>\n",
       "      <td>64</td>\n",
       "      <td>22.15</td>\n",
       "    </tr>\n",
       "    <tr>\n",
       "      <th>25481</th>\n",
       "      <td>2023-07-12 02:00:00</td>\n",
       "      <td>22.10</td>\n",
       "      <td>22.30</td>\n",
       "      <td>22.05</td>\n",
       "      <td>22.15</td>\n",
       "      <td>64</td>\n",
       "      <td>22.10</td>\n",
       "    </tr>\n",
       "    <tr>\n",
       "      <th>25482</th>\n",
       "      <td>2023-07-12 03:00:00</td>\n",
       "      <td>22.15</td>\n",
       "      <td>22.25</td>\n",
       "      <td>22.10</td>\n",
       "      <td>22.10</td>\n",
       "      <td>64</td>\n",
       "      <td>22.00</td>\n",
       "    </tr>\n",
       "    <tr>\n",
       "      <th>25483</th>\n",
       "      <td>2023-07-12 04:00:00</td>\n",
       "      <td>22.10</td>\n",
       "      <td>22.10</td>\n",
       "      <td>22.00</td>\n",
       "      <td>22.00</td>\n",
       "      <td>64</td>\n",
       "      <td>21.95</td>\n",
       "    </tr>\n",
       "    <tr>\n",
       "      <th>25484</th>\n",
       "      <td>2023-07-12 05:00:00</td>\n",
       "      <td>22.00</td>\n",
       "      <td>22.00</td>\n",
       "      <td>21.90</td>\n",
       "      <td>21.95</td>\n",
       "      <td>64</td>\n",
       "      <td>22.00</td>\n",
       "    </tr>\n",
       "    <tr>\n",
       "      <th>...</th>\n",
       "      <td>...</td>\n",
       "      <td>...</td>\n",
       "      <td>...</td>\n",
       "      <td>...</td>\n",
       "      <td>...</td>\n",
       "      <td>...</td>\n",
       "      <td>...</td>\n",
       "    </tr>\n",
       "    <tr>\n",
       "      <th>32755</th>\n",
       "      <td>2024-05-10 04:00:00</td>\n",
       "      <td>153.40</td>\n",
       "      <td>153.80</td>\n",
       "      <td>152.70</td>\n",
       "      <td>153.65</td>\n",
       "      <td>66</td>\n",
       "      <td>153.95</td>\n",
       "    </tr>\n",
       "    <tr>\n",
       "      <th>32756</th>\n",
       "      <td>2024-05-10 05:00:00</td>\n",
       "      <td>153.65</td>\n",
       "      <td>154.35</td>\n",
       "      <td>152.85</td>\n",
       "      <td>153.95</td>\n",
       "      <td>66</td>\n",
       "      <td>153.75</td>\n",
       "    </tr>\n",
       "    <tr>\n",
       "      <th>32757</th>\n",
       "      <td>2024-05-10 06:00:00</td>\n",
       "      <td>153.95</td>\n",
       "      <td>154.70</td>\n",
       "      <td>153.45</td>\n",
       "      <td>153.75</td>\n",
       "      <td>66</td>\n",
       "      <td>153.30</td>\n",
       "    </tr>\n",
       "    <tr>\n",
       "      <th>32758</th>\n",
       "      <td>2024-05-10 07:00:00</td>\n",
       "      <td>153.75</td>\n",
       "      <td>154.10</td>\n",
       "      <td>152.30</td>\n",
       "      <td>153.30</td>\n",
       "      <td>66</td>\n",
       "      <td>154.95</td>\n",
       "    </tr>\n",
       "    <tr>\n",
       "      <th>32759</th>\n",
       "      <td>2024-05-10 08:00:00</td>\n",
       "      <td>153.30</td>\n",
       "      <td>155.10</td>\n",
       "      <td>153.15</td>\n",
       "      <td>154.95</td>\n",
       "      <td>66</td>\n",
       "      <td>154.35</td>\n",
       "    </tr>\n",
       "  </tbody>\n",
       "</table>\n",
       "<p>7280 rows × 7 columns</p>\n",
       "</div>"
      ],
      "text/plain": [
       "                      date    open    high     low   close  value  close_next\n",
       "25480  2023-07-12 01:00:00   22.05   22.15   22.00   22.10     64       22.15\n",
       "25481  2023-07-12 02:00:00   22.10   22.30   22.05   22.15     64       22.10\n",
       "25482  2023-07-12 03:00:00   22.15   22.25   22.10   22.10     64       22.00\n",
       "25483  2023-07-12 04:00:00   22.10   22.10   22.00   22.00     64       21.95\n",
       "25484  2023-07-12 05:00:00   22.00   22.00   21.90   21.95     64       22.00\n",
       "...                    ...     ...     ...     ...     ...    ...         ...\n",
       "32755  2024-05-10 04:00:00  153.40  153.80  152.70  153.65     66      153.95\n",
       "32756  2024-05-10 05:00:00  153.65  154.35  152.85  153.95     66      153.75\n",
       "32757  2024-05-10 06:00:00  153.95  154.70  153.45  153.75     66      153.30\n",
       "32758  2024-05-10 07:00:00  153.75  154.10  152.30  153.30     66      154.95\n",
       "32759  2024-05-10 08:00:00  153.30  155.10  153.15  154.95     66      154.35\n",
       "\n",
       "[7280 rows x 7 columns]"
      ]
     },
     "execution_count": 23,
     "metadata": {},
     "output_type": "execute_result"
    }
   ],
   "source": [
    "df_vali_xgb = df_xgb.copy().loc[int(tamanio_xgb*0.7 + 1):int(tamanio_xgb*0.9)]\n",
    "df_vali_xgb"
   ]
  },
  {
   "cell_type": "code",
   "execution_count": 24,
   "metadata": {},
   "outputs": [
    {
     "data": {
      "text/html": [
       "<div>\n",
       "<style scoped>\n",
       "    .dataframe tbody tr th:only-of-type {\n",
       "        vertical-align: middle;\n",
       "    }\n",
       "\n",
       "    .dataframe tbody tr th {\n",
       "        vertical-align: top;\n",
       "    }\n",
       "\n",
       "    .dataframe thead th {\n",
       "        text-align: right;\n",
       "    }\n",
       "</style>\n",
       "<table border=\"1\" class=\"dataframe\">\n",
       "  <thead>\n",
       "    <tr style=\"text-align: right;\">\n",
       "      <th></th>\n",
       "      <th>date</th>\n",
       "      <th>open</th>\n",
       "      <th>high</th>\n",
       "      <th>low</th>\n",
       "      <th>close</th>\n",
       "      <th>value</th>\n",
       "      <th>close_next</th>\n",
       "    </tr>\n",
       "  </thead>\n",
       "  <tbody>\n",
       "    <tr>\n",
       "      <th>32760</th>\n",
       "      <td>2024-05-10 09:00:00</td>\n",
       "      <td>154.95</td>\n",
       "      <td>155.75</td>\n",
       "      <td>154.25</td>\n",
       "      <td>154.35</td>\n",
       "      <td>66</td>\n",
       "      <td>154.10</td>\n",
       "    </tr>\n",
       "    <tr>\n",
       "      <th>32761</th>\n",
       "      <td>2024-05-10 10:00:00</td>\n",
       "      <td>154.35</td>\n",
       "      <td>154.50</td>\n",
       "      <td>153.45</td>\n",
       "      <td>154.10</td>\n",
       "      <td>66</td>\n",
       "      <td>154.15</td>\n",
       "    </tr>\n",
       "    <tr>\n",
       "      <th>32762</th>\n",
       "      <td>2024-05-10 11:00:00</td>\n",
       "      <td>154.10</td>\n",
       "      <td>154.80</td>\n",
       "      <td>153.25</td>\n",
       "      <td>154.15</td>\n",
       "      <td>66</td>\n",
       "      <td>154.15</td>\n",
       "    </tr>\n",
       "    <tr>\n",
       "      <th>32763</th>\n",
       "      <td>2024-05-10 12:00:00</td>\n",
       "      <td>154.15</td>\n",
       "      <td>154.30</td>\n",
       "      <td>153.25</td>\n",
       "      <td>154.15</td>\n",
       "      <td>66</td>\n",
       "      <td>155.05</td>\n",
       "    </tr>\n",
       "    <tr>\n",
       "      <th>32764</th>\n",
       "      <td>2024-05-10 13:00:00</td>\n",
       "      <td>154.15</td>\n",
       "      <td>155.20</td>\n",
       "      <td>153.00</td>\n",
       "      <td>155.05</td>\n",
       "      <td>66</td>\n",
       "      <td>153.30</td>\n",
       "    </tr>\n",
       "    <tr>\n",
       "      <th>...</th>\n",
       "      <td>...</td>\n",
       "      <td>...</td>\n",
       "      <td>...</td>\n",
       "      <td>...</td>\n",
       "      <td>...</td>\n",
       "      <td>...</td>\n",
       "      <td>...</td>\n",
       "    </tr>\n",
       "    <tr>\n",
       "      <th>36394</th>\n",
       "      <td>2024-10-08 19:00:00</td>\n",
       "      <td>143.80</td>\n",
       "      <td>143.95</td>\n",
       "      <td>142.40</td>\n",
       "      <td>143.35</td>\n",
       "      <td>49</td>\n",
       "      <td>142.95</td>\n",
       "    </tr>\n",
       "    <tr>\n",
       "      <th>36395</th>\n",
       "      <td>2024-10-08 20:00:00</td>\n",
       "      <td>143.35</td>\n",
       "      <td>143.90</td>\n",
       "      <td>142.35</td>\n",
       "      <td>142.95</td>\n",
       "      <td>49</td>\n",
       "      <td>143.75</td>\n",
       "    </tr>\n",
       "    <tr>\n",
       "      <th>36396</th>\n",
       "      <td>2024-10-08 21:00:00</td>\n",
       "      <td>142.95</td>\n",
       "      <td>144.10</td>\n",
       "      <td>142.25</td>\n",
       "      <td>143.75</td>\n",
       "      <td>49</td>\n",
       "      <td>144.50</td>\n",
       "    </tr>\n",
       "    <tr>\n",
       "      <th>36397</th>\n",
       "      <td>2024-10-08 22:00:00</td>\n",
       "      <td>143.75</td>\n",
       "      <td>144.50</td>\n",
       "      <td>143.35</td>\n",
       "      <td>144.50</td>\n",
       "      <td>49</td>\n",
       "      <td>144.25</td>\n",
       "    </tr>\n",
       "    <tr>\n",
       "      <th>36398</th>\n",
       "      <td>2024-10-08 23:00:00</td>\n",
       "      <td>144.50</td>\n",
       "      <td>144.70</td>\n",
       "      <td>144.05</td>\n",
       "      <td>144.25</td>\n",
       "      <td>49</td>\n",
       "      <td>143.80</td>\n",
       "    </tr>\n",
       "  </tbody>\n",
       "</table>\n",
       "<p>3639 rows × 7 columns</p>\n",
       "</div>"
      ],
      "text/plain": [
       "                      date    open    high     low   close  value  close_next\n",
       "32760  2024-05-10 09:00:00  154.95  155.75  154.25  154.35     66      154.10\n",
       "32761  2024-05-10 10:00:00  154.35  154.50  153.45  154.10     66      154.15\n",
       "32762  2024-05-10 11:00:00  154.10  154.80  153.25  154.15     66      154.15\n",
       "32763  2024-05-10 12:00:00  154.15  154.30  153.25  154.15     66      155.05\n",
       "32764  2024-05-10 13:00:00  154.15  155.20  153.00  155.05     66      153.30\n",
       "...                    ...     ...     ...     ...     ...    ...         ...\n",
       "36394  2024-10-08 19:00:00  143.80  143.95  142.40  143.35     49      142.95\n",
       "36395  2024-10-08 20:00:00  143.35  143.90  142.35  142.95     49      143.75\n",
       "36396  2024-10-08 21:00:00  142.95  144.10  142.25  143.75     49      144.50\n",
       "36397  2024-10-08 22:00:00  143.75  144.50  143.35  144.50     49      144.25\n",
       "36398  2024-10-08 23:00:00  144.50  144.70  144.05  144.25     49      143.80\n",
       "\n",
       "[3639 rows x 7 columns]"
      ]
     },
     "execution_count": 24,
     "metadata": {},
     "output_type": "execute_result"
    }
   ],
   "source": [
    "df_test_xgb = df_xgb.copy().loc[int(tamanio_xgb*0.9 + 1):tamanio_xgb]\n",
    "df_test_xgb"
   ]
  },
  {
   "cell_type": "markdown",
   "metadata": {},
   "source": [
    "Definimos los datos y características del entrenamiento"
   ]
  },
  {
   "cell_type": "code",
   "execution_count": 25,
   "metadata": {},
   "outputs": [],
   "source": [
    "X = df_train_xgb[['open', 'high', 'low', 'close']] \n",
    "y = df_train_xgb['close_next']\n",
    "X1 = df_vali_xgb[['open', 'high', 'low', 'close']] \n",
    "y1 = df_vali_xgb['close_next']"
   ]
  },
  {
   "cell_type": "code",
   "execution_count": 26,
   "metadata": {},
   "outputs": [],
   "source": [
    "dtrain = xgb.DMatrix(data=X, label=y)\n",
    "dvali = xgb.DMatrix(data=X1, label=y1)"
   ]
  },
  {
   "cell_type": "code",
   "execution_count": 27,
   "metadata": {},
   "outputs": [],
   "source": [
    "param = {'max_depth': 10, 'eta': 0.1, 'objective': 'reg:squarederror'}\n",
    "evals = [(dtrain, 'train'), (dvali, 'validacion')]"
   ]
  },
  {
   "cell_type": "markdown",
   "metadata": {},
   "source": [
    "Entrenamos el modelo XGBoost"
   ]
  },
  {
   "cell_type": "code",
   "execution_count": 28,
   "metadata": {},
   "outputs": [
    {
     "name": "stdout",
     "output_type": "stream",
     "text": [
      "[0]\ttrain-rmse:52.03058\tvalidacion-rmse:55.14741\n",
      "[10]\ttrain-rmse:18.24075\tvalidacion-rmse:19.29663\n",
      "[20]\ttrain-rmse:6.47113\tvalidacion-rmse:6.89713\n",
      "[30]\ttrain-rmse:2.49259\tvalidacion-rmse:2.78981\n",
      "[40]\ttrain-rmse:1.33772\tvalidacion-rmse:1.70668\n",
      "[50]\ttrain-rmse:1.09531\tvalidacion-rmse:1.52521\n",
      "[60]\ttrain-rmse:1.05078\tvalidacion-rmse:1.50811\n",
      "[70]\ttrain-rmse:1.03892\tvalidacion-rmse:1.50938\n"
     ]
    }
   ],
   "source": [
    "bst = xgb.train(param, dtrain, num_boost_round=1000, evals=evals, early_stopping_rounds=10, verbose_eval=10)"
   ]
  },
  {
   "cell_type": "markdown",
   "metadata": {},
   "source": [
    "Lo probamos con los datos de validación"
   ]
  },
  {
   "cell_type": "code",
   "execution_count": 29,
   "metadata": {},
   "outputs": [],
   "source": [
    "predict_xgb = bst.predict(dvali)"
   ]
  },
  {
   "cell_type": "code",
   "execution_count": 30,
   "metadata": {},
   "outputs": [],
   "source": [
    "Valirpr_xgb = []\n",
    "for i in range(0,df_vali_xgb.shape[0]):\n",
    "    Valirpr_xgb.append(df_vali_xgb.iloc[i].close)"
   ]
  },
  {
   "cell_type": "code",
   "execution_count": 31,
   "metadata": {},
   "outputs": [
    {
     "data": {
      "image/png": "[encoded data removed]",
      "text/plain": [
       "<Figure size 640x480 with 1 Axes>"
      ]
     },
     "metadata": {},
     "output_type": "display_data"
    }
   ],
   "source": [
    "plt.plot(Valirpr_xgb, color='blue', label='Precio real')  # Línea azul\n",
    "plt.plot(predict_xgb, color='red', label='Predicción')   # Línea roja\n",
    "plt.title('Gráfico comparación predicción/precio real')\n",
    "plt.xlabel('Índice')\n",
    "plt.ylabel('Valor')\n",
    "plt.legend() \n",
    "\n",
    "plt.show()"
   ]
  },
  {
   "cell_type": "code",
   "execution_count": 32,
   "metadata": {},
   "outputs": [
    {
     "name": "stdout",
     "output_type": "stream",
     "text": [
      "El error medio absoluto es: 0.5122382410279995\n",
      "El error medio porcentualemente es: 0.6814544222019102\n"
     ]
    }
   ],
   "source": [
    "suma = 0\n",
    "n = len(Valirpr_xgb)\n",
    "mae = np.mean(np.abs(Valirpr_xgb - predict_xgb))\n",
    "print(\"El error medio absoluto es: \" + str(mae))\n",
    "for i in range(0,n):\n",
    "    suma = abs(predict_xgb[i] - Valirpr_xgb[i])/Valirpr_xgb[i] +  suma\n",
    "error_medio = suma/n\n",
    "emp = error_medio*100 # error medio en porcentaje\n",
    "print(\"El error medio porcentualemente es: \" + str(emp))"
   ]
  },
  {
   "cell_type": "markdown",
   "metadata": {},
   "source": [
    "Preparamos los datos de test en el formato necesario"
   ]
  },
  {
   "cell_type": "code",
   "execution_count": 33,
   "metadata": {},
   "outputs": [],
   "source": [
    "df_test_xgb_aux = df_test_xgb.iloc[:-1].copy()\n",
    "X_test = df_test_xgb_aux[['open', 'high', 'low', 'close']] \n",
    "y_test = df_test_xgb_aux['close_next']\n",
    "dtest = xgb.DMatrix(data=X_test, label=y_test)"
   ]
  },
  {
   "cell_type": "markdown",
   "metadata": {},
   "source": [
    "Lo probamos con los datos de test"
   ]
  },
  {
   "cell_type": "code",
   "execution_count": 34,
   "metadata": {},
   "outputs": [],
   "source": [
    "predict_xgb_test = bst.predict(dtest)"
   ]
  },
  {
   "cell_type": "code",
   "execution_count": 35,
   "metadata": {},
   "outputs": [],
   "source": [
    "Test_xgb = []\n",
    "for i in range(1,df_test_xgb.shape[0]):\n",
    "    Test_xgb.append(df_test_xgb.iloc[i].close)"
   ]
  },
  {
   "cell_type": "code",
   "execution_count": 36,
   "metadata": {},
   "outputs": [
    {
     "data": {
      "image/png": "[encoded data removed]",
      "text/plain": [
       "<Figure size 640x480 with 1 Axes>"
      ]
     },
     "metadata": {},
     "output_type": "display_data"
    }
   ],
   "source": [
    "plt.plot(Test_xgb, color='blue', label='Precio real')  # Línea azul\n",
    "plt.plot(predict_xgb_test, color='red', label='Predicción')   # Línea roja\n",
    "plt.title('Gráfico comparación predicción/precio real')\n",
    "plt.xlabel('Índice')\n",
    "plt.ylabel('Valor')\n",
    "plt.legend() \n",
    "\n",
    "plt.show()"
   ]
  },
  {
   "cell_type": "code",
   "execution_count": 37,
   "metadata": {},
   "outputs": [
    {
     "name": "stdout",
     "output_type": "stream",
     "text": [
      "El error medio absoluto es: 1.0809644047934774\n",
      "El error medio porcentualemente es: 0.7275942239749614\n"
     ]
    }
   ],
   "source": [
    "suma = 0\n",
    "n = len(Test_xgb)\n",
    "mae = np.mean(np.abs(Test_xgb - predict_xgb_test))\n",
    "print(\"El error medio absoluto es: \" + str(mae))\n",
    "for i in range(0,n):\n",
    "    suma = abs(predict_xgb_test[i] - Test_xgb[i])/Test_xgb[i] +  suma\n",
    "error_medio = suma/n\n",
    "emp = error_medio*100 # error medio en porcentaje\n",
    "print(\"El error medio porcentualemente es: \" + str(emp))"
   ]
  },
  {
   "cell_type": "markdown",
   "metadata": {},
   "source": [
    "# Entrenamos un modelo de red neuronal"
   ]
  },
  {
   "cell_type": "code",
   "execution_count": 38,
   "metadata": {},
   "outputs": [],
   "source": [
    "from tensorflow.keras.models import Sequential\n",
    "from tensorflow.keras.layers import Dense, Flatten"
   ]
  },
  {
   "cell_type": "code",
   "execution_count": 42,
   "metadata": {},
   "outputs": [
    {
     "data": {
      "text/plain": [
       "array([[[ 3.1 ,  3.35,  3.1 ,  3.25, 75.  ],\n",
       "        [ 3.25,  3.25,  3.15,  3.15, 75.  ],\n",
       "        [ 3.15,  3.3 ,  3.15,  3.3 , 75.  ],\n",
       "        ...,\n",
       "        [ 3.25,  3.25,  3.2 ,  3.25, 75.  ],\n",
       "        [ 3.25,  3.3 ,  3.15,  3.25, 75.  ],\n",
       "        [ 3.25,  3.4 ,  3.25,  3.4 , 75.  ]],\n",
       "\n",
       "       [[ 3.25,  3.25,  3.15,  3.15, 75.  ],\n",
       "        [ 3.15,  3.3 ,  3.15,  3.3 , 75.  ],\n",
       "        [ 3.3 ,  3.3 ,  3.15,  3.3 , 75.  ],\n",
       "        ...,\n",
       "        [ 3.25,  3.3 ,  3.15,  3.25, 75.  ],\n",
       "        [ 3.25,  3.4 ,  3.25,  3.4 , 75.  ],\n",
       "        [ 3.35,  3.55,  3.35,  3.45, 75.  ]],\n",
       "\n",
       "       [[ 3.15,  3.3 ,  3.15,  3.3 , 75.  ],\n",
       "        [ 3.3 ,  3.3 ,  3.15,  3.3 , 75.  ],\n",
       "        [ 3.25,  3.25,  3.2 ,  3.25, 75.  ],\n",
       "        ...,\n",
       "        [ 3.25,  3.4 ,  3.25,  3.4 , 75.  ],\n",
       "        [ 3.35,  3.55,  3.35,  3.45, 75.  ],\n",
       "        [ 3.45,  3.7 ,  3.4 ,  3.7 , 75.  ]],\n",
       "\n",
       "       ...,\n",
       "\n",
       "       [[22.1 , 22.4 , 21.95, 22.2 , 57.  ],\n",
       "        [22.2 , 22.25, 21.9 , 22.15, 57.  ],\n",
       "        [22.15, 22.2 , 21.95, 22.1 , 57.  ],\n",
       "        ...,\n",
       "        [22.1 , 22.1 , 21.95, 22.  , 57.  ],\n",
       "        [22.  , 22.05, 21.9 , 22.  , 57.  ],\n",
       "        [22.  , 22.1 , 21.9 , 22.  , 57.  ]],\n",
       "\n",
       "       [[22.2 , 22.25, 21.9 , 22.15, 57.  ],\n",
       "        [22.15, 22.2 , 21.95, 22.1 , 57.  ],\n",
       "        [22.1 , 22.2 , 22.  , 22.1 , 57.  ],\n",
       "        ...,\n",
       "        [22.  , 22.05, 21.9 , 22.  , 57.  ],\n",
       "        [22.  , 22.1 , 21.9 , 22.  , 57.  ],\n",
       "        [22.  , 22.05, 21.75, 21.95, 57.  ]],\n",
       "\n",
       "       [[22.15, 22.2 , 21.95, 22.1 , 57.  ],\n",
       "        [22.1 , 22.2 , 22.  , 22.1 , 57.  ],\n",
       "        [22.1 , 22.1 , 21.95, 22.  , 57.  ],\n",
       "        ...,\n",
       "        [22.  , 22.1 , 21.9 , 22.  , 57.  ],\n",
       "        [22.  , 22.05, 21.75, 21.95, 57.  ],\n",
       "        [21.95, 22.1 , 21.9 , 22.05, 64.  ]]])"
      ]
     },
     "execution_count": 42,
     "metadata": {},
     "output_type": "execute_result"
    }
   ],
   "source": [
    "def create_sequences(data, n_steps):\n",
    "    X, y = [], []\n",
    "    for i in range(len(data) - n_steps):\n",
    "        X.append(data[i:i+n_steps])\n",
    "        y.append(data[i+n_steps, 3])  \n",
    "    return np.array(X), np.array(y)\n",
    "df_train_aux = df_train[['open', 'high', 'low', 'close', 'value']].values\n",
    "X_train, y_train= create_sequences(df_train_aux, 7)\n",
    "X_train"
   ]
  },
  {
   "cell_type": "code",
   "execution_count": 43,
   "metadata": {},
   "outputs": [
    {
     "data": {
      "text/plain": [
       "array([[[ 22.1 ,  22.3 ,  22.05,  22.15,  64.  ],\n",
       "        [ 22.15,  22.25,  22.1 ,  22.1 ,  64.  ],\n",
       "        [ 22.1 ,  22.1 ,  22.  ,  22.  ,  64.  ],\n",
       "        ...,\n",
       "        [ 21.95,  22.05,  21.9 ,  22.  ,  64.  ],\n",
       "        [ 22.  ,  22.1 ,  22.  ,  22.05,  64.  ],\n",
       "        [ 22.  ,  22.2 ,  22.  ,  22.05,  64.  ]],\n",
       "\n",
       "       [[ 22.15,  22.25,  22.1 ,  22.1 ,  64.  ],\n",
       "        [ 22.1 ,  22.1 ,  22.  ,  22.  ,  64.  ],\n",
       "        [ 22.  ,  22.  ,  21.9 ,  21.95,  64.  ],\n",
       "        ...,\n",
       "        [ 22.  ,  22.1 ,  22.  ,  22.05,  64.  ],\n",
       "        [ 22.  ,  22.2 ,  22.  ,  22.05,  64.  ],\n",
       "        [ 22.05,  22.15,  22.  ,  22.05,  64.  ]],\n",
       "\n",
       "       [[ 22.1 ,  22.1 ,  22.  ,  22.  ,  64.  ],\n",
       "        [ 22.  ,  22.  ,  21.9 ,  21.95,  64.  ],\n",
       "        [ 21.95,  22.05,  21.9 ,  22.  ,  64.  ],\n",
       "        ...,\n",
       "        [ 22.  ,  22.2 ,  22.  ,  22.05,  64.  ],\n",
       "        [ 22.05,  22.15,  22.  ,  22.05,  64.  ],\n",
       "        [ 22.05,  22.05,  21.95,  22.05,  64.  ]],\n",
       "\n",
       "       ...,\n",
       "\n",
       "       [[150.35, 153.4 , 150.15, 152.95,  66.  ],\n",
       "        [152.95, 153.15, 151.2 , 152.6 ,  66.  ],\n",
       "        [152.6 , 153.25, 151.35, 152.05,  66.  ],\n",
       "        ...,\n",
       "        [153.4 , 153.8 , 152.7 , 153.65,  66.  ],\n",
       "        [153.65, 154.35, 152.85, 153.95,  66.  ],\n",
       "        [153.95, 154.7 , 153.45, 153.75,  66.  ]],\n",
       "\n",
       "       [[152.95, 153.15, 151.2 , 152.6 ,  66.  ],\n",
       "        [152.6 , 153.25, 151.35, 152.05,  66.  ],\n",
       "        [152.05, 155.  , 151.45, 153.4 ,  66.  ],\n",
       "        ...,\n",
       "        [153.65, 154.35, 152.85, 153.95,  66.  ],\n",
       "        [153.95, 154.7 , 153.45, 153.75,  66.  ],\n",
       "        [153.75, 154.1 , 152.3 , 153.3 ,  66.  ]],\n",
       "\n",
       "       [[152.6 , 153.25, 151.35, 152.05,  66.  ],\n",
       "        [152.05, 155.  , 151.45, 153.4 ,  66.  ],\n",
       "        [153.4 , 153.8 , 152.7 , 153.65,  66.  ],\n",
       "        ...,\n",
       "        [153.95, 154.7 , 153.45, 153.75,  66.  ],\n",
       "        [153.75, 154.1 , 152.3 , 153.3 ,  66.  ],\n",
       "        [153.3 , 155.1 , 153.15, 154.95,  66.  ]]])"
      ]
     },
     "execution_count": 43,
     "metadata": {},
     "output_type": "execute_result"
    }
   ],
   "source": [
    "df_vali_aux = df_vali[['open', 'high', 'low', 'close', 'value']].values\n",
    "X_vali, y_vali= create_sequences(df_vali_aux, 7)\n",
    "X_vali"
   ]
  },
  {
   "cell_type": "code",
   "execution_count": 44,
   "metadata": {},
   "outputs": [
    {
     "name": "stderr",
     "output_type": "stream",
     "text": [
      "C:\\Users\\raulg\\AppData\\Local\\Packages\\PythonSoftwareFoundation.Python.3.10_qbz5n2kfra8p0\\LocalCache\\local-packages\\Python310\\site-packages\\keras\\src\\layers\\core\\dense.py:87: UserWarning: Do not pass an `input_shape`/`input_dim` argument to a layer. When using Sequential models, prefer using an `Input(shape)` object as the first layer in the model instead.\n",
      "  super().__init__(activity_regularizer=activity_regularizer, **kwargs)\n"
     ]
    }
   ],
   "source": [
    "model = Sequential()\n",
    "model.add(Dense(64, activation='relu', input_shape=(35,)))\n",
    "model.add(Dense(64, activation='relu'))\n",
    "model.add(Dense(1))\n",
    "\n",
    "model.compile(optimizer='adam', loss='mape')"
   ]
  },
  {
   "cell_type": "code",
   "execution_count": 45,
   "metadata": {},
   "outputs": [],
   "source": [
    "X_trainR = []\n",
    "for i in X_train:\n",
    "    aux = []\n",
    "    for r in range(0, 7):\n",
    "        for elem in i[r]:\n",
    "            aux.append(elem)\n",
    "    X_trainR.append(aux)       \n",
    "X_trainR = np.array(X_trainR)  "
   ]
  },
  {
   "cell_type": "code",
   "execution_count": 46,
   "metadata": {},
   "outputs": [],
   "source": [
    "X_valiR = []\n",
    "for i in X_vali:\n",
    "    aux = []\n",
    "    for r in range(0, 7):\n",
    "        for elem in i[r]:\n",
    "            aux.append(elem)\n",
    "    X_valiR.append(aux)  \n",
    "X_valiR = np.array(X_valiR)"
   ]
  },
  {
   "cell_type": "code",
   "execution_count": 68,
   "metadata": {},
   "outputs": [
    {
     "name": "stdout",
     "output_type": "stream",
     "text": [
      "Epoch 1/15\n",
      "\u001b[1m266/266\u001b[0m \u001b[32m━━━━━━━━━━━━━━━━━━━━\u001b[0m\u001b[37m\u001b[0m \u001b[1m0s\u001b[0m 740us/step - loss: 6.9314 - val_loss: 1.8932\n",
      "Epoch 2/15\n",
      "\u001b[1m266/266\u001b[0m \u001b[32m━━━━━━━━━━━━━━━━━━━━\u001b[0m\u001b[37m\u001b[0m \u001b[1m0s\u001b[0m 645us/step - loss: 9.3237 - val_loss: 2.0216\n",
      "Epoch 3/15\n",
      "\u001b[1m266/266\u001b[0m \u001b[32m━━━━━━━━━━━━━━━━━━━━\u001b[0m\u001b[37m\u001b[0m \u001b[1m0s\u001b[0m 638us/step - loss: 9.0503 - val_loss: 1.9744\n",
      "Epoch 4/15\n",
      "\u001b[1m266/266\u001b[0m \u001b[32m━━━━━━━━━━━━━━━━━━━━\u001b[0m\u001b[37m\u001b[0m \u001b[1m0s\u001b[0m 664us/step - loss: 8.6505 - val_loss: 2.0600\n",
      "Epoch 5/15\n",
      "\u001b[1m266/266\u001b[0m \u001b[32m━━━━━━━━━━━━━━━━━━━━\u001b[0m\u001b[37m\u001b[0m \u001b[1m0s\u001b[0m 642us/step - loss: 8.5233 - val_loss: 2.0660\n",
      "Epoch 6/15\n",
      "\u001b[1m266/266\u001b[0m \u001b[32m━━━━━━━━━━━━━━━━━━━━\u001b[0m\u001b[37m\u001b[0m \u001b[1m0s\u001b[0m 638us/step - loss: 8.4861 - val_loss: 2.0549\n",
      "Epoch 7/15\n",
      "\u001b[1m266/266\u001b[0m \u001b[32m━━━━━━━━━━━━━━━━━━━━\u001b[0m\u001b[37m\u001b[0m \u001b[1m0s\u001b[0m 645us/step - loss: 8.3797 - val_loss: 2.0860\n",
      "Epoch 8/15\n",
      "\u001b[1m266/266\u001b[0m \u001b[32m━━━━━━━━━━━━━━━━━━━━\u001b[0m\u001b[37m\u001b[0m \u001b[1m0s\u001b[0m 643us/step - loss: 8.3766 - val_loss: 2.0272\n",
      "Epoch 9/15\n",
      "\u001b[1m266/266\u001b[0m \u001b[32m━━━━━━━━━━━━━━━━━━━━\u001b[0m\u001b[37m\u001b[0m \u001b[1m0s\u001b[0m 645us/step - loss: 8.3572 - val_loss: 2.0110\n",
      "Epoch 10/15\n",
      "\u001b[1m266/266\u001b[0m \u001b[32m━━━━━━━━━━━━━━━━━━━━\u001b[0m\u001b[37m\u001b[0m \u001b[1m0s\u001b[0m 655us/step - loss: 8.2491 - val_loss: 1.9541\n",
      "Epoch 11/15\n",
      "\u001b[1m266/266\u001b[0m \u001b[32m━━━━━━━━━━━━━━━━━━━━\u001b[0m\u001b[37m\u001b[0m \u001b[1m0s\u001b[0m 657us/step - loss: 8.1564 - val_loss: 1.9796\n",
      "Epoch 12/15\n",
      "\u001b[1m266/266\u001b[0m \u001b[32m━━━━━━━━━━━━━━━━━━━━\u001b[0m\u001b[37m\u001b[0m \u001b[1m0s\u001b[0m 645us/step - loss: 8.1795 - val_loss: 1.9324\n",
      "Epoch 13/15\n",
      "\u001b[1m266/266\u001b[0m \u001b[32m━━━━━━━━━━━━━━━━━━━━\u001b[0m\u001b[37m\u001b[0m \u001b[1m0s\u001b[0m 653us/step - loss: 8.0735 - val_loss: 1.9600\n",
      "Epoch 14/15\n",
      "\u001b[1m266/266\u001b[0m \u001b[32m━━━━━━━━━━━━━━━━━━━━\u001b[0m\u001b[37m\u001b[0m \u001b[1m0s\u001b[0m 645us/step - loss: 8.1174 - val_loss: 1.9325\n",
      "Epoch 15/15\n",
      "\u001b[1m266/266\u001b[0m \u001b[32m━━━━━━━━━━━━━━━━━━━━\u001b[0m\u001b[37m\u001b[0m \u001b[1m0s\u001b[0m 657us/step - loss: 8.0970 - val_loss: 1.9191\n"
     ]
    }
   ],
   "source": [
    "history = model.fit(X_trainR, y_train, epochs=15, batch_size=96, validation_data=(X_valiR, y_vali), shuffle=False)"
   ]
  },
  {
   "cell_type": "code",
   "execution_count": 69,
   "metadata": {},
   "outputs": [
    {
     "name": "stdout",
     "output_type": "stream",
     "text": [
      "\u001b[1m228/228\u001b[0m \u001b[32m━━━━━━━━━━━━━━━━━━━━\u001b[0m\u001b[37m\u001b[0m \u001b[1m0s\u001b[0m 410us/step\n"
     ]
    },
    {
     "data": {
      "text/plain": [
       "array([[ 21.96148 ],\n",
       "       [ 21.963373],\n",
       "       [ 21.938267],\n",
       "       ...,\n",
       "       [149.84203 ],\n",
       "       [149.78084 ],\n",
       "       [150.06564 ]], dtype=float32)"
      ]
     },
     "execution_count": 69,
     "metadata": {},
     "output_type": "execute_result"
    }
   ],
   "source": [
    "y_pred = model.predict(X_valiR)\n",
    "y_pred"
   ]
  },
  {
   "cell_type": "code",
   "execution_count": 70,
   "metadata": {},
   "outputs": [
    {
     "data": {
      "image/png": "[encoded data removed]",
      "text/plain": [
       "<Figure size 640x480 with 1 Axes>"
      ]
     },
     "metadata": {},
     "output_type": "display_data"
    }
   ],
   "source": [
    "Valirpr = []\n",
    "for i in range(7,df_vali.shape[0]):\n",
    "    Valirpr.append(df_vali.iloc[i].close)\n",
    "plt.plot(Valirpr, color='blue', label='Precio real')  # Línea azul\n",
    "plt.plot(y_pred, color='red', label='Predicción')   # Línea roja\n",
    "plt.title('Gráfico comparación predicción/precio real')\n",
    "plt.xlabel('Índice')\n",
    "plt.ylabel('Valor')\n",
    "plt.legend() \n",
    "\n",
    "plt.show()"
   ]
  },
  {
   "cell_type": "code",
   "execution_count": 71,
   "metadata": {},
   "outputs": [],
   "source": [
    "y_pred_aux=[]\n",
    "for elem in y_pred:\n",
    "    y_pred_aux.append(elem[0])\n",
    "y_pred_aux = np.array(y_pred_aux)"
   ]
  },
  {
   "cell_type": "code",
   "execution_count": 72,
   "metadata": {},
   "outputs": [
    {
     "name": "stdout",
     "output_type": "stream",
     "text": [
      "El error medio absoluto es: 1.8470270352761555\n",
      "El error medio porcentualemente es: 1.9190751726714725\n"
     ]
    }
   ],
   "source": [
    "suma = 0\n",
    "n = len(Valirpr)\n",
    "mae = np.mean(np.abs(Valirpr - y_pred_aux))\n",
    "print(\"El error medio absoluto es: \" + str(mae))\n",
    "for i in range(0,n):\n",
    "    suma = abs(y_pred_aux[i] - Valirpr[i])/Valirpr[i] +  suma\n",
    "error_medio = suma/n\n",
    "emp = error_medio*100 # error medio en porcentaje\n",
    "print(\"El error medio porcentualemente es: \" + str(emp))"
   ]
  },
  {
   "cell_type": "code",
   "execution_count": 73,
   "metadata": {},
   "outputs": [
    {
     "data": {
      "text/plain": [
       "array([[[154.35, 154.5 , 153.45, 154.1 ,  66.  ],\n",
       "        [154.1 , 154.8 , 153.25, 154.15,  66.  ],\n",
       "        [154.15, 154.3 , 153.25, 154.15,  66.  ],\n",
       "        ...,\n",
       "        [155.05, 155.4 , 153.1 , 153.3 ,  66.  ],\n",
       "        [153.3 , 153.7 , 152.45, 153.05,  66.  ],\n",
       "        [153.05, 153.25, 145.75, 147.5 ,  66.  ]],\n",
       "\n",
       "       [[154.1 , 154.8 , 153.25, 154.15,  66.  ],\n",
       "        [154.15, 154.3 , 153.25, 154.15,  66.  ],\n",
       "        [154.15, 155.2 , 153.  , 155.05,  66.  ],\n",
       "        ...,\n",
       "        [153.3 , 153.7 , 152.45, 153.05,  66.  ],\n",
       "        [153.05, 153.25, 145.75, 147.5 ,  66.  ],\n",
       "        [147.5 , 148.65, 145.35, 146.95,  66.  ]],\n",
       "\n",
       "       [[154.15, 154.3 , 153.25, 154.15,  66.  ],\n",
       "        [154.15, 155.2 , 153.  , 155.05,  66.  ],\n",
       "        [155.05, 155.4 , 153.1 , 153.3 ,  66.  ],\n",
       "        ...,\n",
       "        [153.05, 153.25, 145.75, 147.5 ,  66.  ],\n",
       "        [147.5 , 148.65, 145.35, 146.95,  66.  ],\n",
       "        [146.95, 148.8 , 145.15, 148.  ,  66.  ]],\n",
       "\n",
       "       ...,\n",
       "\n",
       "       [[143.3 , 145.1 , 142.7 , 145.05,  49.  ],\n",
       "        [145.05, 145.55, 142.45, 144.15,  49.  ],\n",
       "        [144.15, 144.4 , 141.2 , 142.8 ,  49.  ],\n",
       "        ...,\n",
       "        [143.8 , 143.95, 142.4 , 143.35,  49.  ],\n",
       "        [143.35, 143.9 , 142.35, 142.95,  49.  ],\n",
       "        [142.95, 144.1 , 142.25, 143.75,  49.  ]],\n",
       "\n",
       "       [[145.05, 145.55, 142.45, 144.15,  49.  ],\n",
       "        [144.15, 144.4 , 141.2 , 142.8 ,  49.  ],\n",
       "        [142.8 , 143.95, 141.75, 143.8 ,  49.  ],\n",
       "        ...,\n",
       "        [143.35, 143.9 , 142.35, 142.95,  49.  ],\n",
       "        [142.95, 144.1 , 142.25, 143.75,  49.  ],\n",
       "        [143.75, 144.5 , 143.35, 144.5 ,  49.  ]],\n",
       "\n",
       "       [[144.15, 144.4 , 141.2 , 142.8 ,  49.  ],\n",
       "        [142.8 , 143.95, 141.75, 143.8 ,  49.  ],\n",
       "        [143.8 , 143.95, 142.4 , 143.35,  49.  ],\n",
       "        ...,\n",
       "        [142.95, 144.1 , 142.25, 143.75,  49.  ],\n",
       "        [143.75, 144.5 , 143.35, 144.5 ,  49.  ],\n",
       "        [144.5 , 144.7 , 144.05, 144.25,  49.  ]]])"
      ]
     },
     "execution_count": 73,
     "metadata": {},
     "output_type": "execute_result"
    }
   ],
   "source": [
    "df_test_aux = df_test[['open', 'high', 'low', 'close', 'value']].values\n",
    "X_test, y_test= create_sequences(df_test_aux, 7)\n",
    "X_test"
   ]
  },
  {
   "cell_type": "code",
   "execution_count": 74,
   "metadata": {},
   "outputs": [],
   "source": [
    "X_testR = []\n",
    "for i in X_test:\n",
    "    aux = []\n",
    "    for r in range(0, 7):\n",
    "        for elem in i[r]:\n",
    "            aux.append(elem)\n",
    "    X_testR.append(aux)       \n",
    "X_testR = np.array(X_testR) "
   ]
  },
  {
   "cell_type": "code",
   "execution_count": 75,
   "metadata": {},
   "outputs": [
    {
     "name": "stdout",
     "output_type": "stream",
     "text": [
      "\u001b[1m114/114\u001b[0m \u001b[32m━━━━━━━━━━━━━━━━━━━━\u001b[0m\u001b[37m\u001b[0m \u001b[1m0s\u001b[0m 398us/step\n"
     ]
    },
    {
     "data": {
      "text/plain": [
       "array([[148.19263],\n",
       "       [146.25795],\n",
       "       [145.45125],\n",
       "       ...,\n",
       "       [140.18896],\n",
       "       [140.55719],\n",
       "       [140.77406]], dtype=float32)"
      ]
     },
     "execution_count": 75,
     "metadata": {},
     "output_type": "execute_result"
    }
   ],
   "source": [
    "y_predT = model.predict(X_testR)\n",
    "y_predT"
   ]
  },
  {
   "cell_type": "code",
   "execution_count": 76,
   "metadata": {},
   "outputs": [
    {
     "data": {
      "image/png": "[encoded data removed]",
      "text/plain": [
       "<Figure size 640x480 with 1 Axes>"
      ]
     },
     "metadata": {},
     "output_type": "display_data"
    }
   ],
   "source": [
    "Testrpr = []\n",
    "for i in range(7,df_test.shape[0]):\n",
    "    Testrpr.append(df_test.iloc[i].close)\n",
    "plt.plot(Testrpr, color='blue', label='Precio real')  # Línea azul\n",
    "plt.plot(y_predT, color='red', label='Predicción')   # Línea roja\n",
    "plt.title('Gráfico comparación predicción/precio real')\n",
    "plt.xlabel('Índice')\n",
    "plt.ylabel('Valor')\n",
    "plt.legend() \n",
    "\n",
    "plt.show()"
   ]
  },
  {
   "cell_type": "code",
   "execution_count": 77,
   "metadata": {},
   "outputs": [],
   "source": [
    "y_pred_auxT=[]\n",
    "for elem in y_predT:\n",
    "    y_pred_auxT.append(elem[0])\n",
    "y_pred_auxT = np.array(y_pred_auxT)"
   ]
  },
  {
   "cell_type": "code",
   "execution_count": 78,
   "metadata": {},
   "outputs": [
    {
     "name": "stdout",
     "output_type": "stream",
     "text": [
      "El error medio absoluto es: 3.445156334360265\n",
      "El error medio porcentualemente es: 2.2684517879652524\n"
     ]
    }
   ],
   "source": [
    "suma = 0\n",
    "n = len(Testrpr)\n",
    "mae = np.mean(np.abs(Testrpr - y_pred_auxT))\n",
    "print(\"El error medio absoluto es: \" + str(mae))\n",
    "for i in range(0,n):\n",
    "    suma = abs(y_pred_auxT[i] - Testrpr[i])/Testrpr[i] +  suma\n",
    "error_medio = suma/n\n",
    "emp = error_medio*100 # error medio en porcentaje\n",
    "print(\"El error medio porcentualemente es: \" + str(emp))"
   ]
  },
  {
   "cell_type": "code",
   "execution_count": 79,
   "metadata": {},
   "outputs": [
    {
     "name": "stderr",
     "output_type": "stream",
     "text": [
      "WARNING:absl:You are saving your model as an HDF5 file via `model.save()` or `keras.saving.save_model(model)`. This file format is considered legacy. We recommend using instead the native Keras format, e.g. `model.save('my_model.keras')` or `keras.saving.save_model(model, 'my_model.keras')`. \n"
     ]
    }
   ],
   "source": [
    "model.save('mi_modelo_densoIMC3_96.h5')"
   ]
  },
  {
   "cell_type": "markdown",
   "metadata": {},
   "source": [
    "# Entrenamos un modelo LSTM"
   ]
  },
  {
   "cell_type": "code",
   "execution_count": 80,
   "metadata": {},
   "outputs": [],
   "source": [
    "from tensorflow.keras.layers import LSTM"
   ]
  },
  {
   "cell_type": "code",
   "execution_count": 81,
   "metadata": {},
   "outputs": [
    {
     "name": "stderr",
     "output_type": "stream",
     "text": [
      "C:\\Users\\raulg\\AppData\\Local\\Packages\\PythonSoftwareFoundation.Python.3.10_qbz5n2kfra8p0\\LocalCache\\local-packages\\Python310\\site-packages\\keras\\src\\layers\\rnn\\rnn.py:204: UserWarning: Do not pass an `input_shape`/`input_dim` argument to a layer. When using Sequential models, prefer using an `Input(shape)` object as the first layer in the model instead.\n",
      "  super().__init__(**kwargs)\n"
     ]
    }
   ],
   "source": [
    "modelLSTM = Sequential()\n",
    "modelLSTM.add(LSTM(64, activation='relu', input_shape=(7, 5)))\n",
    "modelLSTM.add(Dense(1))"
   ]
  },
  {
   "cell_type": "code",
   "execution_count": 82,
   "metadata": {},
   "outputs": [],
   "source": [
    "modelLSTM.compile(optimizer='adam', loss='mape')"
   ]
  },
  {
   "cell_type": "code",
   "execution_count": 105,
   "metadata": {},
   "outputs": [
    {
     "name": "stdout",
     "output_type": "stream",
     "text": [
      "Epoch 1/10\n",
      "\u001b[1m797/797\u001b[0m \u001b[32m━━━━━━━━━━━━━━━━━━━━\u001b[0m\u001b[37m\u001b[0m \u001b[1m1s\u001b[0m 2ms/step - loss: 2.3043 - val_loss: 0.9875\n",
      "Epoch 2/10\n",
      "\u001b[1m797/797\u001b[0m \u001b[32m━━━━━━━━━━━━━━━━━━━━\u001b[0m\u001b[37m\u001b[0m \u001b[1m1s\u001b[0m 2ms/step - loss: 2.1313 - val_loss: 0.9200\n",
      "Epoch 3/10\n",
      "\u001b[1m797/797\u001b[0m \u001b[32m━━━━━━━━━━━━━━━━━━━━\u001b[0m\u001b[37m\u001b[0m \u001b[1m1s\u001b[0m 2ms/step - loss: 2.1358 - val_loss: 0.8856\n",
      "Epoch 4/10\n",
      "\u001b[1m797/797\u001b[0m \u001b[32m━━━━━━━━━━━━━━━━━━━━\u001b[0m\u001b[37m\u001b[0m \u001b[1m1s\u001b[0m 2ms/step - loss: 2.0954 - val_loss: 0.8836\n",
      "Epoch 5/10\n",
      "\u001b[1m797/797\u001b[0m \u001b[32m━━━━━━━━━━━━━━━━━━━━\u001b[0m\u001b[37m\u001b[0m \u001b[1m1s\u001b[0m 2ms/step - loss: 2.0387 - val_loss: 0.8717\n",
      "Epoch 6/10\n",
      "\u001b[1m797/797\u001b[0m \u001b[32m━━━━━━━━━━━━━━━━━━━━\u001b[0m\u001b[37m\u001b[0m \u001b[1m1s\u001b[0m 2ms/step - loss: 1.9906 - val_loss: 0.8602\n",
      "Epoch 7/10\n",
      "\u001b[1m797/797\u001b[0m \u001b[32m━━━━━━━━━━━━━━━━━━━━\u001b[0m\u001b[37m\u001b[0m \u001b[1m1s\u001b[0m 2ms/step - loss: 1.9338 - val_loss: 0.8512\n",
      "Epoch 8/10\n",
      "\u001b[1m797/797\u001b[0m \u001b[32m━━━━━━━━━━━━━━━━━━━━\u001b[0m\u001b[37m\u001b[0m \u001b[1m1s\u001b[0m 2ms/step - loss: 1.9547 - val_loss: 0.8413\n",
      "Epoch 9/10\n",
      "\u001b[1m797/797\u001b[0m \u001b[32m━━━━━━━━━━━━━━━━━━━━\u001b[0m\u001b[37m\u001b[0m \u001b[1m1s\u001b[0m 1ms/step - loss: 1.9203 - val_loss: 0.8236\n",
      "Epoch 10/10\n",
      "\u001b[1m797/797\u001b[0m \u001b[32m━━━━━━━━━━━━━━━━━━━━\u001b[0m\u001b[37m\u001b[0m \u001b[1m1s\u001b[0m 2ms/step - loss: 1.8748 - val_loss: 0.8199\n"
     ]
    }
   ],
   "source": [
    "historyLSTM = modelLSTM.fit(X_train, y_train, epochs=10, batch_size=32, validation_data=(X_vali, y_vali), shuffle=False)"
   ]
  },
  {
   "cell_type": "code",
   "execution_count": 106,
   "metadata": {},
   "outputs": [
    {
     "name": "stdout",
     "output_type": "stream",
     "text": [
      "\u001b[1m228/228\u001b[0m \u001b[32m━━━━━━━━━━━━━━━━━━━━\u001b[0m\u001b[37m\u001b[0m \u001b[1m0s\u001b[0m 731us/step\n"
     ]
    },
    {
     "data": {
      "text/plain": [
       "array([[ 22.094797],\n",
       "       [ 22.08658 ],\n",
       "       [ 22.04664 ],\n",
       "       ...,\n",
       "       [153.30365 ],\n",
       "       [152.54953 ],\n",
       "       [154.16309 ]], dtype=float32)"
      ]
     },
     "execution_count": 106,
     "metadata": {},
     "output_type": "execute_result"
    }
   ],
   "source": [
    "y_predLSTM = modelLSTM.predict(X_vali)\n",
    "y_predLSTM"
   ]
  },
  {
   "cell_type": "code",
   "execution_count": 107,
   "metadata": {},
   "outputs": [
    {
     "data": {
      "image/png": "[encoded data removed]",
      "text/plain": [
       "<Figure size 640x480 with 1 Axes>"
      ]
     },
     "metadata": {},
     "output_type": "display_data"
    }
   ],
   "source": [
    "Valirpr = []\n",
    "for i in range(7,df_vali.shape[0]):\n",
    "    Valirpr.append(df_vali.iloc[i].close)\n",
    "plt.plot(Valirpr, color='blue', label='Precio real')  # Línea azul\n",
    "plt.plot(y_predLSTM, color='red', label='Predicción')   # Línea roja\n",
    "plt.title('Gráfico comparación predicción/precio real')\n",
    "plt.xlabel('Índice')\n",
    "plt.ylabel('Valor')\n",
    "plt.legend() \n",
    "\n",
    "plt.show()"
   ]
  },
  {
   "cell_type": "code",
   "execution_count": 108,
   "metadata": {},
   "outputs": [],
   "source": [
    "y_pred_auxLSTM=[]\n",
    "for elem in y_predLSTM:\n",
    "    y_pred_auxLSTM.append(elem[0])\n",
    "y_pred_auxLSTM = np.array(y_pred_auxLSTM)"
   ]
  },
  {
   "cell_type": "code",
   "execution_count": 109,
   "metadata": {},
   "outputs": [
    {
     "name": "stdout",
     "output_type": "stream",
     "text": [
      "El error medio absoluto es: 0.712026604776056\n",
      "El error medio porcentualemente es: 0.819897234589571\n"
     ]
    }
   ],
   "source": [
    "suma = 0\n",
    "n = len(Valirpr)\n",
    "mae = np.mean(np.abs(Valirpr - y_pred_auxLSTM))\n",
    "print(\"El error medio absoluto es: \" + str(mae))\n",
    "for i in range(0,n):\n",
    "    suma = abs(y_pred_auxLSTM[i] - Valirpr[i])/Valirpr[i] +  suma\n",
    "error_medio = suma/n\n",
    "emp = error_medio*100 # error medio en porcentaje\n",
    "print(\"El error medio porcentualemente es: \" + str(emp))"
   ]
  },
  {
   "cell_type": "markdown",
   "metadata": {},
   "source": [
    "Probamos los datos de test"
   ]
  },
  {
   "cell_type": "code",
   "execution_count": 110,
   "metadata": {},
   "outputs": [
    {
     "data": {
      "text/plain": [
       "array([[[154.35, 154.5 , 153.45, 154.1 ,  66.  ],\n",
       "        [154.1 , 154.8 , 153.25, 154.15,  66.  ],\n",
       "        [154.15, 154.3 , 153.25, 154.15,  66.  ],\n",
       "        ...,\n",
       "        [155.05, 155.4 , 153.1 , 153.3 ,  66.  ],\n",
       "        [153.3 , 153.7 , 152.45, 153.05,  66.  ],\n",
       "        [153.05, 153.25, 145.75, 147.5 ,  66.  ]],\n",
       "\n",
       "       [[154.1 , 154.8 , 153.25, 154.15,  66.  ],\n",
       "        [154.15, 154.3 , 153.25, 154.15,  66.  ],\n",
       "        [154.15, 155.2 , 153.  , 155.05,  66.  ],\n",
       "        ...,\n",
       "        [153.3 , 153.7 , 152.45, 153.05,  66.  ],\n",
       "        [153.05, 153.25, 145.75, 147.5 ,  66.  ],\n",
       "        [147.5 , 148.65, 145.35, 146.95,  66.  ]],\n",
       "\n",
       "       [[154.15, 154.3 , 153.25, 154.15,  66.  ],\n",
       "        [154.15, 155.2 , 153.  , 155.05,  66.  ],\n",
       "        [155.05, 155.4 , 153.1 , 153.3 ,  66.  ],\n",
       "        ...,\n",
       "        [153.05, 153.25, 145.75, 147.5 ,  66.  ],\n",
       "        [147.5 , 148.65, 145.35, 146.95,  66.  ],\n",
       "        [146.95, 148.8 , 145.15, 148.  ,  66.  ]],\n",
       "\n",
       "       ...,\n",
       "\n",
       "       [[143.3 , 145.1 , 142.7 , 145.05,  49.  ],\n",
       "        [145.05, 145.55, 142.45, 144.15,  49.  ],\n",
       "        [144.15, 144.4 , 141.2 , 142.8 ,  49.  ],\n",
       "        ...,\n",
       "        [143.8 , 143.95, 142.4 , 143.35,  49.  ],\n",
       "        [143.35, 143.9 , 142.35, 142.95,  49.  ],\n",
       "        [142.95, 144.1 , 142.25, 143.75,  49.  ]],\n",
       "\n",
       "       [[145.05, 145.55, 142.45, 144.15,  49.  ],\n",
       "        [144.15, 144.4 , 141.2 , 142.8 ,  49.  ],\n",
       "        [142.8 , 143.95, 141.75, 143.8 ,  49.  ],\n",
       "        ...,\n",
       "        [143.35, 143.9 , 142.35, 142.95,  49.  ],\n",
       "        [142.95, 144.1 , 142.25, 143.75,  49.  ],\n",
       "        [143.75, 144.5 , 143.35, 144.5 ,  49.  ]],\n",
       "\n",
       "       [[144.15, 144.4 , 141.2 , 142.8 ,  49.  ],\n",
       "        [142.8 , 143.95, 141.75, 143.8 ,  49.  ],\n",
       "        [143.8 , 143.95, 142.4 , 143.35,  49.  ],\n",
       "        ...,\n",
       "        [142.95, 144.1 , 142.25, 143.75,  49.  ],\n",
       "        [143.75, 144.5 , 143.35, 144.5 ,  49.  ],\n",
       "        [144.5 , 144.7 , 144.05, 144.25,  49.  ]]])"
      ]
     },
     "execution_count": 110,
     "metadata": {},
     "output_type": "execute_result"
    }
   ],
   "source": [
    "df_test_aux = df_test[['open', 'high', 'low', 'close', 'value']].values\n",
    "X_test, y_test = create_sequences(df_test_aux, 7)\n",
    "X_test"
   ]
  },
  {
   "cell_type": "code",
   "execution_count": 111,
   "metadata": {},
   "outputs": [
    {
     "name": "stdout",
     "output_type": "stream",
     "text": [
      "\u001b[1m114/114\u001b[0m \u001b[32m━━━━━━━━━━━━━━━━━━━━\u001b[0m\u001b[37m\u001b[0m \u001b[1m0s\u001b[0m 717us/step\n"
     ]
    },
    {
     "data": {
      "text/plain": [
       "array([[147.34106],\n",
       "       [146.66447],\n",
       "       [146.82817],\n",
       "       ...,\n",
       "       [142.96208],\n",
       "       [143.79219],\n",
       "       [143.81099]], dtype=float32)"
      ]
     },
     "execution_count": 111,
     "metadata": {},
     "output_type": "execute_result"
    }
   ],
   "source": [
    "y_predLSTMt = modelLSTM.predict(X_test)\n",
    "y_predLSTMt"
   ]
  },
  {
   "cell_type": "code",
   "execution_count": 112,
   "metadata": {},
   "outputs": [
    {
     "data": {
      "image/png": "[encoded data removed]",
      "text/plain": [
       "<Figure size 640x480 with 1 Axes>"
      ]
     },
     "metadata": {},
     "output_type": "display_data"
    }
   ],
   "source": [
    "Testrpr = []\n",
    "for i in range(7,df_test.shape[0]):\n",
    "    Testrpr.append(df_test.iloc[i].close)\n",
    "plt.plot(Testrpr, color='blue', label='Precio real')  # Línea azul\n",
    "plt.plot(y_predLSTMt, color='red', label='Predicción')   # Línea roja\n",
    "plt.title('Gráfico comparación predicción/precio real')\n",
    "plt.xlabel('Índice')\n",
    "plt.ylabel('Valor')\n",
    "plt.legend() \n",
    "\n",
    "plt.show()"
   ]
  },
  {
   "cell_type": "code",
   "execution_count": 113,
   "metadata": {},
   "outputs": [],
   "source": [
    "y_pred_auxLSTM=[]\n",
    "for elem in y_predLSTMt:\n",
    "    y_pred_auxLSTM.append(elem[0])\n",
    "y_pred_auxLSTM = np.array(y_pred_auxLSTM)"
   ]
  },
  {
   "cell_type": "code",
   "execution_count": 114,
   "metadata": {},
   "outputs": [
    {
     "name": "stdout",
     "output_type": "stream",
     "text": [
      "El error medio absoluto es: 1.0241226192087853\n",
      "El error medio porcentualemente es: 0.6811081848669893\n"
     ]
    }
   ],
   "source": [
    "suma = 0\n",
    "n = len(Testrpr)\n",
    "mae = np.mean(np.abs(Testrpr - y_pred_auxLSTM))\n",
    "print(\"El error medio absoluto es: \" + str(mae))\n",
    "for i in range(0,n):\n",
    "    suma = abs(y_pred_auxLSTM[i] - Testrpr[i])/Testrpr[i] +  suma\n",
    "error_medio = suma/n\n",
    "emp = error_medio*100 # error medio en porcentaje\n",
    "print(\"El error medio porcentualemente es: \" + str(emp))"
   ]
  },
  {
   "cell_type": "code",
   "execution_count": 116,
   "metadata": {},
   "outputs": [
    {
     "name": "stderr",
     "output_type": "stream",
     "text": [
      "WARNING:absl:You are saving your model as an HDF5 file via `model.save()` or `keras.saving.save_model(model)`. This file format is considered legacy. We recommend using instead the native Keras format, e.g. `model.save('my_model.keras')` or `keras.saving.save_model(model, 'my_model.keras')`. \n"
     ]
    }
   ],
   "source": [
    "modelLSTM.save('mi_modelo_lstmICM10_32.h5')"
   ]
  }
 ],
 "metadata": {
  "kernelspec": {
   "display_name": "Python 3",
   "language": "python",
   "name": "python3"
  },
  "language_info": {
   "codemirror_mode": {
    "name": "ipython",
    "version": 3
   },
   "file_extension": ".py",
   "mimetype": "text/x-python",
   "name": "python",
   "nbconvert_exporter": "python",
   "pygments_lexer": "ipython3",
   "version": "3.10.11"
  }
 },
 "nbformat": 4,
 "nbformat_minor": 2
}
