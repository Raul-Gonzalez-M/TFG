{
 "cells": [
  {
   "cell_type": "code",
   "execution_count": 1,
   "metadata": {},
   "outputs": [],
   "source": [
    "import pandas as pd\n",
    "import numpy as np\n",
    "import matplotlib.pyplot as plt \n",
    "import random"
   ]
  },
  {
   "cell_type": "code",
   "execution_count": 2,
   "metadata": {},
   "outputs": [
    {
     "name": "stdout",
     "output_type": "stream",
     "text": [
      "<class 'pandas.core.frame.DataFrame'>\n",
      "RangeIndex: 36400 entries, 0 to 36399\n",
      "Data columns (total 5 columns):\n",
      " #   Column  Non-Null Count  Dtype  \n",
      "---  ------  --------------  -----  \n",
      " 0   date    36400 non-null  object \n",
      " 1   open    36400 non-null  float64\n",
      " 2   high    36400 non-null  float64\n",
      " 3   low     36400 non-null  float64\n",
      " 4   close   36400 non-null  float64\n",
      "dtypes: float64(4), object(1)\n",
      "memory usage: 1.4+ MB\n",
      "None\n"
     ]
    }
   ],
   "source": [
    "df = pd.read_csv('SOLUSTDAtas_tratado.csv')\n",
    "print(df.info())"
   ]
  },
  {
   "cell_type": "markdown",
   "metadata": {},
   "source": [
    "# Preprocesado de Datos"
   ]
  },
  {
   "cell_type": "code",
   "execution_count": 3,
   "metadata": {},
   "outputs": [],
   "source": [
    "tamanio = df.shape[0]"
   ]
  },
  {
   "cell_type": "code",
   "execution_count": 4,
   "metadata": {},
   "outputs": [],
   "source": [
    "df_train = df.copy().loc[0:int(tamanio*0.7)]\n",
    "df_vali = df.copy().loc[int(tamanio*0.7 + 1):int(tamanio*0.9)]\n",
    "df_test = df.copy().loc[int(tamanio*0.9 + 1):tamanio]"
   ]
  },
  {
   "cell_type": "markdown",
   "metadata": {},
   "source": [
    "# Desarrollo del modelo"
   ]
  },
  {
   "cell_type": "code",
   "execution_count": 9,
   "metadata": {},
   "outputs": [],
   "source": [
    "class RegresionSimbolica:\n",
    "    def __init__(self, funcionOptimizacion: callable, operations: list[list], maxSize: int, minSize: int, n : int): # n es la cantidad de horas anteriores que se tienen en cuenta\n",
    "        self.funcionOptimizacion = funcionOptimizacion\n",
    "        self.operations = operations  # La primera lista contendrá las operaciones más prioritarias y así progresivamente\n",
    "        self.maxSize = maxSize\n",
    "        self.minSize = minSize\n",
    "        self.genes: list[list] = []\n",
    "        self.n = n\n",
    "        pass\n",
    "    \n",
    "    \n",
    "    def __create_priv(self, r : int, numGenes: int):\n",
    "        genes = []\n",
    "        for j in range(random.randint(2, numGenes)):   # Se genera un número aleatorio de genes entre 2 y numGenes\n",
    "            aux = []\n",
    "            aux.append(random.randint(0, r))\n",
    "            for i in range(random.randint(self.minSize, self.maxSize - 1)):\n",
    "                numLO = random.randint(0, len(self.operations) - 1)\n",
    "                aux.append(self.operations[numLO][random.randint(0, len(self.operations[numLO]) - 1)])\n",
    "                aux.append(random.randint(0, r))\n",
    "            genes.append(aux)\n",
    "        return genes\n",
    "            \n",
    "    \n",
    "    \n",
    "    def create(self, numGenes: int):\n",
    "        if numGenes > 0:\n",
    "            self.genes = self.__create_priv(self, 4*self.n, numGenes)\n",
    "        else:\n",
    "            raise Exception(\"El número de genes no puede ser menor que 1\")\n",
    "        \n",
    "    def __fitness(self, valores: list[float], valor_esperado: float, candidato: list):\n",
    "        candidato_aux = []\n",
    "        for i in range(0, len(candidato), 2):\n",
    "            candidato_aux.append(valores[candidato[i]])\n",
    "            candidato_aux.append(candidato[i+1])\n",
    "        \n",
    "            \n",
    "        \n",
    "    def display(self,  candidato: list):\n",
    "        print(' '.join(map(str, [i for i in candidato])))\n",
    "        \n",
    "    def mutate(self):\n",
    "        self.maxSize\n",
    "\n",
    "        "
   ]
  },
  {
   "cell_type": "code",
   "execution_count": 10,
   "metadata": {},
   "outputs": [],
   "source": [
    "def funcion_optimizacion_dummy():\n",
    "    pass\n",
    "\n",
    "operations = [\n",
    "    ['+', '-'],    # Primera lista de operaciones prioritarias\n",
    "    ['*', '/'],    # Segunda lista de operaciones con menor prioridad\n",
    "]\n",
    "\n",
    "# Declarar el objeto\n",
    "objeto_regresion = RegresionSimbolica(\n",
    "    funcionOptimizacion=funcion_optimizacion_dummy,  # Pasas tu función de optimización\n",
    "    operations=operations,                          # Pasas la lista de operaciones\n",
    "    maxSize=10,                                     # Tamaño máximo del cromosoma\n",
    "    minSize=3,                                      # Tamaño mínimo del cromosoma\n",
    "    n=7                                             # Cantidad de horas anteriores a considerar\n",
    ")"
   ]
  },
  {
   "cell_type": "code",
   "execution_count": 11,
   "metadata": {},
   "outputs": [
    {
     "name": "stdout",
     "output_type": "stream",
     "text": [
      "1 + 3 * 5\n"
     ]
    }
   ],
   "source": [
    "objeto_regresion.display([1, '+', 3, '*', 5])"
   ]
  }
 ],
 "metadata": {
  "kernelspec": {
   "display_name": "Python 3",
   "language": "python",
   "name": "python3"
  },
  "language_info": {
   "codemirror_mode": {
    "name": "ipython",
    "version": 3
   },
   "file_extension": ".py",
   "mimetype": "text/x-python",
   "name": "python",
   "nbconvert_exporter": "python",
   "pygments_lexer": "ipython3",
   "version": "3.10.11"
  }
 },
 "nbformat": 4,
 "nbformat_minor": 2
}
