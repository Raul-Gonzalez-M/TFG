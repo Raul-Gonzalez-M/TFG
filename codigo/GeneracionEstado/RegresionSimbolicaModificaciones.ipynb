{
 "cells": [
  {
   "cell_type": "code",
   "execution_count": 1,
   "metadata": {},
   "outputs": [],
   "source": [
    "import pandas as pd\n",
    "import numpy as np\n",
    "\n"
   ]
  },
  {
   "cell_type": "code",
   "execution_count": 2,
   "metadata": {},
   "outputs": [
    {
     "name": "stdout",
     "output_type": "stream",
     "text": [
      "     iteracion      valor                                                gen\n",
      "0          458   1.016758                               10 - 10 + 27 * 5 / 5\n",
      "1         3357   1.106632                                9 / 9 + 27 - 13 / 3\n",
      "2         1811   1.410363                     5 / 17 + 27 - 25 / 2 / 10 * 13\n",
      "3           99   1.503804                             10 - 10 - 13 + 27 + 16\n",
      "4            1   1.505599                             10 + 15 - 10 - 13 + 27\n",
      "..         ...        ...                                                ...\n",
      "462       4148  93.007714                 5 / 25 / 0 + 12 / 27 / 18 * 0 / 16\n",
      "463       4141  94.692984            5 / 25 / 0 + 12 / 27 / 23 / 18 * 0 / 16\n",
      "464       4342  97.230807  9 + 16 - 4 - 23 + 7 / 1 / 24 * 21 * 19 / 21 / ...\n",
      "465       4344  99.198083                 5 - 4 - 7 / 11 + 26 * 14 / 21 / 22\n",
      "466       4347  99.414397                          25 / 0 / 27 / 0 / 16 / 20\n",
      "\n",
      "[467 rows x 3 columns]\n"
     ]
    }
   ],
   "source": [
    "\n",
    "\n",
    "# Carga del archivo CSV\n",
    "df = pd.read_csv(\"resultados_regresionSimbolicaC_it4600.csv\")  # Reemplaza con el nombre correcto\n",
    "\n",
    "# Eliminar filas duplicadas por la columna 'valor'\n",
    "df_sin_duplicados = df.drop_duplicates(subset='valor')\n",
    "\n",
    "# Ordenar por la columna 'valor' de menor a mayor\n",
    "df_ordenado = df_sin_duplicados.sort_values(by='valor', ascending=True)\n",
    "\n",
    "# Reiniciar índice (opcional, solo para limpieza)\n",
    "df_ordenado = df_ordenado.reset_index(drop=True)\n",
    "\n",
    "print(df_ordenado)\n"
   ]
  },
  {
   "cell_type": "code",
   "execution_count": 3,
   "metadata": {},
   "outputs": [
    {
     "name": "stdout",
     "output_type": "stream",
     "text": [
      "['10 - 10 + 27 * 5 / 5', '9 / 9 + 27 - 13 / 3', '5 / 17 + 27 - 25 / 2 / 10 * 13', '10 - 10 - 13 + 27 + 16', '10 + 15 - 10 - 13 + 27', '25 - 0 / 6 + 26 * 1 / 27 / 22', '26 - 3 / 27 + 12 + 2 / 7 - 11', '26 - 3 / 27 - 11 + 12 + 2 / 7', '6 * 26 / 6 - 3 / 24 + 22 / 12', '3 / 5 + 20 - 7 / 8']\n"
     ]
    }
   ],
   "source": [
    "# Suponiendo que la columna que contiene los genes se llama 'gen'\n",
    "top_200_genes = df_ordenado['gen'].head(200).tolist()\n",
    "\n",
    "# Mostrar los primeros 10 por si querés verificar\n",
    "print(top_200_genes[:10])\n"
   ]
  },
  {
   "cell_type": "code",
   "execution_count": null,
   "metadata": {},
   "outputs": [],
   "source": [
    "with open(\"estado_generado2.txt\", \"w\") as f:\n",
    "    for gen in top_200_genes:\n",
    "        f.write(f\"{gen}\\n\")\n"
   ]
  }
 ],
 "metadata": {
  "kernelspec": {
   "display_name": "Python 3",
   "language": "python",
   "name": "python3"
  },
  "language_info": {
   "codemirror_mode": {
    "name": "ipython",
    "version": 3
   },
   "file_extension": ".py",
   "mimetype": "text/x-python",
   "name": "python",
   "nbconvert_exporter": "python",
   "pygments_lexer": "ipython3",
   "version": "3.9.0"
  }
 },
 "nbformat": 4,
 "nbformat_minor": 2
}
