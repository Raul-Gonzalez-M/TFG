{
 "cells": [
  {
   "cell_type": "code",
   "execution_count": 1,
   "metadata": {},
   "outputs": [],
   "source": [
    "import pandas as pd\n",
    "import numpy as np\n",
    "\n"
   ]
  },
  {
   "cell_type": "code",
   "execution_count": 2,
   "metadata": {},
   "outputs": [
    {
     "name": "stdout",
     "output_type": "stream",
     "text": [
      "     iteracion       valor                                                gen\n",
      "0          458    1.016758                               10 - 10 + 27 * 5 / 5\n",
      "1         3357    1.106632                                9 / 9 + 27 - 13 / 3\n",
      "2         4601    1.176994                             27 + 14 / 21 - 25 / 23\n",
      "3         4618    1.407822                             27 / 21 - 25 / 23 + 25\n",
      "4         1811    1.410363                     5 / 17 + 27 - 25 / 2 / 10 * 13\n",
      "..         ...         ...                                                ...\n",
      "641       5366  179.553468                    10 + 4 - 11 / 17 - 18 / 25 + 11\n",
      "642       5087  185.865383  12 - 17 - 5 / 9 + 14 / 18 - 22 + 1 + 26 + 7 * ...\n",
      "643       5304  186.438230                 0 / 3 / 16 + 10 * 5 / 19 / 26 - 15\n",
      "644       5086  194.407742  24 + 2 + 15 / 7 - 6 / 9 + 12 - 22 - 8 / 20 * 6...\n",
      "645       5307  275.453510  15 - 26 / 26 * 13 + 27 / 15 - 18 * 15 / 10 / 2...\n",
      "\n",
      "[646 rows x 3 columns]\n"
     ]
    }
   ],
   "source": [
    "\n",
    "\n",
    "# Carga del archivo CSV\n",
    "df = pd.read_csv(\"resultados_regresionSimbolicaC_it5600.csv\")  # Reemplaza con el nombre correcto\n",
    "\n",
    "# Eliminar filas duplicadas por la columna 'valor'\n",
    "df_sin_duplicados = df.drop_duplicates(subset='valor')\n",
    "\n",
    "# Ordenar por la columna 'valor' de menor a mayor\n",
    "df_ordenado = df_sin_duplicados.sort_values(by='valor', ascending=True)\n",
    "\n",
    "# Reiniciar índice (opcional, solo para limpieza)\n",
    "df_ordenado = df_ordenado.reset_index(drop=True)\n",
    "\n",
    "print(df_ordenado)\n"
   ]
  },
  {
   "cell_type": "code",
   "execution_count": 3,
   "metadata": {},
   "outputs": [
    {
     "name": "stdout",
     "output_type": "stream",
     "text": [
      "['10 - 10 + 27 * 5 / 5', '9 / 9 + 27 - 13 / 3', '27 + 14 / 21 - 25 / 23', '27 / 21 - 25 / 23 + 25', '5 / 17 + 27 - 25 / 2 / 10 * 13', '10 - 10 - 13 + 27 + 16', '10 + 15 - 10 - 13 + 27', '25 - 0 / 6 + 26 * 1 / 27 / 22', '26 - 3 / 27 + 12 + 2 / 7 - 11', '26 - 3 / 27 - 11 + 12 + 2 / 7']\n"
     ]
    }
   ],
   "source": [
    "# Suponiendo que la columna que contiene los genes se llama 'gen'\n",
    "top_200_genes = df_ordenado['gen'].head(200).tolist()\n",
    "\n",
    "# Mostrar los primeros 10 por si querés verificar\n",
    "print(top_200_genes[:10])\n"
   ]
  },
  {
   "cell_type": "code",
   "execution_count": 4,
   "metadata": {},
   "outputs": [],
   "source": [
    "with open(\"estado_generado2.txt\", \"w\") as f:\n",
    "    for gen in top_200_genes:\n",
    "        f.write(f\"{gen}\\n\")\n"
   ]
  }
 ],
 "metadata": {
  "kernelspec": {
   "display_name": "Python 3",
   "language": "python",
   "name": "python3"
  },
  "language_info": {
   "codemirror_mode": {
    "name": "ipython",
    "version": 3
   },
   "file_extension": ".py",
   "mimetype": "text/x-python",
   "name": "python",
   "nbconvert_exporter": "python",
   "pygments_lexer": "ipython3",
   "version": "3.9.0"
  }
 },
 "nbformat": 4,
 "nbformat_minor": 2
}
