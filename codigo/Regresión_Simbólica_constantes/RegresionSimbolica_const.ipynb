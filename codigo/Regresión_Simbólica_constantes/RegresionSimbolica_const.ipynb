{
 "cells": [
  {
   "cell_type": "code",
   "execution_count": 2,
   "metadata": {},
   "outputs": [],
   "source": [
    "import pandas as pd\n",
    "import numpy as np\n",
    "import matplotlib.pyplot as plt \n",
    "import random"
   ]
  },
  {
   "cell_type": "code",
   "execution_count": 3,
   "metadata": {},
   "outputs": [
    {
     "name": "stdout",
     "output_type": "stream",
     "text": [
      "<class 'pandas.core.frame.DataFrame'>\n",
      "RangeIndex: 36400 entries, 0 to 36399\n",
      "Data columns (total 5 columns):\n",
      " #   Column  Non-Null Count  Dtype  \n",
      "---  ------  --------------  -----  \n",
      " 0   date    36400 non-null  object \n",
      " 1   open    36400 non-null  float64\n",
      " 2   high    36400 non-null  float64\n",
      " 3   low     36400 non-null  float64\n",
      " 4   close   36400 non-null  float64\n",
      "dtypes: float64(4), object(1)\n",
      "memory usage: 1.4+ MB\n",
      "None\n"
     ]
    }
   ],
   "source": [
    "df = pd.read_csv('SOLUSTDAtas_tratado.csv')\n",
    "print(df.info())"
   ]
  },
  {
   "cell_type": "markdown",
   "metadata": {},
   "source": [
    "# Preprocesado de Datos"
   ]
  },
  {
   "cell_type": "code",
   "execution_count": 4,
   "metadata": {},
   "outputs": [],
   "source": [
    "tamanio = df.shape[0]"
   ]
  },
  {
   "cell_type": "code",
   "execution_count": 5,
   "metadata": {},
   "outputs": [],
   "source": [
    "NUMHORAS = 7"
   ]
  },
  {
   "cell_type": "code",
   "execution_count": 6,
   "metadata": {},
   "outputs": [],
   "source": [
    "df_train = df.copy().loc[0:int(tamanio*0.7)]\n",
    "df_vali = df.copy().loc[int(tamanio*0.7 + 1):int(tamanio*0.9)]\n",
    "df_test = df.copy().loc[int(tamanio*0.9 + 1):tamanio]"
   ]
  },
  {
   "cell_type": "markdown",
   "metadata": {},
   "source": [
    "# Desarrollo del modelo"
   ]
  },
  {
   "cell_type": "code",
   "execution_count": 7,
   "metadata": {},
   "outputs": [],
   "source": [
    "class position:\n",
    "    def __init__(self, value):\n",
    "        self.value = value\n",
    "    \n",
    "    def getValue(self, valores : list[float]):\n",
    "        return valores[self.value]\n",
    "    \n",
    "    def display(self):\n",
    "        return (\"p\"+ str(self.value))"
   ]
  },
  {
   "cell_type": "code",
   "execution_count": 8,
   "metadata": {},
   "outputs": [],
   "source": [
    "class constant:\n",
    "    def __init__(self, value):\n",
    "        self.value = value\n",
    "    \n",
    "    def getValue(self, valores : list[float]):\n",
    "        return self.value\n",
    "    \n",
    "    def display(self):\n",
    "        return (\"c\"+ str(self.value))"
   ]
  },
  {
   "cell_type": "code",
   "execution_count": 9,
   "metadata": {},
   "outputs": [],
   "source": [
    "def aniadirNum(n:int):\n",
    "        if random.randint(0,2) == 0:\n",
    "            return constant(random.uniform(0.0, 5.0))\n",
    "        else:\n",
    "            return position(random.randrange(0, n))"
   ]
  },
  {
   "cell_type": "code",
   "execution_count": 10,
   "metadata": {},
   "outputs": [],
   "source": [
    "class RegresionSimbolica:\n",
    "    def __init__(self, funcionOptimizacion: callable, operations: list[list], maxSize: int, minSize: int, n : int): # n es la cantidad de horas anteriores que se tienen en cuenta\n",
    "        self.funcionOptimizacion = funcionOptimizacion\n",
    "        self.operations = operations  # La primera lista contendrá las operaciones más prioritarias y así progresivamente\n",
    "        self.maxSize = maxSize\n",
    "        self.minSize = minSize\n",
    "        self.genes: list[list] = []\n",
    "        self.n = n\n",
    "        pass\n",
    "    \n",
    "    def create_gen(self, r : int):\n",
    "        aux = []\n",
    "        aux.append(aniadirNum(r))\n",
    "        for i in range(random.randint(self.minSize, self.maxSize - 1)):\n",
    "            numLO = random.randint(0, len(self.operations) - 1)\n",
    "            aux.append(self.operations[numLO][random.randint(0, len(self.operations[numLO]) - 1)])\n",
    "            aux.append(aniadirNum(r))\n",
    "        return aux\n",
    "    \n",
    "    \n",
    "    def __create_priv(self, r : int, numGenes: int):\n",
    "        genes = []\n",
    "        for j in range(0, numGenes):\n",
    "            aux = self.create_gen(r)\n",
    "            genes.append(aux)\n",
    "        return genes\n",
    "            \n",
    "    def create(self, numGenes: int):\n",
    "        if numGenes > 0:\n",
    "            return self.__create_priv(4*self.n - 1, numGenes)\n",
    "        else:\n",
    "            raise Exception(\"El número de genes no puede ser menor que 1\")\n",
    "        \n",
    "    def __aplica_operacion(self, op, i, j):\n",
    "        if op == '+':\n",
    "            return i + j\n",
    "        elif op == '-':\n",
    "            return i - j\n",
    "        elif op == '*':\n",
    "            return i * j\n",
    "        elif op == '/':\n",
    "            return i / j\n",
    "        elif op == '^':\n",
    "            return i ** j\n",
    "        \n",
    "    def __evaluate(self, valores: list[float], candidato: list):\n",
    "        candidato_aux = []\n",
    "        for i in range(0, len(candidato) - 1, 2):\n",
    "            candidato_aux.append(candidato[i].getValue(valores))\n",
    "            candidato_aux.append(candidato[i+1])\n",
    "        candidato_aux.append(candidato[len(candidato) - 1].getValue(valores))\n",
    "        for categoria_operaciones in self.operations:\n",
    "            j_offset = 0\n",
    "            for j in range(1, len(candidato_aux), 2):\n",
    "                indice = j + j_offset\n",
    "                op = candidato_aux[indice]\n",
    "                if(op in categoria_operaciones):\n",
    "                    op_result = self.__aplica_operacion( op, candidato_aux[indice-1], candidato_aux[indice+1])\n",
    "                    candidato_aux[indice-1] = op_result\n",
    "                    del candidato_aux[indice+1]\n",
    "                    del candidato_aux[indice]\n",
    "                    j_offset = j_offset - 2\n",
    "        return candidato_aux[0]   \n",
    "    \n",
    "    \n",
    "    def fitness2(self, X, y, candidato: list):\n",
    "        valores_generados = []\n",
    "        for elem in X:\n",
    "            valores_generados.append(self.__evaluate(elem, candidato))\n",
    "        return self.funcionOptimizacion(valores_generados, y)\n",
    "               \n",
    "   \n",
    "    def display(self,  candidato: list):\n",
    "        cadena = \"\"\n",
    "        for i in range(0, len(candidato)):\n",
    "            if i % 2 == 1:\n",
    "                cadena = cadena + candidato[i] + ' '\n",
    "            else:\n",
    "                cadena = cadena + candidato[i].display() + ' '\n",
    "        return cadena\n",
    "        \n",
    "    \n",
    "    def mutate2(self, candidato: list):\n",
    "        numberC = (1 + len(candidato)) / 2\n",
    "        if numberC < self.maxSize and random.randint(0,50) == 0:\n",
    "            op_cat = random.randint(0, len(self.operations) - 1)\n",
    "            candidato.append(self.operations[op_cat][random.randint(0, len(self.operations[op_cat]) - 1)])\n",
    "            candidato.append(aniadirNum(4*self.n))\n",
    "            numberC += 2\n",
    "        elif numberC > self.minSize and random.randint(0,50) == 0:\n",
    "            indice = random.randrange(0, len(candidato) - 1)\n",
    "            del candidato[indice]\n",
    "            del candidato[indice]\n",
    "            numberC -= 2\n",
    "        return candidato\n",
    "        \n",
    "        \n",
    "    def run2(self, numGenes, X, y, baremo: float):\n",
    "        num_veces = 0\n",
    "        best = 1000000\n",
    "        candidato_best = []\n",
    "        self.genes = self.create(numGenes)\n",
    "        for i in range (0, len(self.genes)):\n",
    "            value = self.fitness2(X, y, self.genes[i])\n",
    "            if(value < best):\n",
    "                best = value\n",
    "                candidato_best = self.genes[i]\n",
    "        while(best > baremo and num_veces < 100000):\n",
    "            for j in range (0, len(self.genes)):\n",
    "                self.genes[j] = self.mutate2(self.genes[j])\n",
    "            dicc_aux = {}\n",
    "            genes_aux = self.genes.copy()\n",
    "            values_list = []\n",
    "            for r in range (0, len(self.genes)):\n",
    "                value = self.fitness2(X, y, self.genes[r])\n",
    "                values_list.append(value)\n",
    "                dicc_aux[value] = r\n",
    "                if(value < best):\n",
    "                    best = value\n",
    "                    candidato_best = self.genes[r]\n",
    "            values_array = np.array(values_list)\n",
    "            values_array.sort()\n",
    "            indice =  dicc_aux[values_array[values_array.size - 1]]\n",
    "            del self.genes[indice]\n",
    "            aux = self.create_gen(4*self.n - 1)\n",
    "            self.genes.append(aux)\n",
    "            num_veces += 1\n",
    "            print(best)\n",
    "        print(\"El mejor gen tiene un rendimiento de \" + str(best))\n",
    "        self.display(candidato_best)\n",
    "        return (candidato_best, best)\n",
    "    \n",
    "    def runcopy(self, numGenes, X, y, baremo: float):\n",
    "        num_veces = 0\n",
    "        best = 1000000\n",
    "        candidato_best = []\n",
    "        self.genes = self.create(numGenes)\n",
    "        for i in range (0, len(self.genes)):\n",
    "            value = self.fitness2(X, y, self.genes[i])\n",
    "            if(value < best):\n",
    "                best = value\n",
    "                candidato_best = self.genes[i]\n",
    "        while(best > baremo and num_veces < 100000):\n",
    "            for j in range (0, len(self.genes)):\n",
    "                self.genes[j] = self.mutate2(self.genes[j])\n",
    "            dicc_aux = {}\n",
    "            genes_aux = self.genes.copy()\n",
    "            values_list = []\n",
    "            for r in range (0, len(self.genes)):\n",
    "                value = self.fitness2(X, y, self.genes[r])\n",
    "                values_list.append(value)\n",
    "                dicc_aux[value] = r\n",
    "                if(value < best):\n",
    "                    best = value\n",
    "                    candidato_best = self.genes[r]\n",
    "            values_array = np.array(values_list)\n",
    "            values_array.sort()\n",
    "            if(num_veces > 200):\n",
    "                aux = self.genes[dicc_aux[values_array[0]]]\n",
    "                for ind in range(1,20):\n",
    "                    indice =  dicc_aux[values_array[values_array.size - ind]]\n",
    "                    del self.genes[indice]\n",
    "                for rs in range(1,20):\n",
    "                    self.genes.append(aux)\n",
    "            num_veces += 1\n",
    "            print(f\"Vez num:{num_veces}, valor{best}\")\n",
    "        print(\"El mejor gen tiene un rendimiento de \" + str(best))\n",
    "        self.display(candidato_best)\n",
    "        return (candidato_best, best)\n",
    "        "
   ]
  },
  {
   "cell_type": "code",
   "execution_count": 11,
   "metadata": {},
   "outputs": [],
   "source": [
    "def funcion_optimizacion_mape(valores_generados, y):\n",
    "    suma = 0\n",
    "    n = len(valores_generados)\n",
    "    for i in range(0,n):\n",
    "        suma = abs(valores_generados[i] - y[i])/y[i] +  suma\n",
    "    error_medio = suma/n\n",
    "    return error_medio*100 "
   ]
  },
  {
   "cell_type": "code",
   "execution_count": 12,
   "metadata": {},
   "outputs": [],
   "source": [
    "\n",
    "operations = [\n",
    "    ['*', '/'],   # Primera lista de operaciones prioritarias\n",
    "    ['+', '-']    # Segunda lista de operaciones con menor prioridad\n",
    "]\n",
    "\n",
    "# Declarar el objeto\n",
    "objeto_regresion = RegresionSimbolica(\n",
    "    funcionOptimizacion=funcion_optimizacion_mape,  # Pasas tu función de optimización\n",
    "    operations=operations,                          # Pasas la lista de operaciones\n",
    "    maxSize=80,                                     # Tamaño máximo del cromosoma\n",
    "    minSize=3,                                      # Tamaño mínimo del cromosoma\n",
    "    n=NUMHORAS                                             # Cantidad de horas anteriores a considerar\n",
    ")"
   ]
  },
  {
   "cell_type": "code",
   "execution_count": 13,
   "metadata": {},
   "outputs": [
    {
     "data": {
      "text/plain": [
       "'c5 / p8 + p18 * c4.419243880450291 / c2.0143171513018236 - p26 '"
      ]
     },
     "execution_count": 13,
     "metadata": {},
     "output_type": "execute_result"
    }
   ],
   "source": [
    "\n",
    "candidato = [constant(3), '+', position(3), '*', constant(5)]\n",
    "for i in range(0, 300):\n",
    "    objeto_regresion.mutate2(candidato)\n",
    "objeto_regresion.display(candidato)    "
   ]
  },
  {
   "cell_type": "markdown",
   "metadata": {},
   "source": [
    "Preparar X e y"
   ]
  },
  {
   "cell_type": "code",
   "execution_count": 14,
   "metadata": {},
   "outputs": [],
   "source": [
    "X = []\n",
    "y= []\n",
    "for i in range(0, df_train.shape[0] - NUMHORAS):\n",
    "    aux = []\n",
    "    for r in range(0, NUMHORAS):\n",
    "        aux.append(df_train.iloc[i + r].open)\n",
    "        aux.append(df_train.iloc[i + r].high)\n",
    "        aux.append(df_train.iloc[i + r].low)\n",
    "        aux.append(df_train.iloc[i + r].close)\n",
    "    X.append(aux)\n",
    "    y.append(df_train.iloc[i + NUMHORAS].close)"
   ]
  },
  {
   "cell_type": "code",
   "execution_count": null,
   "metadata": {},
   "outputs": [
    {
     "name": "stdout",
     "output_type": "stream",
     "text": [
      "Vez num:1, valor34.587018465563084\n",
      "Vez num:2, valor34.587018465563084\n",
      "Vez num:3, valor23.69788330224319\n",
      "Vez num:4, valor2.7336003486227485\n",
      "Vez num:5, valor2.7336003486227485\n",
      "Vez num:6, valor2.7336003486227485\n",
      "Vez num:7, valor2.7336003486227485\n",
      "Vez num:8, valor2.7336003486227485\n",
      "Vez num:9, valor2.7336003486227485\n",
      "Vez num:10, valor2.7336003486227485\n",
      "Vez num:11, valor2.7336003486227485\n",
      "Vez num:12, valor2.7336003486227485\n",
      "Vez num:13, valor2.7336003486227485\n",
      "Vez num:14, valor2.7336003486227485\n",
      "Vez num:15, valor2.7336003486227485\n",
      "Vez num:16, valor2.7336003486227485\n",
      "Vez num:17, valor2.7336003486227485\n",
      "Vez num:18, valor2.7336003486227485\n",
      "Vez num:19, valor2.7336003486227485\n",
      "Vez num:20, valor2.7336003486227485\n",
      "Vez num:21, valor2.7336003486227485\n",
      "Vez num:22, valor2.7336003486227485\n",
      "Vez num:23, valor2.7336003486227485\n",
      "Vez num:24, valor2.7336003486227485\n",
      "Vez num:25, valor2.7336003486227485\n",
      "Vez num:26, valor2.7336003486227485\n",
      "Vez num:27, valor2.7336003486227485\n",
      "Vez num:28, valor2.7336003486227485\n",
      "Vez num:29, valor2.7336003486227485\n",
      "Vez num:30, valor2.7336003486227485\n",
      "Vez num:31, valor2.7336003486227485\n",
      "Vez num:32, valor2.7336003486227485\n",
      "Vez num:33, valor2.7336003486227485\n",
      "Vez num:34, valor2.7336003486227485\n",
      "Vez num:35, valor2.7336003486227485\n",
      "Vez num:36, valor2.7336003486227485\n",
      "Vez num:37, valor2.7336003486227485\n",
      "Vez num:38, valor2.7336003486227485\n",
      "Vez num:39, valor2.7336003486227485\n",
      "Vez num:40, valor2.7336003486227485\n",
      "Vez num:41, valor2.7336003486227485\n",
      "Vez num:42, valor2.7336003486227485\n"
     ]
    }
   ],
   "source": [
    "pos = objeto_regresion.runcopy(200, X, y, 0.5)"
   ]
  },
  {
   "cell_type": "code",
   "execution_count": 11,
   "metadata": {},
   "outputs": [
    {
     "data": {
      "text/plain": [
       "([27, '-', 7, '+', 7], 1.0167578391944412)"
      ]
     },
     "execution_count": 11,
     "metadata": {},
     "output_type": "execute_result"
    }
   ],
   "source": [
    "pos"
   ]
  },
  {
   "cell_type": "code",
   "execution_count": null,
   "metadata": {},
   "outputs": [],
   "source": [
    "with open('ecuaciones_const.txt', 'a') as archivo:\n",
    "    archivo.write(str(pos[0]) + \" : \" + str(pos[1]) + \"_nh\" + str(NUMHORAS) + \"\\n\")"
   ]
  }
 ],
 "metadata": {
  "kernelspec": {
   "display_name": "Python 3",
   "language": "python",
   "name": "python3"
  },
  "language_info": {
   "codemirror_mode": {
    "name": "ipython",
    "version": 3
   },
   "file_extension": ".py",
   "mimetype": "text/x-python",
   "name": "python",
   "nbconvert_exporter": "python",
   "pygments_lexer": "ipython3",
   "version": "3.9.0"
  }
 },
 "nbformat": 4,
 "nbformat_minor": 2
}
