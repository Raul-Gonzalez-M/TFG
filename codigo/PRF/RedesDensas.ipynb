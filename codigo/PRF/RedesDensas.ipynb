{
 "cells": [
  {
   "cell_type": "code",
   "execution_count": null,
   "metadata": {},
   "outputs": [],
   "source": [
    "import pandas as pd\n",
    "import numpy as np\n",
    "import tensorflow as tf\n"
   ]
  },
  {
   "cell_type": "code",
   "execution_count": null,
   "metadata": {},
   "outputs": [],
   "source": [
    "tf.config.set_visible_devices([], 'GPU')\n",
    "print(\"Dispositivos tras deshabilitar GPUs:\", tf.config.get_visible_devices())"
   ]
  },
  {
   "cell_type": "code",
   "execution_count": null,
   "metadata": {},
   "outputs": [],
   "source": [
    "df = pd.read_csv('SolAtasIMC_tratado.csv')\n",
    "df.head()"
   ]
  },
  {
   "cell_type": "code",
   "execution_count": null,
   "metadata": {},
   "outputs": [],
   "source": [
    "print(df.info())"
   ]
  },
  {
   "cell_type": "markdown",
   "metadata": {},
   "source": [
    "# Preprocesado de Datos"
   ]
  },
  {
   "cell_type": "code",
   "execution_count": null,
   "metadata": {},
   "outputs": [],
   "source": [
    "tamanio = df.shape[0]"
   ]
  },
  {
   "cell_type": "code",
   "execution_count": null,
   "metadata": {},
   "outputs": [],
   "source": [
    "df_train = df.copy().loc[0:int(tamanio*0.7)]\n",
    "df_train"
   ]
  },
  {
   "cell_type": "code",
   "execution_count": null,
   "metadata": {},
   "outputs": [],
   "source": [
    "df_vali = df.copy().loc[int(tamanio*0.7 + 1):int(tamanio*0.9)]\n",
    "df_vali"
   ]
  },
  {
   "cell_type": "code",
   "execution_count": null,
   "metadata": {},
   "outputs": [],
   "source": [
    "df_test = df.copy().loc[int(tamanio*0.9 + 1):tamanio]\n",
    "df_test"
   ]
  },
  {
   "cell_type": "code",
   "execution_count": null,
   "metadata": {},
   "outputs": [],
   "source": [
    "df_valitest = pd.concat([df_vali, df_test], axis=0)"
   ]
  },
  {
   "cell_type": "markdown",
   "metadata": {},
   "source": [
    "Numero de horas que se utilizan en la predicción"
   ]
  },
  {
   "cell_type": "code",
   "execution_count": null,
   "metadata": {},
   "outputs": [],
   "source": [
    "numhorasconst = 4"
   ]
  },
  {
   "cell_type": "markdown",
   "metadata": {},
   "source": [
    "# Redes neuronales Densas"
   ]
  },
  {
   "cell_type": "code",
   "execution_count": null,
   "metadata": {},
   "outputs": [],
   "source": [
    "from tensorflow.keras.models import Sequential\n",
    "from tensorflow.keras.layers import Dense, Flatten"
   ]
  },
  {
   "cell_type": "code",
   "execution_count": null,
   "metadata": {},
   "outputs": [],
   "source": [
    "print(\"¿GPU detectada?:\", tf.config.list_physical_devices('GPU'))"
   ]
  },
  {
   "cell_type": "code",
   "execution_count": null,
   "metadata": {},
   "outputs": [],
   "source": [
    "print(\"Versión de TensorFlow:\", tf.__version__)"
   ]
  },
  {
   "cell_type": "code",
   "execution_count": null,
   "metadata": {},
   "outputs": [],
   "source": [
    "def create_sequences(data, n_steps):\n",
    "    X, y = [], []\n",
    "    for i in range(len(data) - n_steps):\n",
    "        X.append(data[i:i+n_steps])\n",
    "        y.append(data[i+n_steps, 3])  \n",
    "    return np.array(X), np.array(y)"
   ]
  },
  {
   "cell_type": "code",
   "execution_count": null,
   "metadata": {},
   "outputs": [],
   "source": [
    "def preparar_datos(df, numhoras):\n",
    "    data = df[['open', 'high', 'low', 'close', 'value']].values\n",
    "    X, y = create_sequences(data, numhoras)\n",
    "    X_aux = []\n",
    "    for i in X:\n",
    "        aux = []\n",
    "        for r in range(0, numhoras):\n",
    "            for elem in i[r]:\n",
    "                aux.append(elem)\n",
    "        X_aux.append(aux)       \n",
    "    X_aux = np.array(X_aux) \n",
    "    return X_aux, y"
   ]
  },
  {
   "cell_type": "code",
   "execution_count": null,
   "metadata": {},
   "outputs": [],
   "source": [
    "def evalRedDensa(ytest, y_pred):\n",
    "    y_pred = y_pred.flatten()\n",
    "    suma = 0\n",
    "    n = len(y_pred)\n",
    "    for i in range(0,n):\n",
    "        suma = abs(y_pred[i] - ytest[i])/ytest[i] +  suma\n",
    "    error_medio = suma/n\n",
    "    emp = error_medio*100 # error medio en porcentaje\n",
    "    return emp"
   ]
  },
  {
   "cell_type": "code",
   "execution_count": null,
   "metadata": {},
   "outputs": [],
   "source": [
    "strategy = tf.distribute.MirroredStrategy()\n",
    "print(f\"Número de GPUs detectadas: {strategy.num_replicas_in_sync}\")"
   ]
  },
  {
   "cell_type": "code",
   "execution_count": null,
   "metadata": {},
   "outputs": [],
   "source": [
    "def opti_redes_densas_multi_gpu(epoch_array, batch_array, numhoras, X_train, y_train, X_vali, y_vali, X_test, y_test):\n",
    "    best = 100\n",
    "    epoch_best = 0\n",
    "    bacth_best = 0\n",
    "    best_model = None\n",
    "    training_results = []\n",
    "\n",
    "    for e in epoch_array:\n",
    "        for b in batch_array:\n",
    "            best_value_of_the25 = 100\n",
    "            best_model_of_the25 = None\n",
    "            #with tf.device('/CPU:0'):\n",
    "            for m in range(15): # Número de veces que se entrena cada modelo\n",
    "                with strategy.scope():\n",
    "                    model = Sequential()\n",
    "                    model.add(Dense(64, activation='relu', input_shape=(numhoras * 5,)))\n",
    "                    model.add(Dense(64, activation='relu'))\n",
    "                    model.add(Dense(1))\n",
    "                    model.compile(optimizer='adam', loss='mape')\n",
    "\n",
    "                    history = model.fit(X_train, y_train, epochs=e, batch_size=b, validation_data=(X_vali, y_vali), shuffle=False)\n",
    "                y_pred = model.predict(X_test)\n",
    "                valor = evalRedDensa(y_test, y_pred)\n",
    "\n",
    "                if valor < best_value_of_the25:\n",
    "                    best_value_of_the25 = valor\n",
    "                    best_model_of_the25 = model\n",
    "\n",
    "            print(f\"Epoch: {e}, Batch size: {b}, Value: {best_value_of_the25}\")\n",
    "            \n",
    "            training_results.append({\"epoch\": e, \n",
    "                                      \"batch_size\": b, \n",
    "                                      \"hours\": numhoras, \n",
    "                                      \"value\": best_value_of_the25})\n",
    "            \n",
    "            with open('pasosdados.txt', 'w') as archivo:\n",
    "                archivo.write(\"epoch: \"+str(e)+\", batch_size:\" + str(b))\n",
    "            if best_value_of_the25 < best:\n",
    "                best = best_value_of_the25\n",
    "                epoch_best = e\n",
    "                bacth_best = b\n",
    "                best_model = best_model_of_the25\n",
    "                if best < 0.75:\n",
    "                    cadena_guardado = f\"ModelosDensosOptiMultiGPUIMC/mi_modelo_densoIMC_Opti_e{e}_b{b}_v{round(best, 3)}_nh{numhoras}\"\n",
    "                    best_model.save(cadena_guardado + \".keras\")\n",
    "\n",
    "    results_df = pd.DataFrame(training_results)\n",
    "    results_df.to_csv(\"densas.csv\", index=False)\n",
    "    print(\"Resultados guardados en 'densas.csv'\")\n",
    "    return epoch_best, bacth_best, best, best_model"
   ]
  },
  {
   "cell_type": "code",
   "execution_count": null,
   "metadata": {},
   "outputs": [],
   "source": [
    "def opti_rd_h(inih, finh, epoch_array, batch_array):\n",
    "    best = 100\n",
    "    epoch_best = 0\n",
    "    bacth_best = 0\n",
    "    h_best = 0\n",
    "    best_model = None\n",
    "    for i in range(inih, finh+1):\n",
    "        Xtrain, ytrain = preparar_datos(df_train, i)\n",
    "        Xvali, yvali = preparar_datos(df_vali, i)\n",
    "        Xtest, ytest = preparar_datos(df_test, i)\n",
    "        valores = opti_redes_densas_multi_gpu(epoch_array, batch_array, i, Xtrain, ytrain, Xvali, yvali, Xtest, ytest)\n",
    "        if valores[2] < best:\n",
    "            best = valores[2]\n",
    "            epoch_best = valores[0]\n",
    "            bacth_best = valores[1]\n",
    "            h_best = i\n",
    "            best_model = valores[3]\n",
    "            cadena_guardado = \"ModelosDensosOptiMoreDataIMCBest/mi_modelo_densoIMC_Opti_e\"+str(epoch_best)+\"_b\"+str(bacth_best)+\"_h\"+str(i)+\"_v\"+str(round(best, 3)+\"_nh\"+str(i))\n",
    "            best_model.save(cadena_guardado+\".keras\")\n",
    "        with open('pasosdadoshoras.txt', 'w') as archivo:\n",
    "            archivo.write(\"horas: \"+str(i)+\"\\n\")\n",
    "    return best, epoch_best, bacth_best, h_best, best_model"
   ]
  },
  {
   "cell_type": "code",
   "execution_count": null,
   "metadata": {},
   "outputs": [],
   "source": [
    "data = opti_rd_h(7, 14, [4, 6, 10, 14, 20, 40], [4, 8, 12, 16, 32, 64, 128, 256])\n",
    "print(data)\n",
    "print(\"Ha terminado\")"
   ]
  }
 ],
 "metadata": {
  "kernelspec": {
   "display_name": "Python 3",
   "language": "python",
   "name": "python3"
  },
  "language_info": {
   "codemirror_mode": {
    "name": "ipython",
    "version": 3
   },
   "file_extension": ".py",
   "mimetype": "text/x-python",
   "name": "python",
   "nbconvert_exporter": "python",
   "pygments_lexer": "ipython3",
   "version": "3.9.0"
  }
 },
 "nbformat": 4,
 "nbformat_minor": 2
}
