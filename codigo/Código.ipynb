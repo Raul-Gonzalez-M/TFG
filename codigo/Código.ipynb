{
 "cells": [
  {
   "cell_type": "markdown",
   "metadata": {},
   "source": [
    "# TFG"
   ]
  },
  {
   "cell_type": "markdown",
   "metadata": {},
   "source": [
    "Primero importamos las librerías"
   ]
  },
  {
   "cell_type": "code",
   "execution_count": 1,
   "metadata": {},
   "outputs": [],
   "source": [
    "import pandas as pd\n",
    "import numpy as np"
   ]
  },
  {
   "cell_type": "markdown",
   "metadata": {},
   "source": [
    "Importamos los datos, e imprimimos los primeros para comprobar que se han importado correctamente."
   ]
  },
  {
   "cell_type": "code",
   "execution_count": 2,
   "metadata": {},
   "outputs": [
    {
     "data": {
      "text/html": [
       "<div>\n",
       "<style scoped>\n",
       "    .dataframe tbody tr th:only-of-type {\n",
       "        vertical-align: middle;\n",
       "    }\n",
       "\n",
       "    .dataframe tbody tr th {\n",
       "        vertical-align: top;\n",
       "    }\n",
       "\n",
       "    .dataframe thead th {\n",
       "        text-align: right;\n",
       "    }\n",
       "</style>\n",
       "<table border=\"1\" class=\"dataframe\">\n",
       "  <thead>\n",
       "    <tr style=\"text-align: right;\">\n",
       "      <th></th>\n",
       "      <th>Date</th>\n",
       "      <th>Price</th>\n",
       "      <th>Open</th>\n",
       "      <th>High</th>\n",
       "      <th>Low</th>\n",
       "      <th>Vol.</th>\n",
       "      <th>Change %</th>\n",
       "    </tr>\n",
       "  </thead>\n",
       "  <tbody>\n",
       "    <tr>\n",
       "      <th>0</th>\n",
       "      <td>May 06, 2023</td>\n",
       "      <td>22.773</td>\n",
       "      <td>22.825</td>\n",
       "      <td>23.224</td>\n",
       "      <td>22.689</td>\n",
       "      <td>5.34M</td>\n",
       "      <td>-0.23%</td>\n",
       "    </tr>\n",
       "    <tr>\n",
       "      <th>1</th>\n",
       "      <td>May 05, 2023</td>\n",
       "      <td>22.825</td>\n",
       "      <td>21.740</td>\n",
       "      <td>23.043</td>\n",
       "      <td>21.656</td>\n",
       "      <td>4.96M</td>\n",
       "      <td>4.99%</td>\n",
       "    </tr>\n",
       "    <tr>\n",
       "      <th>2</th>\n",
       "      <td>May 04, 2023</td>\n",
       "      <td>21.740</td>\n",
       "      <td>22.220</td>\n",
       "      <td>22.472</td>\n",
       "      <td>21.616</td>\n",
       "      <td>3.21M</td>\n",
       "      <td>-2.16%</td>\n",
       "    </tr>\n",
       "    <tr>\n",
       "      <th>3</th>\n",
       "      <td>May 03, 2023</td>\n",
       "      <td>22.220</td>\n",
       "      <td>22.250</td>\n",
       "      <td>22.282</td>\n",
       "      <td>21.254</td>\n",
       "      <td>5.12M</td>\n",
       "      <td>-0.14%</td>\n",
       "    </tr>\n",
       "    <tr>\n",
       "      <th>4</th>\n",
       "      <td>May 02, 2023</td>\n",
       "      <td>22.252</td>\n",
       "      <td>21.952</td>\n",
       "      <td>22.374</td>\n",
       "      <td>21.760</td>\n",
       "      <td>3.28M</td>\n",
       "      <td>1.26%</td>\n",
       "    </tr>\n",
       "  </tbody>\n",
       "</table>\n",
       "</div>"
      ],
      "text/plain": [
       "           Date   Price    Open    High     Low   Vol. Change %\n",
       "0  May 06, 2023  22.773  22.825  23.224  22.689  5.34M   -0.23%\n",
       "1  May 05, 2023  22.825  21.740  23.043  21.656  4.96M    4.99%\n",
       "2  May 04, 2023  21.740  22.220  22.472  21.616  3.21M   -2.16%\n",
       "3  May 03, 2023  22.220  22.250  22.282  21.254  5.12M   -0.14%\n",
       "4  May 02, 2023  22.252  21.952  22.374  21.760  3.28M    1.26%"
      ]
     },
     "execution_count": 2,
     "metadata": {},
     "output_type": "execute_result"
    }
   ],
   "source": [
    "df = pd.read_csv('SolUsdkaggle.csv')\n",
    "df.head()"
   ]
  },
  {
   "cell_type": "markdown",
   "metadata": {},
   "source": [
    "Imprimimos la información de cada característica"
   ]
  },
  {
   "cell_type": "code",
   "execution_count": 3,
   "metadata": {},
   "outputs": [
    {
     "data": {
      "text/html": [
       "<div>\n",
       "<style scoped>\n",
       "    .dataframe tbody tr th:only-of-type {\n",
       "        vertical-align: middle;\n",
       "    }\n",
       "\n",
       "    .dataframe tbody tr th {\n",
       "        vertical-align: top;\n",
       "    }\n",
       "\n",
       "    .dataframe thead th {\n",
       "        text-align: right;\n",
       "    }\n",
       "</style>\n",
       "<table border=\"1\" class=\"dataframe\">\n",
       "  <thead>\n",
       "    <tr style=\"text-align: right;\">\n",
       "      <th></th>\n",
       "      <th>Date</th>\n",
       "      <th>Price</th>\n",
       "      <th>Open</th>\n",
       "      <th>High</th>\n",
       "      <th>Low</th>\n",
       "      <th>Vol.</th>\n",
       "      <th>Change %</th>\n",
       "    </tr>\n",
       "  </thead>\n",
       "  <tbody>\n",
       "    <tr>\n",
       "      <th>994</th>\n",
       "      <td>Jul 22, 2020</td>\n",
       "      <td>1.046</td>\n",
       "      <td>1.004</td>\n",
       "      <td>1.087</td>\n",
       "      <td>1.003</td>\n",
       "      <td>-</td>\n",
       "      <td>4.17%</td>\n",
       "    </tr>\n",
       "    <tr>\n",
       "      <th>995</th>\n",
       "      <td>Jul 21, 2020</td>\n",
       "      <td>1.004</td>\n",
       "      <td>0.874</td>\n",
       "      <td>1.005</td>\n",
       "      <td>0.874</td>\n",
       "      <td>-</td>\n",
       "      <td>-27.41%</td>\n",
       "    </tr>\n",
       "    <tr>\n",
       "      <th>996</th>\n",
       "      <td>Jul 15, 2020</td>\n",
       "      <td>1.383</td>\n",
       "      <td>1.115</td>\n",
       "      <td>1.384</td>\n",
       "      <td>1.115</td>\n",
       "      <td>-</td>\n",
       "      <td>24.00%</td>\n",
       "    </tr>\n",
       "    <tr>\n",
       "      <th>997</th>\n",
       "      <td>Jul 14, 2020</td>\n",
       "      <td>1.115</td>\n",
       "      <td>1.279</td>\n",
       "      <td>1.279</td>\n",
       "      <td>1.114</td>\n",
       "      <td>-</td>\n",
       "      <td>-12.78%</td>\n",
       "    </tr>\n",
       "    <tr>\n",
       "      <th>998</th>\n",
       "      <td>Jul 13, 2020</td>\n",
       "      <td>1.279</td>\n",
       "      <td>1.009</td>\n",
       "      <td>1.279</td>\n",
       "      <td>1.009</td>\n",
       "      <td>-</td>\n",
       "      <td>26.71%</td>\n",
       "    </tr>\n",
       "  </tbody>\n",
       "</table>\n",
       "</div>"
      ],
      "text/plain": [
       "             Date  Price   Open   High    Low Vol. Change %\n",
       "994  Jul 22, 2020  1.046  1.004  1.087  1.003    -    4.17%\n",
       "995  Jul 21, 2020  1.004  0.874  1.005  0.874    -  -27.41%\n",
       "996  Jul 15, 2020  1.383  1.115  1.384  1.115    -   24.00%\n",
       "997  Jul 14, 2020  1.115  1.279  1.279  1.114    -  -12.78%\n",
       "998  Jul 13, 2020  1.279  1.009  1.279  1.009    -   26.71%"
      ]
     },
     "execution_count": 3,
     "metadata": {},
     "output_type": "execute_result"
    }
   ],
   "source": [
    "df.tail()"
   ]
  },
  {
   "cell_type": "code",
   "execution_count": 4,
   "metadata": {},
   "outputs": [
    {
     "name": "stdout",
     "output_type": "stream",
     "text": [
      "<class 'pandas.core.frame.DataFrame'>\n",
      "RangeIndex: 999 entries, 0 to 998\n",
      "Data columns (total 7 columns):\n",
      " #   Column    Non-Null Count  Dtype  \n",
      "---  ------    --------------  -----  \n",
      " 0   Date      999 non-null    object \n",
      " 1   Price     999 non-null    float64\n",
      " 2   Open      999 non-null    float64\n",
      " 3   High      999 non-null    float64\n",
      " 4   Low       999 non-null    float64\n",
      " 5   Vol.      999 non-null    object \n",
      " 6   Change %  999 non-null    object \n",
      "dtypes: float64(4), object(3)\n",
      "memory usage: 54.8+ KB\n",
      "None\n"
     ]
    }
   ],
   "source": [
    "print(df.info())"
   ]
  }
 ],
 "metadata": {
  "kernelspec": {
   "display_name": "Python 3",
   "language": "python",
   "name": "python3"
  },
  "language_info": {
   "codemirror_mode": {
    "name": "ipython",
    "version": 3
   },
   "file_extension": ".py",
   "mimetype": "text/x-python",
   "name": "python",
   "nbconvert_exporter": "python",
   "pygments_lexer": "ipython3",
   "version": "3.10.11"
  }
 },
 "nbformat": 4,
 "nbformat_minor": 2
}
