{
 "cells": [
  {
   "cell_type": "markdown",
   "metadata": {},
   "source": [
    "# TFG"
   ]
  },
  {
   "cell_type": "markdown",
   "metadata": {},
   "source": [
    "Primero importamos las librerías"
   ]
  },
  {
   "cell_type": "code",
   "execution_count": 2,
   "metadata": {},
   "outputs": [],
   "source": [
    "import pandas as pd\n",
    "import numpy as np"
   ]
  },
  {
   "cell_type": "markdown",
   "metadata": {},
   "source": [
    "Importamos los datos, e imprimimos los primeros para comprobar que se han importado correctamente."
   ]
  },
  {
   "cell_type": "code",
   "execution_count": 5,
   "metadata": {},
   "outputs": [
    {
     "data": {
      "text/html": [
       "<div>\n",
       "<style scoped>\n",
       "    .dataframe tbody tr th:only-of-type {\n",
       "        vertical-align: middle;\n",
       "    }\n",
       "\n",
       "    .dataframe tbody tr th {\n",
       "        vertical-align: top;\n",
       "    }\n",
       "\n",
       "    .dataframe thead th {\n",
       "        text-align: right;\n",
       "    }\n",
       "</style>\n",
       "<table border=\"1\" class=\"dataframe\">\n",
       "  <thead>\n",
       "    <tr style=\"text-align: right;\">\n",
       "      <th></th>\n",
       "      <th>Date</th>\n",
       "      <th>Open</th>\n",
       "      <th>High</th>\n",
       "      <th>Low</th>\n",
       "      <th>Close</th>\n",
       "      <th>Adj Close</th>\n",
       "      <th>Volume</th>\n",
       "    </tr>\n",
       "  </thead>\n",
       "  <tbody>\n",
       "    <tr>\n",
       "      <th>0</th>\n",
       "      <td>2020-04-10</td>\n",
       "      <td>0.832005</td>\n",
       "      <td>1.313487</td>\n",
       "      <td>0.694187</td>\n",
       "      <td>0.951054</td>\n",
       "      <td>0.951054</td>\n",
       "      <td>87364276</td>\n",
       "    </tr>\n",
       "    <tr>\n",
       "      <th>1</th>\n",
       "      <td>2020-04-11</td>\n",
       "      <td>0.951054</td>\n",
       "      <td>1.049073</td>\n",
       "      <td>0.765020</td>\n",
       "      <td>0.776819</td>\n",
       "      <td>0.776819</td>\n",
       "      <td>43862444</td>\n",
       "    </tr>\n",
       "    <tr>\n",
       "      <th>2</th>\n",
       "      <td>2020-04-12</td>\n",
       "      <td>0.785448</td>\n",
       "      <td>0.956670</td>\n",
       "      <td>0.762426</td>\n",
       "      <td>0.882507</td>\n",
       "      <td>0.882507</td>\n",
       "      <td>38736897</td>\n",
       "    </tr>\n",
       "    <tr>\n",
       "      <th>3</th>\n",
       "      <td>2020-04-13</td>\n",
       "      <td>0.890760</td>\n",
       "      <td>0.891603</td>\n",
       "      <td>0.773976</td>\n",
       "      <td>0.777832</td>\n",
       "      <td>0.777832</td>\n",
       "      <td>18211285</td>\n",
       "    </tr>\n",
       "    <tr>\n",
       "      <th>4</th>\n",
       "      <td>2020-04-14</td>\n",
       "      <td>0.777832</td>\n",
       "      <td>0.796472</td>\n",
       "      <td>0.628169</td>\n",
       "      <td>0.661925</td>\n",
       "      <td>0.661925</td>\n",
       "      <td>16747614</td>\n",
       "    </tr>\n",
       "  </tbody>\n",
       "</table>\n",
       "</div>"
      ],
      "text/plain": [
       "         Date      Open      High       Low     Close  Adj Close    Volume\n",
       "0  2020-04-10  0.832005  1.313487  0.694187  0.951054   0.951054  87364276\n",
       "1  2020-04-11  0.951054  1.049073  0.765020  0.776819   0.776819  43862444\n",
       "2  2020-04-12  0.785448  0.956670  0.762426  0.882507   0.882507  38736897\n",
       "3  2020-04-13  0.890760  0.891603  0.773976  0.777832   0.777832  18211285\n",
       "4  2020-04-14  0.777832  0.796472  0.628169  0.661925   0.661925  16747614"
      ]
     },
     "execution_count": 5,
     "metadata": {},
     "output_type": "execute_result"
    }
   ],
   "source": [
    "df = pd.read_csv('SolUsd.csv')\n",
    "df.head()"
   ]
  },
  {
   "cell_type": "markdown",
   "metadata": {},
   "source": [
    "Imprimimos la información de cada característica"
   ]
  },
  {
   "cell_type": "code",
   "execution_count": 7,
   "metadata": {},
   "outputs": [
    {
     "data": {
      "text/html": [
       "<div>\n",
       "<style scoped>\n",
       "    .dataframe tbody tr th:only-of-type {\n",
       "        vertical-align: middle;\n",
       "    }\n",
       "\n",
       "    .dataframe tbody tr th {\n",
       "        vertical-align: top;\n",
       "    }\n",
       "\n",
       "    .dataframe thead th {\n",
       "        text-align: right;\n",
       "    }\n",
       "</style>\n",
       "<table border=\"1\" class=\"dataframe\">\n",
       "  <thead>\n",
       "    <tr style=\"text-align: right;\">\n",
       "      <th></th>\n",
       "      <th>Date</th>\n",
       "      <th>Open</th>\n",
       "      <th>High</th>\n",
       "      <th>Low</th>\n",
       "      <th>Close</th>\n",
       "      <th>Adj Close</th>\n",
       "      <th>Volume</th>\n",
       "    </tr>\n",
       "  </thead>\n",
       "  <tbody>\n",
       "    <tr>\n",
       "      <th>710</th>\n",
       "      <td>2022-03-21</td>\n",
       "      <td>88.605003</td>\n",
       "      <td>91.011986</td>\n",
       "      <td>87.207642</td>\n",
       "      <td>88.757202</td>\n",
       "      <td>88.757202</td>\n",
       "      <td>1598537312</td>\n",
       "    </tr>\n",
       "    <tr>\n",
       "      <th>711</th>\n",
       "      <td>2022-03-22</td>\n",
       "      <td>88.741905</td>\n",
       "      <td>93.766808</td>\n",
       "      <td>88.182777</td>\n",
       "      <td>90.512970</td>\n",
       "      <td>90.512970</td>\n",
       "      <td>1879747152</td>\n",
       "    </tr>\n",
       "    <tr>\n",
       "      <th>712</th>\n",
       "      <td>2022-03-23</td>\n",
       "      <td>90.513931</td>\n",
       "      <td>96.051842</td>\n",
       "      <td>89.811462</td>\n",
       "      <td>95.102684</td>\n",
       "      <td>95.102684</td>\n",
       "      <td>2099467745</td>\n",
       "    </tr>\n",
       "    <tr>\n",
       "      <th>713</th>\n",
       "      <td>2022-03-24</td>\n",
       "      <td>95.020905</td>\n",
       "      <td>103.455795</td>\n",
       "      <td>94.065506</td>\n",
       "      <td>102.223694</td>\n",
       "      <td>102.223694</td>\n",
       "      <td>3601646600</td>\n",
       "    </tr>\n",
       "    <tr>\n",
       "      <th>714</th>\n",
       "      <td>2022-03-25</td>\n",
       "      <td>102.301895</td>\n",
       "      <td>104.529800</td>\n",
       "      <td>99.998749</td>\n",
       "      <td>100.423592</td>\n",
       "      <td>100.423592</td>\n",
       "      <td>2283853056</td>\n",
       "    </tr>\n",
       "  </tbody>\n",
       "</table>\n",
       "</div>"
      ],
      "text/plain": [
       "           Date        Open        High        Low       Close   Adj Close  \\\n",
       "710  2022-03-21   88.605003   91.011986  87.207642   88.757202   88.757202   \n",
       "711  2022-03-22   88.741905   93.766808  88.182777   90.512970   90.512970   \n",
       "712  2022-03-23   90.513931   96.051842  89.811462   95.102684   95.102684   \n",
       "713  2022-03-24   95.020905  103.455795  94.065506  102.223694  102.223694   \n",
       "714  2022-03-25  102.301895  104.529800  99.998749  100.423592  100.423592   \n",
       "\n",
       "         Volume  \n",
       "710  1598537312  \n",
       "711  1879747152  \n",
       "712  2099467745  \n",
       "713  3601646600  \n",
       "714  2283853056  "
      ]
     },
     "execution_count": 7,
     "metadata": {},
     "output_type": "execute_result"
    }
   ],
   "source": [
    "df.tail()"
   ]
  },
  {
   "cell_type": "code",
   "execution_count": 6,
   "metadata": {},
   "outputs": [
    {
     "name": "stdout",
     "output_type": "stream",
     "text": [
      "<class 'pandas.core.frame.DataFrame'>\n",
      "RangeIndex: 715 entries, 0 to 714\n",
      "Data columns (total 7 columns):\n",
      " #   Column     Non-Null Count  Dtype  \n",
      "---  ------     --------------  -----  \n",
      " 0   Date       715 non-null    object \n",
      " 1   Open       715 non-null    float64\n",
      " 2   High       715 non-null    float64\n",
      " 3   Low        715 non-null    float64\n",
      " 4   Close      715 non-null    float64\n",
      " 5   Adj Close  715 non-null    float64\n",
      " 6   Volume     715 non-null    int64  \n",
      "dtypes: float64(5), int64(1), object(1)\n",
      "memory usage: 39.2+ KB\n",
      "None\n"
     ]
    }
   ],
   "source": [
    "print(df.info())"
   ]
  }
 ],
 "metadata": {
  "kernelspec": {
   "display_name": "Python 3",
   "language": "python",
   "name": "python3"
  },
  "language_info": {
   "codemirror_mode": {
    "name": "ipython",
    "version": 3
   },
   "file_extension": ".py",
   "mimetype": "text/x-python",
   "name": "python",
   "nbconvert_exporter": "python",
   "pygments_lexer": "ipython3",
   "version": "3.10.11"
  }
 },
 "nbformat": 4,
 "nbformat_minor": 2
}
