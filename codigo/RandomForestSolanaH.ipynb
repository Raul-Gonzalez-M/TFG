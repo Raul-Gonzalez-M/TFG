{
 "cells": [
  {
   "cell_type": "code",
   "execution_count": 2,
   "metadata": {},
   "outputs": [],
   "source": [
    "import pandas as pd\n",
    "import numpy as np\n",
    "import matplotlib.pyplot as plt \n",
    "import seaborn as sea\n",
    "from sklearn.ensemble import RandomForestRegressor\n",
    "from sklearn.datasets import make_regression\n",
    "import xgboost as xgb\n",
    "import tensorflow as tf\n"
   ]
  },
  {
   "cell_type": "code",
   "execution_count": 3,
   "metadata": {},
   "outputs": [
    {
     "data": {
      "text/html": [
       "<div>\n",
       "<style scoped>\n",
       "    .dataframe tbody tr th:only-of-type {\n",
       "        vertical-align: middle;\n",
       "    }\n",
       "\n",
       "    .dataframe tbody tr th {\n",
       "        vertical-align: top;\n",
       "    }\n",
       "\n",
       "    .dataframe thead th {\n",
       "        text-align: right;\n",
       "    }\n",
       "</style>\n",
       "<table border=\"1\" class=\"dataframe\">\n",
       "  <thead>\n",
       "    <tr style=\"text-align: right;\">\n",
       "      <th></th>\n",
       "      <th>date</th>\n",
       "      <th>open</th>\n",
       "      <th>high</th>\n",
       "      <th>low</th>\n",
       "      <th>close</th>\n",
       "    </tr>\n",
       "  </thead>\n",
       "  <tbody>\n",
       "    <tr>\n",
       "      <th>0</th>\n",
       "      <td>2020-08-12 03:00:00</td>\n",
       "      <td>3.10</td>\n",
       "      <td>3.35</td>\n",
       "      <td>3.10</td>\n",
       "      <td>3.25</td>\n",
       "    </tr>\n",
       "    <tr>\n",
       "      <th>1</th>\n",
       "      <td>2020-08-12 04:00:00</td>\n",
       "      <td>3.25</td>\n",
       "      <td>3.25</td>\n",
       "      <td>3.15</td>\n",
       "      <td>3.15</td>\n",
       "    </tr>\n",
       "    <tr>\n",
       "      <th>2</th>\n",
       "      <td>2020-08-12 05:00:00</td>\n",
       "      <td>3.15</td>\n",
       "      <td>3.30</td>\n",
       "      <td>3.15</td>\n",
       "      <td>3.30</td>\n",
       "    </tr>\n",
       "    <tr>\n",
       "      <th>3</th>\n",
       "      <td>2020-08-12 06:00:00</td>\n",
       "      <td>3.30</td>\n",
       "      <td>3.30</td>\n",
       "      <td>3.15</td>\n",
       "      <td>3.30</td>\n",
       "    </tr>\n",
       "    <tr>\n",
       "      <th>4</th>\n",
       "      <td>2020-08-12 07:00:00</td>\n",
       "      <td>3.25</td>\n",
       "      <td>3.25</td>\n",
       "      <td>3.20</td>\n",
       "      <td>3.25</td>\n",
       "    </tr>\n",
       "  </tbody>\n",
       "</table>\n",
       "</div>"
      ],
      "text/plain": [
       "                  date  open  high   low  close\n",
       "0  2020-08-12 03:00:00  3.10  3.35  3.10   3.25\n",
       "1  2020-08-12 04:00:00  3.25  3.25  3.15   3.15\n",
       "2  2020-08-12 05:00:00  3.15  3.30  3.15   3.30\n",
       "3  2020-08-12 06:00:00  3.30  3.30  3.15   3.30\n",
       "4  2020-08-12 07:00:00  3.25  3.25  3.20   3.25"
      ]
     },
     "execution_count": 3,
     "metadata": {},
     "output_type": "execute_result"
    }
   ],
   "source": [
    "df = pd.read_csv('SOLUSTDAtas_tratado.csv')\n",
    "df.head()"
   ]
  },
  {
   "cell_type": "code",
   "execution_count": 4,
   "metadata": {},
   "outputs": [
    {
     "name": "stdout",
     "output_type": "stream",
     "text": [
      "<class 'pandas.core.frame.DataFrame'>\n",
      "RangeIndex: 36400 entries, 0 to 36399\n",
      "Data columns (total 5 columns):\n",
      " #   Column  Non-Null Count  Dtype  \n",
      "---  ------  --------------  -----  \n",
      " 0   date    36400 non-null  object \n",
      " 1   open    36400 non-null  float64\n",
      " 2   high    36400 non-null  float64\n",
      " 3   low     36400 non-null  float64\n",
      " 4   close   36400 non-null  float64\n",
      "dtypes: float64(4), object(1)\n",
      "memory usage: 1.4+ MB\n",
      "None\n"
     ]
    }
   ],
   "source": [
    "print(df.info())"
   ]
  },
  {
   "cell_type": "markdown",
   "metadata": {},
   "source": [
    "# Preprocesado de Datos"
   ]
  },
  {
   "cell_type": "code",
   "execution_count": 5,
   "metadata": {},
   "outputs": [],
   "source": [
    "tamanio = df.shape[0]"
   ]
  },
  {
   "cell_type": "code",
   "execution_count": 6,
   "metadata": {},
   "outputs": [
    {
     "data": {
      "text/html": [
       "<div>\n",
       "<style scoped>\n",
       "    .dataframe tbody tr th:only-of-type {\n",
       "        vertical-align: middle;\n",
       "    }\n",
       "\n",
       "    .dataframe tbody tr th {\n",
       "        vertical-align: top;\n",
       "    }\n",
       "\n",
       "    .dataframe thead th {\n",
       "        text-align: right;\n",
       "    }\n",
       "</style>\n",
       "<table border=\"1\" class=\"dataframe\">\n",
       "  <thead>\n",
       "    <tr style=\"text-align: right;\">\n",
       "      <th></th>\n",
       "      <th>date</th>\n",
       "      <th>open</th>\n",
       "      <th>high</th>\n",
       "      <th>low</th>\n",
       "      <th>close</th>\n",
       "    </tr>\n",
       "  </thead>\n",
       "  <tbody>\n",
       "    <tr>\n",
       "      <th>0</th>\n",
       "      <td>2020-08-12 03:00:00</td>\n",
       "      <td>3.10</td>\n",
       "      <td>3.35</td>\n",
       "      <td>3.10</td>\n",
       "      <td>3.25</td>\n",
       "    </tr>\n",
       "    <tr>\n",
       "      <th>1</th>\n",
       "      <td>2020-08-12 04:00:00</td>\n",
       "      <td>3.25</td>\n",
       "      <td>3.25</td>\n",
       "      <td>3.15</td>\n",
       "      <td>3.15</td>\n",
       "    </tr>\n",
       "    <tr>\n",
       "      <th>2</th>\n",
       "      <td>2020-08-12 05:00:00</td>\n",
       "      <td>3.15</td>\n",
       "      <td>3.30</td>\n",
       "      <td>3.15</td>\n",
       "      <td>3.30</td>\n",
       "    </tr>\n",
       "    <tr>\n",
       "      <th>3</th>\n",
       "      <td>2020-08-12 06:00:00</td>\n",
       "      <td>3.30</td>\n",
       "      <td>3.30</td>\n",
       "      <td>3.15</td>\n",
       "      <td>3.30</td>\n",
       "    </tr>\n",
       "    <tr>\n",
       "      <th>4</th>\n",
       "      <td>2020-08-12 07:00:00</td>\n",
       "      <td>3.25</td>\n",
       "      <td>3.25</td>\n",
       "      <td>3.20</td>\n",
       "      <td>3.25</td>\n",
       "    </tr>\n",
       "    <tr>\n",
       "      <th>...</th>\n",
       "      <td>...</td>\n",
       "      <td>...</td>\n",
       "      <td>...</td>\n",
       "      <td>...</td>\n",
       "      <td>...</td>\n",
       "    </tr>\n",
       "    <tr>\n",
       "      <th>25476</th>\n",
       "      <td>2023-07-11 21:00:00</td>\n",
       "      <td>22.00</td>\n",
       "      <td>22.05</td>\n",
       "      <td>21.90</td>\n",
       "      <td>22.00</td>\n",
       "    </tr>\n",
       "    <tr>\n",
       "      <th>25477</th>\n",
       "      <td>2023-07-11 22:00:00</td>\n",
       "      <td>22.00</td>\n",
       "      <td>22.10</td>\n",
       "      <td>21.90</td>\n",
       "      <td>22.00</td>\n",
       "    </tr>\n",
       "    <tr>\n",
       "      <th>25478</th>\n",
       "      <td>2023-07-11 23:00:00</td>\n",
       "      <td>22.00</td>\n",
       "      <td>22.05</td>\n",
       "      <td>21.75</td>\n",
       "      <td>21.95</td>\n",
       "    </tr>\n",
       "    <tr>\n",
       "      <th>25479</th>\n",
       "      <td>2023-07-12 00:00:00</td>\n",
       "      <td>21.95</td>\n",
       "      <td>22.10</td>\n",
       "      <td>21.90</td>\n",
       "      <td>22.05</td>\n",
       "    </tr>\n",
       "    <tr>\n",
       "      <th>25480</th>\n",
       "      <td>2023-07-12 01:00:00</td>\n",
       "      <td>22.05</td>\n",
       "      <td>22.15</td>\n",
       "      <td>22.00</td>\n",
       "      <td>22.10</td>\n",
       "    </tr>\n",
       "  </tbody>\n",
       "</table>\n",
       "<p>25481 rows × 5 columns</p>\n",
       "</div>"
      ],
      "text/plain": [
       "                      date   open   high    low  close\n",
       "0      2020-08-12 03:00:00   3.10   3.35   3.10   3.25\n",
       "1      2020-08-12 04:00:00   3.25   3.25   3.15   3.15\n",
       "2      2020-08-12 05:00:00   3.15   3.30   3.15   3.30\n",
       "3      2020-08-12 06:00:00   3.30   3.30   3.15   3.30\n",
       "4      2020-08-12 07:00:00   3.25   3.25   3.20   3.25\n",
       "...                    ...    ...    ...    ...    ...\n",
       "25476  2023-07-11 21:00:00  22.00  22.05  21.90  22.00\n",
       "25477  2023-07-11 22:00:00  22.00  22.10  21.90  22.00\n",
       "25478  2023-07-11 23:00:00  22.00  22.05  21.75  21.95\n",
       "25479  2023-07-12 00:00:00  21.95  22.10  21.90  22.05\n",
       "25480  2023-07-12 01:00:00  22.05  22.15  22.00  22.10\n",
       "\n",
       "[25481 rows x 5 columns]"
      ]
     },
     "execution_count": 6,
     "metadata": {},
     "output_type": "execute_result"
    }
   ],
   "source": [
    "df_train = df.copy().loc[0:int(tamanio*0.7)]\n",
    "df_train"
   ]
  },
  {
   "cell_type": "code",
   "execution_count": 7,
   "metadata": {},
   "outputs": [
    {
     "data": {
      "text/html": [
       "<div>\n",
       "<style scoped>\n",
       "    .dataframe tbody tr th:only-of-type {\n",
       "        vertical-align: middle;\n",
       "    }\n",
       "\n",
       "    .dataframe tbody tr th {\n",
       "        vertical-align: top;\n",
       "    }\n",
       "\n",
       "    .dataframe thead th {\n",
       "        text-align: right;\n",
       "    }\n",
       "</style>\n",
       "<table border=\"1\" class=\"dataframe\">\n",
       "  <thead>\n",
       "    <tr style=\"text-align: right;\">\n",
       "      <th></th>\n",
       "      <th>date</th>\n",
       "      <th>open</th>\n",
       "      <th>high</th>\n",
       "      <th>low</th>\n",
       "      <th>close</th>\n",
       "    </tr>\n",
       "  </thead>\n",
       "  <tbody>\n",
       "    <tr>\n",
       "      <th>25481</th>\n",
       "      <td>2023-07-12 02:00:00</td>\n",
       "      <td>22.10</td>\n",
       "      <td>22.30</td>\n",
       "      <td>22.05</td>\n",
       "      <td>22.15</td>\n",
       "    </tr>\n",
       "    <tr>\n",
       "      <th>25482</th>\n",
       "      <td>2023-07-12 03:00:00</td>\n",
       "      <td>22.15</td>\n",
       "      <td>22.25</td>\n",
       "      <td>22.10</td>\n",
       "      <td>22.10</td>\n",
       "    </tr>\n",
       "    <tr>\n",
       "      <th>25483</th>\n",
       "      <td>2023-07-12 04:00:00</td>\n",
       "      <td>22.10</td>\n",
       "      <td>22.10</td>\n",
       "      <td>22.00</td>\n",
       "      <td>22.00</td>\n",
       "    </tr>\n",
       "    <tr>\n",
       "      <th>25484</th>\n",
       "      <td>2023-07-12 05:00:00</td>\n",
       "      <td>22.00</td>\n",
       "      <td>22.00</td>\n",
       "      <td>21.90</td>\n",
       "      <td>21.95</td>\n",
       "    </tr>\n",
       "    <tr>\n",
       "      <th>25485</th>\n",
       "      <td>2023-07-12 06:00:00</td>\n",
       "      <td>21.95</td>\n",
       "      <td>22.05</td>\n",
       "      <td>21.90</td>\n",
       "      <td>22.00</td>\n",
       "    </tr>\n",
       "    <tr>\n",
       "      <th>...</th>\n",
       "      <td>...</td>\n",
       "      <td>...</td>\n",
       "      <td>...</td>\n",
       "      <td>...</td>\n",
       "      <td>...</td>\n",
       "    </tr>\n",
       "    <tr>\n",
       "      <th>32756</th>\n",
       "      <td>2024-05-10 05:00:00</td>\n",
       "      <td>153.65</td>\n",
       "      <td>154.35</td>\n",
       "      <td>152.85</td>\n",
       "      <td>153.95</td>\n",
       "    </tr>\n",
       "    <tr>\n",
       "      <th>32757</th>\n",
       "      <td>2024-05-10 06:00:00</td>\n",
       "      <td>153.95</td>\n",
       "      <td>154.70</td>\n",
       "      <td>153.45</td>\n",
       "      <td>153.75</td>\n",
       "    </tr>\n",
       "    <tr>\n",
       "      <th>32758</th>\n",
       "      <td>2024-05-10 07:00:00</td>\n",
       "      <td>153.75</td>\n",
       "      <td>154.10</td>\n",
       "      <td>152.30</td>\n",
       "      <td>153.30</td>\n",
       "    </tr>\n",
       "    <tr>\n",
       "      <th>32759</th>\n",
       "      <td>2024-05-10 08:00:00</td>\n",
       "      <td>153.30</td>\n",
       "      <td>155.10</td>\n",
       "      <td>153.15</td>\n",
       "      <td>154.95</td>\n",
       "    </tr>\n",
       "    <tr>\n",
       "      <th>32760</th>\n",
       "      <td>2024-05-10 09:00:00</td>\n",
       "      <td>154.95</td>\n",
       "      <td>155.75</td>\n",
       "      <td>154.25</td>\n",
       "      <td>154.35</td>\n",
       "    </tr>\n",
       "  </tbody>\n",
       "</table>\n",
       "<p>7280 rows × 5 columns</p>\n",
       "</div>"
      ],
      "text/plain": [
       "                      date    open    high     low   close\n",
       "25481  2023-07-12 02:00:00   22.10   22.30   22.05   22.15\n",
       "25482  2023-07-12 03:00:00   22.15   22.25   22.10   22.10\n",
       "25483  2023-07-12 04:00:00   22.10   22.10   22.00   22.00\n",
       "25484  2023-07-12 05:00:00   22.00   22.00   21.90   21.95\n",
       "25485  2023-07-12 06:00:00   21.95   22.05   21.90   22.00\n",
       "...                    ...     ...     ...     ...     ...\n",
       "32756  2024-05-10 05:00:00  153.65  154.35  152.85  153.95\n",
       "32757  2024-05-10 06:00:00  153.95  154.70  153.45  153.75\n",
       "32758  2024-05-10 07:00:00  153.75  154.10  152.30  153.30\n",
       "32759  2024-05-10 08:00:00  153.30  155.10  153.15  154.95\n",
       "32760  2024-05-10 09:00:00  154.95  155.75  154.25  154.35\n",
       "\n",
       "[7280 rows x 5 columns]"
      ]
     },
     "execution_count": 7,
     "metadata": {},
     "output_type": "execute_result"
    }
   ],
   "source": [
    "df_vali = df.copy().loc[int(tamanio*0.7 + 1):int(tamanio*0.9)]\n",
    "df_vali"
   ]
  },
  {
   "cell_type": "code",
   "execution_count": 8,
   "metadata": {},
   "outputs": [
    {
     "data": {
      "text/html": [
       "<div>\n",
       "<style scoped>\n",
       "    .dataframe tbody tr th:only-of-type {\n",
       "        vertical-align: middle;\n",
       "    }\n",
       "\n",
       "    .dataframe tbody tr th {\n",
       "        vertical-align: top;\n",
       "    }\n",
       "\n",
       "    .dataframe thead th {\n",
       "        text-align: right;\n",
       "    }\n",
       "</style>\n",
       "<table border=\"1\" class=\"dataframe\">\n",
       "  <thead>\n",
       "    <tr style=\"text-align: right;\">\n",
       "      <th></th>\n",
       "      <th>date</th>\n",
       "      <th>open</th>\n",
       "      <th>high</th>\n",
       "      <th>low</th>\n",
       "      <th>close</th>\n",
       "    </tr>\n",
       "  </thead>\n",
       "  <tbody>\n",
       "    <tr>\n",
       "      <th>32761</th>\n",
       "      <td>2024-05-10 10:00:00</td>\n",
       "      <td>154.35</td>\n",
       "      <td>154.5</td>\n",
       "      <td>153.45</td>\n",
       "      <td>154.10</td>\n",
       "    </tr>\n",
       "    <tr>\n",
       "      <th>32762</th>\n",
       "      <td>2024-05-10 11:00:00</td>\n",
       "      <td>154.10</td>\n",
       "      <td>154.8</td>\n",
       "      <td>153.25</td>\n",
       "      <td>154.15</td>\n",
       "    </tr>\n",
       "    <tr>\n",
       "      <th>32763</th>\n",
       "      <td>2024-05-10 12:00:00</td>\n",
       "      <td>154.15</td>\n",
       "      <td>154.3</td>\n",
       "      <td>153.25</td>\n",
       "      <td>154.15</td>\n",
       "    </tr>\n",
       "    <tr>\n",
       "      <th>32764</th>\n",
       "      <td>2024-05-10 13:00:00</td>\n",
       "      <td>154.15</td>\n",
       "      <td>155.2</td>\n",
       "      <td>153.00</td>\n",
       "      <td>155.05</td>\n",
       "    </tr>\n",
       "    <tr>\n",
       "      <th>32765</th>\n",
       "      <td>2024-05-10 14:00:00</td>\n",
       "      <td>155.05</td>\n",
       "      <td>155.4</td>\n",
       "      <td>153.10</td>\n",
       "      <td>153.30</td>\n",
       "    </tr>\n",
       "    <tr>\n",
       "      <th>...</th>\n",
       "      <td>...</td>\n",
       "      <td>...</td>\n",
       "      <td>...</td>\n",
       "      <td>...</td>\n",
       "      <td>...</td>\n",
       "    </tr>\n",
       "    <tr>\n",
       "      <th>36395</th>\n",
       "      <td>2024-10-08 20:00:00</td>\n",
       "      <td>143.35</td>\n",
       "      <td>143.9</td>\n",
       "      <td>142.35</td>\n",
       "      <td>142.95</td>\n",
       "    </tr>\n",
       "    <tr>\n",
       "      <th>36396</th>\n",
       "      <td>2024-10-08 21:00:00</td>\n",
       "      <td>142.95</td>\n",
       "      <td>144.1</td>\n",
       "      <td>142.25</td>\n",
       "      <td>143.75</td>\n",
       "    </tr>\n",
       "    <tr>\n",
       "      <th>36397</th>\n",
       "      <td>2024-10-08 22:00:00</td>\n",
       "      <td>143.75</td>\n",
       "      <td>144.5</td>\n",
       "      <td>143.35</td>\n",
       "      <td>144.50</td>\n",
       "    </tr>\n",
       "    <tr>\n",
       "      <th>36398</th>\n",
       "      <td>2024-10-08 23:00:00</td>\n",
       "      <td>144.50</td>\n",
       "      <td>144.7</td>\n",
       "      <td>144.05</td>\n",
       "      <td>144.25</td>\n",
       "    </tr>\n",
       "    <tr>\n",
       "      <th>36399</th>\n",
       "      <td>2024-10-09 00:00:00</td>\n",
       "      <td>144.25</td>\n",
       "      <td>144.3</td>\n",
       "      <td>143.55</td>\n",
       "      <td>143.80</td>\n",
       "    </tr>\n",
       "  </tbody>\n",
       "</table>\n",
       "<p>3639 rows × 5 columns</p>\n",
       "</div>"
      ],
      "text/plain": [
       "                      date    open   high     low   close\n",
       "32761  2024-05-10 10:00:00  154.35  154.5  153.45  154.10\n",
       "32762  2024-05-10 11:00:00  154.10  154.8  153.25  154.15\n",
       "32763  2024-05-10 12:00:00  154.15  154.3  153.25  154.15\n",
       "32764  2024-05-10 13:00:00  154.15  155.2  153.00  155.05\n",
       "32765  2024-05-10 14:00:00  155.05  155.4  153.10  153.30\n",
       "...                    ...     ...    ...     ...     ...\n",
       "36395  2024-10-08 20:00:00  143.35  143.9  142.35  142.95\n",
       "36396  2024-10-08 21:00:00  142.95  144.1  142.25  143.75\n",
       "36397  2024-10-08 22:00:00  143.75  144.5  143.35  144.50\n",
       "36398  2024-10-08 23:00:00  144.50  144.7  144.05  144.25\n",
       "36399  2024-10-09 00:00:00  144.25  144.3  143.55  143.80\n",
       "\n",
       "[3639 rows x 5 columns]"
      ]
     },
     "execution_count": 8,
     "metadata": {},
     "output_type": "execute_result"
    }
   ],
   "source": [
    "df_test = df.copy().loc[int(tamanio*0.9 + 1):tamanio]\n",
    "df_test"
   ]
  },
  {
   "cell_type": "markdown",
   "metadata": {},
   "source": [
    "# Declaramos y Entrenamos el modelo"
   ]
  },
  {
   "cell_type": "code",
   "execution_count": 9,
   "metadata": {},
   "outputs": [],
   "source": [
    "regr1 = RandomForestRegressor(max_depth=100, random_state=0)"
   ]
  },
  {
   "cell_type": "code",
   "execution_count": 10,
   "metadata": {},
   "outputs": [
    {
     "name": "stderr",
     "output_type": "stream",
     "text": [
      "C:\\Users\\raulg\\AppData\\Local\\Temp\\ipykernel_12484\\2244255699.py:9: FutureWarning: Series.__getitem__ treating keys as positions is deprecated. In a future version, integer keys will always be treated as labels (consistent with DataFrame behavior). To access a value by position, use `ser.iloc[pos]`\n",
      "  aux1.append(aux[r])\n"
     ]
    }
   ],
   "source": [
    "X1 = []\n",
    "y1= []\n",
    "for i in range(0, df_train.shape[0] - 1):\n",
    "    auxy = df_train.iloc[i + 1]\n",
    "    y1.append(auxy.close)\n",
    "    aux = df_train.iloc[i]\n",
    "    aux1 = []\n",
    "    for r in range(1, aux.size):\n",
    "        aux1.append(aux[r])\n",
    "    X1.append(aux1)"
   ]
  },
  {
   "cell_type": "code",
   "execution_count": 11,
   "metadata": {},
   "outputs": [
    {
     "data": {
      "text/html": [
       "<style>#sk-container-id-1 {\n",
       "  /* Definition of color scheme common for light and dark mode */\n",
       "  --sklearn-color-text: black;\n",
       "  --sklearn-color-line: gray;\n",
       "  /* Definition of color scheme for unfitted estimators */\n",
       "  --sklearn-color-unfitted-level-0: #fff5e6;\n",
       "  --sklearn-color-unfitted-level-1: #f6e4d2;\n",
       "  --sklearn-color-unfitted-level-2: #ffe0b3;\n",
       "  --sklearn-color-unfitted-level-3: chocolate;\n",
       "  /* Definition of color scheme for fitted estimators */\n",
       "  --sklearn-color-fitted-level-0: #f0f8ff;\n",
       "  --sklearn-color-fitted-level-1: #d4ebff;\n",
       "  --sklearn-color-fitted-level-2: #b3dbfd;\n",
       "  --sklearn-color-fitted-level-3: cornflowerblue;\n",
       "\n",
       "  /* Specific color for light theme */\n",
       "  --sklearn-color-text-on-default-background: var(--sg-text-color, var(--theme-code-foreground, var(--jp-content-font-color1, black)));\n",
       "  --sklearn-color-background: var(--sg-background-color, var(--theme-background, var(--jp-layout-color0, white)));\n",
       "  --sklearn-color-border-box: var(--sg-text-color, var(--theme-code-foreground, var(--jp-content-font-color1, black)));\n",
       "  --sklearn-color-icon: #696969;\n",
       "\n",
       "  @media (prefers-color-scheme: dark) {\n",
       "    /* Redefinition of color scheme for dark theme */\n",
       "    --sklearn-color-text-on-default-background: var(--sg-text-color, var(--theme-code-foreground, var(--jp-content-font-color1, white)));\n",
       "    --sklearn-color-background: var(--sg-background-color, var(--theme-background, var(--jp-layout-color0, #111)));\n",
       "    --sklearn-color-border-box: var(--sg-text-color, var(--theme-code-foreground, var(--jp-content-font-color1, white)));\n",
       "    --sklearn-color-icon: #878787;\n",
       "  }\n",
       "}\n",
       "\n",
       "#sk-container-id-1 {\n",
       "  color: var(--sklearn-color-text);\n",
       "}\n",
       "\n",
       "#sk-container-id-1 pre {\n",
       "  padding: 0;\n",
       "}\n",
       "\n",
       "#sk-container-id-1 input.sk-hidden--visually {\n",
       "  border: 0;\n",
       "  clip: rect(1px 1px 1px 1px);\n",
       "  clip: rect(1px, 1px, 1px, 1px);\n",
       "  height: 1px;\n",
       "  margin: -1px;\n",
       "  overflow: hidden;\n",
       "  padding: 0;\n",
       "  position: absolute;\n",
       "  width: 1px;\n",
       "}\n",
       "\n",
       "#sk-container-id-1 div.sk-dashed-wrapped {\n",
       "  border: 1px dashed var(--sklearn-color-line);\n",
       "  margin: 0 0.4em 0.5em 0.4em;\n",
       "  box-sizing: border-box;\n",
       "  padding-bottom: 0.4em;\n",
       "  background-color: var(--sklearn-color-background);\n",
       "}\n",
       "\n",
       "#sk-container-id-1 div.sk-container {\n",
       "  /* jupyter's `normalize.less` sets `[hidden] { display: none; }`\n",
       "     but bootstrap.min.css set `[hidden] { display: none !important; }`\n",
       "     so we also need the `!important` here to be able to override the\n",
       "     default hidden behavior on the sphinx rendered scikit-learn.org.\n",
       "     See: https://github.com/scikit-learn/scikit-learn/issues/21755 */\n",
       "  display: inline-block !important;\n",
       "  position: relative;\n",
       "}\n",
       "\n",
       "#sk-container-id-1 div.sk-text-repr-fallback {\n",
       "  display: none;\n",
       "}\n",
       "\n",
       "div.sk-parallel-item,\n",
       "div.sk-serial,\n",
       "div.sk-item {\n",
       "  /* draw centered vertical line to link estimators */\n",
       "  background-image: linear-gradient(var(--sklearn-color-text-on-default-background), var(--sklearn-color-text-on-default-background));\n",
       "  background-size: 2px 100%;\n",
       "  background-repeat: no-repeat;\n",
       "  background-position: center center;\n",
       "}\n",
       "\n",
       "/* Parallel-specific style estimator block */\n",
       "\n",
       "#sk-container-id-1 div.sk-parallel-item::after {\n",
       "  content: \"\";\n",
       "  width: 100%;\n",
       "  border-bottom: 2px solid var(--sklearn-color-text-on-default-background);\n",
       "  flex-grow: 1;\n",
       "}\n",
       "\n",
       "#sk-container-id-1 div.sk-parallel {\n",
       "  display: flex;\n",
       "  align-items: stretch;\n",
       "  justify-content: center;\n",
       "  background-color: var(--sklearn-color-background);\n",
       "  position: relative;\n",
       "}\n",
       "\n",
       "#sk-container-id-1 div.sk-parallel-item {\n",
       "  display: flex;\n",
       "  flex-direction: column;\n",
       "}\n",
       "\n",
       "#sk-container-id-1 div.sk-parallel-item:first-child::after {\n",
       "  align-self: flex-end;\n",
       "  width: 50%;\n",
       "}\n",
       "\n",
       "#sk-container-id-1 div.sk-parallel-item:last-child::after {\n",
       "  align-self: flex-start;\n",
       "  width: 50%;\n",
       "}\n",
       "\n",
       "#sk-container-id-1 div.sk-parallel-item:only-child::after {\n",
       "  width: 0;\n",
       "}\n",
       "\n",
       "/* Serial-specific style estimator block */\n",
       "\n",
       "#sk-container-id-1 div.sk-serial {\n",
       "  display: flex;\n",
       "  flex-direction: column;\n",
       "  align-items: center;\n",
       "  background-color: var(--sklearn-color-background);\n",
       "  padding-right: 1em;\n",
       "  padding-left: 1em;\n",
       "}\n",
       "\n",
       "\n",
       "/* Toggleable style: style used for estimator/Pipeline/ColumnTransformer box that is\n",
       "clickable and can be expanded/collapsed.\n",
       "- Pipeline and ColumnTransformer use this feature and define the default style\n",
       "- Estimators will overwrite some part of the style using the `sk-estimator` class\n",
       "*/\n",
       "\n",
       "/* Pipeline and ColumnTransformer style (default) */\n",
       "\n",
       "#sk-container-id-1 div.sk-toggleable {\n",
       "  /* Default theme specific background. It is overwritten whether we have a\n",
       "  specific estimator or a Pipeline/ColumnTransformer */\n",
       "  background-color: var(--sklearn-color-background);\n",
       "}\n",
       "\n",
       "/* Toggleable label */\n",
       "#sk-container-id-1 label.sk-toggleable__label {\n",
       "  cursor: pointer;\n",
       "  display: block;\n",
       "  width: 100%;\n",
       "  margin-bottom: 0;\n",
       "  padding: 0.5em;\n",
       "  box-sizing: border-box;\n",
       "  text-align: center;\n",
       "}\n",
       "\n",
       "#sk-container-id-1 label.sk-toggleable__label-arrow:before {\n",
       "  /* Arrow on the left of the label */\n",
       "  content: \"▸\";\n",
       "  float: left;\n",
       "  margin-right: 0.25em;\n",
       "  color: var(--sklearn-color-icon);\n",
       "}\n",
       "\n",
       "#sk-container-id-1 label.sk-toggleable__label-arrow:hover:before {\n",
       "  color: var(--sklearn-color-text);\n",
       "}\n",
       "\n",
       "/* Toggleable content - dropdown */\n",
       "\n",
       "#sk-container-id-1 div.sk-toggleable__content {\n",
       "  max-height: 0;\n",
       "  max-width: 0;\n",
       "  overflow: hidden;\n",
       "  text-align: left;\n",
       "  /* unfitted */\n",
       "  background-color: var(--sklearn-color-unfitted-level-0);\n",
       "}\n",
       "\n",
       "#sk-container-id-1 div.sk-toggleable__content.fitted {\n",
       "  /* fitted */\n",
       "  background-color: var(--sklearn-color-fitted-level-0);\n",
       "}\n",
       "\n",
       "#sk-container-id-1 div.sk-toggleable__content pre {\n",
       "  margin: 0.2em;\n",
       "  border-radius: 0.25em;\n",
       "  color: var(--sklearn-color-text);\n",
       "  /* unfitted */\n",
       "  background-color: var(--sklearn-color-unfitted-level-0);\n",
       "}\n",
       "\n",
       "#sk-container-id-1 div.sk-toggleable__content.fitted pre {\n",
       "  /* unfitted */\n",
       "  background-color: var(--sklearn-color-fitted-level-0);\n",
       "}\n",
       "\n",
       "#sk-container-id-1 input.sk-toggleable__control:checked~div.sk-toggleable__content {\n",
       "  /* Expand drop-down */\n",
       "  max-height: 200px;\n",
       "  max-width: 100%;\n",
       "  overflow: auto;\n",
       "}\n",
       "\n",
       "#sk-container-id-1 input.sk-toggleable__control:checked~label.sk-toggleable__label-arrow:before {\n",
       "  content: \"▾\";\n",
       "}\n",
       "\n",
       "/* Pipeline/ColumnTransformer-specific style */\n",
       "\n",
       "#sk-container-id-1 div.sk-label input.sk-toggleable__control:checked~label.sk-toggleable__label {\n",
       "  color: var(--sklearn-color-text);\n",
       "  background-color: var(--sklearn-color-unfitted-level-2);\n",
       "}\n",
       "\n",
       "#sk-container-id-1 div.sk-label.fitted input.sk-toggleable__control:checked~label.sk-toggleable__label {\n",
       "  background-color: var(--sklearn-color-fitted-level-2);\n",
       "}\n",
       "\n",
       "/* Estimator-specific style */\n",
       "\n",
       "/* Colorize estimator box */\n",
       "#sk-container-id-1 div.sk-estimator input.sk-toggleable__control:checked~label.sk-toggleable__label {\n",
       "  /* unfitted */\n",
       "  background-color: var(--sklearn-color-unfitted-level-2);\n",
       "}\n",
       "\n",
       "#sk-container-id-1 div.sk-estimator.fitted input.sk-toggleable__control:checked~label.sk-toggleable__label {\n",
       "  /* fitted */\n",
       "  background-color: var(--sklearn-color-fitted-level-2);\n",
       "}\n",
       "\n",
       "#sk-container-id-1 div.sk-label label.sk-toggleable__label,\n",
       "#sk-container-id-1 div.sk-label label {\n",
       "  /* The background is the default theme color */\n",
       "  color: var(--sklearn-color-text-on-default-background);\n",
       "}\n",
       "\n",
       "/* On hover, darken the color of the background */\n",
       "#sk-container-id-1 div.sk-label:hover label.sk-toggleable__label {\n",
       "  color: var(--sklearn-color-text);\n",
       "  background-color: var(--sklearn-color-unfitted-level-2);\n",
       "}\n",
       "\n",
       "/* Label box, darken color on hover, fitted */\n",
       "#sk-container-id-1 div.sk-label.fitted:hover label.sk-toggleable__label.fitted {\n",
       "  color: var(--sklearn-color-text);\n",
       "  background-color: var(--sklearn-color-fitted-level-2);\n",
       "}\n",
       "\n",
       "/* Estimator label */\n",
       "\n",
       "#sk-container-id-1 div.sk-label label {\n",
       "  font-family: monospace;\n",
       "  font-weight: bold;\n",
       "  display: inline-block;\n",
       "  line-height: 1.2em;\n",
       "}\n",
       "\n",
       "#sk-container-id-1 div.sk-label-container {\n",
       "  text-align: center;\n",
       "}\n",
       "\n",
       "/* Estimator-specific */\n",
       "#sk-container-id-1 div.sk-estimator {\n",
       "  font-family: monospace;\n",
       "  border: 1px dotted var(--sklearn-color-border-box);\n",
       "  border-radius: 0.25em;\n",
       "  box-sizing: border-box;\n",
       "  margin-bottom: 0.5em;\n",
       "  /* unfitted */\n",
       "  background-color: var(--sklearn-color-unfitted-level-0);\n",
       "}\n",
       "\n",
       "#sk-container-id-1 div.sk-estimator.fitted {\n",
       "  /* fitted */\n",
       "  background-color: var(--sklearn-color-fitted-level-0);\n",
       "}\n",
       "\n",
       "/* on hover */\n",
       "#sk-container-id-1 div.sk-estimator:hover {\n",
       "  /* unfitted */\n",
       "  background-color: var(--sklearn-color-unfitted-level-2);\n",
       "}\n",
       "\n",
       "#sk-container-id-1 div.sk-estimator.fitted:hover {\n",
       "  /* fitted */\n",
       "  background-color: var(--sklearn-color-fitted-level-2);\n",
       "}\n",
       "\n",
       "/* Specification for estimator info (e.g. \"i\" and \"?\") */\n",
       "\n",
       "/* Common style for \"i\" and \"?\" */\n",
       "\n",
       ".sk-estimator-doc-link,\n",
       "a:link.sk-estimator-doc-link,\n",
       "a:visited.sk-estimator-doc-link {\n",
       "  float: right;\n",
       "  font-size: smaller;\n",
       "  line-height: 1em;\n",
       "  font-family: monospace;\n",
       "  background-color: var(--sklearn-color-background);\n",
       "  border-radius: 1em;\n",
       "  height: 1em;\n",
       "  width: 1em;\n",
       "  text-decoration: none !important;\n",
       "  margin-left: 1ex;\n",
       "  /* unfitted */\n",
       "  border: var(--sklearn-color-unfitted-level-1) 1pt solid;\n",
       "  color: var(--sklearn-color-unfitted-level-1);\n",
       "}\n",
       "\n",
       ".sk-estimator-doc-link.fitted,\n",
       "a:link.sk-estimator-doc-link.fitted,\n",
       "a:visited.sk-estimator-doc-link.fitted {\n",
       "  /* fitted */\n",
       "  border: var(--sklearn-color-fitted-level-1) 1pt solid;\n",
       "  color: var(--sklearn-color-fitted-level-1);\n",
       "}\n",
       "\n",
       "/* On hover */\n",
       "div.sk-estimator:hover .sk-estimator-doc-link:hover,\n",
       ".sk-estimator-doc-link:hover,\n",
       "div.sk-label-container:hover .sk-estimator-doc-link:hover,\n",
       ".sk-estimator-doc-link:hover {\n",
       "  /* unfitted */\n",
       "  background-color: var(--sklearn-color-unfitted-level-3);\n",
       "  color: var(--sklearn-color-background);\n",
       "  text-decoration: none;\n",
       "}\n",
       "\n",
       "div.sk-estimator.fitted:hover .sk-estimator-doc-link.fitted:hover,\n",
       ".sk-estimator-doc-link.fitted:hover,\n",
       "div.sk-label-container:hover .sk-estimator-doc-link.fitted:hover,\n",
       ".sk-estimator-doc-link.fitted:hover {\n",
       "  /* fitted */\n",
       "  background-color: var(--sklearn-color-fitted-level-3);\n",
       "  color: var(--sklearn-color-background);\n",
       "  text-decoration: none;\n",
       "}\n",
       "\n",
       "/* Span, style for the box shown on hovering the info icon */\n",
       ".sk-estimator-doc-link span {\n",
       "  display: none;\n",
       "  z-index: 9999;\n",
       "  position: relative;\n",
       "  font-weight: normal;\n",
       "  right: .2ex;\n",
       "  padding: .5ex;\n",
       "  margin: .5ex;\n",
       "  width: min-content;\n",
       "  min-width: 20ex;\n",
       "  max-width: 50ex;\n",
       "  color: var(--sklearn-color-text);\n",
       "  box-shadow: 2pt 2pt 4pt #999;\n",
       "  /* unfitted */\n",
       "  background: var(--sklearn-color-unfitted-level-0);\n",
       "  border: .5pt solid var(--sklearn-color-unfitted-level-3);\n",
       "}\n",
       "\n",
       ".sk-estimator-doc-link.fitted span {\n",
       "  /* fitted */\n",
       "  background: var(--sklearn-color-fitted-level-0);\n",
       "  border: var(--sklearn-color-fitted-level-3);\n",
       "}\n",
       "\n",
       ".sk-estimator-doc-link:hover span {\n",
       "  display: block;\n",
       "}\n",
       "\n",
       "/* \"?\"-specific style due to the `<a>` HTML tag */\n",
       "\n",
       "#sk-container-id-1 a.estimator_doc_link {\n",
       "  float: right;\n",
       "  font-size: 1rem;\n",
       "  line-height: 1em;\n",
       "  font-family: monospace;\n",
       "  background-color: var(--sklearn-color-background);\n",
       "  border-radius: 1rem;\n",
       "  height: 1rem;\n",
       "  width: 1rem;\n",
       "  text-decoration: none;\n",
       "  /* unfitted */\n",
       "  color: var(--sklearn-color-unfitted-level-1);\n",
       "  border: var(--sklearn-color-unfitted-level-1) 1pt solid;\n",
       "}\n",
       "\n",
       "#sk-container-id-1 a.estimator_doc_link.fitted {\n",
       "  /* fitted */\n",
       "  border: var(--sklearn-color-fitted-level-1) 1pt solid;\n",
       "  color: var(--sklearn-color-fitted-level-1);\n",
       "}\n",
       "\n",
       "/* On hover */\n",
       "#sk-container-id-1 a.estimator_doc_link:hover {\n",
       "  /* unfitted */\n",
       "  background-color: var(--sklearn-color-unfitted-level-3);\n",
       "  color: var(--sklearn-color-background);\n",
       "  text-decoration: none;\n",
       "}\n",
       "\n",
       "#sk-container-id-1 a.estimator_doc_link.fitted:hover {\n",
       "  /* fitted */\n",
       "  background-color: var(--sklearn-color-fitted-level-3);\n",
       "}\n",
       "</style><div id=\"sk-container-id-1\" class=\"sk-top-container\"><div class=\"sk-text-repr-fallback\"><pre>RandomForestRegressor(max_depth=100, random_state=0)</pre><b>In a Jupyter environment, please rerun this cell to show the HTML representation or trust the notebook. <br />On GitHub, the HTML representation is unable to render, please try loading this page with nbviewer.org.</b></div><div class=\"sk-container\" hidden><div class=\"sk-item\"><div class=\"sk-estimator fitted sk-toggleable\"><input class=\"sk-toggleable__control sk-hidden--visually\" id=\"sk-estimator-id-1\" type=\"checkbox\" checked><label for=\"sk-estimator-id-1\" class=\"sk-toggleable__label fitted sk-toggleable__label-arrow fitted\">&nbsp;&nbsp;RandomForestRegressor<a class=\"sk-estimator-doc-link fitted\" rel=\"noreferrer\" target=\"_blank\" href=\"https://scikit-learn.org/1.4/modules/generated/sklearn.ensemble.RandomForestRegressor.html\">?<span>Documentation for RandomForestRegressor</span></a><span class=\"sk-estimator-doc-link fitted\">i<span>Fitted</span></span></label><div class=\"sk-toggleable__content fitted\"><pre>RandomForestRegressor(max_depth=100, random_state=0)</pre></div> </div></div></div></div>"
      ],
      "text/plain": [
       "RandomForestRegressor(max_depth=100, random_state=0)"
      ]
     },
     "execution_count": 11,
     "metadata": {},
     "output_type": "execute_result"
    }
   ],
   "source": [
    "regr1.fit(X1, y1)"
   ]
  },
  {
   "cell_type": "code",
   "execution_count": 12,
   "metadata": {},
   "outputs": [
    {
     "name": "stdout",
     "output_type": "stream",
     "text": [
      "[[22.1, 22.3, 22.05, 22.15]]\n",
      "[[22.1, 22.3, 22.05, 22.15], [22.15, 22.25, 22.1, 22.1]]\n",
      "[[22.1, 22.3, 22.05, 22.15], [22.15, 22.25, 22.1, 22.1], [22.1, 22.1, 22.0, 22.0]]\n",
      "[[22.1, 22.3, 22.05, 22.15], [22.15, 22.25, 22.1, 22.1], [22.1, 22.1, 22.0, 22.0], [22.0, 22.0, 21.9, 21.95]]\n",
      "[[22.1, 22.3, 22.05, 22.15], [22.15, 22.25, 22.1, 22.1], [22.1, 22.1, 22.0, 22.0], [22.0, 22.0, 21.9, 21.95], [21.95, 22.05, 21.9, 22.0]]\n",
      "[[22.1, 22.3, 22.05, 22.15], [22.15, 22.25, 22.1, 22.1], [22.1, 22.1, 22.0, 22.0], [22.0, 22.0, 21.9, 21.95], [21.95, 22.05, 21.9, 22.0], [22.0, 22.1, 22.0, 22.05]]\n",
      "[[22.1, 22.3, 22.05, 22.15], [22.15, 22.25, 22.1, 22.1], [22.1, 22.1, 22.0, 22.0], [22.0, 22.0, 21.9, 21.95], [21.95, 22.05, 21.9, 22.0], [22.0, 22.1, 22.0, 22.05], [22.0, 22.2, 22.0, 22.05]]\n",
      "[[22.1, 22.3, 22.05, 22.15], [22.15, 22.25, 22.1, 22.1], [22.1, 22.1, 22.0, 22.0], [22.0, 22.0, 21.9, 21.95], [21.95, 22.05, 21.9, 22.0], [22.0, 22.1, 22.0, 22.05], [22.0, 22.2, 22.0, 22.05], [22.05, 22.15, 22.0, 22.05]]\n",
      "[[22.1, 22.3, 22.05, 22.15], [22.15, 22.25, 22.1, 22.1], [22.1, 22.1, 22.0, 22.0], [22.0, 22.0, 21.9, 21.95], [21.95, 22.05, 21.9, 22.0], [22.0, 22.1, 22.0, 22.05], [22.0, 22.2, 22.0, 22.05], [22.05, 22.15, 22.0, 22.05], [22.05, 22.05, 21.95, 22.05]]\n",
      "[[22.1, 22.3, 22.05, 22.15], [22.15, 22.25, 22.1, 22.1], [22.1, 22.1, 22.0, 22.0], [22.0, 22.0, 21.9, 21.95], [21.95, 22.05, 21.9, 22.0], [22.0, 22.1, 22.0, 22.05], [22.0, 22.2, 22.0, 22.05], [22.05, 22.15, 22.0, 22.05], [22.05, 22.05, 21.95, 22.05], [22.05, 22.1, 22.0, 22.0]]\n",
      "[[22.1, 22.3, 22.05, 22.15], [22.15, 22.25, 22.1, 22.1], [22.1, 22.1, 22.0, 22.0], [22.0, 22.0, 21.9, 21.95], [21.95, 22.05, 21.9, 22.0], [22.0, 22.1, 22.0, 22.05], [22.0, 22.2, 22.0, 22.05], [22.05, 22.15, 22.0, 22.05], [22.05, 22.05, 21.95, 22.05], [22.05, 22.1, 22.0, 22.0], [22.05, 22.05, 22.0, 22.05]]\n",
      "[[22.1, 22.3, 22.05, 22.15], [22.15, 22.25, 22.1, 22.1], [22.1, 22.1, 22.0, 22.0], [22.0, 22.0, 21.9, 21.95], [21.95, 22.05, 21.9, 22.0], [22.0, 22.1, 22.0, 22.05], [22.0, 22.2, 22.0, 22.05], [22.05, 22.15, 22.0, 22.05], [22.05, 22.05, 21.95, 22.05], [22.05, 22.1, 22.0, 22.0], [22.05, 22.05, 22.0, 22.05], [22.05, 22.2, 22.0, 22.15]]\n",
      "[[22.1, 22.3, 22.05, 22.15], [22.15, 22.25, 22.1, 22.1], [22.1, 22.1, 22.0, 22.0], [22.0, 22.0, 21.9, 21.95], [21.95, 22.05, 21.9, 22.0], [22.0, 22.1, 22.0, 22.05], [22.0, 22.2, 22.0, 22.05], [22.05, 22.15, 22.0, 22.05], [22.05, 22.05, 21.95, 22.05], [22.05, 22.1, 22.0, 22.0], [22.05, 22.05, 22.0, 22.05], [22.05, 22.2, 22.0, 22.15], [22.15, 22.8, 22.0, 22.35]]\n",
      "[[22.1, 22.3, 22.05, 22.15], [22.15, 22.25, 22.1, 22.1], [22.1, 22.1, 22.0, 22.0], [22.0, 22.0, 21.9, 21.95], [21.95, 22.05, 21.9, 22.0], [22.0, 22.1, 22.0, 22.05], [22.0, 22.2, 22.0, 22.05], [22.05, 22.15, 22.0, 22.05], [22.05, 22.05, 21.95, 22.05], [22.05, 22.1, 22.0, 22.0], [22.05, 22.05, 22.0, 22.05], [22.05, 22.2, 22.0, 22.15], [22.15, 22.8, 22.0, 22.35], [22.35, 22.75, 22.25, 22.45]]\n",
      "[[22.1, 22.3, 22.05, 22.15], [22.15, 22.25, 22.1, 22.1], [22.1, 22.1, 22.0, 22.0], [22.0, 22.0, 21.9, 21.95], [21.95, 22.05, 21.9, 22.0], [22.0, 22.1, 22.0, 22.05], [22.0, 22.2, 22.0, 22.05], [22.05, 22.15, 22.0, 22.05], [22.05, 22.05, 21.95, 22.05], [22.05, 22.1, 22.0, 22.0], [22.05, 22.05, 22.0, 22.05], [22.05, 22.2, 22.0, 22.15], [22.15, 22.8, 22.0, 22.35], [22.35, 22.75, 22.25, 22.45], [22.45, 22.7, 22.45, 22.6]]\n",
      "[[22.1, 22.3, 22.05, 22.15], [22.15, 22.25, 22.1, 22.1], [22.1, 22.1, 22.0, 22.0], [22.0, 22.0, 21.9, 21.95], [21.95, 22.05, 21.9, 22.0], [22.0, 22.1, 22.0, 22.05], [22.0, 22.2, 22.0, 22.05], [22.05, 22.15, 22.0, 22.05], [22.05, 22.05, 21.95, 22.05], [22.05, 22.1, 22.0, 22.0], [22.05, 22.05, 22.0, 22.05], [22.05, 22.2, 22.0, 22.15], [22.15, 22.8, 22.0, 22.35], [22.35, 22.75, 22.25, 22.45], [22.45, 22.7, 22.45, 22.6], [22.6, 22.75, 22.35, 22.45]]\n",
      "[[22.1, 22.3, 22.05, 22.15], [22.15, 22.25, 22.1, 22.1], [22.1, 22.1, 22.0, 22.0], [22.0, 22.0, 21.9, 21.95], [21.95, 22.05, 21.9, 22.0], [22.0, 22.1, 22.0, 22.05], [22.0, 22.2, 22.0, 22.05], [22.05, 22.15, 22.0, 22.05], [22.05, 22.05, 21.95, 22.05], [22.05, 22.1, 22.0, 22.0], [22.05, 22.05, 22.0, 22.05], [22.05, 22.2, 22.0, 22.15], [22.15, 22.8, 22.0, 22.35], [22.35, 22.75, 22.25, 22.45], [22.45, 22.7, 22.45, 22.6], [22.6, 22.75, 22.35, 22.45], [22.45, 22.5, 22.15, 22.3]]\n",
      "[[22.1, 22.3, 22.05, 22.15], [22.15, 22.25, 22.1, 22.1], [22.1, 22.1, 22.0, 22.0], [22.0, 22.0, 21.9, 21.95], [21.95, 22.05, 21.9, 22.0], [22.0, 22.1, 22.0, 22.05], [22.0, 22.2, 22.0, 22.05], [22.05, 22.15, 22.0, 22.05], [22.05, 22.05, 21.95, 22.05], [22.05, 22.1, 22.0, 22.0], [22.05, 22.05, 22.0, 22.05], [22.05, 22.2, 22.0, 22.15], [22.15, 22.8, 22.0, 22.35], [22.35, 22.75, 22.25, 22.45], [22.45, 22.7, 22.45, 22.6], [22.6, 22.75, 22.35, 22.45], [22.45, 22.5, 22.15, 22.3], [22.3, 22.4, 22.15, 22.2]]\n",
      "[[22.1, 22.3, 22.05, 22.15], [22.15, 22.25, 22.1, 22.1], [22.1, 22.1, 22.0, 22.0], [22.0, 22.0, 21.9, 21.95], [21.95, 22.05, 21.9, 22.0], [22.0, 22.1, 22.0, 22.05], [22.0, 22.2, 22.0, 22.05], [22.05, 22.15, 22.0, 22.05], [22.05, 22.05, 21.95, 22.05], [22.05, 22.1, 22.0, 22.0], [22.05, 22.05, 22.0, 22.05], [22.05, 22.2, 22.0, 22.15], [22.15, 22.8, 22.0, 22.35], [22.35, 22.75, 22.25, 22.45], [22.45, 22.7, 22.45, 22.6], [22.6, 22.75, 22.35, 22.45], [22.45, 22.5, 22.15, 22.3], [22.3, 22.4, 22.15, 22.2], [22.2, 22.3, 22.15, 22.3]]\n",
      "[[22.1, 22.3, 22.05, 22.15], [22.15, 22.25, 22.1, 22.1], [22.1, 22.1, 22.0, 22.0], [22.0, 22.0, 21.9, 21.95], [21.95, 22.05, 21.9, 22.0], [22.0, 22.1, 22.0, 22.05], [22.0, 22.2, 22.0, 22.05], [22.05, 22.15, 22.0, 22.05], [22.05, 22.05, 21.95, 22.05], [22.05, 22.1, 22.0, 22.0], [22.05, 22.05, 22.0, 22.05], [22.05, 22.2, 22.0, 22.15], [22.15, 22.8, 22.0, 22.35], [22.35, 22.75, 22.25, 22.45], [22.45, 22.7, 22.45, 22.6], [22.6, 22.75, 22.35, 22.45], [22.45, 22.5, 22.15, 22.3], [22.3, 22.4, 22.15, 22.2], [22.2, 22.3, 22.15, 22.3], [22.3, 22.3, 21.75, 21.85]]\n",
      "[[22.1, 22.3, 22.05, 22.15], [22.15, 22.25, 22.1, 22.1], [22.1, 22.1, 22.0, 22.0], [22.0, 22.0, 21.9, 21.95], [21.95, 22.05, 21.9, 22.0], [22.0, 22.1, 22.0, 22.05], [22.0, 22.2, 22.0, 22.05], [22.05, 22.15, 22.0, 22.05], [22.05, 22.05, 21.95, 22.05], [22.05, 22.1, 22.0, 22.0], [22.05, 22.05, 22.0, 22.05], [22.05, 22.2, 22.0, 22.15], [22.15, 22.8, 22.0, 22.35], [22.35, 22.75, 22.25, 22.45], [22.45, 22.7, 22.45, 22.6], [22.6, 22.75, 22.35, 22.45], [22.45, 22.5, 22.15, 22.3], [22.3, 22.4, 22.15, 22.2], [22.2, 22.3, 22.15, 22.3], [22.3, 22.3, 21.75, 21.85], [21.85, 22.15, 21.8, 22.1]]\n",
      "[[22.1, 22.3, 22.05, 22.15], [22.15, 22.25, 22.1, 22.1], [22.1, 22.1, 22.0, 22.0], [22.0, 22.0, 21.9, 21.95], [21.95, 22.05, 21.9, 22.0], [22.0, 22.1, 22.0, 22.05], [22.0, 22.2, 22.0, 22.05], [22.05, 22.15, 22.0, 22.05], [22.05, 22.05, 21.95, 22.05], [22.05, 22.1, 22.0, 22.0], [22.05, 22.05, 22.0, 22.05], [22.05, 22.2, 22.0, 22.15], [22.15, 22.8, 22.0, 22.35], [22.35, 22.75, 22.25, 22.45], [22.45, 22.7, 22.45, 22.6], [22.6, 22.75, 22.35, 22.45], [22.45, 22.5, 22.15, 22.3], [22.3, 22.4, 22.15, 22.2], [22.2, 22.3, 22.15, 22.3], [22.3, 22.3, 21.75, 21.85], [21.85, 22.15, 21.8, 22.1], [22.1, 22.1, 22.0, 22.1]]\n",
      "[[22.1, 22.3, 22.05, 22.15], [22.15, 22.25, 22.1, 22.1], [22.1, 22.1, 22.0, 22.0], [22.0, 22.0, 21.9, 21.95], [21.95, 22.05, 21.9, 22.0], [22.0, 22.1, 22.0, 22.05], [22.0, 22.2, 22.0, 22.05], [22.05, 22.15, 22.0, 22.05], [22.05, 22.05, 21.95, 22.05], [22.05, 22.1, 22.0, 22.0], [22.05, 22.05, 22.0, 22.05], [22.05, 22.2, 22.0, 22.15], [22.15, 22.8, 22.0, 22.35], [22.35, 22.75, 22.25, 22.45], [22.45, 22.7, 22.45, 22.6], [22.6, 22.75, 22.35, 22.45], [22.45, 22.5, 22.15, 22.3], [22.3, 22.4, 22.15, 22.2], [22.2, 22.3, 22.15, 22.3], [22.3, 22.3, 21.75, 21.85], [21.85, 22.15, 21.8, 22.1], [22.1, 22.1, 22.0, 22.1], [22.1, 22.1, 21.95, 22.0]]\n",
      "[[22.1, 22.3, 22.05, 22.15], [22.15, 22.25, 22.1, 22.1], [22.1, 22.1, 22.0, 22.0], [22.0, 22.0, 21.9, 21.95], [21.95, 22.05, 21.9, 22.0], [22.0, 22.1, 22.0, 22.05], [22.0, 22.2, 22.0, 22.05], [22.05, 22.15, 22.0, 22.05], [22.05, 22.05, 21.95, 22.05], [22.05, 22.1, 22.0, 22.0], [22.05, 22.05, 22.0, 22.05], [22.05, 22.2, 22.0, 22.15], [22.15, 22.8, 22.0, 22.35], [22.35, 22.75, 22.25, 22.45], [22.45, 22.7, 22.45, 22.6], [22.6, 22.75, 22.35, 22.45], [22.45, 22.5, 22.15, 22.3], [22.3, 22.4, 22.15, 22.2], [22.2, 22.3, 22.15, 22.3], [22.3, 22.3, 21.75, 21.85], [21.85, 22.15, 21.8, 22.1], [22.1, 22.1, 22.0, 22.1], [22.1, 22.1, 21.95, 22.0], [22.0, 22.05, 21.95, 21.95]]\n",
      "[[22.1, 22.3, 22.05, 22.15], [22.15, 22.25, 22.1, 22.1], [22.1, 22.1, 22.0, 22.0], [22.0, 22.0, 21.9, 21.95], [21.95, 22.05, 21.9, 22.0], [22.0, 22.1, 22.0, 22.05], [22.0, 22.2, 22.0, 22.05], [22.05, 22.15, 22.0, 22.05], [22.05, 22.05, 21.95, 22.05], [22.05, 22.1, 22.0, 22.0], [22.05, 22.05, 22.0, 22.05], [22.05, 22.2, 22.0, 22.15], [22.15, 22.8, 22.0, 22.35], [22.35, 22.75, 22.25, 22.45], [22.45, 22.7, 22.45, 22.6], [22.6, 22.75, 22.35, 22.45], [22.45, 22.5, 22.15, 22.3], [22.3, 22.4, 22.15, 22.2], [22.2, 22.3, 22.15, 22.3], [22.3, 22.3, 21.75, 21.85], [21.85, 22.15, 21.8, 22.1], [22.1, 22.1, 22.0, 22.1], [22.1, 22.1, 21.95, 22.0], [22.0, 22.05, 21.95, 21.95], [21.95, 22.05, 21.75, 21.85]]\n",
      "[[22.1, 22.3, 22.05, 22.15], [22.15, 22.25, 22.1, 22.1], [22.1, 22.1, 22.0, 22.0], [22.0, 22.0, 21.9, 21.95], [21.95, 22.05, 21.9, 22.0], [22.0, 22.1, 22.0, 22.05], [22.0, 22.2, 22.0, 22.05], [22.05, 22.15, 22.0, 22.05], [22.05, 22.05, 21.95, 22.05], [22.05, 22.1, 22.0, 22.0], [22.05, 22.05, 22.0, 22.05], [22.05, 22.2, 22.0, 22.15], [22.15, 22.8, 22.0, 22.35], [22.35, 22.75, 22.25, 22.45], [22.45, 22.7, 22.45, 22.6], [22.6, 22.75, 22.35, 22.45], [22.45, 22.5, 22.15, 22.3], [22.3, 22.4, 22.15, 22.2], [22.2, 22.3, 22.15, 22.3], [22.3, 22.3, 21.75, 21.85], [21.85, 22.15, 21.8, 22.1], [22.1, 22.1, 22.0, 22.1], [22.1, 22.1, 21.95, 22.0], [22.0, 22.05, 21.95, 21.95], [21.95, 22.05, 21.75, 21.85], [21.85, 21.9, 21.6, 21.8]]\n",
      "[[22.1, 22.3, 22.05, 22.15], [22.15, 22.25, 22.1, 22.1], [22.1, 22.1, 22.0, 22.0], [22.0, 22.0, 21.9, 21.95], [21.95, 22.05, 21.9, 22.0], [22.0, 22.1, 22.0, 22.05], [22.0, 22.2, 22.0, 22.05], [22.05, 22.15, 22.0, 22.05], [22.05, 22.05, 21.95, 22.05], [22.05, 22.1, 22.0, 22.0], [22.05, 22.05, 22.0, 22.05], [22.05, 22.2, 22.0, 22.15], [22.15, 22.8, 22.0, 22.35], [22.35, 22.75, 22.25, 22.45], [22.45, 22.7, 22.45, 22.6], [22.6, 22.75, 22.35, 22.45], [22.45, 22.5, 22.15, 22.3], [22.3, 22.4, 22.15, 22.2], [22.2, 22.3, 22.15, 22.3], [22.3, 22.3, 21.75, 21.85], [21.85, 22.15, 21.8, 22.1], [22.1, 22.1, 22.0, 22.1], [22.1, 22.1, 21.95, 22.0], [22.0, 22.05, 21.95, 21.95], [21.95, 22.05, 21.75, 21.85], [21.85, 21.9, 21.6, 21.8], [21.8, 21.8, 21.65, 21.7]]\n",
      "[[22.1, 22.3, 22.05, 22.15], [22.15, 22.25, 22.1, 22.1], [22.1, 22.1, 22.0, 22.0], [22.0, 22.0, 21.9, 21.95], [21.95, 22.05, 21.9, 22.0], [22.0, 22.1, 22.0, 22.05], [22.0, 22.2, 22.0, 22.05], [22.05, 22.15, 22.0, 22.05], [22.05, 22.05, 21.95, 22.05], [22.05, 22.1, 22.0, 22.0], [22.05, 22.05, 22.0, 22.05], [22.05, 22.2, 22.0, 22.15], [22.15, 22.8, 22.0, 22.35], [22.35, 22.75, 22.25, 22.45], [22.45, 22.7, 22.45, 22.6], [22.6, 22.75, 22.35, 22.45], [22.45, 22.5, 22.15, 22.3], [22.3, 22.4, 22.15, 22.2], [22.2, 22.3, 22.15, 22.3], [22.3, 22.3, 21.75, 21.85], [21.85, 22.15, 21.8, 22.1], [22.1, 22.1, 22.0, 22.1], [22.1, 22.1, 21.95, 22.0], [22.0, 22.05, 21.95, 21.95], [21.95, 22.05, 21.75, 21.85], [21.85, 21.9, 21.6, 21.8], [21.8, 21.8, 21.65, 21.7], [21.7, 21.75, 21.6, 21.65]]\n",
      "[[22.1, 22.3, 22.05, 22.15], [22.15, 22.25, 22.1, 22.1], [22.1, 22.1, 22.0, 22.0], [22.0, 22.0, 21.9, 21.95], [21.95, 22.05, 21.9, 22.0], [22.0, 22.1, 22.0, 22.05], [22.0, 22.2, 22.0, 22.05], [22.05, 22.15, 22.0, 22.05], [22.05, 22.05, 21.95, 22.05], [22.05, 22.1, 22.0, 22.0], [22.05, 22.05, 22.0, 22.05], [22.05, 22.2, 22.0, 22.15], [22.15, 22.8, 22.0, 22.35], [22.35, 22.75, 22.25, 22.45], [22.45, 22.7, 22.45, 22.6], [22.6, 22.75, 22.35, 22.45], [22.45, 22.5, 22.15, 22.3], [22.3, 22.4, 22.15, 22.2], [22.2, 22.3, 22.15, 22.3], [22.3, 22.3, 21.75, 21.85], [21.85, 22.15, 21.8, 22.1], [22.1, 22.1, 22.0, 22.1], [22.1, 22.1, 21.95, 22.0], [22.0, 22.05, 21.95, 21.95], [21.95, 22.05, 21.75, 21.85], [21.85, 21.9, 21.6, 21.8], [21.8, 21.8, 21.65, 21.7], [21.7, 21.75, 21.6, 21.65], [21.65, 21.65, 21.45, 21.55]]\n",
      "[[22.1, 22.3, 22.05, 22.15], [22.15, 22.25, 22.1, 22.1], [22.1, 22.1, 22.0, 22.0], [22.0, 22.0, 21.9, 21.95], [21.95, 22.05, 21.9, 22.0], [22.0, 22.1, 22.0, 22.05], [22.0, 22.2, 22.0, 22.05], [22.05, 22.15, 22.0, 22.05], [22.05, 22.05, 21.95, 22.05], [22.05, 22.1, 22.0, 22.0], [22.05, 22.05, 22.0, 22.05], [22.05, 22.2, 22.0, 22.15], [22.15, 22.8, 22.0, 22.35], [22.35, 22.75, 22.25, 22.45], [22.45, 22.7, 22.45, 22.6], [22.6, 22.75, 22.35, 22.45], [22.45, 22.5, 22.15, 22.3], [22.3, 22.4, 22.15, 22.2], [22.2, 22.3, 22.15, 22.3], [22.3, 22.3, 21.75, 21.85], [21.85, 22.15, 21.8, 22.1], [22.1, 22.1, 22.0, 22.1], [22.1, 22.1, 21.95, 22.0], [22.0, 22.05, 21.95, 21.95], [21.95, 22.05, 21.75, 21.85], [21.85, 21.9, 21.6, 21.8], [21.8, 21.8, 21.65, 21.7], [21.7, 21.75, 21.6, 21.65], [21.65, 21.65, 21.45, 21.55], [21.55, 21.7, 21.5, 21.7]]\n",
      "[[22.1, 22.3, 22.05, 22.15], [22.15, 22.25, 22.1, 22.1], [22.1, 22.1, 22.0, 22.0], [22.0, 22.0, 21.9, 21.95], [21.95, 22.05, 21.9, 22.0], [22.0, 22.1, 22.0, 22.05], [22.0, 22.2, 22.0, 22.05], [22.05, 22.15, 22.0, 22.05], [22.05, 22.05, 21.95, 22.05], [22.05, 22.1, 22.0, 22.0], [22.05, 22.05, 22.0, 22.05], [22.05, 22.2, 22.0, 22.15], [22.15, 22.8, 22.0, 22.35], [22.35, 22.75, 22.25, 22.45], [22.45, 22.7, 22.45, 22.6], [22.6, 22.75, 22.35, 22.45], [22.45, 22.5, 22.15, 22.3], [22.3, 22.4, 22.15, 22.2], [22.2, 22.3, 22.15, 22.3], [22.3, 22.3, 21.75, 21.85], [21.85, 22.15, 21.8, 22.1], [22.1, 22.1, 22.0, 22.1], [22.1, 22.1, 21.95, 22.0], [22.0, 22.05, 21.95, 21.95], [21.95, 22.05, 21.75, 21.85], [21.85, 21.9, 21.6, 21.8], [21.8, 21.8, 21.65, 21.7], [21.7, 21.75, 21.6, 21.65], [21.65, 21.65, 21.45, 21.55], [21.55, 21.7, 21.5, 21.7], [21.7, 21.9, 21.7, 21.9]]\n",
      "[[22.1, 22.3, 22.05, 22.15], [22.15, 22.25, 22.1, 22.1], [22.1, 22.1, 22.0, 22.0], [22.0, 22.0, 21.9, 21.95], [21.95, 22.05, 21.9, 22.0], [22.0, 22.1, 22.0, 22.05], [22.0, 22.2, 22.0, 22.05], [22.05, 22.15, 22.0, 22.05], [22.05, 22.05, 21.95, 22.05], [22.05, 22.1, 22.0, 22.0], [22.05, 22.05, 22.0, 22.05], [22.05, 22.2, 22.0, 22.15], [22.15, 22.8, 22.0, 22.35], [22.35, 22.75, 22.25, 22.45], [22.45, 22.7, 22.45, 22.6], [22.6, 22.75, 22.35, 22.45], [22.45, 22.5, 22.15, 22.3], [22.3, 22.4, 22.15, 22.2], [22.2, 22.3, 22.15, 22.3], [22.3, 22.3, 21.75, 21.85], [21.85, 22.15, 21.8, 22.1], [22.1, 22.1, 22.0, 22.1], [22.1, 22.1, 21.95, 22.0], [22.0, 22.05, 21.95, 21.95], [21.95, 22.05, 21.75, 21.85], [21.85, 21.9, 21.6, 21.8], [21.8, 21.8, 21.65, 21.7], [21.7, 21.75, 21.6, 21.65], [21.65, 21.65, 21.45, 21.55], [21.55, 21.7, 21.5, 21.7], [21.7, 21.9, 21.7, 21.9], [21.9, 21.95, 21.75, 21.8]]\n",
      "[[22.1, 22.3, 22.05, 22.15], [22.15, 22.25, 22.1, 22.1], [22.1, 22.1, 22.0, 22.0], [22.0, 22.0, 21.9, 21.95], [21.95, 22.05, 21.9, 22.0], [22.0, 22.1, 22.0, 22.05], [22.0, 22.2, 22.0, 22.05], [22.05, 22.15, 22.0, 22.05], [22.05, 22.05, 21.95, 22.05], [22.05, 22.1, 22.0, 22.0], [22.05, 22.05, 22.0, 22.05], [22.05, 22.2, 22.0, 22.15], [22.15, 22.8, 22.0, 22.35], [22.35, 22.75, 22.25, 22.45], [22.45, 22.7, 22.45, 22.6], [22.6, 22.75, 22.35, 22.45], [22.45, 22.5, 22.15, 22.3], [22.3, 22.4, 22.15, 22.2], [22.2, 22.3, 22.15, 22.3], [22.3, 22.3, 21.75, 21.85], [21.85, 22.15, 21.8, 22.1], [22.1, 22.1, 22.0, 22.1], [22.1, 22.1, 21.95, 22.0], [22.0, 22.05, 21.95, 21.95], [21.95, 22.05, 21.75, 21.85], [21.85, 21.9, 21.6, 21.8], [21.8, 21.8, 21.65, 21.7], [21.7, 21.75, 21.6, 21.65], [21.65, 21.65, 21.45, 21.55], [21.55, 21.7, 21.5, 21.7], [21.7, 21.9, 21.7, 21.9], [21.9, 21.95, 21.75, 21.8], [21.8, 21.9, 21.75, 21.9]]\n",
      "[[22.1, 22.3, 22.05, 22.15], [22.15, 22.25, 22.1, 22.1], [22.1, 22.1, 22.0, 22.0], [22.0, 22.0, 21.9, 21.95], [21.95, 22.05, 21.9, 22.0], [22.0, 22.1, 22.0, 22.05], [22.0, 22.2, 22.0, 22.05], [22.05, 22.15, 22.0, 22.05], [22.05, 22.05, 21.95, 22.05], [22.05, 22.1, 22.0, 22.0], [22.05, 22.05, 22.0, 22.05], [22.05, 22.2, 22.0, 22.15], [22.15, 22.8, 22.0, 22.35], [22.35, 22.75, 22.25, 22.45], [22.45, 22.7, 22.45, 22.6], [22.6, 22.75, 22.35, 22.45], [22.45, 22.5, 22.15, 22.3], [22.3, 22.4, 22.15, 22.2], [22.2, 22.3, 22.15, 22.3], [22.3, 22.3, 21.75, 21.85], [21.85, 22.15, 21.8, 22.1], [22.1, 22.1, 22.0, 22.1], [22.1, 22.1, 21.95, 22.0], [22.0, 22.05, 21.95, 21.95], [21.95, 22.05, 21.75, 21.85], [21.85, 21.9, 21.6, 21.8], [21.8, 21.8, 21.65, 21.7], [21.7, 21.75, 21.6, 21.65], [21.65, 21.65, 21.45, 21.55], [21.55, 21.7, 21.5, 21.7], [21.7, 21.9, 21.7, 21.9], [21.9, 21.95, 21.75, 21.8], [21.8, 21.9, 21.75, 21.9], [21.9, 22.15, 21.85, 22.05]]\n",
      "[[22.1, 22.3, 22.05, 22.15], [22.15, 22.25, 22.1, 22.1], [22.1, 22.1, 22.0, 22.0], [22.0, 22.0, 21.9, 21.95], [21.95, 22.05, 21.9, 22.0], [22.0, 22.1, 22.0, 22.05], [22.0, 22.2, 22.0, 22.05], [22.05, 22.15, 22.0, 22.05], [22.05, 22.05, 21.95, 22.05], [22.05, 22.1, 22.0, 22.0], [22.05, 22.05, 22.0, 22.05], [22.05, 22.2, 22.0, 22.15], [22.15, 22.8, 22.0, 22.35], [22.35, 22.75, 22.25, 22.45], [22.45, 22.7, 22.45, 22.6], [22.6, 22.75, 22.35, 22.45], [22.45, 22.5, 22.15, 22.3], [22.3, 22.4, 22.15, 22.2], [22.2, 22.3, 22.15, 22.3], [22.3, 22.3, 21.75, 21.85], [21.85, 22.15, 21.8, 22.1], [22.1, 22.1, 22.0, 22.1], [22.1, 22.1, 21.95, 22.0], [22.0, 22.05, 21.95, 21.95], [21.95, 22.05, 21.75, 21.85], [21.85, 21.9, 21.6, 21.8], [21.8, 21.8, 21.65, 21.7], [21.7, 21.75, 21.6, 21.65], [21.65, 21.65, 21.45, 21.55], [21.55, 21.7, 21.5, 21.7], [21.7, 21.9, 21.7, 21.9], [21.9, 21.95, 21.75, 21.8], [21.8, 21.9, 21.75, 21.9], [21.9, 22.15, 21.85, 22.05], [22.05, 22.3, 22.05, 22.2]]\n",
      "[[22.1, 22.3, 22.05, 22.15], [22.15, 22.25, 22.1, 22.1], [22.1, 22.1, 22.0, 22.0], [22.0, 22.0, 21.9, 21.95], [21.95, 22.05, 21.9, 22.0], [22.0, 22.1, 22.0, 22.05], [22.0, 22.2, 22.0, 22.05], [22.05, 22.15, 22.0, 22.05], [22.05, 22.05, 21.95, 22.05], [22.05, 22.1, 22.0, 22.0], [22.05, 22.05, 22.0, 22.05], [22.05, 22.2, 22.0, 22.15], [22.15, 22.8, 22.0, 22.35], [22.35, 22.75, 22.25, 22.45], [22.45, 22.7, 22.45, 22.6], [22.6, 22.75, 22.35, 22.45], [22.45, 22.5, 22.15, 22.3], [22.3, 22.4, 22.15, 22.2], [22.2, 22.3, 22.15, 22.3], [22.3, 22.3, 21.75, 21.85], [21.85, 22.15, 21.8, 22.1], [22.1, 22.1, 22.0, 22.1], [22.1, 22.1, 21.95, 22.0], [22.0, 22.05, 21.95, 21.95], [21.95, 22.05, 21.75, 21.85], [21.85, 21.9, 21.6, 21.8], [21.8, 21.8, 21.65, 21.7], [21.7, 21.75, 21.6, 21.65], [21.65, 21.65, 21.45, 21.55], [21.55, 21.7, 21.5, 21.7], [21.7, 21.9, 21.7, 21.9], [21.9, 21.95, 21.75, 21.8], [21.8, 21.9, 21.75, 21.9], [21.9, 22.15, 21.85, 22.05], [22.05, 22.3, 22.05, 22.2], [22.25, 22.5, 22.2, 22.45]]\n",
      "[[22.1, 22.3, 22.05, 22.15], [22.15, 22.25, 22.1, 22.1], [22.1, 22.1, 22.0, 22.0], [22.0, 22.0, 21.9, 21.95], [21.95, 22.05, 21.9, 22.0], [22.0, 22.1, 22.0, 22.05], [22.0, 22.2, 22.0, 22.05], [22.05, 22.15, 22.0, 22.05], [22.05, 22.05, 21.95, 22.05], [22.05, 22.1, 22.0, 22.0], [22.05, 22.05, 22.0, 22.05], [22.05, 22.2, 22.0, 22.15], [22.15, 22.8, 22.0, 22.35], [22.35, 22.75, 22.25, 22.45], [22.45, 22.7, 22.45, 22.6], [22.6, 22.75, 22.35, 22.45], [22.45, 22.5, 22.15, 22.3], [22.3, 22.4, 22.15, 22.2], [22.2, 22.3, 22.15, 22.3], [22.3, 22.3, 21.75, 21.85], [21.85, 22.15, 21.8, 22.1], [22.1, 22.1, 22.0, 22.1], [22.1, 22.1, 21.95, 22.0], [22.0, 22.05, 21.95, 21.95], [21.95, 22.05, 21.75, 21.85], [21.85, 21.9, 21.6, 21.8], [21.8, 21.8, 21.65, 21.7], [21.7, 21.75, 21.6, 21.65], [21.65, 21.65, 21.45, 21.55], [21.55, 21.7, 21.5, 21.7], [21.7, 21.9, 21.7, 21.9], [21.9, 21.95, 21.75, 21.8], [21.8, 21.9, 21.75, 21.9], [21.9, 22.15, 21.85, 22.05], [22.05, 22.3, 22.05, 22.2], [22.25, 22.5, 22.2, 22.45], [22.45, 22.6, 22.2, 22.35]]\n",
      "[[22.1, 22.3, 22.05, 22.15], [22.15, 22.25, 22.1, 22.1], [22.1, 22.1, 22.0, 22.0], [22.0, 22.0, 21.9, 21.95], [21.95, 22.05, 21.9, 22.0], [22.0, 22.1, 22.0, 22.05], [22.0, 22.2, 22.0, 22.05], [22.05, 22.15, 22.0, 22.05], [22.05, 22.05, 21.95, 22.05], [22.05, 22.1, 22.0, 22.0], [22.05, 22.05, 22.0, 22.05], [22.05, 22.2, 22.0, 22.15], [22.15, 22.8, 22.0, 22.35], [22.35, 22.75, 22.25, 22.45], [22.45, 22.7, 22.45, 22.6], [22.6, 22.75, 22.35, 22.45], [22.45, 22.5, 22.15, 22.3], [22.3, 22.4, 22.15, 22.2], [22.2, 22.3, 22.15, 22.3], [22.3, 22.3, 21.75, 21.85], [21.85, 22.15, 21.8, 22.1], [22.1, 22.1, 22.0, 22.1], [22.1, 22.1, 21.95, 22.0], [22.0, 22.05, 21.95, 21.95], [21.95, 22.05, 21.75, 21.85], [21.85, 21.9, 21.6, 21.8], [21.8, 21.8, 21.65, 21.7], [21.7, 21.75, 21.6, 21.65], [21.65, 21.65, 21.45, 21.55], [21.55, 21.7, 21.5, 21.7], [21.7, 21.9, 21.7, 21.9], [21.9, 21.95, 21.75, 21.8], [21.8, 21.9, 21.75, 21.9], [21.9, 22.15, 21.85, 22.05], [22.05, 22.3, 22.05, 22.2], [22.25, 22.5, 22.2, 22.45], [22.45, 22.6, 22.2, 22.35], [22.35, 22.5, 22.25, 22.4]]\n",
      "[[22.1, 22.3, 22.05, 22.15], [22.15, 22.25, 22.1, 22.1], [22.1, 22.1, 22.0, 22.0], [22.0, 22.0, 21.9, 21.95], [21.95, 22.05, 21.9, 22.0], [22.0, 22.1, 22.0, 22.05], [22.0, 22.2, 22.0, 22.05], [22.05, 22.15, 22.0, 22.05], [22.05, 22.05, 21.95, 22.05], [22.05, 22.1, 22.0, 22.0], [22.05, 22.05, 22.0, 22.05], [22.05, 22.2, 22.0, 22.15], [22.15, 22.8, 22.0, 22.35], [22.35, 22.75, 22.25, 22.45], [22.45, 22.7, 22.45, 22.6], [22.6, 22.75, 22.35, 22.45], [22.45, 22.5, 22.15, 22.3], [22.3, 22.4, 22.15, 22.2], [22.2, 22.3, 22.15, 22.3], [22.3, 22.3, 21.75, 21.85], [21.85, 22.15, 21.8, 22.1], [22.1, 22.1, 22.0, 22.1], [22.1, 22.1, 21.95, 22.0], [22.0, 22.05, 21.95, 21.95], [21.95, 22.05, 21.75, 21.85], [21.85, 21.9, 21.6, 21.8], [21.8, 21.8, 21.65, 21.7], [21.7, 21.75, 21.6, 21.65], [21.65, 21.65, 21.45, 21.55], [21.55, 21.7, 21.5, 21.7], [21.7, 21.9, 21.7, 21.9], [21.9, 21.95, 21.75, 21.8], [21.8, 21.9, 21.75, 21.9], [21.9, 22.15, 21.85, 22.05], [22.05, 22.3, 22.05, 22.2], [22.25, 22.5, 22.2, 22.45], [22.45, 22.6, 22.2, 22.35], [22.35, 22.5, 22.25, 22.4], [22.45, 22.45, 22.15, 22.35]]\n",
      "[[22.1, 22.3, 22.05, 22.15], [22.15, 22.25, 22.1, 22.1], [22.1, 22.1, 22.0, 22.0], [22.0, 22.0, 21.9, 21.95], [21.95, 22.05, 21.9, 22.0], [22.0, 22.1, 22.0, 22.05], [22.0, 22.2, 22.0, 22.05], [22.05, 22.15, 22.0, 22.05], [22.05, 22.05, 21.95, 22.05], [22.05, 22.1, 22.0, 22.0], [22.05, 22.05, 22.0, 22.05], [22.05, 22.2, 22.0, 22.15], [22.15, 22.8, 22.0, 22.35], [22.35, 22.75, 22.25, 22.45], [22.45, 22.7, 22.45, 22.6], [22.6, 22.75, 22.35, 22.45], [22.45, 22.5, 22.15, 22.3], [22.3, 22.4, 22.15, 22.2], [22.2, 22.3, 22.15, 22.3], [22.3, 22.3, 21.75, 21.85], [21.85, 22.15, 21.8, 22.1], [22.1, 22.1, 22.0, 22.1], [22.1, 22.1, 21.95, 22.0], [22.0, 22.05, 21.95, 21.95], [21.95, 22.05, 21.75, 21.85], [21.85, 21.9, 21.6, 21.8], [21.8, 21.8, 21.65, 21.7], [21.7, 21.75, 21.6, 21.65], [21.65, 21.65, 21.45, 21.55], [21.55, 21.7, 21.5, 21.7], [21.7, 21.9, 21.7, 21.9], [21.9, 21.95, 21.75, 21.8], [21.8, 21.9, 21.75, 21.9], [21.9, 22.15, 21.85, 22.05], [22.05, 22.3, 22.05, 22.2], [22.25, 22.5, 22.2, 22.45], [22.45, 22.6, 22.2, 22.35], [22.35, 22.5, 22.25, 22.4], [22.45, 22.45, 22.15, 22.35], [22.35, 25.4, 22.3, 24.1]]\n",
      "[[22.1, 22.3, 22.05, 22.15], [22.15, 22.25, 22.1, 22.1], [22.1, 22.1, 22.0, 22.0], [22.0, 22.0, 21.9, 21.95], [21.95, 22.05, 21.9, 22.0], [22.0, 22.1, 22.0, 22.05], [22.0, 22.2, 22.0, 22.05], [22.05, 22.15, 22.0, 22.05], [22.05, 22.05, 21.95, 22.05], [22.05, 22.1, 22.0, 22.0], [22.05, 22.05, 22.0, 22.05], [22.05, 22.2, 22.0, 22.15], [22.15, 22.8, 22.0, 22.35], [22.35, 22.75, 22.25, 22.45], [22.45, 22.7, 22.45, 22.6], [22.6, 22.75, 22.35, 22.45], [22.45, 22.5, 22.15, 22.3], [22.3, 22.4, 22.15, 22.2], [22.2, 22.3, 22.15, 22.3], [22.3, 22.3, 21.75, 21.85], [21.85, 22.15, 21.8, 22.1], [22.1, 22.1, 22.0, 22.1], [22.1, 22.1, 21.95, 22.0], [22.0, 22.05, 21.95, 21.95], [21.95, 22.05, 21.75, 21.85], [21.85, 21.9, 21.6, 21.8], [21.8, 21.8, 21.65, 21.7], [21.7, 21.75, 21.6, 21.65], [21.65, 21.65, 21.45, 21.55], [21.55, 21.7, 21.5, 21.7], [21.7, 21.9, 21.7, 21.9], [21.9, 21.95, 21.75, 21.8], [21.8, 21.9, 21.75, 21.9], [21.9, 22.15, 21.85, 22.05], [22.05, 22.3, 22.05, 22.2], [22.25, 22.5, 22.2, 22.45], [22.45, 22.6, 22.2, 22.35], [22.35, 22.5, 22.25, 22.4], [22.45, 22.45, 22.15, 22.35], [22.35, 25.4, 22.3, 24.1], [24.1, 25.45, 24.1, 25.3]]\n",
      "[[22.1, 22.3, 22.05, 22.15], [22.15, 22.25, 22.1, 22.1], [22.1, 22.1, 22.0, 22.0], [22.0, 22.0, 21.9, 21.95], [21.95, 22.05, 21.9, 22.0], [22.0, 22.1, 22.0, 22.05], [22.0, 22.2, 22.0, 22.05], [22.05, 22.15, 22.0, 22.05], [22.05, 22.05, 21.95, 22.05], [22.05, 22.1, 22.0, 22.0], [22.05, 22.05, 22.0, 22.05], [22.05, 22.2, 22.0, 22.15], [22.15, 22.8, 22.0, 22.35], [22.35, 22.75, 22.25, 22.45], [22.45, 22.7, 22.45, 22.6], [22.6, 22.75, 22.35, 22.45], [22.45, 22.5, 22.15, 22.3], [22.3, 22.4, 22.15, 22.2], [22.2, 22.3, 22.15, 22.3], [22.3, 22.3, 21.75, 21.85], [21.85, 22.15, 21.8, 22.1], [22.1, 22.1, 22.0, 22.1], [22.1, 22.1, 21.95, 22.0], [22.0, 22.05, 21.95, 21.95], [21.95, 22.05, 21.75, 21.85], [21.85, 21.9, 21.6, 21.8], [21.8, 21.8, 21.65, 21.7], [21.7, 21.75, 21.6, 21.65], [21.65, 21.65, 21.45, 21.55], [21.55, 21.7, 21.5, 21.7], [21.7, 21.9, 21.7, 21.9], [21.9, 21.95, 21.75, 21.8], [21.8, 21.9, 21.75, 21.9], [21.9, 22.15, 21.85, 22.05], [22.05, 22.3, 22.05, 22.2], [22.25, 22.5, 22.2, 22.45], [22.45, 22.6, 22.2, 22.35], [22.35, 22.5, 22.25, 22.4], [22.45, 22.45, 22.15, 22.35], [22.35, 25.4, 22.3, 24.1], [24.1, 25.45, 24.1, 25.3], [25.3, 26.4, 25.1, 26.0]]\n",
      "[[22.1, 22.3, 22.05, 22.15], [22.15, 22.25, 22.1, 22.1], [22.1, 22.1, 22.0, 22.0], [22.0, 22.0, 21.9, 21.95], [21.95, 22.05, 21.9, 22.0], [22.0, 22.1, 22.0, 22.05], [22.0, 22.2, 22.0, 22.05], [22.05, 22.15, 22.0, 22.05], [22.05, 22.05, 21.95, 22.05], [22.05, 22.1, 22.0, 22.0], [22.05, 22.05, 22.0, 22.05], [22.05, 22.2, 22.0, 22.15], [22.15, 22.8, 22.0, 22.35], [22.35, 22.75, 22.25, 22.45], [22.45, 22.7, 22.45, 22.6], [22.6, 22.75, 22.35, 22.45], [22.45, 22.5, 22.15, 22.3], [22.3, 22.4, 22.15, 22.2], [22.2, 22.3, 22.15, 22.3], [22.3, 22.3, 21.75, 21.85], [21.85, 22.15, 21.8, 22.1], [22.1, 22.1, 22.0, 22.1], [22.1, 22.1, 21.95, 22.0], [22.0, 22.05, 21.95, 21.95], [21.95, 22.05, 21.75, 21.85], [21.85, 21.9, 21.6, 21.8], [21.8, 21.8, 21.65, 21.7], [21.7, 21.75, 21.6, 21.65], [21.65, 21.65, 21.45, 21.55], [21.55, 21.7, 21.5, 21.7], [21.7, 21.9, 21.7, 21.9], [21.9, 21.95, 21.75, 21.8], [21.8, 21.9, 21.75, 21.9], [21.9, 22.15, 21.85, 22.05], [22.05, 22.3, 22.05, 22.2], [22.25, 22.5, 22.2, 22.45], [22.45, 22.6, 22.2, 22.35], [22.35, 22.5, 22.25, 22.4], [22.45, 22.45, 22.15, 22.35], [22.35, 25.4, 22.3, 24.1], [24.1, 25.45, 24.1, 25.3], [25.3, 26.4, 25.1, 26.0], [26.0, 26.85, 25.25, 25.5]]\n",
      "[[22.1, 22.3, 22.05, 22.15], [22.15, 22.25, 22.1, 22.1], [22.1, 22.1, 22.0, 22.0], [22.0, 22.0, 21.9, 21.95], [21.95, 22.05, 21.9, 22.0], [22.0, 22.1, 22.0, 22.05], [22.0, 22.2, 22.0, 22.05], [22.05, 22.15, 22.0, 22.05], [22.05, 22.05, 21.95, 22.05], [22.05, 22.1, 22.0, 22.0], [22.05, 22.05, 22.0, 22.05], [22.05, 22.2, 22.0, 22.15], [22.15, 22.8, 22.0, 22.35], [22.35, 22.75, 22.25, 22.45], [22.45, 22.7, 22.45, 22.6], [22.6, 22.75, 22.35, 22.45], [22.45, 22.5, 22.15, 22.3], [22.3, 22.4, 22.15, 22.2], [22.2, 22.3, 22.15, 22.3], [22.3, 22.3, 21.75, 21.85], [21.85, 22.15, 21.8, 22.1], [22.1, 22.1, 22.0, 22.1], [22.1, 22.1, 21.95, 22.0], [22.0, 22.05, 21.95, 21.95], [21.95, 22.05, 21.75, 21.85], [21.85, 21.9, 21.6, 21.8], [21.8, 21.8, 21.65, 21.7], [21.7, 21.75, 21.6, 21.65], [21.65, 21.65, 21.45, 21.55], [21.55, 21.7, 21.5, 21.7], [21.7, 21.9, 21.7, 21.9], [21.9, 21.95, 21.75, 21.8], [21.8, 21.9, 21.75, 21.9], [21.9, 22.15, 21.85, 22.05], [22.05, 22.3, 22.05, 22.2], [22.25, 22.5, 22.2, 22.45], [22.45, 22.6, 22.2, 22.35], [22.35, 22.5, 22.25, 22.4], [22.45, 22.45, 22.15, 22.35], [22.35, 25.4, 22.3, 24.1], [24.1, 25.45, 24.1, 25.3], [25.3, 26.4, 25.1, 26.0], [26.0, 26.85, 25.25, 25.5], [25.5, 26.25, 25.45, 26.2]]\n",
      "[[22.1, 22.3, 22.05, 22.15], [22.15, 22.25, 22.1, 22.1], [22.1, 22.1, 22.0, 22.0], [22.0, 22.0, 21.9, 21.95], [21.95, 22.05, 21.9, 22.0], [22.0, 22.1, 22.0, 22.05], [22.0, 22.2, 22.0, 22.05], [22.05, 22.15, 22.0, 22.05], [22.05, 22.05, 21.95, 22.05], [22.05, 22.1, 22.0, 22.0], [22.05, 22.05, 22.0, 22.05], [22.05, 22.2, 22.0, 22.15], [22.15, 22.8, 22.0, 22.35], [22.35, 22.75, 22.25, 22.45], [22.45, 22.7, 22.45, 22.6], [22.6, 22.75, 22.35, 22.45], [22.45, 22.5, 22.15, 22.3], [22.3, 22.4, 22.15, 22.2], [22.2, 22.3, 22.15, 22.3], [22.3, 22.3, 21.75, 21.85], [21.85, 22.15, 21.8, 22.1], [22.1, 22.1, 22.0, 22.1], [22.1, 22.1, 21.95, 22.0], [22.0, 22.05, 21.95, 21.95], [21.95, 22.05, 21.75, 21.85], [21.85, 21.9, 21.6, 21.8], [21.8, 21.8, 21.65, 21.7], [21.7, 21.75, 21.6, 21.65], [21.65, 21.65, 21.45, 21.55], [21.55, 21.7, 21.5, 21.7], [21.7, 21.9, 21.7, 21.9], [21.9, 21.95, 21.75, 21.8], [21.8, 21.9, 21.75, 21.9], [21.9, 22.15, 21.85, 22.05], [22.05, 22.3, 22.05, 22.2], [22.25, 22.5, 22.2, 22.45], [22.45, 22.6, 22.2, 22.35], [22.35, 22.5, 22.25, 22.4], [22.45, 22.45, 22.15, 22.35], [22.35, 25.4, 22.3, 24.1], [24.1, 25.45, 24.1, 25.3], [25.3, 26.4, 25.1, 26.0], [26.0, 26.85, 25.25, 25.5], [25.5, 26.25, 25.45, 26.2], [26.2, 26.25, 25.5, 25.6]]\n",
      "[[22.1, 22.3, 22.05, 22.15], [22.15, 22.25, 22.1, 22.1], [22.1, 22.1, 22.0, 22.0], [22.0, 22.0, 21.9, 21.95], [21.95, 22.05, 21.9, 22.0], [22.0, 22.1, 22.0, 22.05], [22.0, 22.2, 22.0, 22.05], [22.05, 22.15, 22.0, 22.05], [22.05, 22.05, 21.95, 22.05], [22.05, 22.1, 22.0, 22.0], [22.05, 22.05, 22.0, 22.05], [22.05, 22.2, 22.0, 22.15], [22.15, 22.8, 22.0, 22.35], [22.35, 22.75, 22.25, 22.45], [22.45, 22.7, 22.45, 22.6], [22.6, 22.75, 22.35, 22.45], [22.45, 22.5, 22.15, 22.3], [22.3, 22.4, 22.15, 22.2], [22.2, 22.3, 22.15, 22.3], [22.3, 22.3, 21.75, 21.85], [21.85, 22.15, 21.8, 22.1], [22.1, 22.1, 22.0, 22.1], [22.1, 22.1, 21.95, 22.0], [22.0, 22.05, 21.95, 21.95], [21.95, 22.05, 21.75, 21.85], [21.85, 21.9, 21.6, 21.8], [21.8, 21.8, 21.65, 21.7], [21.7, 21.75, 21.6, 21.65], [21.65, 21.65, 21.45, 21.55], [21.55, 21.7, 21.5, 21.7], [21.7, 21.9, 21.7, 21.9], [21.9, 21.95, 21.75, 21.8], [21.8, 21.9, 21.75, 21.9], [21.9, 22.15, 21.85, 22.05], [22.05, 22.3, 22.05, 22.2], [22.25, 22.5, 22.2, 22.45], [22.45, 22.6, 22.2, 22.35], [22.35, 22.5, 22.25, 22.4], [22.45, 22.45, 22.15, 22.35], [22.35, 25.4, 22.3, 24.1], [24.1, 25.45, 24.1, 25.3], [25.3, 26.4, 25.1, 26.0], [26.0, 26.85, 25.25, 25.5], [25.5, 26.25, 25.45, 26.2], [26.2, 26.25, 25.5, 25.6], [25.6, 25.75, 25.4, 25.65]]\n",
      "[[22.1, 22.3, 22.05, 22.15], [22.15, 22.25, 22.1, 22.1], [22.1, 22.1, 22.0, 22.0], [22.0, 22.0, 21.9, 21.95], [21.95, 22.05, 21.9, 22.0], [22.0, 22.1, 22.0, 22.05], [22.0, 22.2, 22.0, 22.05], [22.05, 22.15, 22.0, 22.05], [22.05, 22.05, 21.95, 22.05], [22.05, 22.1, 22.0, 22.0], [22.05, 22.05, 22.0, 22.05], [22.05, 22.2, 22.0, 22.15], [22.15, 22.8, 22.0, 22.35], [22.35, 22.75, 22.25, 22.45], [22.45, 22.7, 22.45, 22.6], [22.6, 22.75, 22.35, 22.45], [22.45, 22.5, 22.15, 22.3], [22.3, 22.4, 22.15, 22.2], [22.2, 22.3, 22.15, 22.3], [22.3, 22.3, 21.75, 21.85], [21.85, 22.15, 21.8, 22.1], [22.1, 22.1, 22.0, 22.1], [22.1, 22.1, 21.95, 22.0], [22.0, 22.05, 21.95, 21.95], [21.95, 22.05, 21.75, 21.85], [21.85, 21.9, 21.6, 21.8], [21.8, 21.8, 21.65, 21.7], [21.7, 21.75, 21.6, 21.65], [21.65, 21.65, 21.45, 21.55], [21.55, 21.7, 21.5, 21.7], [21.7, 21.9, 21.7, 21.9], [21.9, 21.95, 21.75, 21.8], [21.8, 21.9, 21.75, 21.9], [21.9, 22.15, 21.85, 22.05], [22.05, 22.3, 22.05, 22.2], [22.25, 22.5, 22.2, 22.45], [22.45, 22.6, 22.2, 22.35], [22.35, 22.5, 22.25, 22.4], [22.45, 22.45, 22.15, 22.35], [22.35, 25.4, 22.3, 24.1], [24.1, 25.45, 24.1, 25.3], [25.3, 26.4, 25.1, 26.0], [26.0, 26.85, 25.25, 25.5], [25.5, 26.25, 25.45, 26.2], [26.2, 26.25, 25.5, 25.6], [25.6, 25.75, 25.4, 25.65], [25.65, 25.85, 25.6, 25.8]]\n",
      "[[22.1, 22.3, 22.05, 22.15], [22.15, 22.25, 22.1, 22.1], [22.1, 22.1, 22.0, 22.0], [22.0, 22.0, 21.9, 21.95], [21.95, 22.05, 21.9, 22.0], [22.0, 22.1, 22.0, 22.05], [22.0, 22.2, 22.0, 22.05], [22.05, 22.15, 22.0, 22.05], [22.05, 22.05, 21.95, 22.05], [22.05, 22.1, 22.0, 22.0], [22.05, 22.05, 22.0, 22.05], [22.05, 22.2, 22.0, 22.15], [22.15, 22.8, 22.0, 22.35], [22.35, 22.75, 22.25, 22.45], [22.45, 22.7, 22.45, 22.6], [22.6, 22.75, 22.35, 22.45], [22.45, 22.5, 22.15, 22.3], [22.3, 22.4, 22.15, 22.2], [22.2, 22.3, 22.15, 22.3], [22.3, 22.3, 21.75, 21.85], [21.85, 22.15, 21.8, 22.1], [22.1, 22.1, 22.0, 22.1], [22.1, 22.1, 21.95, 22.0], [22.0, 22.05, 21.95, 21.95], [21.95, 22.05, 21.75, 21.85], [21.85, 21.9, 21.6, 21.8], [21.8, 21.8, 21.65, 21.7], [21.7, 21.75, 21.6, 21.65], [21.65, 21.65, 21.45, 21.55], [21.55, 21.7, 21.5, 21.7], [21.7, 21.9, 21.7, 21.9], [21.9, 21.95, 21.75, 21.8], [21.8, 21.9, 21.75, 21.9], [21.9, 22.15, 21.85, 22.05], [22.05, 22.3, 22.05, 22.2], [22.25, 22.5, 22.2, 22.45], [22.45, 22.6, 22.2, 22.35], [22.35, 22.5, 22.25, 22.4], [22.45, 22.45, 22.15, 22.35], [22.35, 25.4, 22.3, 24.1], [24.1, 25.45, 24.1, 25.3], [25.3, 26.4, 25.1, 26.0], [26.0, 26.85, 25.25, 25.5], [25.5, 26.25, 25.45, 26.2], [26.2, 26.25, 25.5, 25.6], [25.6, 25.75, 25.4, 25.65], [25.65, 25.85, 25.6, 25.8], [25.8, 26.15, 25.55, 26.05]]\n",
      "[[22.1, 22.3, 22.05, 22.15], [22.15, 22.25, 22.1, 22.1], [22.1, 22.1, 22.0, 22.0], [22.0, 22.0, 21.9, 21.95], [21.95, 22.05, 21.9, 22.0], [22.0, 22.1, 22.0, 22.05], [22.0, 22.2, 22.0, 22.05], [22.05, 22.15, 22.0, 22.05], [22.05, 22.05, 21.95, 22.05], [22.05, 22.1, 22.0, 22.0], [22.05, 22.05, 22.0, 22.05], [22.05, 22.2, 22.0, 22.15], [22.15, 22.8, 22.0, 22.35], [22.35, 22.75, 22.25, 22.45], [22.45, 22.7, 22.45, 22.6], [22.6, 22.75, 22.35, 22.45], [22.45, 22.5, 22.15, 22.3], [22.3, 22.4, 22.15, 22.2], [22.2, 22.3, 22.15, 22.3], [22.3, 22.3, 21.75, 21.85], [21.85, 22.15, 21.8, 22.1], [22.1, 22.1, 22.0, 22.1], [22.1, 22.1, 21.95, 22.0], [22.0, 22.05, 21.95, 21.95], [21.95, 22.05, 21.75, 21.85], [21.85, 21.9, 21.6, 21.8], [21.8, 21.8, 21.65, 21.7], [21.7, 21.75, 21.6, 21.65], [21.65, 21.65, 21.45, 21.55], [21.55, 21.7, 21.5, 21.7], [21.7, 21.9, 21.7, 21.9], [21.9, 21.95, 21.75, 21.8], [21.8, 21.9, 21.75, 21.9], [21.9, 22.15, 21.85, 22.05], [22.05, 22.3, 22.05, 22.2], [22.25, 22.5, 22.2, 22.45], [22.45, 22.6, 22.2, 22.35], [22.35, 22.5, 22.25, 22.4], [22.45, 22.45, 22.15, 22.35], [22.35, 25.4, 22.3, 24.1], [24.1, 25.45, 24.1, 25.3], [25.3, 26.4, 25.1, 26.0], [26.0, 26.85, 25.25, 25.5], [25.5, 26.25, 25.45, 26.2], [26.2, 26.25, 25.5, 25.6], [25.6, 25.75, 25.4, 25.65], [25.65, 25.85, 25.6, 25.8], [25.8, 26.15, 25.55, 26.05], [26.05, 32.15, 25.6, 29.35]]\n",
      "[[22.1, 22.3, 22.05, 22.15], [22.15, 22.25, 22.1, 22.1], [22.1, 22.1, 22.0, 22.0], [22.0, 22.0, 21.9, 21.95], [21.95, 22.05, 21.9, 22.0], [22.0, 22.1, 22.0, 22.05], [22.0, 22.2, 22.0, 22.05], [22.05, 22.15, 22.0, 22.05], [22.05, 22.05, 21.95, 22.05], [22.05, 22.1, 22.0, 22.0], [22.05, 22.05, 22.0, 22.05], [22.05, 22.2, 22.0, 22.15], [22.15, 22.8, 22.0, 22.35], [22.35, 22.75, 22.25, 22.45], [22.45, 22.7, 22.45, 22.6], [22.6, 22.75, 22.35, 22.45], [22.45, 22.5, 22.15, 22.3], [22.3, 22.4, 22.15, 22.2], [22.2, 22.3, 22.15, 22.3], [22.3, 22.3, 21.75, 21.85], [21.85, 22.15, 21.8, 22.1], [22.1, 22.1, 22.0, 22.1], [22.1, 22.1, 21.95, 22.0], [22.0, 22.05, 21.95, 21.95], [21.95, 22.05, 21.75, 21.85], [21.85, 21.9, 21.6, 21.8], [21.8, 21.8, 21.65, 21.7], [21.7, 21.75, 21.6, 21.65], [21.65, 21.65, 21.45, 21.55], [21.55, 21.7, 21.5, 21.7], [21.7, 21.9, 21.7, 21.9], [21.9, 21.95, 21.75, 21.8], [21.8, 21.9, 21.75, 21.9], [21.9, 22.15, 21.85, 22.05], [22.05, 22.3, 22.05, 22.2], [22.25, 22.5, 22.2, 22.45], [22.45, 22.6, 22.2, 22.35], [22.35, 22.5, 22.25, 22.4], [22.45, 22.45, 22.15, 22.35], [22.35, 25.4, 22.3, 24.1], [24.1, 25.45, 24.1, 25.3], [25.3, 26.4, 25.1, 26.0], [26.0, 26.85, 25.25, 25.5], [25.5, 26.25, 25.45, 26.2], [26.2, 26.25, 25.5, 25.6], [25.6, 25.75, 25.4, 25.65], [25.65, 25.85, 25.6, 25.8], [25.8, 26.15, 25.55, 26.05], [26.05, 32.15, 25.6, 29.35], [29.35, 30.1, 28.3, 29.4]]\n",
      "[[22.1, 22.3, 22.05, 22.15], [22.15, 22.25, 22.1, 22.1], [22.1, 22.1, 22.0, 22.0], [22.0, 22.0, 21.9, 21.95], [21.95, 22.05, 21.9, 22.0], [22.0, 22.1, 22.0, 22.05], [22.0, 22.2, 22.0, 22.05], [22.05, 22.15, 22.0, 22.05], [22.05, 22.05, 21.95, 22.05], [22.05, 22.1, 22.0, 22.0], [22.05, 22.05, 22.0, 22.05], [22.05, 22.2, 22.0, 22.15], [22.15, 22.8, 22.0, 22.35], [22.35, 22.75, 22.25, 22.45], [22.45, 22.7, 22.45, 22.6], [22.6, 22.75, 22.35, 22.45], [22.45, 22.5, 22.15, 22.3], [22.3, 22.4, 22.15, 22.2], [22.2, 22.3, 22.15, 22.3], [22.3, 22.3, 21.75, 21.85], [21.85, 22.15, 21.8, 22.1], [22.1, 22.1, 22.0, 22.1], [22.1, 22.1, 21.95, 22.0], [22.0, 22.05, 21.95, 21.95], [21.95, 22.05, 21.75, 21.85], [21.85, 21.9, 21.6, 21.8], [21.8, 21.8, 21.65, 21.7], [21.7, 21.75, 21.6, 21.65], [21.65, 21.65, 21.45, 21.55], [21.55, 21.7, 21.5, 21.7], [21.7, 21.9, 21.7, 21.9], [21.9, 21.95, 21.75, 21.8], [21.8, 21.9, 21.75, 21.9], [21.9, 22.15, 21.85, 22.05], [22.05, 22.3, 22.05, 22.2], [22.25, 22.5, 22.2, 22.45], [22.45, 22.6, 22.2, 22.35], [22.35, 22.5, 22.25, 22.4], [22.45, 22.45, 22.15, 22.35], [22.35, 25.4, 22.3, 24.1], [24.1, 25.45, 24.1, 25.3], [25.3, 26.4, 25.1, 26.0], [26.0, 26.85, 25.25, 25.5], [25.5, 26.25, 25.45, 26.2], [26.2, 26.25, 25.5, 25.6], [25.6, 25.75, 25.4, 25.65], [25.65, 25.85, 25.6, 25.8], [25.8, 26.15, 25.55, 26.05], [26.05, 32.15, 25.6, 29.35], [29.35, 30.1, 28.3, 29.4], [29.45, 29.45, 28.85, 28.95]]\n",
      "[[22.1, 22.3, 22.05, 22.15], [22.15, 22.25, 22.1, 22.1], [22.1, 22.1, 22.0, 22.0], [22.0, 22.0, 21.9, 21.95], [21.95, 22.05, 21.9, 22.0], [22.0, 22.1, 22.0, 22.05], [22.0, 22.2, 22.0, 22.05], [22.05, 22.15, 22.0, 22.05], [22.05, 22.05, 21.95, 22.05], [22.05, 22.1, 22.0, 22.0], [22.05, 22.05, 22.0, 22.05], [22.05, 22.2, 22.0, 22.15], [22.15, 22.8, 22.0, 22.35], [22.35, 22.75, 22.25, 22.45], [22.45, 22.7, 22.45, 22.6], [22.6, 22.75, 22.35, 22.45], [22.45, 22.5, 22.15, 22.3], [22.3, 22.4, 22.15, 22.2], [22.2, 22.3, 22.15, 22.3], [22.3, 22.3, 21.75, 21.85], [21.85, 22.15, 21.8, 22.1], [22.1, 22.1, 22.0, 22.1], [22.1, 22.1, 21.95, 22.0], [22.0, 22.05, 21.95, 21.95], [21.95, 22.05, 21.75, 21.85], [21.85, 21.9, 21.6, 21.8], [21.8, 21.8, 21.65, 21.7], [21.7, 21.75, 21.6, 21.65], [21.65, 21.65, 21.45, 21.55], [21.55, 21.7, 21.5, 21.7], [21.7, 21.9, 21.7, 21.9], [21.9, 21.95, 21.75, 21.8], [21.8, 21.9, 21.75, 21.9], [21.9, 22.15, 21.85, 22.05], [22.05, 22.3, 22.05, 22.2], [22.25, 22.5, 22.2, 22.45], [22.45, 22.6, 22.2, 22.35], [22.35, 22.5, 22.25, 22.4], [22.45, 22.45, 22.15, 22.35], [22.35, 25.4, 22.3, 24.1], [24.1, 25.45, 24.1, 25.3], [25.3, 26.4, 25.1, 26.0], [26.0, 26.85, 25.25, 25.5], [25.5, 26.25, 25.45, 26.2], [26.2, 26.25, 25.5, 25.6], [25.6, 25.75, 25.4, 25.65], [25.65, 25.85, 25.6, 25.8], [25.8, 26.15, 25.55, 26.05], [26.05, 32.15, 25.6, 29.35], [29.35, 30.1, 28.3, 29.4], [29.45, 29.45, 28.85, 28.95], [28.95, 29.0, 28.2, 28.55]]\n",
      "[[22.1, 22.3, 22.05, 22.15], [22.15, 22.25, 22.1, 22.1], [22.1, 22.1, 22.0, 22.0], [22.0, 22.0, 21.9, 21.95], [21.95, 22.05, 21.9, 22.0], [22.0, 22.1, 22.0, 22.05], [22.0, 22.2, 22.0, 22.05], [22.05, 22.15, 22.0, 22.05], [22.05, 22.05, 21.95, 22.05], [22.05, 22.1, 22.0, 22.0], [22.05, 22.05, 22.0, 22.05], [22.05, 22.2, 22.0, 22.15], [22.15, 22.8, 22.0, 22.35], [22.35, 22.75, 22.25, 22.45], [22.45, 22.7, 22.45, 22.6], [22.6, 22.75, 22.35, 22.45], [22.45, 22.5, 22.15, 22.3], [22.3, 22.4, 22.15, 22.2], [22.2, 22.3, 22.15, 22.3], [22.3, 22.3, 21.75, 21.85], [21.85, 22.15, 21.8, 22.1], [22.1, 22.1, 22.0, 22.1], [22.1, 22.1, 21.95, 22.0], [22.0, 22.05, 21.95, 21.95], [21.95, 22.05, 21.75, 21.85], [21.85, 21.9, 21.6, 21.8], [21.8, 21.8, 21.65, 21.7], [21.7, 21.75, 21.6, 21.65], [21.65, 21.65, 21.45, 21.55], [21.55, 21.7, 21.5, 21.7], [21.7, 21.9, 21.7, 21.9], [21.9, 21.95, 21.75, 21.8], [21.8, 21.9, 21.75, 21.9], [21.9, 22.15, 21.85, 22.05], [22.05, 22.3, 22.05, 22.2], [22.25, 22.5, 22.2, 22.45], [22.45, 22.6, 22.2, 22.35], [22.35, 22.5, 22.25, 22.4], [22.45, 22.45, 22.15, 22.35], [22.35, 25.4, 22.3, 24.1], [24.1, 25.45, 24.1, 25.3], [25.3, 26.4, 25.1, 26.0], [26.0, 26.85, 25.25, 25.5], [25.5, 26.25, 25.45, 26.2], [26.2, 26.25, 25.5, 25.6], [25.6, 25.75, 25.4, 25.65], [25.65, 25.85, 25.6, 25.8], [25.8, 26.15, 25.55, 26.05], [26.05, 32.15, 25.6, 29.35], [29.35, 30.1, 28.3, 29.4], [29.45, 29.45, 28.85, 28.95], [28.95, 29.0, 28.2, 28.55], [28.55, 28.85, 28.3, 28.8]]\n",
      "[[22.1, 22.3, 22.05, 22.15], [22.15, 22.25, 22.1, 22.1], [22.1, 22.1, 22.0, 22.0], [22.0, 22.0, 21.9, 21.95], [21.95, 22.05, 21.9, 22.0], [22.0, 22.1, 22.0, 22.05], [22.0, 22.2, 22.0, 22.05], [22.05, 22.15, 22.0, 22.05], [22.05, 22.05, 21.95, 22.05], [22.05, 22.1, 22.0, 22.0], [22.05, 22.05, 22.0, 22.05], [22.05, 22.2, 22.0, 22.15], [22.15, 22.8, 22.0, 22.35], [22.35, 22.75, 22.25, 22.45], [22.45, 22.7, 22.45, 22.6], [22.6, 22.75, 22.35, 22.45], [22.45, 22.5, 22.15, 22.3], [22.3, 22.4, 22.15, 22.2], [22.2, 22.3, 22.15, 22.3], [22.3, 22.3, 21.75, 21.85], [21.85, 22.15, 21.8, 22.1], [22.1, 22.1, 22.0, 22.1], [22.1, 22.1, 21.95, 22.0], [22.0, 22.05, 21.95, 21.95], [21.95, 22.05, 21.75, 21.85], [21.85, 21.9, 21.6, 21.8], [21.8, 21.8, 21.65, 21.7], [21.7, 21.75, 21.6, 21.65], [21.65, 21.65, 21.45, 21.55], [21.55, 21.7, 21.5, 21.7], [21.7, 21.9, 21.7, 21.9], [21.9, 21.95, 21.75, 21.8], [21.8, 21.9, 21.75, 21.9], [21.9, 22.15, 21.85, 22.05], [22.05, 22.3, 22.05, 22.2], [22.25, 22.5, 22.2, 22.45], [22.45, 22.6, 22.2, 22.35], [22.35, 22.5, 22.25, 22.4], [22.45, 22.45, 22.15, 22.35], [22.35, 25.4, 22.3, 24.1], [24.1, 25.45, 24.1, 25.3], [25.3, 26.4, 25.1, 26.0], [26.0, 26.85, 25.25, 25.5], [25.5, 26.25, 25.45, 26.2], [26.2, 26.25, 25.5, 25.6], [25.6, 25.75, 25.4, 25.65], [25.65, 25.85, 25.6, 25.8], [25.8, 26.15, 25.55, 26.05], [26.05, 32.15, 25.6, 29.35], [29.35, 30.1, 28.3, 29.4], [29.45, 29.45, 28.85, 28.95], [28.95, 29.0, 28.2, 28.55], [28.55, 28.85, 28.3, 28.8], [28.8, 28.9, 28.25, 28.75]]\n",
      "[[22.1, 22.3, 22.05, 22.15], [22.15, 22.25, 22.1, 22.1], [22.1, 22.1, 22.0, 22.0], [22.0, 22.0, 21.9, 21.95], [21.95, 22.05, 21.9, 22.0], [22.0, 22.1, 22.0, 22.05], [22.0, 22.2, 22.0, 22.05], [22.05, 22.15, 22.0, 22.05], [22.05, 22.05, 21.95, 22.05], [22.05, 22.1, 22.0, 22.0], [22.05, 22.05, 22.0, 22.05], [22.05, 22.2, 22.0, 22.15], [22.15, 22.8, 22.0, 22.35], [22.35, 22.75, 22.25, 22.45], [22.45, 22.7, 22.45, 22.6], [22.6, 22.75, 22.35, 22.45], [22.45, 22.5, 22.15, 22.3], [22.3, 22.4, 22.15, 22.2], [22.2, 22.3, 22.15, 22.3], [22.3, 22.3, 21.75, 21.85], [21.85, 22.15, 21.8, 22.1], [22.1, 22.1, 22.0, 22.1], [22.1, 22.1, 21.95, 22.0], [22.0, 22.05, 21.95, 21.95], [21.95, 22.05, 21.75, 21.85], [21.85, 21.9, 21.6, 21.8], [21.8, 21.8, 21.65, 21.7], [21.7, 21.75, 21.6, 21.65], [21.65, 21.65, 21.45, 21.55], [21.55, 21.7, 21.5, 21.7], [21.7, 21.9, 21.7, 21.9], [21.9, 21.95, 21.75, 21.8], [21.8, 21.9, 21.75, 21.9], [21.9, 22.15, 21.85, 22.05], [22.05, 22.3, 22.05, 22.2], [22.25, 22.5, 22.2, 22.45], [22.45, 22.6, 22.2, 22.35], [22.35, 22.5, 22.25, 22.4], [22.45, 22.45, 22.15, 22.35], [22.35, 25.4, 22.3, 24.1], [24.1, 25.45, 24.1, 25.3], [25.3, 26.4, 25.1, 26.0], [26.0, 26.85, 25.25, 25.5], [25.5, 26.25, 25.45, 26.2], [26.2, 26.25, 25.5, 25.6], [25.6, 25.75, 25.4, 25.65], [25.65, 25.85, 25.6, 25.8], [25.8, 26.15, 25.55, 26.05], [26.05, 32.15, 25.6, 29.35], [29.35, 30.1, 28.3, 29.4], [29.45, 29.45, 28.85, 28.95], [28.95, 29.0, 28.2, 28.55], [28.55, 28.85, 28.3, 28.8], [28.8, 28.9, 28.25, 28.75], [28.7, 28.85, 28.3, 28.4]]\n",
      "[[22.1, 22.3, 22.05, 22.15], [22.15, 22.25, 22.1, 22.1], [22.1, 22.1, 22.0, 22.0], [22.0, 22.0, 21.9, 21.95], [21.95, 22.05, 21.9, 22.0], [22.0, 22.1, 22.0, 22.05], [22.0, 22.2, 22.0, 22.05], [22.05, 22.15, 22.0, 22.05], [22.05, 22.05, 21.95, 22.05], [22.05, 22.1, 22.0, 22.0], [22.05, 22.05, 22.0, 22.05], [22.05, 22.2, 22.0, 22.15], [22.15, 22.8, 22.0, 22.35], [22.35, 22.75, 22.25, 22.45], [22.45, 22.7, 22.45, 22.6], [22.6, 22.75, 22.35, 22.45], [22.45, 22.5, 22.15, 22.3], [22.3, 22.4, 22.15, 22.2], [22.2, 22.3, 22.15, 22.3], [22.3, 22.3, 21.75, 21.85], [21.85, 22.15, 21.8, 22.1], [22.1, 22.1, 22.0, 22.1], [22.1, 22.1, 21.95, 22.0], [22.0, 22.05, 21.95, 21.95], [21.95, 22.05, 21.75, 21.85], [21.85, 21.9, 21.6, 21.8], [21.8, 21.8, 21.65, 21.7], [21.7, 21.75, 21.6, 21.65], [21.65, 21.65, 21.45, 21.55], [21.55, 21.7, 21.5, 21.7], [21.7, 21.9, 21.7, 21.9], [21.9, 21.95, 21.75, 21.8], [21.8, 21.9, 21.75, 21.9], [21.9, 22.15, 21.85, 22.05], [22.05, 22.3, 22.05, 22.2], [22.25, 22.5, 22.2, 22.45], [22.45, 22.6, 22.2, 22.35], [22.35, 22.5, 22.25, 22.4], [22.45, 22.45, 22.15, 22.35], [22.35, 25.4, 22.3, 24.1], [24.1, 25.45, 24.1, 25.3], [25.3, 26.4, 25.1, 26.0], [26.0, 26.85, 25.25, 25.5], [25.5, 26.25, 25.45, 26.2], [26.2, 26.25, 25.5, 25.6], [25.6, 25.75, 25.4, 25.65], [25.65, 25.85, 25.6, 25.8], [25.8, 26.15, 25.55, 26.05], [26.05, 32.15, 25.6, 29.35], [29.35, 30.1, 28.3, 29.4], [29.45, 29.45, 28.85, 28.95], [28.95, 29.0, 28.2, 28.55], [28.55, 28.85, 28.3, 28.8], [28.8, 28.9, 28.25, 28.75], [28.7, 28.85, 28.3, 28.4], [28.4, 28.95, 28.35, 28.75]]\n",
      "[[22.1, 22.3, 22.05, 22.15], [22.15, 22.25, 22.1, 22.1], [22.1, 22.1, 22.0, 22.0], [22.0, 22.0, 21.9, 21.95], [21.95, 22.05, 21.9, 22.0], [22.0, 22.1, 22.0, 22.05], [22.0, 22.2, 22.0, 22.05], [22.05, 22.15, 22.0, 22.05], [22.05, 22.05, 21.95, 22.05], [22.05, 22.1, 22.0, 22.0], [22.05, 22.05, 22.0, 22.05], [22.05, 22.2, 22.0, 22.15], [22.15, 22.8, 22.0, 22.35], [22.35, 22.75, 22.25, 22.45], [22.45, 22.7, 22.45, 22.6], [22.6, 22.75, 22.35, 22.45], [22.45, 22.5, 22.15, 22.3], [22.3, 22.4, 22.15, 22.2], [22.2, 22.3, 22.15, 22.3], [22.3, 22.3, 21.75, 21.85], [21.85, 22.15, 21.8, 22.1], [22.1, 22.1, 22.0, 22.1], [22.1, 22.1, 21.95, 22.0], [22.0, 22.05, 21.95, 21.95], [21.95, 22.05, 21.75, 21.85], [21.85, 21.9, 21.6, 21.8], [21.8, 21.8, 21.65, 21.7], [21.7, 21.75, 21.6, 21.65], [21.65, 21.65, 21.45, 21.55], [21.55, 21.7, 21.5, 21.7], [21.7, 21.9, 21.7, 21.9], [21.9, 21.95, 21.75, 21.8], [21.8, 21.9, 21.75, 21.9], [21.9, 22.15, 21.85, 22.05], [22.05, 22.3, 22.05, 22.2], [22.25, 22.5, 22.2, 22.45], [22.45, 22.6, 22.2, 22.35], [22.35, 22.5, 22.25, 22.4], [22.45, 22.45, 22.15, 22.35], [22.35, 25.4, 22.3, 24.1], [24.1, 25.45, 24.1, 25.3], [25.3, 26.4, 25.1, 26.0], [26.0, 26.85, 25.25, 25.5], [25.5, 26.25, 25.45, 26.2], [26.2, 26.25, 25.5, 25.6], [25.6, 25.75, 25.4, 25.65], [25.65, 25.85, 25.6, 25.8], [25.8, 26.15, 25.55, 26.05], [26.05, 32.15, 25.6, 29.35], [29.35, 30.1, 28.3, 29.4], [29.45, 29.45, 28.85, 28.95], [28.95, 29.0, 28.2, 28.55], [28.55, 28.85, 28.3, 28.8], [28.8, 28.9, 28.25, 28.75], [28.7, 28.85, 28.3, 28.4], [28.4, 28.95, 28.35, 28.75], [28.75, 30.0, 28.6, 29.15]]\n",
      "[[22.1, 22.3, 22.05, 22.15], [22.15, 22.25, 22.1, 22.1], [22.1, 22.1, 22.0, 22.0], [22.0, 22.0, 21.9, 21.95], [21.95, 22.05, 21.9, 22.0], [22.0, 22.1, 22.0, 22.05], [22.0, 22.2, 22.0, 22.05], [22.05, 22.15, 22.0, 22.05], [22.05, 22.05, 21.95, 22.05], [22.05, 22.1, 22.0, 22.0], [22.05, 22.05, 22.0, 22.05], [22.05, 22.2, 22.0, 22.15], [22.15, 22.8, 22.0, 22.35], [22.35, 22.75, 22.25, 22.45], [22.45, 22.7, 22.45, 22.6], [22.6, 22.75, 22.35, 22.45], [22.45, 22.5, 22.15, 22.3], [22.3, 22.4, 22.15, 22.2], [22.2, 22.3, 22.15, 22.3], [22.3, 22.3, 21.75, 21.85], [21.85, 22.15, 21.8, 22.1], [22.1, 22.1, 22.0, 22.1], [22.1, 22.1, 21.95, 22.0], [22.0, 22.05, 21.95, 21.95], [21.95, 22.05, 21.75, 21.85], [21.85, 21.9, 21.6, 21.8], [21.8, 21.8, 21.65, 21.7], [21.7, 21.75, 21.6, 21.65], [21.65, 21.65, 21.45, 21.55], [21.55, 21.7, 21.5, 21.7], [21.7, 21.9, 21.7, 21.9], [21.9, 21.95, 21.75, 21.8], [21.8, 21.9, 21.75, 21.9], [21.9, 22.15, 21.85, 22.05], [22.05, 22.3, 22.05, 22.2], [22.25, 22.5, 22.2, 22.45], [22.45, 22.6, 22.2, 22.35], [22.35, 22.5, 22.25, 22.4], [22.45, 22.45, 22.15, 22.35], [22.35, 25.4, 22.3, 24.1], [24.1, 25.45, 24.1, 25.3], [25.3, 26.4, 25.1, 26.0], [26.0, 26.85, 25.25, 25.5], [25.5, 26.25, 25.45, 26.2], [26.2, 26.25, 25.5, 25.6], [25.6, 25.75, 25.4, 25.65], [25.65, 25.85, 25.6, 25.8], [25.8, 26.15, 25.55, 26.05], [26.05, 32.15, 25.6, 29.35], [29.35, 30.1, 28.3, 29.4], [29.45, 29.45, 28.85, 28.95], [28.95, 29.0, 28.2, 28.55], [28.55, 28.85, 28.3, 28.8], [28.8, 28.9, 28.25, 28.75], [28.7, 28.85, 28.3, 28.4], [28.4, 28.95, 28.35, 28.75], [28.75, 30.0, 28.6, 29.15], [29.15, 29.2, 27.65, 28.2]]\n",
      "[[22.1, 22.3, 22.05, 22.15], [22.15, 22.25, 22.1, 22.1], [22.1, 22.1, 22.0, 22.0], [22.0, 22.0, 21.9, 21.95], [21.95, 22.05, 21.9, 22.0], [22.0, 22.1, 22.0, 22.05], [22.0, 22.2, 22.0, 22.05], [22.05, 22.15, 22.0, 22.05], [22.05, 22.05, 21.95, 22.05], [22.05, 22.1, 22.0, 22.0], [22.05, 22.05, 22.0, 22.05], [22.05, 22.2, 22.0, 22.15], [22.15, 22.8, 22.0, 22.35], [22.35, 22.75, 22.25, 22.45], [22.45, 22.7, 22.45, 22.6], [22.6, 22.75, 22.35, 22.45], [22.45, 22.5, 22.15, 22.3], [22.3, 22.4, 22.15, 22.2], [22.2, 22.3, 22.15, 22.3], [22.3, 22.3, 21.75, 21.85], [21.85, 22.15, 21.8, 22.1], [22.1, 22.1, 22.0, 22.1], [22.1, 22.1, 21.95, 22.0], [22.0, 22.05, 21.95, 21.95], [21.95, 22.05, 21.75, 21.85], [21.85, 21.9, 21.6, 21.8], [21.8, 21.8, 21.65, 21.7], [21.7, 21.75, 21.6, 21.65], [21.65, 21.65, 21.45, 21.55], [21.55, 21.7, 21.5, 21.7], [21.7, 21.9, 21.7, 21.9], [21.9, 21.95, 21.75, 21.8], [21.8, 21.9, 21.75, 21.9], [21.9, 22.15, 21.85, 22.05], [22.05, 22.3, 22.05, 22.2], [22.25, 22.5, 22.2, 22.45], [22.45, 22.6, 22.2, 22.35], [22.35, 22.5, 22.25, 22.4], [22.45, 22.45, 22.15, 22.35], [22.35, 25.4, 22.3, 24.1], [24.1, 25.45, 24.1, 25.3], [25.3, 26.4, 25.1, 26.0], [26.0, 26.85, 25.25, 25.5], [25.5, 26.25, 25.45, 26.2], [26.2, 26.25, 25.5, 25.6], [25.6, 25.75, 25.4, 25.65], [25.65, 25.85, 25.6, 25.8], [25.8, 26.15, 25.55, 26.05], [26.05, 32.15, 25.6, 29.35], [29.35, 30.1, 28.3, 29.4], [29.45, 29.45, 28.85, 28.95], [28.95, 29.0, 28.2, 28.55], [28.55, 28.85, 28.3, 28.8], [28.8, 28.9, 28.25, 28.75], [28.7, 28.85, 28.3, 28.4], [28.4, 28.95, 28.35, 28.75], [28.75, 30.0, 28.6, 29.15], [29.15, 29.2, 27.65, 28.2], [28.2, 28.25, 27.8, 28.1]]\n",
      "[[22.1, 22.3, 22.05, 22.15], [22.15, 22.25, 22.1, 22.1], [22.1, 22.1, 22.0, 22.0], [22.0, 22.0, 21.9, 21.95], [21.95, 22.05, 21.9, 22.0], [22.0, 22.1, 22.0, 22.05], [22.0, 22.2, 22.0, 22.05], [22.05, 22.15, 22.0, 22.05], [22.05, 22.05, 21.95, 22.05], [22.05, 22.1, 22.0, 22.0], [22.05, 22.05, 22.0, 22.05], [22.05, 22.2, 22.0, 22.15], [22.15, 22.8, 22.0, 22.35], [22.35, 22.75, 22.25, 22.45], [22.45, 22.7, 22.45, 22.6], [22.6, 22.75, 22.35, 22.45], [22.45, 22.5, 22.15, 22.3], [22.3, 22.4, 22.15, 22.2], [22.2, 22.3, 22.15, 22.3], [22.3, 22.3, 21.75, 21.85], [21.85, 22.15, 21.8, 22.1], [22.1, 22.1, 22.0, 22.1], [22.1, 22.1, 21.95, 22.0], [22.0, 22.05, 21.95, 21.95], [21.95, 22.05, 21.75, 21.85], [21.85, 21.9, 21.6, 21.8], [21.8, 21.8, 21.65, 21.7], [21.7, 21.75, 21.6, 21.65], [21.65, 21.65, 21.45, 21.55], [21.55, 21.7, 21.5, 21.7], [21.7, 21.9, 21.7, 21.9], [21.9, 21.95, 21.75, 21.8], [21.8, 21.9, 21.75, 21.9], [21.9, 22.15, 21.85, 22.05], [22.05, 22.3, 22.05, 22.2], [22.25, 22.5, 22.2, 22.45], [22.45, 22.6, 22.2, 22.35], [22.35, 22.5, 22.25, 22.4], [22.45, 22.45, 22.15, 22.35], [22.35, 25.4, 22.3, 24.1], [24.1, 25.45, 24.1, 25.3], [25.3, 26.4, 25.1, 26.0], [26.0, 26.85, 25.25, 25.5], [25.5, 26.25, 25.45, 26.2], [26.2, 26.25, 25.5, 25.6], [25.6, 25.75, 25.4, 25.65], [25.65, 25.85, 25.6, 25.8], [25.8, 26.15, 25.55, 26.05], [26.05, 32.15, 25.6, 29.35], [29.35, 30.1, 28.3, 29.4], [29.45, 29.45, 28.85, 28.95], [28.95, 29.0, 28.2, 28.55], [28.55, 28.85, 28.3, 28.8], [28.8, 28.9, 28.25, 28.75], [28.7, 28.85, 28.3, 28.4], [28.4, 28.95, 28.35, 28.75], [28.75, 30.0, 28.6, 29.15], [29.15, 29.2, 27.65, 28.2], [28.2, 28.25, 27.8, 28.1], [28.1, 28.35, 27.95, 28.05]]\n",
      "[[22.1, 22.3, 22.05, 22.15], [22.15, 22.25, 22.1, 22.1], [22.1, 22.1, 22.0, 22.0], [22.0, 22.0, 21.9, 21.95], [21.95, 22.05, 21.9, 22.0], [22.0, 22.1, 22.0, 22.05], [22.0, 22.2, 22.0, 22.05], [22.05, 22.15, 22.0, 22.05], [22.05, 22.05, 21.95, 22.05], [22.05, 22.1, 22.0, 22.0], [22.05, 22.05, 22.0, 22.05], [22.05, 22.2, 22.0, 22.15], [22.15, 22.8, 22.0, 22.35], [22.35, 22.75, 22.25, 22.45], [22.45, 22.7, 22.45, 22.6], [22.6, 22.75, 22.35, 22.45], [22.45, 22.5, 22.15, 22.3], [22.3, 22.4, 22.15, 22.2], [22.2, 22.3, 22.15, 22.3], [22.3, 22.3, 21.75, 21.85], [21.85, 22.15, 21.8, 22.1], [22.1, 22.1, 22.0, 22.1], [22.1, 22.1, 21.95, 22.0], [22.0, 22.05, 21.95, 21.95], [21.95, 22.05, 21.75, 21.85], [21.85, 21.9, 21.6, 21.8], [21.8, 21.8, 21.65, 21.7], [21.7, 21.75, 21.6, 21.65], [21.65, 21.65, 21.45, 21.55], [21.55, 21.7, 21.5, 21.7], [21.7, 21.9, 21.7, 21.9], [21.9, 21.95, 21.75, 21.8], [21.8, 21.9, 21.75, 21.9], [21.9, 22.15, 21.85, 22.05], [22.05, 22.3, 22.05, 22.2], [22.25, 22.5, 22.2, 22.45], [22.45, 22.6, 22.2, 22.35], [22.35, 22.5, 22.25, 22.4], [22.45, 22.45, 22.15, 22.35], [22.35, 25.4, 22.3, 24.1], [24.1, 25.45, 24.1, 25.3], [25.3, 26.4, 25.1, 26.0], [26.0, 26.85, 25.25, 25.5], [25.5, 26.25, 25.45, 26.2], [26.2, 26.25, 25.5, 25.6], [25.6, 25.75, 25.4, 25.65], [25.65, 25.85, 25.6, 25.8], [25.8, 26.15, 25.55, 26.05], [26.05, 32.15, 25.6, 29.35], [29.35, 30.1, 28.3, 29.4], [29.45, 29.45, 28.85, 28.95], [28.95, 29.0, 28.2, 28.55], [28.55, 28.85, 28.3, 28.8], [28.8, 28.9, 28.25, 28.75], [28.7, 28.85, 28.3, 28.4], [28.4, 28.95, 28.35, 28.75], [28.75, 30.0, 28.6, 29.15], [29.15, 29.2, 27.65, 28.2], [28.2, 28.25, 27.8, 28.1], [28.1, 28.35, 27.95, 28.05], [28.05, 28.15, 27.4, 27.55]]\n",
      "[[22.1, 22.3, 22.05, 22.15], [22.15, 22.25, 22.1, 22.1], [22.1, 22.1, 22.0, 22.0], [22.0, 22.0, 21.9, 21.95], [21.95, 22.05, 21.9, 22.0], [22.0, 22.1, 22.0, 22.05], [22.0, 22.2, 22.0, 22.05], [22.05, 22.15, 22.0, 22.05], [22.05, 22.05, 21.95, 22.05], [22.05, 22.1, 22.0, 22.0], [22.05, 22.05, 22.0, 22.05], [22.05, 22.2, 22.0, 22.15], [22.15, 22.8, 22.0, 22.35], [22.35, 22.75, 22.25, 22.45], [22.45, 22.7, 22.45, 22.6], [22.6, 22.75, 22.35, 22.45], [22.45, 22.5, 22.15, 22.3], [22.3, 22.4, 22.15, 22.2], [22.2, 22.3, 22.15, 22.3], [22.3, 22.3, 21.75, 21.85], [21.85, 22.15, 21.8, 22.1], [22.1, 22.1, 22.0, 22.1], [22.1, 22.1, 21.95, 22.0], [22.0, 22.05, 21.95, 21.95], [21.95, 22.05, 21.75, 21.85], [21.85, 21.9, 21.6, 21.8], [21.8, 21.8, 21.65, 21.7], [21.7, 21.75, 21.6, 21.65], [21.65, 21.65, 21.45, 21.55], [21.55, 21.7, 21.5, 21.7], [21.7, 21.9, 21.7, 21.9], [21.9, 21.95, 21.75, 21.8], [21.8, 21.9, 21.75, 21.9], [21.9, 22.15, 21.85, 22.05], [22.05, 22.3, 22.05, 22.2], [22.25, 22.5, 22.2, 22.45], [22.45, 22.6, 22.2, 22.35], [22.35, 22.5, 22.25, 22.4], [22.45, 22.45, 22.15, 22.35], [22.35, 25.4, 22.3, 24.1], [24.1, 25.45, 24.1, 25.3], [25.3, 26.4, 25.1, 26.0], [26.0, 26.85, 25.25, 25.5], [25.5, 26.25, 25.45, 26.2], [26.2, 26.25, 25.5, 25.6], [25.6, 25.75, 25.4, 25.65], [25.65, 25.85, 25.6, 25.8], [25.8, 26.15, 25.55, 26.05], [26.05, 32.15, 25.6, 29.35], [29.35, 30.1, 28.3, 29.4], [29.45, 29.45, 28.85, 28.95], [28.95, 29.0, 28.2, 28.55], [28.55, 28.85, 28.3, 28.8], [28.8, 28.9, 28.25, 28.75], [28.7, 28.85, 28.3, 28.4], [28.4, 28.95, 28.35, 28.75], [28.75, 30.0, 28.6, 29.15], [29.15, 29.2, 27.65, 28.2], [28.2, 28.25, 27.8, 28.1], [28.1, 28.35, 27.95, 28.05], [28.05, 28.15, 27.4, 27.55], [27.55, 28.0, 27.4, 27.9]]\n",
      "[[22.1, 22.3, 22.05, 22.15], [22.15, 22.25, 22.1, 22.1], [22.1, 22.1, 22.0, 22.0], [22.0, 22.0, 21.9, 21.95], [21.95, 22.05, 21.9, 22.0], [22.0, 22.1, 22.0, 22.05], [22.0, 22.2, 22.0, 22.05], [22.05, 22.15, 22.0, 22.05], [22.05, 22.05, 21.95, 22.05], [22.05, 22.1, 22.0, 22.0], [22.05, 22.05, 22.0, 22.05], [22.05, 22.2, 22.0, 22.15], [22.15, 22.8, 22.0, 22.35], [22.35, 22.75, 22.25, 22.45], [22.45, 22.7, 22.45, 22.6], [22.6, 22.75, 22.35, 22.45], [22.45, 22.5, 22.15, 22.3], [22.3, 22.4, 22.15, 22.2], [22.2, 22.3, 22.15, 22.3], [22.3, 22.3, 21.75, 21.85], [21.85, 22.15, 21.8, 22.1], [22.1, 22.1, 22.0, 22.1], [22.1, 22.1, 21.95, 22.0], [22.0, 22.05, 21.95, 21.95], [21.95, 22.05, 21.75, 21.85], [21.85, 21.9, 21.6, 21.8], [21.8, 21.8, 21.65, 21.7], [21.7, 21.75, 21.6, 21.65], [21.65, 21.65, 21.45, 21.55], [21.55, 21.7, 21.5, 21.7], [21.7, 21.9, 21.7, 21.9], [21.9, 21.95, 21.75, 21.8], [21.8, 21.9, 21.75, 21.9], [21.9, 22.15, 21.85, 22.05], [22.05, 22.3, 22.05, 22.2], [22.25, 22.5, 22.2, 22.45], [22.45, 22.6, 22.2, 22.35], [22.35, 22.5, 22.25, 22.4], [22.45, 22.45, 22.15, 22.35], [22.35, 25.4, 22.3, 24.1], [24.1, 25.45, 24.1, 25.3], [25.3, 26.4, 25.1, 26.0], [26.0, 26.85, 25.25, 25.5], [25.5, 26.25, 25.45, 26.2], [26.2, 26.25, 25.5, 25.6], [25.6, 25.75, 25.4, 25.65], [25.65, 25.85, 25.6, 25.8], [25.8, 26.15, 25.55, 26.05], [26.05, 32.15, 25.6, 29.35], [29.35, 30.1, 28.3, 29.4], [29.45, 29.45, 28.85, 28.95], [28.95, 29.0, 28.2, 28.55], [28.55, 28.85, 28.3, 28.8], [28.8, 28.9, 28.25, 28.75], [28.7, 28.85, 28.3, 28.4], [28.4, 28.95, 28.35, 28.75], [28.75, 30.0, 28.6, 29.15], [29.15, 29.2, 27.65, 28.2], [28.2, 28.25, 27.8, 28.1], [28.1, 28.35, 27.95, 28.05], [28.05, 28.15, 27.4, 27.55], [27.55, 28.0, 27.4, 27.9], [27.9, 28.15, 27.7, 28.1]]\n",
      "[[22.1, 22.3, 22.05, 22.15], [22.15, 22.25, 22.1, 22.1], [22.1, 22.1, 22.0, 22.0], [22.0, 22.0, 21.9, 21.95], [21.95, 22.05, 21.9, 22.0], [22.0, 22.1, 22.0, 22.05], [22.0, 22.2, 22.0, 22.05], [22.05, 22.15, 22.0, 22.05], [22.05, 22.05, 21.95, 22.05], [22.05, 22.1, 22.0, 22.0], [22.05, 22.05, 22.0, 22.05], [22.05, 22.2, 22.0, 22.15], [22.15, 22.8, 22.0, 22.35], [22.35, 22.75, 22.25, 22.45], [22.45, 22.7, 22.45, 22.6], [22.6, 22.75, 22.35, 22.45], [22.45, 22.5, 22.15, 22.3], [22.3, 22.4, 22.15, 22.2], [22.2, 22.3, 22.15, 22.3], [22.3, 22.3, 21.75, 21.85], [21.85, 22.15, 21.8, 22.1], [22.1, 22.1, 22.0, 22.1], [22.1, 22.1, 21.95, 22.0], [22.0, 22.05, 21.95, 21.95], [21.95, 22.05, 21.75, 21.85], [21.85, 21.9, 21.6, 21.8], [21.8, 21.8, 21.65, 21.7], [21.7, 21.75, 21.6, 21.65], [21.65, 21.65, 21.45, 21.55], [21.55, 21.7, 21.5, 21.7], [21.7, 21.9, 21.7, 21.9], [21.9, 21.95, 21.75, 21.8], [21.8, 21.9, 21.75, 21.9], [21.9, 22.15, 21.85, 22.05], [22.05, 22.3, 22.05, 22.2], [22.25, 22.5, 22.2, 22.45], [22.45, 22.6, 22.2, 22.35], [22.35, 22.5, 22.25, 22.4], [22.45, 22.45, 22.15, 22.35], [22.35, 25.4, 22.3, 24.1], [24.1, 25.45, 24.1, 25.3], [25.3, 26.4, 25.1, 26.0], [26.0, 26.85, 25.25, 25.5], [25.5, 26.25, 25.45, 26.2], [26.2, 26.25, 25.5, 25.6], [25.6, 25.75, 25.4, 25.65], [25.65, 25.85, 25.6, 25.8], [25.8, 26.15, 25.55, 26.05], [26.05, 32.15, 25.6, 29.35], [29.35, 30.1, 28.3, 29.4], [29.45, 29.45, 28.85, 28.95], [28.95, 29.0, 28.2, 28.55], [28.55, 28.85, 28.3, 28.8], [28.8, 28.9, 28.25, 28.75], [28.7, 28.85, 28.3, 28.4], [28.4, 28.95, 28.35, 28.75], [28.75, 30.0, 28.6, 29.15], [29.15, 29.2, 27.65, 28.2], [28.2, 28.25, 27.8, 28.1], [28.1, 28.35, 27.95, 28.05], [28.05, 28.15, 27.4, 27.55], [27.55, 28.0, 27.4, 27.9], [27.9, 28.15, 27.7, 28.1], [28.05, 28.35, 27.95, 28.2]]\n",
      "[[22.1, 22.3, 22.05, 22.15], [22.15, 22.25, 22.1, 22.1], [22.1, 22.1, 22.0, 22.0], [22.0, 22.0, 21.9, 21.95], [21.95, 22.05, 21.9, 22.0], [22.0, 22.1, 22.0, 22.05], [22.0, 22.2, 22.0, 22.05], [22.05, 22.15, 22.0, 22.05], [22.05, 22.05, 21.95, 22.05], [22.05, 22.1, 22.0, 22.0], [22.05, 22.05, 22.0, 22.05], [22.05, 22.2, 22.0, 22.15], [22.15, 22.8, 22.0, 22.35], [22.35, 22.75, 22.25, 22.45], [22.45, 22.7, 22.45, 22.6], [22.6, 22.75, 22.35, 22.45], [22.45, 22.5, 22.15, 22.3], [22.3, 22.4, 22.15, 22.2], [22.2, 22.3, 22.15, 22.3], [22.3, 22.3, 21.75, 21.85], [21.85, 22.15, 21.8, 22.1], [22.1, 22.1, 22.0, 22.1], [22.1, 22.1, 21.95, 22.0], [22.0, 22.05, 21.95, 21.95], [21.95, 22.05, 21.75, 21.85], [21.85, 21.9, 21.6, 21.8], [21.8, 21.8, 21.65, 21.7], [21.7, 21.75, 21.6, 21.65], [21.65, 21.65, 21.45, 21.55], [21.55, 21.7, 21.5, 21.7], [21.7, 21.9, 21.7, 21.9], [21.9, 21.95, 21.75, 21.8], [21.8, 21.9, 21.75, 21.9], [21.9, 22.15, 21.85, 22.05], [22.05, 22.3, 22.05, 22.2], [22.25, 22.5, 22.2, 22.45], [22.45, 22.6, 22.2, 22.35], [22.35, 22.5, 22.25, 22.4], [22.45, 22.45, 22.15, 22.35], [22.35, 25.4, 22.3, 24.1], [24.1, 25.45, 24.1, 25.3], [25.3, 26.4, 25.1, 26.0], [26.0, 26.85, 25.25, 25.5], [25.5, 26.25, 25.45, 26.2], [26.2, 26.25, 25.5, 25.6], [25.6, 25.75, 25.4, 25.65], [25.65, 25.85, 25.6, 25.8], [25.8, 26.15, 25.55, 26.05], [26.05, 32.15, 25.6, 29.35], [29.35, 30.1, 28.3, 29.4], [29.45, 29.45, 28.85, 28.95], [28.95, 29.0, 28.2, 28.55], [28.55, 28.85, 28.3, 28.8], [28.8, 28.9, 28.25, 28.75], [28.7, 28.85, 28.3, 28.4], [28.4, 28.95, 28.35, 28.75], [28.75, 30.0, 28.6, 29.15], [29.15, 29.2, 27.65, 28.2], [28.2, 28.25, 27.8, 28.1], [28.1, 28.35, 27.95, 28.05], [28.05, 28.15, 27.4, 27.55], [27.55, 28.0, 27.4, 27.9], [27.9, 28.15, 27.7, 28.1], [28.05, 28.35, 27.95, 28.2], [28.2, 28.25, 27.0, 27.45]]\n",
      "[[22.1, 22.3, 22.05, 22.15], [22.15, 22.25, 22.1, 22.1], [22.1, 22.1, 22.0, 22.0], [22.0, 22.0, 21.9, 21.95], [21.95, 22.05, 21.9, 22.0], [22.0, 22.1, 22.0, 22.05], [22.0, 22.2, 22.0, 22.05], [22.05, 22.15, 22.0, 22.05], [22.05, 22.05, 21.95, 22.05], [22.05, 22.1, 22.0, 22.0], [22.05, 22.05, 22.0, 22.05], [22.05, 22.2, 22.0, 22.15], [22.15, 22.8, 22.0, 22.35], [22.35, 22.75, 22.25, 22.45], [22.45, 22.7, 22.45, 22.6], [22.6, 22.75, 22.35, 22.45], [22.45, 22.5, 22.15, 22.3], [22.3, 22.4, 22.15, 22.2], [22.2, 22.3, 22.15, 22.3], [22.3, 22.3, 21.75, 21.85], [21.85, 22.15, 21.8, 22.1], [22.1, 22.1, 22.0, 22.1], [22.1, 22.1, 21.95, 22.0], [22.0, 22.05, 21.95, 21.95], [21.95, 22.05, 21.75, 21.85], [21.85, 21.9, 21.6, 21.8], [21.8, 21.8, 21.65, 21.7], [21.7, 21.75, 21.6, 21.65], [21.65, 21.65, 21.45, 21.55], [21.55, 21.7, 21.5, 21.7], [21.7, 21.9, 21.7, 21.9], [21.9, 21.95, 21.75, 21.8], [21.8, 21.9, 21.75, 21.9], [21.9, 22.15, 21.85, 22.05], [22.05, 22.3, 22.05, 22.2], [22.25, 22.5, 22.2, 22.45], [22.45, 22.6, 22.2, 22.35], [22.35, 22.5, 22.25, 22.4], [22.45, 22.45, 22.15, 22.35], [22.35, 25.4, 22.3, 24.1], [24.1, 25.45, 24.1, 25.3], [25.3, 26.4, 25.1, 26.0], [26.0, 26.85, 25.25, 25.5], [25.5, 26.25, 25.45, 26.2], [26.2, 26.25, 25.5, 25.6], [25.6, 25.75, 25.4, 25.65], [25.65, 25.85, 25.6, 25.8], [25.8, 26.15, 25.55, 26.05], [26.05, 32.15, 25.6, 29.35], [29.35, 30.1, 28.3, 29.4], [29.45, 29.45, 28.85, 28.95], [28.95, 29.0, 28.2, 28.55], [28.55, 28.85, 28.3, 28.8], [28.8, 28.9, 28.25, 28.75], [28.7, 28.85, 28.3, 28.4], [28.4, 28.95, 28.35, 28.75], [28.75, 30.0, 28.6, 29.15], [29.15, 29.2, 27.65, 28.2], [28.2, 28.25, 27.8, 28.1], [28.1, 28.35, 27.95, 28.05], [28.05, 28.15, 27.4, 27.55], [27.55, 28.0, 27.4, 27.9], [27.9, 28.15, 27.7, 28.1], [28.05, 28.35, 27.95, 28.2], [28.2, 28.25, 27.0, 27.45], [27.45, 27.55, 26.7, 27.15]]\n",
      "[[22.1, 22.3, 22.05, 22.15], [22.15, 22.25, 22.1, 22.1], [22.1, 22.1, 22.0, 22.0], [22.0, 22.0, 21.9, 21.95], [21.95, 22.05, 21.9, 22.0], [22.0, 22.1, 22.0, 22.05], [22.0, 22.2, 22.0, 22.05], [22.05, 22.15, 22.0, 22.05], [22.05, 22.05, 21.95, 22.05], [22.05, 22.1, 22.0, 22.0], [22.05, 22.05, 22.0, 22.05], [22.05, 22.2, 22.0, 22.15], [22.15, 22.8, 22.0, 22.35], [22.35, 22.75, 22.25, 22.45], [22.45, 22.7, 22.45, 22.6], [22.6, 22.75, 22.35, 22.45], [22.45, 22.5, 22.15, 22.3], [22.3, 22.4, 22.15, 22.2], [22.2, 22.3, 22.15, 22.3], [22.3, 22.3, 21.75, 21.85], [21.85, 22.15, 21.8, 22.1], [22.1, 22.1, 22.0, 22.1], [22.1, 22.1, 21.95, 22.0], [22.0, 22.05, 21.95, 21.95], [21.95, 22.05, 21.75, 21.85], [21.85, 21.9, 21.6, 21.8], [21.8, 21.8, 21.65, 21.7], [21.7, 21.75, 21.6, 21.65], [21.65, 21.65, 21.45, 21.55], [21.55, 21.7, 21.5, 21.7], [21.7, 21.9, 21.7, 21.9], [21.9, 21.95, 21.75, 21.8], [21.8, 21.9, 21.75, 21.9], [21.9, 22.15, 21.85, 22.05], [22.05, 22.3, 22.05, 22.2], [22.25, 22.5, 22.2, 22.45], [22.45, 22.6, 22.2, 22.35], [22.35, 22.5, 22.25, 22.4], [22.45, 22.45, 22.15, 22.35], [22.35, 25.4, 22.3, 24.1], [24.1, 25.45, 24.1, 25.3], [25.3, 26.4, 25.1, 26.0], [26.0, 26.85, 25.25, 25.5], [25.5, 26.25, 25.45, 26.2], [26.2, 26.25, 25.5, 25.6], [25.6, 25.75, 25.4, 25.65], [25.65, 25.85, 25.6, 25.8], [25.8, 26.15, 25.55, 26.05], [26.05, 32.15, 25.6, 29.35], [29.35, 30.1, 28.3, 29.4], [29.45, 29.45, 28.85, 28.95], [28.95, 29.0, 28.2, 28.55], [28.55, 28.85, 28.3, 28.8], [28.8, 28.9, 28.25, 28.75], [28.7, 28.85, 28.3, 28.4], [28.4, 28.95, 28.35, 28.75], [28.75, 30.0, 28.6, 29.15], [29.15, 29.2, 27.65, 28.2], [28.2, 28.25, 27.8, 28.1], [28.1, 28.35, 27.95, 28.05], [28.05, 28.15, 27.4, 27.55], [27.55, 28.0, 27.4, 27.9], [27.9, 28.15, 27.7, 28.1], [28.05, 28.35, 27.95, 28.2], [28.2, 28.25, 27.0, 27.45], [27.45, 27.55, 26.7, 27.15], [27.15, 27.55, 25.6, 26.0]]\n",
      "[[22.1, 22.3, 22.05, 22.15], [22.15, 22.25, 22.1, 22.1], [22.1, 22.1, 22.0, 22.0], [22.0, 22.0, 21.9, 21.95], [21.95, 22.05, 21.9, 22.0], [22.0, 22.1, 22.0, 22.05], [22.0, 22.2, 22.0, 22.05], [22.05, 22.15, 22.0, 22.05], [22.05, 22.05, 21.95, 22.05], [22.05, 22.1, 22.0, 22.0], [22.05, 22.05, 22.0, 22.05], [22.05, 22.2, 22.0, 22.15], [22.15, 22.8, 22.0, 22.35], [22.35, 22.75, 22.25, 22.45], [22.45, 22.7, 22.45, 22.6], [22.6, 22.75, 22.35, 22.45], [22.45, 22.5, 22.15, 22.3], [22.3, 22.4, 22.15, 22.2], [22.2, 22.3, 22.15, 22.3], [22.3, 22.3, 21.75, 21.85], [21.85, 22.15, 21.8, 22.1], [22.1, 22.1, 22.0, 22.1], [22.1, 22.1, 21.95, 22.0], [22.0, 22.05, 21.95, 21.95], [21.95, 22.05, 21.75, 21.85], [21.85, 21.9, 21.6, 21.8], [21.8, 21.8, 21.65, 21.7], [21.7, 21.75, 21.6, 21.65], [21.65, 21.65, 21.45, 21.55], [21.55, 21.7, 21.5, 21.7], [21.7, 21.9, 21.7, 21.9], [21.9, 21.95, 21.75, 21.8], [21.8, 21.9, 21.75, 21.9], [21.9, 22.15, 21.85, 22.05], [22.05, 22.3, 22.05, 22.2], [22.25, 22.5, 22.2, 22.45], [22.45, 22.6, 22.2, 22.35], [22.35, 22.5, 22.25, 22.4], [22.45, 22.45, 22.15, 22.35], [22.35, 25.4, 22.3, 24.1], [24.1, 25.45, 24.1, 25.3], [25.3, 26.4, 25.1, 26.0], [26.0, 26.85, 25.25, 25.5], [25.5, 26.25, 25.45, 26.2], [26.2, 26.25, 25.5, 25.6], [25.6, 25.75, 25.4, 25.65], [25.65, 25.85, 25.6, 25.8], [25.8, 26.15, 25.55, 26.05], [26.05, 32.15, 25.6, 29.35], [29.35, 30.1, 28.3, 29.4], [29.45, 29.45, 28.85, 28.95], [28.95, 29.0, 28.2, 28.55], [28.55, 28.85, 28.3, 28.8], [28.8, 28.9, 28.25, 28.75], [28.7, 28.85, 28.3, 28.4], [28.4, 28.95, 28.35, 28.75], [28.75, 30.0, 28.6, 29.15], [29.15, 29.2, 27.65, 28.2], [28.2, 28.25, 27.8, 28.1], [28.1, 28.35, 27.95, 28.05], [28.05, 28.15, 27.4, 27.55], [27.55, 28.0, 27.4, 27.9], [27.9, 28.15, 27.7, 28.1], [28.05, 28.35, 27.95, 28.2], [28.2, 28.25, 27.0, 27.45], [27.45, 27.55, 26.7, 27.15], [27.15, 27.55, 25.6, 26.0], [26.0, 26.6, 25.6, 26.1]]\n",
      "[[22.1, 22.3, 22.05, 22.15], [22.15, 22.25, 22.1, 22.1], [22.1, 22.1, 22.0, 22.0], [22.0, 22.0, 21.9, 21.95], [21.95, 22.05, 21.9, 22.0], [22.0, 22.1, 22.0, 22.05], [22.0, 22.2, 22.0, 22.05], [22.05, 22.15, 22.0, 22.05], [22.05, 22.05, 21.95, 22.05], [22.05, 22.1, 22.0, 22.0], [22.05, 22.05, 22.0, 22.05], [22.05, 22.2, 22.0, 22.15], [22.15, 22.8, 22.0, 22.35], [22.35, 22.75, 22.25, 22.45], [22.45, 22.7, 22.45, 22.6], [22.6, 22.75, 22.35, 22.45], [22.45, 22.5, 22.15, 22.3], [22.3, 22.4, 22.15, 22.2], [22.2, 22.3, 22.15, 22.3], [22.3, 22.3, 21.75, 21.85], [21.85, 22.15, 21.8, 22.1], [22.1, 22.1, 22.0, 22.1], [22.1, 22.1, 21.95, 22.0], [22.0, 22.05, 21.95, 21.95], [21.95, 22.05, 21.75, 21.85], [21.85, 21.9, 21.6, 21.8], [21.8, 21.8, 21.65, 21.7], [21.7, 21.75, 21.6, 21.65], [21.65, 21.65, 21.45, 21.55], [21.55, 21.7, 21.5, 21.7], [21.7, 21.9, 21.7, 21.9], [21.9, 21.95, 21.75, 21.8], [21.8, 21.9, 21.75, 21.9], [21.9, 22.15, 21.85, 22.05], [22.05, 22.3, 22.05, 22.2], [22.25, 22.5, 22.2, 22.45], [22.45, 22.6, 22.2, 22.35], [22.35, 22.5, 22.25, 22.4], [22.45, 22.45, 22.15, 22.35], [22.35, 25.4, 22.3, 24.1], [24.1, 25.45, 24.1, 25.3], [25.3, 26.4, 25.1, 26.0], [26.0, 26.85, 25.25, 25.5], [25.5, 26.25, 25.45, 26.2], [26.2, 26.25, 25.5, 25.6], [25.6, 25.75, 25.4, 25.65], [25.65, 25.85, 25.6, 25.8], [25.8, 26.15, 25.55, 26.05], [26.05, 32.15, 25.6, 29.35], [29.35, 30.1, 28.3, 29.4], [29.45, 29.45, 28.85, 28.95], [28.95, 29.0, 28.2, 28.55], [28.55, 28.85, 28.3, 28.8], [28.8, 28.9, 28.25, 28.75], [28.7, 28.85, 28.3, 28.4], [28.4, 28.95, 28.35, 28.75], [28.75, 30.0, 28.6, 29.15], [29.15, 29.2, 27.65, 28.2], [28.2, 28.25, 27.8, 28.1], [28.1, 28.35, 27.95, 28.05], [28.05, 28.15, 27.4, 27.55], [27.55, 28.0, 27.4, 27.9], [27.9, 28.15, 27.7, 28.1], [28.05, 28.35, 27.95, 28.2], [28.2, 28.25, 27.0, 27.45], [27.45, 27.55, 26.7, 27.15], [27.15, 27.55, 25.6, 26.0], [26.0, 26.6, 25.6, 26.1], [26.1, 26.4, 25.25, 26.15]]\n",
      "[[22.1, 22.3, 22.05, 22.15], [22.15, 22.25, 22.1, 22.1], [22.1, 22.1, 22.0, 22.0], [22.0, 22.0, 21.9, 21.95], [21.95, 22.05, 21.9, 22.0], [22.0, 22.1, 22.0, 22.05], [22.0, 22.2, 22.0, 22.05], [22.05, 22.15, 22.0, 22.05], [22.05, 22.05, 21.95, 22.05], [22.05, 22.1, 22.0, 22.0], [22.05, 22.05, 22.0, 22.05], [22.05, 22.2, 22.0, 22.15], [22.15, 22.8, 22.0, 22.35], [22.35, 22.75, 22.25, 22.45], [22.45, 22.7, 22.45, 22.6], [22.6, 22.75, 22.35, 22.45], [22.45, 22.5, 22.15, 22.3], [22.3, 22.4, 22.15, 22.2], [22.2, 22.3, 22.15, 22.3], [22.3, 22.3, 21.75, 21.85], [21.85, 22.15, 21.8, 22.1], [22.1, 22.1, 22.0, 22.1], [22.1, 22.1, 21.95, 22.0], [22.0, 22.05, 21.95, 21.95], [21.95, 22.05, 21.75, 21.85], [21.85, 21.9, 21.6, 21.8], [21.8, 21.8, 21.65, 21.7], [21.7, 21.75, 21.6, 21.65], [21.65, 21.65, 21.45, 21.55], [21.55, 21.7, 21.5, 21.7], [21.7, 21.9, 21.7, 21.9], [21.9, 21.95, 21.75, 21.8], [21.8, 21.9, 21.75, 21.9], [21.9, 22.15, 21.85, 22.05], [22.05, 22.3, 22.05, 22.2], [22.25, 22.5, 22.2, 22.45], [22.45, 22.6, 22.2, 22.35], [22.35, 22.5, 22.25, 22.4], [22.45, 22.45, 22.15, 22.35], [22.35, 25.4, 22.3, 24.1], [24.1, 25.45, 24.1, 25.3], [25.3, 26.4, 25.1, 26.0], [26.0, 26.85, 25.25, 25.5], [25.5, 26.25, 25.45, 26.2], [26.2, 26.25, 25.5, 25.6], [25.6, 25.75, 25.4, 25.65], [25.65, 25.85, 25.6, 25.8], [25.8, 26.15, 25.55, 26.05], [26.05, 32.15, 25.6, 29.35], [29.35, 30.1, 28.3, 29.4], [29.45, 29.45, 28.85, 28.95], [28.95, 29.0, 28.2, 28.55], [28.55, 28.85, 28.3, 28.8], [28.8, 28.9, 28.25, 28.75], [28.7, 28.85, 28.3, 28.4], [28.4, 28.95, 28.35, 28.75], [28.75, 30.0, 28.6, 29.15], [29.15, 29.2, 27.65, 28.2], [28.2, 28.25, 27.8, 28.1], [28.1, 28.35, 27.95, 28.05], [28.05, 28.15, 27.4, 27.55], [27.55, 28.0, 27.4, 27.9], [27.9, 28.15, 27.7, 28.1], [28.05, 28.35, 27.95, 28.2], [28.2, 28.25, 27.0, 27.45], [27.45, 27.55, 26.7, 27.15], [27.15, 27.55, 25.6, 26.0], [26.0, 26.6, 25.6, 26.1], [26.1, 26.4, 25.25, 26.15], [26.15, 26.6, 26.15, 26.55]]\n",
      "[[22.1, 22.3, 22.05, 22.15], [22.15, 22.25, 22.1, 22.1], [22.1, 22.1, 22.0, 22.0], [22.0, 22.0, 21.9, 21.95], [21.95, 22.05, 21.9, 22.0], [22.0, 22.1, 22.0, 22.05], [22.0, 22.2, 22.0, 22.05], [22.05, 22.15, 22.0, 22.05], [22.05, 22.05, 21.95, 22.05], [22.05, 22.1, 22.0, 22.0], [22.05, 22.05, 22.0, 22.05], [22.05, 22.2, 22.0, 22.15], [22.15, 22.8, 22.0, 22.35], [22.35, 22.75, 22.25, 22.45], [22.45, 22.7, 22.45, 22.6], [22.6, 22.75, 22.35, 22.45], [22.45, 22.5, 22.15, 22.3], [22.3, 22.4, 22.15, 22.2], [22.2, 22.3, 22.15, 22.3], [22.3, 22.3, 21.75, 21.85], [21.85, 22.15, 21.8, 22.1], [22.1, 22.1, 22.0, 22.1], [22.1, 22.1, 21.95, 22.0], [22.0, 22.05, 21.95, 21.95], [21.95, 22.05, 21.75, 21.85], [21.85, 21.9, 21.6, 21.8], [21.8, 21.8, 21.65, 21.7], [21.7, 21.75, 21.6, 21.65], [21.65, 21.65, 21.45, 21.55], [21.55, 21.7, 21.5, 21.7], [21.7, 21.9, 21.7, 21.9], [21.9, 21.95, 21.75, 21.8], [21.8, 21.9, 21.75, 21.9], [21.9, 22.15, 21.85, 22.05], [22.05, 22.3, 22.05, 22.2], [22.25, 22.5, 22.2, 22.45], [22.45, 22.6, 22.2, 22.35], [22.35, 22.5, 22.25, 22.4], [22.45, 22.45, 22.15, 22.35], [22.35, 25.4, 22.3, 24.1], [24.1, 25.45, 24.1, 25.3], [25.3, 26.4, 25.1, 26.0], [26.0, 26.85, 25.25, 25.5], [25.5, 26.25, 25.45, 26.2], [26.2, 26.25, 25.5, 25.6], [25.6, 25.75, 25.4, 25.65], [25.65, 25.85, 25.6, 25.8], [25.8, 26.15, 25.55, 26.05], [26.05, 32.15, 25.6, 29.35], [29.35, 30.1, 28.3, 29.4], [29.45, 29.45, 28.85, 28.95], [28.95, 29.0, 28.2, 28.55], [28.55, 28.85, 28.3, 28.8], [28.8, 28.9, 28.25, 28.75], [28.7, 28.85, 28.3, 28.4], [28.4, 28.95, 28.35, 28.75], [28.75, 30.0, 28.6, 29.15], [29.15, 29.2, 27.65, 28.2], [28.2, 28.25, 27.8, 28.1], [28.1, 28.35, 27.95, 28.05], [28.05, 28.15, 27.4, 27.55], [27.55, 28.0, 27.4, 27.9], [27.9, 28.15, 27.7, 28.1], [28.05, 28.35, 27.95, 28.2], [28.2, 28.25, 27.0, 27.45], [27.45, 27.55, 26.7, 27.15], [27.15, 27.55, 25.6, 26.0], [26.0, 26.6, 25.6, 26.1], [26.1, 26.4, 25.25, 26.15], [26.15, 26.6, 26.15, 26.55], [26.5, 26.65, 26.25, 26.35]]\n",
      "[[22.1, 22.3, 22.05, 22.15], [22.15, 22.25, 22.1, 22.1], [22.1, 22.1, 22.0, 22.0], [22.0, 22.0, 21.9, 21.95], [21.95, 22.05, 21.9, 22.0], [22.0, 22.1, 22.0, 22.05], [22.0, 22.2, 22.0, 22.05], [22.05, 22.15, 22.0, 22.05], [22.05, 22.05, 21.95, 22.05], [22.05, 22.1, 22.0, 22.0], [22.05, 22.05, 22.0, 22.05], [22.05, 22.2, 22.0, 22.15], [22.15, 22.8, 22.0, 22.35], [22.35, 22.75, 22.25, 22.45], [22.45, 22.7, 22.45, 22.6], [22.6, 22.75, 22.35, 22.45], [22.45, 22.5, 22.15, 22.3], [22.3, 22.4, 22.15, 22.2], [22.2, 22.3, 22.15, 22.3], [22.3, 22.3, 21.75, 21.85], [21.85, 22.15, 21.8, 22.1], [22.1, 22.1, 22.0, 22.1], [22.1, 22.1, 21.95, 22.0], [22.0, 22.05, 21.95, 21.95], [21.95, 22.05, 21.75, 21.85], [21.85, 21.9, 21.6, 21.8], [21.8, 21.8, 21.65, 21.7], [21.7, 21.75, 21.6, 21.65], [21.65, 21.65, 21.45, 21.55], [21.55, 21.7, 21.5, 21.7], [21.7, 21.9, 21.7, 21.9], [21.9, 21.95, 21.75, 21.8], [21.8, 21.9, 21.75, 21.9], [21.9, 22.15, 21.85, 22.05], [22.05, 22.3, 22.05, 22.2], [22.25, 22.5, 22.2, 22.45], [22.45, 22.6, 22.2, 22.35], [22.35, 22.5, 22.25, 22.4], [22.45, 22.45, 22.15, 22.35], [22.35, 25.4, 22.3, 24.1], [24.1, 25.45, 24.1, 25.3], [25.3, 26.4, 25.1, 26.0], [26.0, 26.85, 25.25, 25.5], [25.5, 26.25, 25.45, 26.2], [26.2, 26.25, 25.5, 25.6], [25.6, 25.75, 25.4, 25.65], [25.65, 25.85, 25.6, 25.8], [25.8, 26.15, 25.55, 26.05], [26.05, 32.15, 25.6, 29.35], [29.35, 30.1, 28.3, 29.4], [29.45, 29.45, 28.85, 28.95], [28.95, 29.0, 28.2, 28.55], [28.55, 28.85, 28.3, 28.8], [28.8, 28.9, 28.25, 28.75], [28.7, 28.85, 28.3, 28.4], [28.4, 28.95, 28.35, 28.75], [28.75, 30.0, 28.6, 29.15], [29.15, 29.2, 27.65, 28.2], [28.2, 28.25, 27.8, 28.1], [28.1, 28.35, 27.95, 28.05], [28.05, 28.15, 27.4, 27.55], [27.55, 28.0, 27.4, 27.9], [27.9, 28.15, 27.7, 28.1], [28.05, 28.35, 27.95, 28.2], [28.2, 28.25, 27.0, 27.45], [27.45, 27.55, 26.7, 27.15], [27.15, 27.55, 25.6, 26.0], [26.0, 26.6, 25.6, 26.1], [26.1, 26.4, 25.25, 26.15], [26.15, 26.6, 26.15, 26.55], [26.5, 26.65, 26.25, 26.35], [26.35, 26.95, 26.35, 26.7]]\n",
      "[[22.1, 22.3, 22.05, 22.15], [22.15, 22.25, 22.1, 22.1], [22.1, 22.1, 22.0, 22.0], [22.0, 22.0, 21.9, 21.95], [21.95, 22.05, 21.9, 22.0], [22.0, 22.1, 22.0, 22.05], [22.0, 22.2, 22.0, 22.05], [22.05, 22.15, 22.0, 22.05], [22.05, 22.05, 21.95, 22.05], [22.05, 22.1, 22.0, 22.0], [22.05, 22.05, 22.0, 22.05], [22.05, 22.2, 22.0, 22.15], [22.15, 22.8, 22.0, 22.35], [22.35, 22.75, 22.25, 22.45], [22.45, 22.7, 22.45, 22.6], [22.6, 22.75, 22.35, 22.45], [22.45, 22.5, 22.15, 22.3], [22.3, 22.4, 22.15, 22.2], [22.2, 22.3, 22.15, 22.3], [22.3, 22.3, 21.75, 21.85], [21.85, 22.15, 21.8, 22.1], [22.1, 22.1, 22.0, 22.1], [22.1, 22.1, 21.95, 22.0], [22.0, 22.05, 21.95, 21.95], [21.95, 22.05, 21.75, 21.85], [21.85, 21.9, 21.6, 21.8], [21.8, 21.8, 21.65, 21.7], [21.7, 21.75, 21.6, 21.65], [21.65, 21.65, 21.45, 21.55], [21.55, 21.7, 21.5, 21.7], [21.7, 21.9, 21.7, 21.9], [21.9, 21.95, 21.75, 21.8], [21.8, 21.9, 21.75, 21.9], [21.9, 22.15, 21.85, 22.05], [22.05, 22.3, 22.05, 22.2], [22.25, 22.5, 22.2, 22.45], [22.45, 22.6, 22.2, 22.35], [22.35, 22.5, 22.25, 22.4], [22.45, 22.45, 22.15, 22.35], [22.35, 25.4, 22.3, 24.1], [24.1, 25.45, 24.1, 25.3], [25.3, 26.4, 25.1, 26.0], [26.0, 26.85, 25.25, 25.5], [25.5, 26.25, 25.45, 26.2], [26.2, 26.25, 25.5, 25.6], [25.6, 25.75, 25.4, 25.65], [25.65, 25.85, 25.6, 25.8], [25.8, 26.15, 25.55, 26.05], [26.05, 32.15, 25.6, 29.35], [29.35, 30.1, 28.3, 29.4], [29.45, 29.45, 28.85, 28.95], [28.95, 29.0, 28.2, 28.55], [28.55, 28.85, 28.3, 28.8], [28.8, 28.9, 28.25, 28.75], [28.7, 28.85, 28.3, 28.4], [28.4, 28.95, 28.35, 28.75], [28.75, 30.0, 28.6, 29.15], [29.15, 29.2, 27.65, 28.2], [28.2, 28.25, 27.8, 28.1], [28.1, 28.35, 27.95, 28.05], [28.05, 28.15, 27.4, 27.55], [27.55, 28.0, 27.4, 27.9], [27.9, 28.15, 27.7, 28.1], [28.05, 28.35, 27.95, 28.2], [28.2, 28.25, 27.0, 27.45], [27.45, 27.55, 26.7, 27.15], [27.15, 27.55, 25.6, 26.0], [26.0, 26.6, 25.6, 26.1], [26.1, 26.4, 25.25, 26.15], [26.15, 26.6, 26.15, 26.55], [26.5, 26.65, 26.25, 26.35], [26.35, 26.95, 26.35, 26.7], [26.7, 27.8, 26.45, 27.7]]\n",
      "[[22.1, 22.3, 22.05, 22.15], [22.15, 22.25, 22.1, 22.1], [22.1, 22.1, 22.0, 22.0], [22.0, 22.0, 21.9, 21.95], [21.95, 22.05, 21.9, 22.0], [22.0, 22.1, 22.0, 22.05], [22.0, 22.2, 22.0, 22.05], [22.05, 22.15, 22.0, 22.05], [22.05, 22.05, 21.95, 22.05], [22.05, 22.1, 22.0, 22.0], [22.05, 22.05, 22.0, 22.05], [22.05, 22.2, 22.0, 22.15], [22.15, 22.8, 22.0, 22.35], [22.35, 22.75, 22.25, 22.45], [22.45, 22.7, 22.45, 22.6], [22.6, 22.75, 22.35, 22.45], [22.45, 22.5, 22.15, 22.3], [22.3, 22.4, 22.15, 22.2], [22.2, 22.3, 22.15, 22.3], [22.3, 22.3, 21.75, 21.85], [21.85, 22.15, 21.8, 22.1], [22.1, 22.1, 22.0, 22.1], [22.1, 22.1, 21.95, 22.0], [22.0, 22.05, 21.95, 21.95], [21.95, 22.05, 21.75, 21.85], [21.85, 21.9, 21.6, 21.8], [21.8, 21.8, 21.65, 21.7], [21.7, 21.75, 21.6, 21.65], [21.65, 21.65, 21.45, 21.55], [21.55, 21.7, 21.5, 21.7], [21.7, 21.9, 21.7, 21.9], [21.9, 21.95, 21.75, 21.8], [21.8, 21.9, 21.75, 21.9], [21.9, 22.15, 21.85, 22.05], [22.05, 22.3, 22.05, 22.2], [22.25, 22.5, 22.2, 22.45], [22.45, 22.6, 22.2, 22.35], [22.35, 22.5, 22.25, 22.4], [22.45, 22.45, 22.15, 22.35], [22.35, 25.4, 22.3, 24.1], [24.1, 25.45, 24.1, 25.3], [25.3, 26.4, 25.1, 26.0], [26.0, 26.85, 25.25, 25.5], [25.5, 26.25, 25.45, 26.2], [26.2, 26.25, 25.5, 25.6], [25.6, 25.75, 25.4, 25.65], [25.65, 25.85, 25.6, 25.8], [25.8, 26.15, 25.55, 26.05], [26.05, 32.15, 25.6, 29.35], [29.35, 30.1, 28.3, 29.4], [29.45, 29.45, 28.85, 28.95], [28.95, 29.0, 28.2, 28.55], [28.55, 28.85, 28.3, 28.8], [28.8, 28.9, 28.25, 28.75], [28.7, 28.85, 28.3, 28.4], [28.4, 28.95, 28.35, 28.75], [28.75, 30.0, 28.6, 29.15], [29.15, 29.2, 27.65, 28.2], [28.2, 28.25, 27.8, 28.1], [28.1, 28.35, 27.95, 28.05], [28.05, 28.15, 27.4, 27.55], [27.55, 28.0, 27.4, 27.9], [27.9, 28.15, 27.7, 28.1], [28.05, 28.35, 27.95, 28.2], [28.2, 28.25, 27.0, 27.45], [27.45, 27.55, 26.7, 27.15], [27.15, 27.55, 25.6, 26.0], [26.0, 26.6, 25.6, 26.1], [26.1, 26.4, 25.25, 26.15], [26.15, 26.6, 26.15, 26.55], [26.5, 26.65, 26.25, 26.35], [26.35, 26.95, 26.35, 26.7], [26.7, 27.8, 26.45, 27.7], [27.7, 28.05, 27.35, 27.5]]\n",
      "[[22.1, 22.3, 22.05, 22.15], [22.15, 22.25, 22.1, 22.1], [22.1, 22.1, 22.0, 22.0], [22.0, 22.0, 21.9, 21.95], [21.95, 22.05, 21.9, 22.0], [22.0, 22.1, 22.0, 22.05], [22.0, 22.2, 22.0, 22.05], [22.05, 22.15, 22.0, 22.05], [22.05, 22.05, 21.95, 22.05], [22.05, 22.1, 22.0, 22.0], [22.05, 22.05, 22.0, 22.05], [22.05, 22.2, 22.0, 22.15], [22.15, 22.8, 22.0, 22.35], [22.35, 22.75, 22.25, 22.45], [22.45, 22.7, 22.45, 22.6], [22.6, 22.75, 22.35, 22.45], [22.45, 22.5, 22.15, 22.3], [22.3, 22.4, 22.15, 22.2], [22.2, 22.3, 22.15, 22.3], [22.3, 22.3, 21.75, 21.85], [21.85, 22.15, 21.8, 22.1], [22.1, 22.1, 22.0, 22.1], [22.1, 22.1, 21.95, 22.0], [22.0, 22.05, 21.95, 21.95], [21.95, 22.05, 21.75, 21.85], [21.85, 21.9, 21.6, 21.8], [21.8, 21.8, 21.65, 21.7], [21.7, 21.75, 21.6, 21.65], [21.65, 21.65, 21.45, 21.55], [21.55, 21.7, 21.5, 21.7], [21.7, 21.9, 21.7, 21.9], [21.9, 21.95, 21.75, 21.8], [21.8, 21.9, 21.75, 21.9], [21.9, 22.15, 21.85, 22.05], [22.05, 22.3, 22.05, 22.2], [22.25, 22.5, 22.2, 22.45], [22.45, 22.6, 22.2, 22.35], [22.35, 22.5, 22.25, 22.4], [22.45, 22.45, 22.15, 22.35], [22.35, 25.4, 22.3, 24.1], [24.1, 25.45, 24.1, 25.3], [25.3, 26.4, 25.1, 26.0], [26.0, 26.85, 25.25, 25.5], [25.5, 26.25, 25.45, 26.2], [26.2, 26.25, 25.5, 25.6], [25.6, 25.75, 25.4, 25.65], [25.65, 25.85, 25.6, 25.8], [25.8, 26.15, 25.55, 26.05], [26.05, 32.15, 25.6, 29.35], [29.35, 30.1, 28.3, 29.4], [29.45, 29.45, 28.85, 28.95], [28.95, 29.0, 28.2, 28.55], [28.55, 28.85, 28.3, 28.8], [28.8, 28.9, 28.25, 28.75], [28.7, 28.85, 28.3, 28.4], [28.4, 28.95, 28.35, 28.75], [28.75, 30.0, 28.6, 29.15], [29.15, 29.2, 27.65, 28.2], [28.2, 28.25, 27.8, 28.1], [28.1, 28.35, 27.95, 28.05], [28.05, 28.15, 27.4, 27.55], [27.55, 28.0, 27.4, 27.9], [27.9, 28.15, 27.7, 28.1], [28.05, 28.35, 27.95, 28.2], [28.2, 28.25, 27.0, 27.45], [27.45, 27.55, 26.7, 27.15], [27.15, 27.55, 25.6, 26.0], [26.0, 26.6, 25.6, 26.1], [26.1, 26.4, 25.25, 26.15], [26.15, 26.6, 26.15, 26.55], [26.5, 26.65, 26.25, 26.35], [26.35, 26.95, 26.35, 26.7], [26.7, 27.8, 26.45, 27.7], [27.7, 28.05, 27.35, 27.5], [27.5, 27.7, 27.35, 27.5]]\n",
      "[[22.1, 22.3, 22.05, 22.15], [22.15, 22.25, 22.1, 22.1], [22.1, 22.1, 22.0, 22.0], [22.0, 22.0, 21.9, 21.95], [21.95, 22.05, 21.9, 22.0], [22.0, 22.1, 22.0, 22.05], [22.0, 22.2, 22.0, 22.05], [22.05, 22.15, 22.0, 22.05], [22.05, 22.05, 21.95, 22.05], [22.05, 22.1, 22.0, 22.0], [22.05, 22.05, 22.0, 22.05], [22.05, 22.2, 22.0, 22.15], [22.15, 22.8, 22.0, 22.35], [22.35, 22.75, 22.25, 22.45], [22.45, 22.7, 22.45, 22.6], [22.6, 22.75, 22.35, 22.45], [22.45, 22.5, 22.15, 22.3], [22.3, 22.4, 22.15, 22.2], [22.2, 22.3, 22.15, 22.3], [22.3, 22.3, 21.75, 21.85], [21.85, 22.15, 21.8, 22.1], [22.1, 22.1, 22.0, 22.1], [22.1, 22.1, 21.95, 22.0], [22.0, 22.05, 21.95, 21.95], [21.95, 22.05, 21.75, 21.85], [21.85, 21.9, 21.6, 21.8], [21.8, 21.8, 21.65, 21.7], [21.7, 21.75, 21.6, 21.65], [21.65, 21.65, 21.45, 21.55], [21.55, 21.7, 21.5, 21.7], [21.7, 21.9, 21.7, 21.9], [21.9, 21.95, 21.75, 21.8], [21.8, 21.9, 21.75, 21.9], [21.9, 22.15, 21.85, 22.05], [22.05, 22.3, 22.05, 22.2], [22.25, 22.5, 22.2, 22.45], [22.45, 22.6, 22.2, 22.35], [22.35, 22.5, 22.25, 22.4], [22.45, 22.45, 22.15, 22.35], [22.35, 25.4, 22.3, 24.1], [24.1, 25.45, 24.1, 25.3], [25.3, 26.4, 25.1, 26.0], [26.0, 26.85, 25.25, 25.5], [25.5, 26.25, 25.45, 26.2], [26.2, 26.25, 25.5, 25.6], [25.6, 25.75, 25.4, 25.65], [25.65, 25.85, 25.6, 25.8], [25.8, 26.15, 25.55, 26.05], [26.05, 32.15, 25.6, 29.35], [29.35, 30.1, 28.3, 29.4], [29.45, 29.45, 28.85, 28.95], [28.95, 29.0, 28.2, 28.55], [28.55, 28.85, 28.3, 28.8], [28.8, 28.9, 28.25, 28.75], [28.7, 28.85, 28.3, 28.4], [28.4, 28.95, 28.35, 28.75], [28.75, 30.0, 28.6, 29.15], [29.15, 29.2, 27.65, 28.2], [28.2, 28.25, 27.8, 28.1], [28.1, 28.35, 27.95, 28.05], [28.05, 28.15, 27.4, 27.55], [27.55, 28.0, 27.4, 27.9], [27.9, 28.15, 27.7, 28.1], [28.05, 28.35, 27.95, 28.2], [28.2, 28.25, 27.0, 27.45], [27.45, 27.55, 26.7, 27.15], [27.15, 27.55, 25.6, 26.0], [26.0, 26.6, 25.6, 26.1], [26.1, 26.4, 25.25, 26.15], [26.15, 26.6, 26.15, 26.55], [26.5, 26.65, 26.25, 26.35], [26.35, 26.95, 26.35, 26.7], [26.7, 27.8, 26.45, 27.7], [27.7, 28.05, 27.35, 27.5], [27.5, 27.7, 27.35, 27.5], [27.5, 27.7, 27.05, 27.15]]\n",
      "[[22.1, 22.3, 22.05, 22.15], [22.15, 22.25, 22.1, 22.1], [22.1, 22.1, 22.0, 22.0], [22.0, 22.0, 21.9, 21.95], [21.95, 22.05, 21.9, 22.0], [22.0, 22.1, 22.0, 22.05], [22.0, 22.2, 22.0, 22.05], [22.05, 22.15, 22.0, 22.05], [22.05, 22.05, 21.95, 22.05], [22.05, 22.1, 22.0, 22.0], [22.05, 22.05, 22.0, 22.05], [22.05, 22.2, 22.0, 22.15], [22.15, 22.8, 22.0, 22.35], [22.35, 22.75, 22.25, 22.45], [22.45, 22.7, 22.45, 22.6], [22.6, 22.75, 22.35, 22.45], [22.45, 22.5, 22.15, 22.3], [22.3, 22.4, 22.15, 22.2], [22.2, 22.3, 22.15, 22.3], [22.3, 22.3, 21.75, 21.85], [21.85, 22.15, 21.8, 22.1], [22.1, 22.1, 22.0, 22.1], [22.1, 22.1, 21.95, 22.0], [22.0, 22.05, 21.95, 21.95], [21.95, 22.05, 21.75, 21.85], [21.85, 21.9, 21.6, 21.8], [21.8, 21.8, 21.65, 21.7], [21.7, 21.75, 21.6, 21.65], [21.65, 21.65, 21.45, 21.55], [21.55, 21.7, 21.5, 21.7], [21.7, 21.9, 21.7, 21.9], [21.9, 21.95, 21.75, 21.8], [21.8, 21.9, 21.75, 21.9], [21.9, 22.15, 21.85, 22.05], [22.05, 22.3, 22.05, 22.2], [22.25, 22.5, 22.2, 22.45], [22.45, 22.6, 22.2, 22.35], [22.35, 22.5, 22.25, 22.4], [22.45, 22.45, 22.15, 22.35], [22.35, 25.4, 22.3, 24.1], [24.1, 25.45, 24.1, 25.3], [25.3, 26.4, 25.1, 26.0], [26.0, 26.85, 25.25, 25.5], [25.5, 26.25, 25.45, 26.2], [26.2, 26.25, 25.5, 25.6], [25.6, 25.75, 25.4, 25.65], [25.65, 25.85, 25.6, 25.8], [25.8, 26.15, 25.55, 26.05], [26.05, 32.15, 25.6, 29.35], [29.35, 30.1, 28.3, 29.4], [29.45, 29.45, 28.85, 28.95], [28.95, 29.0, 28.2, 28.55], [28.55, 28.85, 28.3, 28.8], [28.8, 28.9, 28.25, 28.75], [28.7, 28.85, 28.3, 28.4], [28.4, 28.95, 28.35, 28.75], [28.75, 30.0, 28.6, 29.15], [29.15, 29.2, 27.65, 28.2], [28.2, 28.25, 27.8, 28.1], [28.1, 28.35, 27.95, 28.05], [28.05, 28.15, 27.4, 27.55], [27.55, 28.0, 27.4, 27.9], [27.9, 28.15, 27.7, 28.1], [28.05, 28.35, 27.95, 28.2], [28.2, 28.25, 27.0, 27.45], [27.45, 27.55, 26.7, 27.15], [27.15, 27.55, 25.6, 26.0], [26.0, 26.6, 25.6, 26.1], [26.1, 26.4, 25.25, 26.15], [26.15, 26.6, 26.15, 26.55], [26.5, 26.65, 26.25, 26.35], [26.35, 26.95, 26.35, 26.7], [26.7, 27.8, 26.45, 27.7], [27.7, 28.05, 27.35, 27.5], [27.5, 27.7, 27.35, 27.5], [27.5, 27.7, 27.05, 27.15], [27.15, 27.8, 27.15, 27.65]]\n",
      "[[22.1, 22.3, 22.05, 22.15], [22.15, 22.25, 22.1, 22.1], [22.1, 22.1, 22.0, 22.0], [22.0, 22.0, 21.9, 21.95], [21.95, 22.05, 21.9, 22.0], [22.0, 22.1, 22.0, 22.05], [22.0, 22.2, 22.0, 22.05], [22.05, 22.15, 22.0, 22.05], [22.05, 22.05, 21.95, 22.05], [22.05, 22.1, 22.0, 22.0], [22.05, 22.05, 22.0, 22.05], [22.05, 22.2, 22.0, 22.15], [22.15, 22.8, 22.0, 22.35], [22.35, 22.75, 22.25, 22.45], [22.45, 22.7, 22.45, 22.6], [22.6, 22.75, 22.35, 22.45], [22.45, 22.5, 22.15, 22.3], [22.3, 22.4, 22.15, 22.2], [22.2, 22.3, 22.15, 22.3], [22.3, 22.3, 21.75, 21.85], [21.85, 22.15, 21.8, 22.1], [22.1, 22.1, 22.0, 22.1], [22.1, 22.1, 21.95, 22.0], [22.0, 22.05, 21.95, 21.95], [21.95, 22.05, 21.75, 21.85], [21.85, 21.9, 21.6, 21.8], [21.8, 21.8, 21.65, 21.7], [21.7, 21.75, 21.6, 21.65], [21.65, 21.65, 21.45, 21.55], [21.55, 21.7, 21.5, 21.7], [21.7, 21.9, 21.7, 21.9], [21.9, 21.95, 21.75, 21.8], [21.8, 21.9, 21.75, 21.9], [21.9, 22.15, 21.85, 22.05], [22.05, 22.3, 22.05, 22.2], [22.25, 22.5, 22.2, 22.45], [22.45, 22.6, 22.2, 22.35], [22.35, 22.5, 22.25, 22.4], [22.45, 22.45, 22.15, 22.35], [22.35, 25.4, 22.3, 24.1], [24.1, 25.45, 24.1, 25.3], [25.3, 26.4, 25.1, 26.0], [26.0, 26.85, 25.25, 25.5], [25.5, 26.25, 25.45, 26.2], [26.2, 26.25, 25.5, 25.6], [25.6, 25.75, 25.4, 25.65], [25.65, 25.85, 25.6, 25.8], [25.8, 26.15, 25.55, 26.05], [26.05, 32.15, 25.6, 29.35], [29.35, 30.1, 28.3, 29.4], [29.45, 29.45, 28.85, 28.95], [28.95, 29.0, 28.2, 28.55], [28.55, 28.85, 28.3, 28.8], [28.8, 28.9, 28.25, 28.75], [28.7, 28.85, 28.3, 28.4], [28.4, 28.95, 28.35, 28.75], [28.75, 30.0, 28.6, 29.15], [29.15, 29.2, 27.65, 28.2], [28.2, 28.25, 27.8, 28.1], [28.1, 28.35, 27.95, 28.05], [28.05, 28.15, 27.4, 27.55], [27.55, 28.0, 27.4, 27.9], [27.9, 28.15, 27.7, 28.1], [28.05, 28.35, 27.95, 28.2], [28.2, 28.25, 27.0, 27.45], [27.45, 27.55, 26.7, 27.15], [27.15, 27.55, 25.6, 26.0], [26.0, 26.6, 25.6, 26.1], [26.1, 26.4, 25.25, 26.15], [26.15, 26.6, 26.15, 26.55], [26.5, 26.65, 26.25, 26.35], [26.35, 26.95, 26.35, 26.7], [26.7, 27.8, 26.45, 27.7], [27.7, 28.05, 27.35, 27.5], [27.5, 27.7, 27.35, 27.5], [27.5, 27.7, 27.05, 27.15], [27.15, 27.8, 27.15, 27.65], [27.65, 28.1, 27.6, 28.05]]\n",
      "[[22.1, 22.3, 22.05, 22.15], [22.15, 22.25, 22.1, 22.1], [22.1, 22.1, 22.0, 22.0], [22.0, 22.0, 21.9, 21.95], [21.95, 22.05, 21.9, 22.0], [22.0, 22.1, 22.0, 22.05], [22.0, 22.2, 22.0, 22.05], [22.05, 22.15, 22.0, 22.05], [22.05, 22.05, 21.95, 22.05], [22.05, 22.1, 22.0, 22.0], [22.05, 22.05, 22.0, 22.05], [22.05, 22.2, 22.0, 22.15], [22.15, 22.8, 22.0, 22.35], [22.35, 22.75, 22.25, 22.45], [22.45, 22.7, 22.45, 22.6], [22.6, 22.75, 22.35, 22.45], [22.45, 22.5, 22.15, 22.3], [22.3, 22.4, 22.15, 22.2], [22.2, 22.3, 22.15, 22.3], [22.3, 22.3, 21.75, 21.85], [21.85, 22.15, 21.8, 22.1], [22.1, 22.1, 22.0, 22.1], [22.1, 22.1, 21.95, 22.0], [22.0, 22.05, 21.95, 21.95], [21.95, 22.05, 21.75, 21.85], [21.85, 21.9, 21.6, 21.8], [21.8, 21.8, 21.65, 21.7], [21.7, 21.75, 21.6, 21.65], [21.65, 21.65, 21.45, 21.55], [21.55, 21.7, 21.5, 21.7], [21.7, 21.9, 21.7, 21.9], [21.9, 21.95, 21.75, 21.8], [21.8, 21.9, 21.75, 21.9], [21.9, 22.15, 21.85, 22.05], [22.05, 22.3, 22.05, 22.2], [22.25, 22.5, 22.2, 22.45], [22.45, 22.6, 22.2, 22.35], [22.35, 22.5, 22.25, 22.4], [22.45, 22.45, 22.15, 22.35], [22.35, 25.4, 22.3, 24.1], [24.1, 25.45, 24.1, 25.3], [25.3, 26.4, 25.1, 26.0], [26.0, 26.85, 25.25, 25.5], [25.5, 26.25, 25.45, 26.2], [26.2, 26.25, 25.5, 25.6], [25.6, 25.75, 25.4, 25.65], [25.65, 25.85, 25.6, 25.8], [25.8, 26.15, 25.55, 26.05], [26.05, 32.15, 25.6, 29.35], [29.35, 30.1, 28.3, 29.4], [29.45, 29.45, 28.85, 28.95], [28.95, 29.0, 28.2, 28.55], [28.55, 28.85, 28.3, 28.8], [28.8, 28.9, 28.25, 28.75], [28.7, 28.85, 28.3, 28.4], [28.4, 28.95, 28.35, 28.75], [28.75, 30.0, 28.6, 29.15], [29.15, 29.2, 27.65, 28.2], [28.2, 28.25, 27.8, 28.1], [28.1, 28.35, 27.95, 28.05], [28.05, 28.15, 27.4, 27.55], [27.55, 28.0, 27.4, 27.9], [27.9, 28.15, 27.7, 28.1], [28.05, 28.35, 27.95, 28.2], [28.2, 28.25, 27.0, 27.45], [27.45, 27.55, 26.7, 27.15], [27.15, 27.55, 25.6, 26.0], [26.0, 26.6, 25.6, 26.1], [26.1, 26.4, 25.25, 26.15], [26.15, 26.6, 26.15, 26.55], [26.5, 26.65, 26.25, 26.35], [26.35, 26.95, 26.35, 26.7], [26.7, 27.8, 26.45, 27.7], [27.7, 28.05, 27.35, 27.5], [27.5, 27.7, 27.35, 27.5], [27.5, 27.7, 27.05, 27.15], [27.15, 27.8, 27.15, 27.65], [27.65, 28.1, 27.6, 28.05], [28.05, 28.5, 27.9, 28.2]]\n",
      "[[22.1, 22.3, 22.05, 22.15], [22.15, 22.25, 22.1, 22.1], [22.1, 22.1, 22.0, 22.0], [22.0, 22.0, 21.9, 21.95], [21.95, 22.05, 21.9, 22.0], [22.0, 22.1, 22.0, 22.05], [22.0, 22.2, 22.0, 22.05], [22.05, 22.15, 22.0, 22.05], [22.05, 22.05, 21.95, 22.05], [22.05, 22.1, 22.0, 22.0], [22.05, 22.05, 22.0, 22.05], [22.05, 22.2, 22.0, 22.15], [22.15, 22.8, 22.0, 22.35], [22.35, 22.75, 22.25, 22.45], [22.45, 22.7, 22.45, 22.6], [22.6, 22.75, 22.35, 22.45], [22.45, 22.5, 22.15, 22.3], [22.3, 22.4, 22.15, 22.2], [22.2, 22.3, 22.15, 22.3], [22.3, 22.3, 21.75, 21.85], [21.85, 22.15, 21.8, 22.1], [22.1, 22.1, 22.0, 22.1], [22.1, 22.1, 21.95, 22.0], [22.0, 22.05, 21.95, 21.95], [21.95, 22.05, 21.75, 21.85], [21.85, 21.9, 21.6, 21.8], [21.8, 21.8, 21.65, 21.7], [21.7, 21.75, 21.6, 21.65], [21.65, 21.65, 21.45, 21.55], [21.55, 21.7, 21.5, 21.7], [21.7, 21.9, 21.7, 21.9], [21.9, 21.95, 21.75, 21.8], [21.8, 21.9, 21.75, 21.9], [21.9, 22.15, 21.85, 22.05], [22.05, 22.3, 22.05, 22.2], [22.25, 22.5, 22.2, 22.45], [22.45, 22.6, 22.2, 22.35], [22.35, 22.5, 22.25, 22.4], [22.45, 22.45, 22.15, 22.35], [22.35, 25.4, 22.3, 24.1], [24.1, 25.45, 24.1, 25.3], [25.3, 26.4, 25.1, 26.0], [26.0, 26.85, 25.25, 25.5], [25.5, 26.25, 25.45, 26.2], [26.2, 26.25, 25.5, 25.6], [25.6, 25.75, 25.4, 25.65], [25.65, 25.85, 25.6, 25.8], [25.8, 26.15, 25.55, 26.05], [26.05, 32.15, 25.6, 29.35], [29.35, 30.1, 28.3, 29.4], [29.45, 29.45, 28.85, 28.95], [28.95, 29.0, 28.2, 28.55], [28.55, 28.85, 28.3, 28.8], [28.8, 28.9, 28.25, 28.75], [28.7, 28.85, 28.3, 28.4], [28.4, 28.95, 28.35, 28.75], [28.75, 30.0, 28.6, 29.15], [29.15, 29.2, 27.65, 28.2], [28.2, 28.25, 27.8, 28.1], [28.1, 28.35, 27.95, 28.05], [28.05, 28.15, 27.4, 27.55], [27.55, 28.0, 27.4, 27.9], [27.9, 28.15, 27.7, 28.1], [28.05, 28.35, 27.95, 28.2], [28.2, 28.25, 27.0, 27.45], [27.45, 27.55, 26.7, 27.15], [27.15, 27.55, 25.6, 26.0], [26.0, 26.6, 25.6, 26.1], [26.1, 26.4, 25.25, 26.15], [26.15, 26.6, 26.15, 26.55], [26.5, 26.65, 26.25, 26.35], [26.35, 26.95, 26.35, 26.7], [26.7, 27.8, 26.45, 27.7], [27.7, 28.05, 27.35, 27.5], [27.5, 27.7, 27.35, 27.5], [27.5, 27.7, 27.05, 27.15], [27.15, 27.8, 27.15, 27.65], [27.65, 28.1, 27.6, 28.05], [28.05, 28.5, 27.9, 28.2], [28.2, 28.95, 28.15, 28.75]]\n",
      "[[22.1, 22.3, 22.05, 22.15], [22.15, 22.25, 22.1, 22.1], [22.1, 22.1, 22.0, 22.0], [22.0, 22.0, 21.9, 21.95], [21.95, 22.05, 21.9, 22.0], [22.0, 22.1, 22.0, 22.05], [22.0, 22.2, 22.0, 22.05], [22.05, 22.15, 22.0, 22.05], [22.05, 22.05, 21.95, 22.05], [22.05, 22.1, 22.0, 22.0], [22.05, 22.05, 22.0, 22.05], [22.05, 22.2, 22.0, 22.15], [22.15, 22.8, 22.0, 22.35], [22.35, 22.75, 22.25, 22.45], [22.45, 22.7, 22.45, 22.6], [22.6, 22.75, 22.35, 22.45], [22.45, 22.5, 22.15, 22.3], [22.3, 22.4, 22.15, 22.2], [22.2, 22.3, 22.15, 22.3], [22.3, 22.3, 21.75, 21.85], [21.85, 22.15, 21.8, 22.1], [22.1, 22.1, 22.0, 22.1], [22.1, 22.1, 21.95, 22.0], [22.0, 22.05, 21.95, 21.95], [21.95, 22.05, 21.75, 21.85], [21.85, 21.9, 21.6, 21.8], [21.8, 21.8, 21.65, 21.7], [21.7, 21.75, 21.6, 21.65], [21.65, 21.65, 21.45, 21.55], [21.55, 21.7, 21.5, 21.7], [21.7, 21.9, 21.7, 21.9], [21.9, 21.95, 21.75, 21.8], [21.8, 21.9, 21.75, 21.9], [21.9, 22.15, 21.85, 22.05], [22.05, 22.3, 22.05, 22.2], [22.25, 22.5, 22.2, 22.45], [22.45, 22.6, 22.2, 22.35], [22.35, 22.5, 22.25, 22.4], [22.45, 22.45, 22.15, 22.35], [22.35, 25.4, 22.3, 24.1], [24.1, 25.45, 24.1, 25.3], [25.3, 26.4, 25.1, 26.0], [26.0, 26.85, 25.25, 25.5], [25.5, 26.25, 25.45, 26.2], [26.2, 26.25, 25.5, 25.6], [25.6, 25.75, 25.4, 25.65], [25.65, 25.85, 25.6, 25.8], [25.8, 26.15, 25.55, 26.05], [26.05, 32.15, 25.6, 29.35], [29.35, 30.1, 28.3, 29.4], [29.45, 29.45, 28.85, 28.95], [28.95, 29.0, 28.2, 28.55], [28.55, 28.85, 28.3, 28.8], [28.8, 28.9, 28.25, 28.75], [28.7, 28.85, 28.3, 28.4], [28.4, 28.95, 28.35, 28.75], [28.75, 30.0, 28.6, 29.15], [29.15, 29.2, 27.65, 28.2], [28.2, 28.25, 27.8, 28.1], [28.1, 28.35, 27.95, 28.05], [28.05, 28.15, 27.4, 27.55], [27.55, 28.0, 27.4, 27.9], [27.9, 28.15, 27.7, 28.1], [28.05, 28.35, 27.95, 28.2], [28.2, 28.25, 27.0, 27.45], [27.45, 27.55, 26.7, 27.15], [27.15, 27.55, 25.6, 26.0], [26.0, 26.6, 25.6, 26.1], [26.1, 26.4, 25.25, 26.15], [26.15, 26.6, 26.15, 26.55], [26.5, 26.65, 26.25, 26.35], [26.35, 26.95, 26.35, 26.7], [26.7, 27.8, 26.45, 27.7], [27.7, 28.05, 27.35, 27.5], [27.5, 27.7, 27.35, 27.5], [27.5, 27.7, 27.05, 27.15], [27.15, 27.8, 27.15, 27.65], [27.65, 28.1, 27.6, 28.05], [28.05, 28.5, 27.9, 28.2], [28.2, 28.95, 28.15, 28.75], [28.75, 29.15, 28.55, 28.6]]\n",
      "[[22.1, 22.3, 22.05, 22.15], [22.15, 22.25, 22.1, 22.1], [22.1, 22.1, 22.0, 22.0], [22.0, 22.0, 21.9, 21.95], [21.95, 22.05, 21.9, 22.0], [22.0, 22.1, 22.0, 22.05], [22.0, 22.2, 22.0, 22.05], [22.05, 22.15, 22.0, 22.05], [22.05, 22.05, 21.95, 22.05], [22.05, 22.1, 22.0, 22.0], [22.05, 22.05, 22.0, 22.05], [22.05, 22.2, 22.0, 22.15], [22.15, 22.8, 22.0, 22.35], [22.35, 22.75, 22.25, 22.45], [22.45, 22.7, 22.45, 22.6], [22.6, 22.75, 22.35, 22.45], [22.45, 22.5, 22.15, 22.3], [22.3, 22.4, 22.15, 22.2], [22.2, 22.3, 22.15, 22.3], [22.3, 22.3, 21.75, 21.85], [21.85, 22.15, 21.8, 22.1], [22.1, 22.1, 22.0, 22.1], [22.1, 22.1, 21.95, 22.0], [22.0, 22.05, 21.95, 21.95], [21.95, 22.05, 21.75, 21.85], [21.85, 21.9, 21.6, 21.8], [21.8, 21.8, 21.65, 21.7], [21.7, 21.75, 21.6, 21.65], [21.65, 21.65, 21.45, 21.55], [21.55, 21.7, 21.5, 21.7], [21.7, 21.9, 21.7, 21.9], [21.9, 21.95, 21.75, 21.8], [21.8, 21.9, 21.75, 21.9], [21.9, 22.15, 21.85, 22.05], [22.05, 22.3, 22.05, 22.2], [22.25, 22.5, 22.2, 22.45], [22.45, 22.6, 22.2, 22.35], [22.35, 22.5, 22.25, 22.4], [22.45, 22.45, 22.15, 22.35], [22.35, 25.4, 22.3, 24.1], [24.1, 25.45, 24.1, 25.3], [25.3, 26.4, 25.1, 26.0], [26.0, 26.85, 25.25, 25.5], [25.5, 26.25, 25.45, 26.2], [26.2, 26.25, 25.5, 25.6], [25.6, 25.75, 25.4, 25.65], [25.65, 25.85, 25.6, 25.8], [25.8, 26.15, 25.55, 26.05], [26.05, 32.15, 25.6, 29.35], [29.35, 30.1, 28.3, 29.4], [29.45, 29.45, 28.85, 28.95], [28.95, 29.0, 28.2, 28.55], [28.55, 28.85, 28.3, 28.8], [28.8, 28.9, 28.25, 28.75], [28.7, 28.85, 28.3, 28.4], [28.4, 28.95, 28.35, 28.75], [28.75, 30.0, 28.6, 29.15], [29.15, 29.2, 27.65, 28.2], [28.2, 28.25, 27.8, 28.1], [28.1, 28.35, 27.95, 28.05], [28.05, 28.15, 27.4, 27.55], [27.55, 28.0, 27.4, 27.9], [27.9, 28.15, 27.7, 28.1], [28.05, 28.35, 27.95, 28.2], [28.2, 28.25, 27.0, 27.45], [27.45, 27.55, 26.7, 27.15], [27.15, 27.55, 25.6, 26.0], [26.0, 26.6, 25.6, 26.1], [26.1, 26.4, 25.25, 26.15], [26.15, 26.6, 26.15, 26.55], [26.5, 26.65, 26.25, 26.35], [26.35, 26.95, 26.35, 26.7], [26.7, 27.8, 26.45, 27.7], [27.7, 28.05, 27.35, 27.5], [27.5, 27.7, 27.35, 27.5], [27.5, 27.7, 27.05, 27.15], [27.15, 27.8, 27.15, 27.65], [27.65, 28.1, 27.6, 28.05], [28.05, 28.5, 27.9, 28.2], [28.2, 28.95, 28.15, 28.75], [28.75, 29.15, 28.55, 28.6], [28.6, 28.85, 28.45, 28.8]]\n",
      "[[22.1, 22.3, 22.05, 22.15], [22.15, 22.25, 22.1, 22.1], [22.1, 22.1, 22.0, 22.0], [22.0, 22.0, 21.9, 21.95], [21.95, 22.05, 21.9, 22.0], [22.0, 22.1, 22.0, 22.05], [22.0, 22.2, 22.0, 22.05], [22.05, 22.15, 22.0, 22.05], [22.05, 22.05, 21.95, 22.05], [22.05, 22.1, 22.0, 22.0], [22.05, 22.05, 22.0, 22.05], [22.05, 22.2, 22.0, 22.15], [22.15, 22.8, 22.0, 22.35], [22.35, 22.75, 22.25, 22.45], [22.45, 22.7, 22.45, 22.6], [22.6, 22.75, 22.35, 22.45], [22.45, 22.5, 22.15, 22.3], [22.3, 22.4, 22.15, 22.2], [22.2, 22.3, 22.15, 22.3], [22.3, 22.3, 21.75, 21.85], [21.85, 22.15, 21.8, 22.1], [22.1, 22.1, 22.0, 22.1], [22.1, 22.1, 21.95, 22.0], [22.0, 22.05, 21.95, 21.95], [21.95, 22.05, 21.75, 21.85], [21.85, 21.9, 21.6, 21.8], [21.8, 21.8, 21.65, 21.7], [21.7, 21.75, 21.6, 21.65], [21.65, 21.65, 21.45, 21.55], [21.55, 21.7, 21.5, 21.7], [21.7, 21.9, 21.7, 21.9], [21.9, 21.95, 21.75, 21.8], [21.8, 21.9, 21.75, 21.9], [21.9, 22.15, 21.85, 22.05], [22.05, 22.3, 22.05, 22.2], [22.25, 22.5, 22.2, 22.45], [22.45, 22.6, 22.2, 22.35], [22.35, 22.5, 22.25, 22.4], [22.45, 22.45, 22.15, 22.35], [22.35, 25.4, 22.3, 24.1], [24.1, 25.45, 24.1, 25.3], [25.3, 26.4, 25.1, 26.0], [26.0, 26.85, 25.25, 25.5], [25.5, 26.25, 25.45, 26.2], [26.2, 26.25, 25.5, 25.6], [25.6, 25.75, 25.4, 25.65], [25.65, 25.85, 25.6, 25.8], [25.8, 26.15, 25.55, 26.05], [26.05, 32.15, 25.6, 29.35], [29.35, 30.1, 28.3, 29.4], [29.45, 29.45, 28.85, 28.95], [28.95, 29.0, 28.2, 28.55], [28.55, 28.85, 28.3, 28.8], [28.8, 28.9, 28.25, 28.75], [28.7, 28.85, 28.3, 28.4], [28.4, 28.95, 28.35, 28.75], [28.75, 30.0, 28.6, 29.15], [29.15, 29.2, 27.65, 28.2], [28.2, 28.25, 27.8, 28.1], [28.1, 28.35, 27.95, 28.05], [28.05, 28.15, 27.4, 27.55], [27.55, 28.0, 27.4, 27.9], [27.9, 28.15, 27.7, 28.1], [28.05, 28.35, 27.95, 28.2], [28.2, 28.25, 27.0, 27.45], [27.45, 27.55, 26.7, 27.15], [27.15, 27.55, 25.6, 26.0], [26.0, 26.6, 25.6, 26.1], [26.1, 26.4, 25.25, 26.15], [26.15, 26.6, 26.15, 26.55], [26.5, 26.65, 26.25, 26.35], [26.35, 26.95, 26.35, 26.7], [26.7, 27.8, 26.45, 27.7], [27.7, 28.05, 27.35, 27.5], [27.5, 27.7, 27.35, 27.5], [27.5, 27.7, 27.05, 27.15], [27.15, 27.8, 27.15, 27.65], [27.65, 28.1, 27.6, 28.05], [28.05, 28.5, 27.9, 28.2], [28.2, 28.95, 28.15, 28.75], [28.75, 29.15, 28.55, 28.6], [28.6, 28.85, 28.45, 28.8], [28.8, 29.1, 28.75, 28.9]]\n",
      "[[22.1, 22.3, 22.05, 22.15], [22.15, 22.25, 22.1, 22.1], [22.1, 22.1, 22.0, 22.0], [22.0, 22.0, 21.9, 21.95], [21.95, 22.05, 21.9, 22.0], [22.0, 22.1, 22.0, 22.05], [22.0, 22.2, 22.0, 22.05], [22.05, 22.15, 22.0, 22.05], [22.05, 22.05, 21.95, 22.05], [22.05, 22.1, 22.0, 22.0], [22.05, 22.05, 22.0, 22.05], [22.05, 22.2, 22.0, 22.15], [22.15, 22.8, 22.0, 22.35], [22.35, 22.75, 22.25, 22.45], [22.45, 22.7, 22.45, 22.6], [22.6, 22.75, 22.35, 22.45], [22.45, 22.5, 22.15, 22.3], [22.3, 22.4, 22.15, 22.2], [22.2, 22.3, 22.15, 22.3], [22.3, 22.3, 21.75, 21.85], [21.85, 22.15, 21.8, 22.1], [22.1, 22.1, 22.0, 22.1], [22.1, 22.1, 21.95, 22.0], [22.0, 22.05, 21.95, 21.95], [21.95, 22.05, 21.75, 21.85], [21.85, 21.9, 21.6, 21.8], [21.8, 21.8, 21.65, 21.7], [21.7, 21.75, 21.6, 21.65], [21.65, 21.65, 21.45, 21.55], [21.55, 21.7, 21.5, 21.7], [21.7, 21.9, 21.7, 21.9], [21.9, 21.95, 21.75, 21.8], [21.8, 21.9, 21.75, 21.9], [21.9, 22.15, 21.85, 22.05], [22.05, 22.3, 22.05, 22.2], [22.25, 22.5, 22.2, 22.45], [22.45, 22.6, 22.2, 22.35], [22.35, 22.5, 22.25, 22.4], [22.45, 22.45, 22.15, 22.35], [22.35, 25.4, 22.3, 24.1], [24.1, 25.45, 24.1, 25.3], [25.3, 26.4, 25.1, 26.0], [26.0, 26.85, 25.25, 25.5], [25.5, 26.25, 25.45, 26.2], [26.2, 26.25, 25.5, 25.6], [25.6, 25.75, 25.4, 25.65], [25.65, 25.85, 25.6, 25.8], [25.8, 26.15, 25.55, 26.05], [26.05, 32.15, 25.6, 29.35], [29.35, 30.1, 28.3, 29.4], [29.45, 29.45, 28.85, 28.95], [28.95, 29.0, 28.2, 28.55], [28.55, 28.85, 28.3, 28.8], [28.8, 28.9, 28.25, 28.75], [28.7, 28.85, 28.3, 28.4], [28.4, 28.95, 28.35, 28.75], [28.75, 30.0, 28.6, 29.15], [29.15, 29.2, 27.65, 28.2], [28.2, 28.25, 27.8, 28.1], [28.1, 28.35, 27.95, 28.05], [28.05, 28.15, 27.4, 27.55], [27.55, 28.0, 27.4, 27.9], [27.9, 28.15, 27.7, 28.1], [28.05, 28.35, 27.95, 28.2], [28.2, 28.25, 27.0, 27.45], [27.45, 27.55, 26.7, 27.15], [27.15, 27.55, 25.6, 26.0], [26.0, 26.6, 25.6, 26.1], [26.1, 26.4, 25.25, 26.15], [26.15, 26.6, 26.15, 26.55], [26.5, 26.65, 26.25, 26.35], [26.35, 26.95, 26.35, 26.7], [26.7, 27.8, 26.45, 27.7], [27.7, 28.05, 27.35, 27.5], [27.5, 27.7, 27.35, 27.5], [27.5, 27.7, 27.05, 27.15], [27.15, 27.8, 27.15, 27.65], [27.65, 28.1, 27.6, 28.05], [28.05, 28.5, 27.9, 28.2], [28.2, 28.95, 28.15, 28.75], [28.75, 29.15, 28.55, 28.6], [28.6, 28.85, 28.45, 28.8], [28.8, 29.1, 28.75, 28.9], [28.9, 29.1, 28.6, 28.95]]\n",
      "[[22.1, 22.3, 22.05, 22.15], [22.15, 22.25, 22.1, 22.1], [22.1, 22.1, 22.0, 22.0], [22.0, 22.0, 21.9, 21.95], [21.95, 22.05, 21.9, 22.0], [22.0, 22.1, 22.0, 22.05], [22.0, 22.2, 22.0, 22.05], [22.05, 22.15, 22.0, 22.05], [22.05, 22.05, 21.95, 22.05], [22.05, 22.1, 22.0, 22.0], [22.05, 22.05, 22.0, 22.05], [22.05, 22.2, 22.0, 22.15], [22.15, 22.8, 22.0, 22.35], [22.35, 22.75, 22.25, 22.45], [22.45, 22.7, 22.45, 22.6], [22.6, 22.75, 22.35, 22.45], [22.45, 22.5, 22.15, 22.3], [22.3, 22.4, 22.15, 22.2], [22.2, 22.3, 22.15, 22.3], [22.3, 22.3, 21.75, 21.85], [21.85, 22.15, 21.8, 22.1], [22.1, 22.1, 22.0, 22.1], [22.1, 22.1, 21.95, 22.0], [22.0, 22.05, 21.95, 21.95], [21.95, 22.05, 21.75, 21.85], [21.85, 21.9, 21.6, 21.8], [21.8, 21.8, 21.65, 21.7], [21.7, 21.75, 21.6, 21.65], [21.65, 21.65, 21.45, 21.55], [21.55, 21.7, 21.5, 21.7], [21.7, 21.9, 21.7, 21.9], [21.9, 21.95, 21.75, 21.8], [21.8, 21.9, 21.75, 21.9], [21.9, 22.15, 21.85, 22.05], [22.05, 22.3, 22.05, 22.2], [22.25, 22.5, 22.2, 22.45], [22.45, 22.6, 22.2, 22.35], [22.35, 22.5, 22.25, 22.4], [22.45, 22.45, 22.15, 22.35], [22.35, 25.4, 22.3, 24.1], [24.1, 25.45, 24.1, 25.3], [25.3, 26.4, 25.1, 26.0], [26.0, 26.85, 25.25, 25.5], [25.5, 26.25, 25.45, 26.2], [26.2, 26.25, 25.5, 25.6], [25.6, 25.75, 25.4, 25.65], [25.65, 25.85, 25.6, 25.8], [25.8, 26.15, 25.55, 26.05], [26.05, 32.15, 25.6, 29.35], [29.35, 30.1, 28.3, 29.4], [29.45, 29.45, 28.85, 28.95], [28.95, 29.0, 28.2, 28.55], [28.55, 28.85, 28.3, 28.8], [28.8, 28.9, 28.25, 28.75], [28.7, 28.85, 28.3, 28.4], [28.4, 28.95, 28.35, 28.75], [28.75, 30.0, 28.6, 29.15], [29.15, 29.2, 27.65, 28.2], [28.2, 28.25, 27.8, 28.1], [28.1, 28.35, 27.95, 28.05], [28.05, 28.15, 27.4, 27.55], [27.55, 28.0, 27.4, 27.9], [27.9, 28.15, 27.7, 28.1], [28.05, 28.35, 27.95, 28.2], [28.2, 28.25, 27.0, 27.45], [27.45, 27.55, 26.7, 27.15], [27.15, 27.55, 25.6, 26.0], [26.0, 26.6, 25.6, 26.1], [26.1, 26.4, 25.25, 26.15], [26.15, 26.6, 26.15, 26.55], [26.5, 26.65, 26.25, 26.35], [26.35, 26.95, 26.35, 26.7], [26.7, 27.8, 26.45, 27.7], [27.7, 28.05, 27.35, 27.5], [27.5, 27.7, 27.35, 27.5], [27.5, 27.7, 27.05, 27.15], [27.15, 27.8, 27.15, 27.65], [27.65, 28.1, 27.6, 28.05], [28.05, 28.5, 27.9, 28.2], [28.2, 28.95, 28.15, 28.75], [28.75, 29.15, 28.55, 28.6], [28.6, 28.85, 28.45, 28.8], [28.8, 29.1, 28.75, 28.9], [28.9, 29.1, 28.6, 28.95], [28.95, 29.05, 28.65, 28.65]]\n",
      "[[22.1, 22.3, 22.05, 22.15], [22.15, 22.25, 22.1, 22.1], [22.1, 22.1, 22.0, 22.0], [22.0, 22.0, 21.9, 21.95], [21.95, 22.05, 21.9, 22.0], [22.0, 22.1, 22.0, 22.05], [22.0, 22.2, 22.0, 22.05], [22.05, 22.15, 22.0, 22.05], [22.05, 22.05, 21.95, 22.05], [22.05, 22.1, 22.0, 22.0], [22.05, 22.05, 22.0, 22.05], [22.05, 22.2, 22.0, 22.15], [22.15, 22.8, 22.0, 22.35], [22.35, 22.75, 22.25, 22.45], [22.45, 22.7, 22.45, 22.6], [22.6, 22.75, 22.35, 22.45], [22.45, 22.5, 22.15, 22.3], [22.3, 22.4, 22.15, 22.2], [22.2, 22.3, 22.15, 22.3], [22.3, 22.3, 21.75, 21.85], [21.85, 22.15, 21.8, 22.1], [22.1, 22.1, 22.0, 22.1], [22.1, 22.1, 21.95, 22.0], [22.0, 22.05, 21.95, 21.95], [21.95, 22.05, 21.75, 21.85], [21.85, 21.9, 21.6, 21.8], [21.8, 21.8, 21.65, 21.7], [21.7, 21.75, 21.6, 21.65], [21.65, 21.65, 21.45, 21.55], [21.55, 21.7, 21.5, 21.7], [21.7, 21.9, 21.7, 21.9], [21.9, 21.95, 21.75, 21.8], [21.8, 21.9, 21.75, 21.9], [21.9, 22.15, 21.85, 22.05], [22.05, 22.3, 22.05, 22.2], [22.25, 22.5, 22.2, 22.45], [22.45, 22.6, 22.2, 22.35], [22.35, 22.5, 22.25, 22.4], [22.45, 22.45, 22.15, 22.35], [22.35, 25.4, 22.3, 24.1], [24.1, 25.45, 24.1, 25.3], [25.3, 26.4, 25.1, 26.0], [26.0, 26.85, 25.25, 25.5], [25.5, 26.25, 25.45, 26.2], [26.2, 26.25, 25.5, 25.6], [25.6, 25.75, 25.4, 25.65], [25.65, 25.85, 25.6, 25.8], [25.8, 26.15, 25.55, 26.05], [26.05, 32.15, 25.6, 29.35], [29.35, 30.1, 28.3, 29.4], [29.45, 29.45, 28.85, 28.95], [28.95, 29.0, 28.2, 28.55], [28.55, 28.85, 28.3, 28.8], [28.8, 28.9, 28.25, 28.75], [28.7, 28.85, 28.3, 28.4], [28.4, 28.95, 28.35, 28.75], [28.75, 30.0, 28.6, 29.15], [29.15, 29.2, 27.65, 28.2], [28.2, 28.25, 27.8, 28.1], [28.1, 28.35, 27.95, 28.05], [28.05, 28.15, 27.4, 27.55], [27.55, 28.0, 27.4, 27.9], [27.9, 28.15, 27.7, 28.1], [28.05, 28.35, 27.95, 28.2], [28.2, 28.25, 27.0, 27.45], [27.45, 27.55, 26.7, 27.15], [27.15, 27.55, 25.6, 26.0], [26.0, 26.6, 25.6, 26.1], [26.1, 26.4, 25.25, 26.15], [26.15, 26.6, 26.15, 26.55], [26.5, 26.65, 26.25, 26.35], [26.35, 26.95, 26.35, 26.7], [26.7, 27.8, 26.45, 27.7], [27.7, 28.05, 27.35, 27.5], [27.5, 27.7, 27.35, 27.5], [27.5, 27.7, 27.05, 27.15], [27.15, 27.8, 27.15, 27.65], [27.65, 28.1, 27.6, 28.05], [28.05, 28.5, 27.9, 28.2], [28.2, 28.95, 28.15, 28.75], [28.75, 29.15, 28.55, 28.6], [28.6, 28.85, 28.45, 28.8], [28.8, 29.1, 28.75, 28.9], [28.9, 29.1, 28.6, 28.95], [28.95, 29.05, 28.65, 28.65], [28.65, 28.75, 28.15, 28.5]]\n",
      "[[22.1, 22.3, 22.05, 22.15], [22.15, 22.25, 22.1, 22.1], [22.1, 22.1, 22.0, 22.0], [22.0, 22.0, 21.9, 21.95], [21.95, 22.05, 21.9, 22.0], [22.0, 22.1, 22.0, 22.05], [22.0, 22.2, 22.0, 22.05], [22.05, 22.15, 22.0, 22.05], [22.05, 22.05, 21.95, 22.05], [22.05, 22.1, 22.0, 22.0], [22.05, 22.05, 22.0, 22.05], [22.05, 22.2, 22.0, 22.15], [22.15, 22.8, 22.0, 22.35], [22.35, 22.75, 22.25, 22.45], [22.45, 22.7, 22.45, 22.6], [22.6, 22.75, 22.35, 22.45], [22.45, 22.5, 22.15, 22.3], [22.3, 22.4, 22.15, 22.2], [22.2, 22.3, 22.15, 22.3], [22.3, 22.3, 21.75, 21.85], [21.85, 22.15, 21.8, 22.1], [22.1, 22.1, 22.0, 22.1], [22.1, 22.1, 21.95, 22.0], [22.0, 22.05, 21.95, 21.95], [21.95, 22.05, 21.75, 21.85], [21.85, 21.9, 21.6, 21.8], [21.8, 21.8, 21.65, 21.7], [21.7, 21.75, 21.6, 21.65], [21.65, 21.65, 21.45, 21.55], [21.55, 21.7, 21.5, 21.7], [21.7, 21.9, 21.7, 21.9], [21.9, 21.95, 21.75, 21.8], [21.8, 21.9, 21.75, 21.9], [21.9, 22.15, 21.85, 22.05], [22.05, 22.3, 22.05, 22.2], [22.25, 22.5, 22.2, 22.45], [22.45, 22.6, 22.2, 22.35], [22.35, 22.5, 22.25, 22.4], [22.45, 22.45, 22.15, 22.35], [22.35, 25.4, 22.3, 24.1], [24.1, 25.45, 24.1, 25.3], [25.3, 26.4, 25.1, 26.0], [26.0, 26.85, 25.25, 25.5], [25.5, 26.25, 25.45, 26.2], [26.2, 26.25, 25.5, 25.6], [25.6, 25.75, 25.4, 25.65], [25.65, 25.85, 25.6, 25.8], [25.8, 26.15, 25.55, 26.05], [26.05, 32.15, 25.6, 29.35], [29.35, 30.1, 28.3, 29.4], [29.45, 29.45, 28.85, 28.95], [28.95, 29.0, 28.2, 28.55], [28.55, 28.85, 28.3, 28.8], [28.8, 28.9, 28.25, 28.75], [28.7, 28.85, 28.3, 28.4], [28.4, 28.95, 28.35, 28.75], [28.75, 30.0, 28.6, 29.15], [29.15, 29.2, 27.65, 28.2], [28.2, 28.25, 27.8, 28.1], [28.1, 28.35, 27.95, 28.05], [28.05, 28.15, 27.4, 27.55], [27.55, 28.0, 27.4, 27.9], [27.9, 28.15, 27.7, 28.1], [28.05, 28.35, 27.95, 28.2], [28.2, 28.25, 27.0, 27.45], [27.45, 27.55, 26.7, 27.15], [27.15, 27.55, 25.6, 26.0], [26.0, 26.6, 25.6, 26.1], [26.1, 26.4, 25.25, 26.15], [26.15, 26.6, 26.15, 26.55], [26.5, 26.65, 26.25, 26.35], [26.35, 26.95, 26.35, 26.7], [26.7, 27.8, 26.45, 27.7], [27.7, 28.05, 27.35, 27.5], [27.5, 27.7, 27.35, 27.5], [27.5, 27.7, 27.05, 27.15], [27.15, 27.8, 27.15, 27.65], [27.65, 28.1, 27.6, 28.05], [28.05, 28.5, 27.9, 28.2], [28.2, 28.95, 28.15, 28.75], [28.75, 29.15, 28.55, 28.6], [28.6, 28.85, 28.45, 28.8], [28.8, 29.1, 28.75, 28.9], [28.9, 29.1, 28.6, 28.95], [28.95, 29.05, 28.65, 28.65], [28.65, 28.75, 28.15, 28.5], [28.5, 28.55, 27.75, 27.8]]\n",
      "[[22.1, 22.3, 22.05, 22.15], [22.15, 22.25, 22.1, 22.1], [22.1, 22.1, 22.0, 22.0], [22.0, 22.0, 21.9, 21.95], [21.95, 22.05, 21.9, 22.0], [22.0, 22.1, 22.0, 22.05], [22.0, 22.2, 22.0, 22.05], [22.05, 22.15, 22.0, 22.05], [22.05, 22.05, 21.95, 22.05], [22.05, 22.1, 22.0, 22.0], [22.05, 22.05, 22.0, 22.05], [22.05, 22.2, 22.0, 22.15], [22.15, 22.8, 22.0, 22.35], [22.35, 22.75, 22.25, 22.45], [22.45, 22.7, 22.45, 22.6], [22.6, 22.75, 22.35, 22.45], [22.45, 22.5, 22.15, 22.3], [22.3, 22.4, 22.15, 22.2], [22.2, 22.3, 22.15, 22.3], [22.3, 22.3, 21.75, 21.85], [21.85, 22.15, 21.8, 22.1], [22.1, 22.1, 22.0, 22.1], [22.1, 22.1, 21.95, 22.0], [22.0, 22.05, 21.95, 21.95], [21.95, 22.05, 21.75, 21.85], [21.85, 21.9, 21.6, 21.8], [21.8, 21.8, 21.65, 21.7], [21.7, 21.75, 21.6, 21.65], [21.65, 21.65, 21.45, 21.55], [21.55, 21.7, 21.5, 21.7], [21.7, 21.9, 21.7, 21.9], [21.9, 21.95, 21.75, 21.8], [21.8, 21.9, 21.75, 21.9], [21.9, 22.15, 21.85, 22.05], [22.05, 22.3, 22.05, 22.2], [22.25, 22.5, 22.2, 22.45], [22.45, 22.6, 22.2, 22.35], [22.35, 22.5, 22.25, 22.4], [22.45, 22.45, 22.15, 22.35], [22.35, 25.4, 22.3, 24.1], [24.1, 25.45, 24.1, 25.3], [25.3, 26.4, 25.1, 26.0], [26.0, 26.85, 25.25, 25.5], [25.5, 26.25, 25.45, 26.2], [26.2, 26.25, 25.5, 25.6], [25.6, 25.75, 25.4, 25.65], [25.65, 25.85, 25.6, 25.8], [25.8, 26.15, 25.55, 26.05], [26.05, 32.15, 25.6, 29.35], [29.35, 30.1, 28.3, 29.4], [29.45, 29.45, 28.85, 28.95], [28.95, 29.0, 28.2, 28.55], [28.55, 28.85, 28.3, 28.8], [28.8, 28.9, 28.25, 28.75], [28.7, 28.85, 28.3, 28.4], [28.4, 28.95, 28.35, 28.75], [28.75, 30.0, 28.6, 29.15], [29.15, 29.2, 27.65, 28.2], [28.2, 28.25, 27.8, 28.1], [28.1, 28.35, 27.95, 28.05], [28.05, 28.15, 27.4, 27.55], [27.55, 28.0, 27.4, 27.9], [27.9, 28.15, 27.7, 28.1], [28.05, 28.35, 27.95, 28.2], [28.2, 28.25, 27.0, 27.45], [27.45, 27.55, 26.7, 27.15], [27.15, 27.55, 25.6, 26.0], [26.0, 26.6, 25.6, 26.1], [26.1, 26.4, 25.25, 26.15], [26.15, 26.6, 26.15, 26.55], [26.5, 26.65, 26.25, 26.35], [26.35, 26.95, 26.35, 26.7], [26.7, 27.8, 26.45, 27.7], [27.7, 28.05, 27.35, 27.5], [27.5, 27.7, 27.35, 27.5], [27.5, 27.7, 27.05, 27.15], [27.15, 27.8, 27.15, 27.65], [27.65, 28.1, 27.6, 28.05], [28.05, 28.5, 27.9, 28.2], [28.2, 28.95, 28.15, 28.75], [28.75, 29.15, 28.55, 28.6], [28.6, 28.85, 28.45, 28.8], [28.8, 29.1, 28.75, 28.9], [28.9, 29.1, 28.6, 28.95], [28.95, 29.05, 28.65, 28.65], [28.65, 28.75, 28.15, 28.5], [28.5, 28.55, 27.75, 27.8], [27.8, 28.0, 27.45, 27.6]]\n",
      "[[22.1, 22.3, 22.05, 22.15], [22.15, 22.25, 22.1, 22.1], [22.1, 22.1, 22.0, 22.0], [22.0, 22.0, 21.9, 21.95], [21.95, 22.05, 21.9, 22.0], [22.0, 22.1, 22.0, 22.05], [22.0, 22.2, 22.0, 22.05], [22.05, 22.15, 22.0, 22.05], [22.05, 22.05, 21.95, 22.05], [22.05, 22.1, 22.0, 22.0], [22.05, 22.05, 22.0, 22.05], [22.05, 22.2, 22.0, 22.15], [22.15, 22.8, 22.0, 22.35], [22.35, 22.75, 22.25, 22.45], [22.45, 22.7, 22.45, 22.6], [22.6, 22.75, 22.35, 22.45], [22.45, 22.5, 22.15, 22.3], [22.3, 22.4, 22.15, 22.2], [22.2, 22.3, 22.15, 22.3], [22.3, 22.3, 21.75, 21.85], [21.85, 22.15, 21.8, 22.1], [22.1, 22.1, 22.0, 22.1], [22.1, 22.1, 21.95, 22.0], [22.0, 22.05, 21.95, 21.95], [21.95, 22.05, 21.75, 21.85], [21.85, 21.9, 21.6, 21.8], [21.8, 21.8, 21.65, 21.7], [21.7, 21.75, 21.6, 21.65], [21.65, 21.65, 21.45, 21.55], [21.55, 21.7, 21.5, 21.7], [21.7, 21.9, 21.7, 21.9], [21.9, 21.95, 21.75, 21.8], [21.8, 21.9, 21.75, 21.9], [21.9, 22.15, 21.85, 22.05], [22.05, 22.3, 22.05, 22.2], [22.25, 22.5, 22.2, 22.45], [22.45, 22.6, 22.2, 22.35], [22.35, 22.5, 22.25, 22.4], [22.45, 22.45, 22.15, 22.35], [22.35, 25.4, 22.3, 24.1], [24.1, 25.45, 24.1, 25.3], [25.3, 26.4, 25.1, 26.0], [26.0, 26.85, 25.25, 25.5], [25.5, 26.25, 25.45, 26.2], [26.2, 26.25, 25.5, 25.6], [25.6, 25.75, 25.4, 25.65], [25.65, 25.85, 25.6, 25.8], [25.8, 26.15, 25.55, 26.05], [26.05, 32.15, 25.6, 29.35], [29.35, 30.1, 28.3, 29.4], [29.45, 29.45, 28.85, 28.95], [28.95, 29.0, 28.2, 28.55], [28.55, 28.85, 28.3, 28.8], [28.8, 28.9, 28.25, 28.75], [28.7, 28.85, 28.3, 28.4], [28.4, 28.95, 28.35, 28.75], [28.75, 30.0, 28.6, 29.15], [29.15, 29.2, 27.65, 28.2], [28.2, 28.25, 27.8, 28.1], [28.1, 28.35, 27.95, 28.05], [28.05, 28.15, 27.4, 27.55], [27.55, 28.0, 27.4, 27.9], [27.9, 28.15, 27.7, 28.1], [28.05, 28.35, 27.95, 28.2], [28.2, 28.25, 27.0, 27.45], [27.45, 27.55, 26.7, 27.15], [27.15, 27.55, 25.6, 26.0], [26.0, 26.6, 25.6, 26.1], [26.1, 26.4, 25.25, 26.15], [26.15, 26.6, 26.15, 26.55], [26.5, 26.65, 26.25, 26.35], [26.35, 26.95, 26.35, 26.7], [26.7, 27.8, 26.45, 27.7], [27.7, 28.05, 27.35, 27.5], [27.5, 27.7, 27.35, 27.5], [27.5, 27.7, 27.05, 27.15], [27.15, 27.8, 27.15, 27.65], [27.65, 28.1, 27.6, 28.05], [28.05, 28.5, 27.9, 28.2], [28.2, 28.95, 28.15, 28.75], [28.75, 29.15, 28.55, 28.6], [28.6, 28.85, 28.45, 28.8], [28.8, 29.1, 28.75, 28.9], [28.9, 29.1, 28.6, 28.95], [28.95, 29.05, 28.65, 28.65], [28.65, 28.75, 28.15, 28.5], [28.5, 28.55, 27.75, 27.8], [27.8, 28.0, 27.45, 27.6], [27.6, 27.6, 27.05, 27.35]]\n",
      "[[22.1, 22.3, 22.05, 22.15], [22.15, 22.25, 22.1, 22.1], [22.1, 22.1, 22.0, 22.0], [22.0, 22.0, 21.9, 21.95], [21.95, 22.05, 21.9, 22.0], [22.0, 22.1, 22.0, 22.05], [22.0, 22.2, 22.0, 22.05], [22.05, 22.15, 22.0, 22.05], [22.05, 22.05, 21.95, 22.05], [22.05, 22.1, 22.0, 22.0], [22.05, 22.05, 22.0, 22.05], [22.05, 22.2, 22.0, 22.15], [22.15, 22.8, 22.0, 22.35], [22.35, 22.75, 22.25, 22.45], [22.45, 22.7, 22.45, 22.6], [22.6, 22.75, 22.35, 22.45], [22.45, 22.5, 22.15, 22.3], [22.3, 22.4, 22.15, 22.2], [22.2, 22.3, 22.15, 22.3], [22.3, 22.3, 21.75, 21.85], [21.85, 22.15, 21.8, 22.1], [22.1, 22.1, 22.0, 22.1], [22.1, 22.1, 21.95, 22.0], [22.0, 22.05, 21.95, 21.95], [21.95, 22.05, 21.75, 21.85], [21.85, 21.9, 21.6, 21.8], [21.8, 21.8, 21.65, 21.7], [21.7, 21.75, 21.6, 21.65], [21.65, 21.65, 21.45, 21.55], [21.55, 21.7, 21.5, 21.7], [21.7, 21.9, 21.7, 21.9], [21.9, 21.95, 21.75, 21.8], [21.8, 21.9, 21.75, 21.9], [21.9, 22.15, 21.85, 22.05], [22.05, 22.3, 22.05, 22.2], [22.25, 22.5, 22.2, 22.45], [22.45, 22.6, 22.2, 22.35], [22.35, 22.5, 22.25, 22.4], [22.45, 22.45, 22.15, 22.35], [22.35, 25.4, 22.3, 24.1], [24.1, 25.45, 24.1, 25.3], [25.3, 26.4, 25.1, 26.0], [26.0, 26.85, 25.25, 25.5], [25.5, 26.25, 25.45, 26.2], [26.2, 26.25, 25.5, 25.6], [25.6, 25.75, 25.4, 25.65], [25.65, 25.85, 25.6, 25.8], [25.8, 26.15, 25.55, 26.05], [26.05, 32.15, 25.6, 29.35], [29.35, 30.1, 28.3, 29.4], [29.45, 29.45, 28.85, 28.95], [28.95, 29.0, 28.2, 28.55], [28.55, 28.85, 28.3, 28.8], [28.8, 28.9, 28.25, 28.75], [28.7, 28.85, 28.3, 28.4], [28.4, 28.95, 28.35, 28.75], [28.75, 30.0, 28.6, 29.15], [29.15, 29.2, 27.65, 28.2], [28.2, 28.25, 27.8, 28.1], [28.1, 28.35, 27.95, 28.05], [28.05, 28.15, 27.4, 27.55], [27.55, 28.0, 27.4, 27.9], [27.9, 28.15, 27.7, 28.1], [28.05, 28.35, 27.95, 28.2], [28.2, 28.25, 27.0, 27.45], [27.45, 27.55, 26.7, 27.15], [27.15, 27.55, 25.6, 26.0], [26.0, 26.6, 25.6, 26.1], [26.1, 26.4, 25.25, 26.15], [26.15, 26.6, 26.15, 26.55], [26.5, 26.65, 26.25, 26.35], [26.35, 26.95, 26.35, 26.7], [26.7, 27.8, 26.45, 27.7], [27.7, 28.05, 27.35, 27.5], [27.5, 27.7, 27.35, 27.5], [27.5, 27.7, 27.05, 27.15], [27.15, 27.8, 27.15, 27.65], [27.65, 28.1, 27.6, 28.05], [28.05, 28.5, 27.9, 28.2], [28.2, 28.95, 28.15, 28.75], [28.75, 29.15, 28.55, 28.6], [28.6, 28.85, 28.45, 28.8], [28.8, 29.1, 28.75, 28.9], [28.9, 29.1, 28.6, 28.95], [28.95, 29.05, 28.65, 28.65], [28.65, 28.75, 28.15, 28.5], [28.5, 28.55, 27.75, 27.8], [27.8, 28.0, 27.45, 27.6], [27.6, 27.6, 27.05, 27.35], [27.35, 27.8, 27.3, 27.6]]\n",
      "[[22.1, 22.3, 22.05, 22.15], [22.15, 22.25, 22.1, 22.1], [22.1, 22.1, 22.0, 22.0], [22.0, 22.0, 21.9, 21.95], [21.95, 22.05, 21.9, 22.0], [22.0, 22.1, 22.0, 22.05], [22.0, 22.2, 22.0, 22.05], [22.05, 22.15, 22.0, 22.05], [22.05, 22.05, 21.95, 22.05], [22.05, 22.1, 22.0, 22.0], [22.05, 22.05, 22.0, 22.05], [22.05, 22.2, 22.0, 22.15], [22.15, 22.8, 22.0, 22.35], [22.35, 22.75, 22.25, 22.45], [22.45, 22.7, 22.45, 22.6], [22.6, 22.75, 22.35, 22.45], [22.45, 22.5, 22.15, 22.3], [22.3, 22.4, 22.15, 22.2], [22.2, 22.3, 22.15, 22.3], [22.3, 22.3, 21.75, 21.85], [21.85, 22.15, 21.8, 22.1], [22.1, 22.1, 22.0, 22.1], [22.1, 22.1, 21.95, 22.0], [22.0, 22.05, 21.95, 21.95], [21.95, 22.05, 21.75, 21.85], [21.85, 21.9, 21.6, 21.8], [21.8, 21.8, 21.65, 21.7], [21.7, 21.75, 21.6, 21.65], [21.65, 21.65, 21.45, 21.55], [21.55, 21.7, 21.5, 21.7], [21.7, 21.9, 21.7, 21.9], [21.9, 21.95, 21.75, 21.8], [21.8, 21.9, 21.75, 21.9], [21.9, 22.15, 21.85, 22.05], [22.05, 22.3, 22.05, 22.2], [22.25, 22.5, 22.2, 22.45], [22.45, 22.6, 22.2, 22.35], [22.35, 22.5, 22.25, 22.4], [22.45, 22.45, 22.15, 22.35], [22.35, 25.4, 22.3, 24.1], [24.1, 25.45, 24.1, 25.3], [25.3, 26.4, 25.1, 26.0], [26.0, 26.85, 25.25, 25.5], [25.5, 26.25, 25.45, 26.2], [26.2, 26.25, 25.5, 25.6], [25.6, 25.75, 25.4, 25.65], [25.65, 25.85, 25.6, 25.8], [25.8, 26.15, 25.55, 26.05], [26.05, 32.15, 25.6, 29.35], [29.35, 30.1, 28.3, 29.4], [29.45, 29.45, 28.85, 28.95], [28.95, 29.0, 28.2, 28.55], [28.55, 28.85, 28.3, 28.8], [28.8, 28.9, 28.25, 28.75], [28.7, 28.85, 28.3, 28.4], [28.4, 28.95, 28.35, 28.75], [28.75, 30.0, 28.6, 29.15], [29.15, 29.2, 27.65, 28.2], [28.2, 28.25, 27.8, 28.1], [28.1, 28.35, 27.95, 28.05], [28.05, 28.15, 27.4, 27.55], [27.55, 28.0, 27.4, 27.9], [27.9, 28.15, 27.7, 28.1], [28.05, 28.35, 27.95, 28.2], [28.2, 28.25, 27.0, 27.45], [27.45, 27.55, 26.7, 27.15], [27.15, 27.55, 25.6, 26.0], [26.0, 26.6, 25.6, 26.1], [26.1, 26.4, 25.25, 26.15], [26.15, 26.6, 26.15, 26.55], [26.5, 26.65, 26.25, 26.35], [26.35, 26.95, 26.35, 26.7], [26.7, 27.8, 26.45, 27.7], [27.7, 28.05, 27.35, 27.5], [27.5, 27.7, 27.35, 27.5], [27.5, 27.7, 27.05, 27.15], [27.15, 27.8, 27.15, 27.65], [27.65, 28.1, 27.6, 28.05], [28.05, 28.5, 27.9, 28.2], [28.2, 28.95, 28.15, 28.75], [28.75, 29.15, 28.55, 28.6], [28.6, 28.85, 28.45, 28.8], [28.8, 29.1, 28.75, 28.9], [28.9, 29.1, 28.6, 28.95], [28.95, 29.05, 28.65, 28.65], [28.65, 28.75, 28.15, 28.5], [28.5, 28.55, 27.75, 27.8], [27.8, 28.0, 27.45, 27.6], [27.6, 27.6, 27.05, 27.35], [27.35, 27.8, 27.3, 27.6], [27.6, 28.2, 27.5, 27.9]]\n",
      "[[22.1, 22.3, 22.05, 22.15], [22.15, 22.25, 22.1, 22.1], [22.1, 22.1, 22.0, 22.0], [22.0, 22.0, 21.9, 21.95], [21.95, 22.05, 21.9, 22.0], [22.0, 22.1, 22.0, 22.05], [22.0, 22.2, 22.0, 22.05], [22.05, 22.15, 22.0, 22.05], [22.05, 22.05, 21.95, 22.05], [22.05, 22.1, 22.0, 22.0], [22.05, 22.05, 22.0, 22.05], [22.05, 22.2, 22.0, 22.15], [22.15, 22.8, 22.0, 22.35], [22.35, 22.75, 22.25, 22.45], [22.45, 22.7, 22.45, 22.6], [22.6, 22.75, 22.35, 22.45], [22.45, 22.5, 22.15, 22.3], [22.3, 22.4, 22.15, 22.2], [22.2, 22.3, 22.15, 22.3], [22.3, 22.3, 21.75, 21.85], [21.85, 22.15, 21.8, 22.1], [22.1, 22.1, 22.0, 22.1], [22.1, 22.1, 21.95, 22.0], [22.0, 22.05, 21.95, 21.95], [21.95, 22.05, 21.75, 21.85], [21.85, 21.9, 21.6, 21.8], [21.8, 21.8, 21.65, 21.7], [21.7, 21.75, 21.6, 21.65], [21.65, 21.65, 21.45, 21.55], [21.55, 21.7, 21.5, 21.7], [21.7, 21.9, 21.7, 21.9], [21.9, 21.95, 21.75, 21.8], [21.8, 21.9, 21.75, 21.9], [21.9, 22.15, 21.85, 22.05], [22.05, 22.3, 22.05, 22.2], [22.25, 22.5, 22.2, 22.45], [22.45, 22.6, 22.2, 22.35], [22.35, 22.5, 22.25, 22.4], [22.45, 22.45, 22.15, 22.35], [22.35, 25.4, 22.3, 24.1], [24.1, 25.45, 24.1, 25.3], [25.3, 26.4, 25.1, 26.0], [26.0, 26.85, 25.25, 25.5], [25.5, 26.25, 25.45, 26.2], [26.2, 26.25, 25.5, 25.6], [25.6, 25.75, 25.4, 25.65], [25.65, 25.85, 25.6, 25.8], [25.8, 26.15, 25.55, 26.05], [26.05, 32.15, 25.6, 29.35], [29.35, 30.1, 28.3, 29.4], [29.45, 29.45, 28.85, 28.95], [28.95, 29.0, 28.2, 28.55], [28.55, 28.85, 28.3, 28.8], [28.8, 28.9, 28.25, 28.75], [28.7, 28.85, 28.3, 28.4], [28.4, 28.95, 28.35, 28.75], [28.75, 30.0, 28.6, 29.15], [29.15, 29.2, 27.65, 28.2], [28.2, 28.25, 27.8, 28.1], [28.1, 28.35, 27.95, 28.05], [28.05, 28.15, 27.4, 27.55], [27.55, 28.0, 27.4, 27.9], [27.9, 28.15, 27.7, 28.1], [28.05, 28.35, 27.95, 28.2], [28.2, 28.25, 27.0, 27.45], [27.45, 27.55, 26.7, 27.15], [27.15, 27.55, 25.6, 26.0], [26.0, 26.6, 25.6, 26.1], [26.1, 26.4, 25.25, 26.15], [26.15, 26.6, 26.15, 26.55], [26.5, 26.65, 26.25, 26.35], [26.35, 26.95, 26.35, 26.7], [26.7, 27.8, 26.45, 27.7], [27.7, 28.05, 27.35, 27.5], [27.5, 27.7, 27.35, 27.5], [27.5, 27.7, 27.05, 27.15], [27.15, 27.8, 27.15, 27.65], [27.65, 28.1, 27.6, 28.05], [28.05, 28.5, 27.9, 28.2], [28.2, 28.95, 28.15, 28.75], [28.75, 29.15, 28.55, 28.6], [28.6, 28.85, 28.45, 28.8], [28.8, 29.1, 28.75, 28.9], [28.9, 29.1, 28.6, 28.95], [28.95, 29.05, 28.65, 28.65], [28.65, 28.75, 28.15, 28.5], [28.5, 28.55, 27.75, 27.8], [27.8, 28.0, 27.45, 27.6], [27.6, 27.6, 27.05, 27.35], [27.35, 27.8, 27.3, 27.6], [27.6, 28.2, 27.5, 27.9], [27.9, 28.1, 27.85, 27.9]]\n",
      "[[22.1, 22.3, 22.05, 22.15], [22.15, 22.25, 22.1, 22.1], [22.1, 22.1, 22.0, 22.0], [22.0, 22.0, 21.9, 21.95], [21.95, 22.05, 21.9, 22.0], [22.0, 22.1, 22.0, 22.05], [22.0, 22.2, 22.0, 22.05], [22.05, 22.15, 22.0, 22.05], [22.05, 22.05, 21.95, 22.05], [22.05, 22.1, 22.0, 22.0], [22.05, 22.05, 22.0, 22.05], [22.05, 22.2, 22.0, 22.15], [22.15, 22.8, 22.0, 22.35], [22.35, 22.75, 22.25, 22.45], [22.45, 22.7, 22.45, 22.6], [22.6, 22.75, 22.35, 22.45], [22.45, 22.5, 22.15, 22.3], [22.3, 22.4, 22.15, 22.2], [22.2, 22.3, 22.15, 22.3], [22.3, 22.3, 21.75, 21.85], [21.85, 22.15, 21.8, 22.1], [22.1, 22.1, 22.0, 22.1], [22.1, 22.1, 21.95, 22.0], [22.0, 22.05, 21.95, 21.95], [21.95, 22.05, 21.75, 21.85], [21.85, 21.9, 21.6, 21.8], [21.8, 21.8, 21.65, 21.7], [21.7, 21.75, 21.6, 21.65], [21.65, 21.65, 21.45, 21.55], [21.55, 21.7, 21.5, 21.7], [21.7, 21.9, 21.7, 21.9], [21.9, 21.95, 21.75, 21.8], [21.8, 21.9, 21.75, 21.9], [21.9, 22.15, 21.85, 22.05], [22.05, 22.3, 22.05, 22.2], [22.25, 22.5, 22.2, 22.45], [22.45, 22.6, 22.2, 22.35], [22.35, 22.5, 22.25, 22.4], [22.45, 22.45, 22.15, 22.35], [22.35, 25.4, 22.3, 24.1], [24.1, 25.45, 24.1, 25.3], [25.3, 26.4, 25.1, 26.0], [26.0, 26.85, 25.25, 25.5], [25.5, 26.25, 25.45, 26.2], [26.2, 26.25, 25.5, 25.6], [25.6, 25.75, 25.4, 25.65], [25.65, 25.85, 25.6, 25.8], [25.8, 26.15, 25.55, 26.05], [26.05, 32.15, 25.6, 29.35], [29.35, 30.1, 28.3, 29.4], [29.45, 29.45, 28.85, 28.95], [28.95, 29.0, 28.2, 28.55], [28.55, 28.85, 28.3, 28.8], [28.8, 28.9, 28.25, 28.75], [28.7, 28.85, 28.3, 28.4], [28.4, 28.95, 28.35, 28.75], [28.75, 30.0, 28.6, 29.15], [29.15, 29.2, 27.65, 28.2], [28.2, 28.25, 27.8, 28.1], [28.1, 28.35, 27.95, 28.05], [28.05, 28.15, 27.4, 27.55], [27.55, 28.0, 27.4, 27.9], [27.9, 28.15, 27.7, 28.1], [28.05, 28.35, 27.95, 28.2], [28.2, 28.25, 27.0, 27.45], [27.45, 27.55, 26.7, 27.15], [27.15, 27.55, 25.6, 26.0], [26.0, 26.6, 25.6, 26.1], [26.1, 26.4, 25.25, 26.15], [26.15, 26.6, 26.15, 26.55], [26.5, 26.65, 26.25, 26.35], [26.35, 26.95, 26.35, 26.7], [26.7, 27.8, 26.45, 27.7], [27.7, 28.05, 27.35, 27.5], [27.5, 27.7, 27.35, 27.5], [27.5, 27.7, 27.05, 27.15], [27.15, 27.8, 27.15, 27.65], [27.65, 28.1, 27.6, 28.05], [28.05, 28.5, 27.9, 28.2], [28.2, 28.95, 28.15, 28.75], [28.75, 29.15, 28.55, 28.6], [28.6, 28.85, 28.45, 28.8], [28.8, 29.1, 28.75, 28.9], [28.9, 29.1, 28.6, 28.95], [28.95, 29.05, 28.65, 28.65], [28.65, 28.75, 28.15, 28.5], [28.5, 28.55, 27.75, 27.8], [27.8, 28.0, 27.45, 27.6], [27.6, 27.6, 27.05, 27.35], [27.35, 27.8, 27.3, 27.6], [27.6, 28.2, 27.5, 27.9], [27.9, 28.1, 27.85, 27.9], [27.9, 27.9, 27.4, 27.7]]\n",
      "[[22.1, 22.3, 22.05, 22.15], [22.15, 22.25, 22.1, 22.1], [22.1, 22.1, 22.0, 22.0], [22.0, 22.0, 21.9, 21.95], [21.95, 22.05, 21.9, 22.0], [22.0, 22.1, 22.0, 22.05], [22.0, 22.2, 22.0, 22.05], [22.05, 22.15, 22.0, 22.05], [22.05, 22.05, 21.95, 22.05], [22.05, 22.1, 22.0, 22.0], [22.05, 22.05, 22.0, 22.05], [22.05, 22.2, 22.0, 22.15], [22.15, 22.8, 22.0, 22.35], [22.35, 22.75, 22.25, 22.45], [22.45, 22.7, 22.45, 22.6], [22.6, 22.75, 22.35, 22.45], [22.45, 22.5, 22.15, 22.3], [22.3, 22.4, 22.15, 22.2], [22.2, 22.3, 22.15, 22.3], [22.3, 22.3, 21.75, 21.85], [21.85, 22.15, 21.8, 22.1], [22.1, 22.1, 22.0, 22.1], [22.1, 22.1, 21.95, 22.0], [22.0, 22.05, 21.95, 21.95], [21.95, 22.05, 21.75, 21.85], [21.85, 21.9, 21.6, 21.8], [21.8, 21.8, 21.65, 21.7], [21.7, 21.75, 21.6, 21.65], [21.65, 21.65, 21.45, 21.55], [21.55, 21.7, 21.5, 21.7], [21.7, 21.9, 21.7, 21.9], [21.9, 21.95, 21.75, 21.8], [21.8, 21.9, 21.75, 21.9], [21.9, 22.15, 21.85, 22.05], [22.05, 22.3, 22.05, 22.2], [22.25, 22.5, 22.2, 22.45], [22.45, 22.6, 22.2, 22.35], [22.35, 22.5, 22.25, 22.4], [22.45, 22.45, 22.15, 22.35], [22.35, 25.4, 22.3, 24.1], [24.1, 25.45, 24.1, 25.3], [25.3, 26.4, 25.1, 26.0], [26.0, 26.85, 25.25, 25.5], [25.5, 26.25, 25.45, 26.2], [26.2, 26.25, 25.5, 25.6], [25.6, 25.75, 25.4, 25.65], [25.65, 25.85, 25.6, 25.8], [25.8, 26.15, 25.55, 26.05], [26.05, 32.15, 25.6, 29.35], [29.35, 30.1, 28.3, 29.4], [29.45, 29.45, 28.85, 28.95], [28.95, 29.0, 28.2, 28.55], [28.55, 28.85, 28.3, 28.8], [28.8, 28.9, 28.25, 28.75], [28.7, 28.85, 28.3, 28.4], [28.4, 28.95, 28.35, 28.75], [28.75, 30.0, 28.6, 29.15], [29.15, 29.2, 27.65, 28.2], [28.2, 28.25, 27.8, 28.1], [28.1, 28.35, 27.95, 28.05], [28.05, 28.15, 27.4, 27.55], [27.55, 28.0, 27.4, 27.9], [27.9, 28.15, 27.7, 28.1], [28.05, 28.35, 27.95, 28.2], [28.2, 28.25, 27.0, 27.45], [27.45, 27.55, 26.7, 27.15], [27.15, 27.55, 25.6, 26.0], [26.0, 26.6, 25.6, 26.1], [26.1, 26.4, 25.25, 26.15], [26.15, 26.6, 26.15, 26.55], [26.5, 26.65, 26.25, 26.35], [26.35, 26.95, 26.35, 26.7], [26.7, 27.8, 26.45, 27.7], [27.7, 28.05, 27.35, 27.5], [27.5, 27.7, 27.35, 27.5], [27.5, 27.7, 27.05, 27.15], [27.15, 27.8, 27.15, 27.65], [27.65, 28.1, 27.6, 28.05], [28.05, 28.5, 27.9, 28.2], [28.2, 28.95, 28.15, 28.75], [28.75, 29.15, 28.55, 28.6], [28.6, 28.85, 28.45, 28.8], [28.8, 29.1, 28.75, 28.9], [28.9, 29.1, 28.6, 28.95], [28.95, 29.05, 28.65, 28.65], [28.65, 28.75, 28.15, 28.5], [28.5, 28.55, 27.75, 27.8], [27.8, 28.0, 27.45, 27.6], [27.6, 27.6, 27.05, 27.35], [27.35, 27.8, 27.3, 27.6], [27.6, 28.2, 27.5, 27.9], [27.9, 28.1, 27.85, 27.9], [27.9, 27.9, 27.4, 27.7], [27.7, 27.7, 27.4, 27.55]]\n",
      "[[22.1, 22.3, 22.05, 22.15], [22.15, 22.25, 22.1, 22.1], [22.1, 22.1, 22.0, 22.0], [22.0, 22.0, 21.9, 21.95], [21.95, 22.05, 21.9, 22.0], [22.0, 22.1, 22.0, 22.05], [22.0, 22.2, 22.0, 22.05], [22.05, 22.15, 22.0, 22.05], [22.05, 22.05, 21.95, 22.05], [22.05, 22.1, 22.0, 22.0], [22.05, 22.05, 22.0, 22.05], [22.05, 22.2, 22.0, 22.15], [22.15, 22.8, 22.0, 22.35], [22.35, 22.75, 22.25, 22.45], [22.45, 22.7, 22.45, 22.6], [22.6, 22.75, 22.35, 22.45], [22.45, 22.5, 22.15, 22.3], [22.3, 22.4, 22.15, 22.2], [22.2, 22.3, 22.15, 22.3], [22.3, 22.3, 21.75, 21.85], [21.85, 22.15, 21.8, 22.1], [22.1, 22.1, 22.0, 22.1], [22.1, 22.1, 21.95, 22.0], [22.0, 22.05, 21.95, 21.95], [21.95, 22.05, 21.75, 21.85], [21.85, 21.9, 21.6, 21.8], [21.8, 21.8, 21.65, 21.7], [21.7, 21.75, 21.6, 21.65], [21.65, 21.65, 21.45, 21.55], [21.55, 21.7, 21.5, 21.7], [21.7, 21.9, 21.7, 21.9], [21.9, 21.95, 21.75, 21.8], [21.8, 21.9, 21.75, 21.9], [21.9, 22.15, 21.85, 22.05], [22.05, 22.3, 22.05, 22.2], [22.25, 22.5, 22.2, 22.45], [22.45, 22.6, 22.2, 22.35], [22.35, 22.5, 22.25, 22.4], [22.45, 22.45, 22.15, 22.35], [22.35, 25.4, 22.3, 24.1], [24.1, 25.45, 24.1, 25.3], [25.3, 26.4, 25.1, 26.0], [26.0, 26.85, 25.25, 25.5], [25.5, 26.25, 25.45, 26.2], [26.2, 26.25, 25.5, 25.6], [25.6, 25.75, 25.4, 25.65], [25.65, 25.85, 25.6, 25.8], [25.8, 26.15, 25.55, 26.05], [26.05, 32.15, 25.6, 29.35], [29.35, 30.1, 28.3, 29.4], [29.45, 29.45, 28.85, 28.95], [28.95, 29.0, 28.2, 28.55], [28.55, 28.85, 28.3, 28.8], [28.8, 28.9, 28.25, 28.75], [28.7, 28.85, 28.3, 28.4], [28.4, 28.95, 28.35, 28.75], [28.75, 30.0, 28.6, 29.15], [29.15, 29.2, 27.65, 28.2], [28.2, 28.25, 27.8, 28.1], [28.1, 28.35, 27.95, 28.05], [28.05, 28.15, 27.4, 27.55], [27.55, 28.0, 27.4, 27.9], [27.9, 28.15, 27.7, 28.1], [28.05, 28.35, 27.95, 28.2], [28.2, 28.25, 27.0, 27.45], [27.45, 27.55, 26.7, 27.15], [27.15, 27.55, 25.6, 26.0], [26.0, 26.6, 25.6, 26.1], [26.1, 26.4, 25.25, 26.15], [26.15, 26.6, 26.15, 26.55], [26.5, 26.65, 26.25, 26.35], [26.35, 26.95, 26.35, 26.7], [26.7, 27.8, 26.45, 27.7], [27.7, 28.05, 27.35, 27.5], [27.5, 27.7, 27.35, 27.5], [27.5, 27.7, 27.05, 27.15], [27.15, 27.8, 27.15, 27.65], [27.65, 28.1, 27.6, 28.05], [28.05, 28.5, 27.9, 28.2], [28.2, 28.95, 28.15, 28.75], [28.75, 29.15, 28.55, 28.6], [28.6, 28.85, 28.45, 28.8], [28.8, 29.1, 28.75, 28.9], [28.9, 29.1, 28.6, 28.95], [28.95, 29.05, 28.65, 28.65], [28.65, 28.75, 28.15, 28.5], [28.5, 28.55, 27.75, 27.8], [27.8, 28.0, 27.45, 27.6], [27.6, 27.6, 27.05, 27.35], [27.35, 27.8, 27.3, 27.6], [27.6, 28.2, 27.5, 27.9], [27.9, 28.1, 27.85, 27.9], [27.9, 27.9, 27.4, 27.7], [27.7, 27.7, 27.4, 27.55], [27.55, 27.6, 27.25, 27.35]]\n",
      "[[22.1, 22.3, 22.05, 22.15], [22.15, 22.25, 22.1, 22.1], [22.1, 22.1, 22.0, 22.0], [22.0, 22.0, 21.9, 21.95], [21.95, 22.05, 21.9, 22.0], [22.0, 22.1, 22.0, 22.05], [22.0, 22.2, 22.0, 22.05], [22.05, 22.15, 22.0, 22.05], [22.05, 22.05, 21.95, 22.05], [22.05, 22.1, 22.0, 22.0], [22.05, 22.05, 22.0, 22.05], [22.05, 22.2, 22.0, 22.15], [22.15, 22.8, 22.0, 22.35], [22.35, 22.75, 22.25, 22.45], [22.45, 22.7, 22.45, 22.6], [22.6, 22.75, 22.35, 22.45], [22.45, 22.5, 22.15, 22.3], [22.3, 22.4, 22.15, 22.2], [22.2, 22.3, 22.15, 22.3], [22.3, 22.3, 21.75, 21.85], [21.85, 22.15, 21.8, 22.1], [22.1, 22.1, 22.0, 22.1], [22.1, 22.1, 21.95, 22.0], [22.0, 22.05, 21.95, 21.95], [21.95, 22.05, 21.75, 21.85], [21.85, 21.9, 21.6, 21.8], [21.8, 21.8, 21.65, 21.7], [21.7, 21.75, 21.6, 21.65], [21.65, 21.65, 21.45, 21.55], [21.55, 21.7, 21.5, 21.7], [21.7, 21.9, 21.7, 21.9], [21.9, 21.95, 21.75, 21.8], [21.8, 21.9, 21.75, 21.9], [21.9, 22.15, 21.85, 22.05], [22.05, 22.3, 22.05, 22.2], [22.25, 22.5, 22.2, 22.45], [22.45, 22.6, 22.2, 22.35], [22.35, 22.5, 22.25, 22.4], [22.45, 22.45, 22.15, 22.35], [22.35, 25.4, 22.3, 24.1], [24.1, 25.45, 24.1, 25.3], [25.3, 26.4, 25.1, 26.0], [26.0, 26.85, 25.25, 25.5], [25.5, 26.25, 25.45, 26.2], [26.2, 26.25, 25.5, 25.6], [25.6, 25.75, 25.4, 25.65], [25.65, 25.85, 25.6, 25.8], [25.8, 26.15, 25.55, 26.05], [26.05, 32.15, 25.6, 29.35], [29.35, 30.1, 28.3, 29.4], [29.45, 29.45, 28.85, 28.95], [28.95, 29.0, 28.2, 28.55], [28.55, 28.85, 28.3, 28.8], [28.8, 28.9, 28.25, 28.75], [28.7, 28.85, 28.3, 28.4], [28.4, 28.95, 28.35, 28.75], [28.75, 30.0, 28.6, 29.15], [29.15, 29.2, 27.65, 28.2], [28.2, 28.25, 27.8, 28.1], [28.1, 28.35, 27.95, 28.05], [28.05, 28.15, 27.4, 27.55], [27.55, 28.0, 27.4, 27.9], [27.9, 28.15, 27.7, 28.1], [28.05, 28.35, 27.95, 28.2], [28.2, 28.25, 27.0, 27.45], [27.45, 27.55, 26.7, 27.15], [27.15, 27.55, 25.6, 26.0], [26.0, 26.6, 25.6, 26.1], [26.1, 26.4, 25.25, 26.15], [26.15, 26.6, 26.15, 26.55], [26.5, 26.65, 26.25, 26.35], [26.35, 26.95, 26.35, 26.7], [26.7, 27.8, 26.45, 27.7], [27.7, 28.05, 27.35, 27.5], [27.5, 27.7, 27.35, 27.5], [27.5, 27.7, 27.05, 27.15], [27.15, 27.8, 27.15, 27.65], [27.65, 28.1, 27.6, 28.05], [28.05, 28.5, 27.9, 28.2], [28.2, 28.95, 28.15, 28.75], [28.75, 29.15, 28.55, 28.6], [28.6, 28.85, 28.45, 28.8], [28.8, 29.1, 28.75, 28.9], [28.9, 29.1, 28.6, 28.95], [28.95, 29.05, 28.65, 28.65], [28.65, 28.75, 28.15, 28.5], [28.5, 28.55, 27.75, 27.8], [27.8, 28.0, 27.45, 27.6], [27.6, 27.6, 27.05, 27.35], [27.35, 27.8, 27.3, 27.6], [27.6, 28.2, 27.5, 27.9], [27.9, 28.1, 27.85, 27.9], [27.9, 27.9, 27.4, 27.7], [27.7, 27.7, 27.4, 27.55], [27.55, 27.6, 27.25, 27.35], [27.35, 27.55, 27.25, 27.5]]\n",
      "[[22.1, 22.3, 22.05, 22.15], [22.15, 22.25, 22.1, 22.1], [22.1, 22.1, 22.0, 22.0], [22.0, 22.0, 21.9, 21.95], [21.95, 22.05, 21.9, 22.0], [22.0, 22.1, 22.0, 22.05], [22.0, 22.2, 22.0, 22.05], [22.05, 22.15, 22.0, 22.05], [22.05, 22.05, 21.95, 22.05], [22.05, 22.1, 22.0, 22.0], [22.05, 22.05, 22.0, 22.05], [22.05, 22.2, 22.0, 22.15], [22.15, 22.8, 22.0, 22.35], [22.35, 22.75, 22.25, 22.45], [22.45, 22.7, 22.45, 22.6], [22.6, 22.75, 22.35, 22.45], [22.45, 22.5, 22.15, 22.3], [22.3, 22.4, 22.15, 22.2], [22.2, 22.3, 22.15, 22.3], [22.3, 22.3, 21.75, 21.85], [21.85, 22.15, 21.8, 22.1], [22.1, 22.1, 22.0, 22.1], [22.1, 22.1, 21.95, 22.0], [22.0, 22.05, 21.95, 21.95], [21.95, 22.05, 21.75, 21.85], [21.85, 21.9, 21.6, 21.8], [21.8, 21.8, 21.65, 21.7], [21.7, 21.75, 21.6, 21.65], [21.65, 21.65, 21.45, 21.55], [21.55, 21.7, 21.5, 21.7], [21.7, 21.9, 21.7, 21.9], [21.9, 21.95, 21.75, 21.8], [21.8, 21.9, 21.75, 21.9], [21.9, 22.15, 21.85, 22.05], [22.05, 22.3, 22.05, 22.2], [22.25, 22.5, 22.2, 22.45], [22.45, 22.6, 22.2, 22.35], [22.35, 22.5, 22.25, 22.4], [22.45, 22.45, 22.15, 22.35], [22.35, 25.4, 22.3, 24.1], [24.1, 25.45, 24.1, 25.3], [25.3, 26.4, 25.1, 26.0], [26.0, 26.85, 25.25, 25.5], [25.5, 26.25, 25.45, 26.2], [26.2, 26.25, 25.5, 25.6], [25.6, 25.75, 25.4, 25.65], [25.65, 25.85, 25.6, 25.8], [25.8, 26.15, 25.55, 26.05], [26.05, 32.15, 25.6, 29.35], [29.35, 30.1, 28.3, 29.4], [29.45, 29.45, 28.85, 28.95], [28.95, 29.0, 28.2, 28.55], [28.55, 28.85, 28.3, 28.8], [28.8, 28.9, 28.25, 28.75], [28.7, 28.85, 28.3, 28.4], [28.4, 28.95, 28.35, 28.75], [28.75, 30.0, 28.6, 29.15], [29.15, 29.2, 27.65, 28.2], [28.2, 28.25, 27.8, 28.1], [28.1, 28.35, 27.95, 28.05], [28.05, 28.15, 27.4, 27.55], [27.55, 28.0, 27.4, 27.9], [27.9, 28.15, 27.7, 28.1], [28.05, 28.35, 27.95, 28.2], [28.2, 28.25, 27.0, 27.45], [27.45, 27.55, 26.7, 27.15], [27.15, 27.55, 25.6, 26.0], [26.0, 26.6, 25.6, 26.1], [26.1, 26.4, 25.25, 26.15], [26.15, 26.6, 26.15, 26.55], [26.5, 26.65, 26.25, 26.35], [26.35, 26.95, 26.35, 26.7], [26.7, 27.8, 26.45, 27.7], [27.7, 28.05, 27.35, 27.5], [27.5, 27.7, 27.35, 27.5], [27.5, 27.7, 27.05, 27.15], [27.15, 27.8, 27.15, 27.65], [27.65, 28.1, 27.6, 28.05], [28.05, 28.5, 27.9, 28.2], [28.2, 28.95, 28.15, 28.75], [28.75, 29.15, 28.55, 28.6], [28.6, 28.85, 28.45, 28.8], [28.8, 29.1, 28.75, 28.9], [28.9, 29.1, 28.6, 28.95], [28.95, 29.05, 28.65, 28.65], [28.65, 28.75, 28.15, 28.5], [28.5, 28.55, 27.75, 27.8], [27.8, 28.0, 27.45, 27.6], [27.6, 27.6, 27.05, 27.35], [27.35, 27.8, 27.3, 27.6], [27.6, 28.2, 27.5, 27.9], [27.9, 28.1, 27.85, 27.9], [27.9, 27.9, 27.4, 27.7], [27.7, 27.7, 27.4, 27.55], [27.55, 27.6, 27.25, 27.35], [27.35, 27.55, 27.25, 27.5], [27.5, 27.95, 27.35, 27.6]]\n",
      "[[22.1, 22.3, 22.05, 22.15], [22.15, 22.25, 22.1, 22.1], [22.1, 22.1, 22.0, 22.0], [22.0, 22.0, 21.9, 21.95], [21.95, 22.05, 21.9, 22.0], [22.0, 22.1, 22.0, 22.05], [22.0, 22.2, 22.0, 22.05], [22.05, 22.15, 22.0, 22.05], [22.05, 22.05, 21.95, 22.05], [22.05, 22.1, 22.0, 22.0], [22.05, 22.05, 22.0, 22.05], [22.05, 22.2, 22.0, 22.15], [22.15, 22.8, 22.0, 22.35], [22.35, 22.75, 22.25, 22.45], [22.45, 22.7, 22.45, 22.6], [22.6, 22.75, 22.35, 22.45], [22.45, 22.5, 22.15, 22.3], [22.3, 22.4, 22.15, 22.2], [22.2, 22.3, 22.15, 22.3], [22.3, 22.3, 21.75, 21.85], [21.85, 22.15, 21.8, 22.1], [22.1, 22.1, 22.0, 22.1], [22.1, 22.1, 21.95, 22.0], [22.0, 22.05, 21.95, 21.95], [21.95, 22.05, 21.75, 21.85], [21.85, 21.9, 21.6, 21.8], [21.8, 21.8, 21.65, 21.7], [21.7, 21.75, 21.6, 21.65], [21.65, 21.65, 21.45, 21.55], [21.55, 21.7, 21.5, 21.7], [21.7, 21.9, 21.7, 21.9], [21.9, 21.95, 21.75, 21.8], [21.8, 21.9, 21.75, 21.9], [21.9, 22.15, 21.85, 22.05], [22.05, 22.3, 22.05, 22.2], [22.25, 22.5, 22.2, 22.45], [22.45, 22.6, 22.2, 22.35], [22.35, 22.5, 22.25, 22.4], [22.45, 22.45, 22.15, 22.35], [22.35, 25.4, 22.3, 24.1], [24.1, 25.45, 24.1, 25.3], [25.3, 26.4, 25.1, 26.0], [26.0, 26.85, 25.25, 25.5], [25.5, 26.25, 25.45, 26.2], [26.2, 26.25, 25.5, 25.6], [25.6, 25.75, 25.4, 25.65], [25.65, 25.85, 25.6, 25.8], [25.8, 26.15, 25.55, 26.05], [26.05, 32.15, 25.6, 29.35], [29.35, 30.1, 28.3, 29.4], [29.45, 29.45, 28.85, 28.95], [28.95, 29.0, 28.2, 28.55], [28.55, 28.85, 28.3, 28.8], [28.8, 28.9, 28.25, 28.75], [28.7, 28.85, 28.3, 28.4], [28.4, 28.95, 28.35, 28.75], [28.75, 30.0, 28.6, 29.15], [29.15, 29.2, 27.65, 28.2], [28.2, 28.25, 27.8, 28.1], [28.1, 28.35, 27.95, 28.05], [28.05, 28.15, 27.4, 27.55], [27.55, 28.0, 27.4, 27.9], [27.9, 28.15, 27.7, 28.1], [28.05, 28.35, 27.95, 28.2], [28.2, 28.25, 27.0, 27.45], [27.45, 27.55, 26.7, 27.15], [27.15, 27.55, 25.6, 26.0], [26.0, 26.6, 25.6, 26.1], [26.1, 26.4, 25.25, 26.15], [26.15, 26.6, 26.15, 26.55], [26.5, 26.65, 26.25, 26.35], [26.35, 26.95, 26.35, 26.7], [26.7, 27.8, 26.45, 27.7], [27.7, 28.05, 27.35, 27.5], [27.5, 27.7, 27.35, 27.5], [27.5, 27.7, 27.05, 27.15], [27.15, 27.8, 27.15, 27.65], [27.65, 28.1, 27.6, 28.05], [28.05, 28.5, 27.9, 28.2], [28.2, 28.95, 28.15, 28.75], [28.75, 29.15, 28.55, 28.6], [28.6, 28.85, 28.45, 28.8], [28.8, 29.1, 28.75, 28.9], [28.9, 29.1, 28.6, 28.95], [28.95, 29.05, 28.65, 28.65], [28.65, 28.75, 28.15, 28.5], [28.5, 28.55, 27.75, 27.8], [27.8, 28.0, 27.45, 27.6], [27.6, 27.6, 27.05, 27.35], [27.35, 27.8, 27.3, 27.6], [27.6, 28.2, 27.5, 27.9], [27.9, 28.1, 27.85, 27.9], [27.9, 27.9, 27.4, 27.7], [27.7, 27.7, 27.4, 27.55], [27.55, 27.6, 27.25, 27.35], [27.35, 27.55, 27.25, 27.5], [27.5, 27.95, 27.35, 27.6], [27.6, 27.8, 27.4, 27.4]]\n",
      "[[22.1, 22.3, 22.05, 22.15], [22.15, 22.25, 22.1, 22.1], [22.1, 22.1, 22.0, 22.0], [22.0, 22.0, 21.9, 21.95], [21.95, 22.05, 21.9, 22.0], [22.0, 22.1, 22.0, 22.05], [22.0, 22.2, 22.0, 22.05], [22.05, 22.15, 22.0, 22.05], [22.05, 22.05, 21.95, 22.05], [22.05, 22.1, 22.0, 22.0], [22.05, 22.05, 22.0, 22.05], [22.05, 22.2, 22.0, 22.15], [22.15, 22.8, 22.0, 22.35], [22.35, 22.75, 22.25, 22.45], [22.45, 22.7, 22.45, 22.6], [22.6, 22.75, 22.35, 22.45], [22.45, 22.5, 22.15, 22.3], [22.3, 22.4, 22.15, 22.2], [22.2, 22.3, 22.15, 22.3], [22.3, 22.3, 21.75, 21.85], [21.85, 22.15, 21.8, 22.1], [22.1, 22.1, 22.0, 22.1], [22.1, 22.1, 21.95, 22.0], [22.0, 22.05, 21.95, 21.95], [21.95, 22.05, 21.75, 21.85], [21.85, 21.9, 21.6, 21.8], [21.8, 21.8, 21.65, 21.7], [21.7, 21.75, 21.6, 21.65], [21.65, 21.65, 21.45, 21.55], [21.55, 21.7, 21.5, 21.7], [21.7, 21.9, 21.7, 21.9], [21.9, 21.95, 21.75, 21.8], [21.8, 21.9, 21.75, 21.9], [21.9, 22.15, 21.85, 22.05], [22.05, 22.3, 22.05, 22.2], [22.25, 22.5, 22.2, 22.45], [22.45, 22.6, 22.2, 22.35], [22.35, 22.5, 22.25, 22.4], [22.45, 22.45, 22.15, 22.35], [22.35, 25.4, 22.3, 24.1], [24.1, 25.45, 24.1, 25.3], [25.3, 26.4, 25.1, 26.0], [26.0, 26.85, 25.25, 25.5], [25.5, 26.25, 25.45, 26.2], [26.2, 26.25, 25.5, 25.6], [25.6, 25.75, 25.4, 25.65], [25.65, 25.85, 25.6, 25.8], [25.8, 26.15, 25.55, 26.05], [26.05, 32.15, 25.6, 29.35], [29.35, 30.1, 28.3, 29.4], [29.45, 29.45, 28.85, 28.95], [28.95, 29.0, 28.2, 28.55], [28.55, 28.85, 28.3, 28.8], [28.8, 28.9, 28.25, 28.75], [28.7, 28.85, 28.3, 28.4], [28.4, 28.95, 28.35, 28.75], [28.75, 30.0, 28.6, 29.15], [29.15, 29.2, 27.65, 28.2], [28.2, 28.25, 27.8, 28.1], [28.1, 28.35, 27.95, 28.05], [28.05, 28.15, 27.4, 27.55], [27.55, 28.0, 27.4, 27.9], [27.9, 28.15, 27.7, 28.1], [28.05, 28.35, 27.95, 28.2], [28.2, 28.25, 27.0, 27.45], [27.45, 27.55, 26.7, 27.15], [27.15, 27.55, 25.6, 26.0], [26.0, 26.6, 25.6, 26.1], [26.1, 26.4, 25.25, 26.15], [26.15, 26.6, 26.15, 26.55], [26.5, 26.65, 26.25, 26.35], [26.35, 26.95, 26.35, 26.7], [26.7, 27.8, 26.45, 27.7], [27.7, 28.05, 27.35, 27.5], [27.5, 27.7, 27.35, 27.5], [27.5, 27.7, 27.05, 27.15], [27.15, 27.8, 27.15, 27.65], [27.65, 28.1, 27.6, 28.05], [28.05, 28.5, 27.9, 28.2], [28.2, 28.95, 28.15, 28.75], [28.75, 29.15, 28.55, 28.6], [28.6, 28.85, 28.45, 28.8], [28.8, 29.1, 28.75, 28.9], [28.9, 29.1, 28.6, 28.95], [28.95, 29.05, 28.65, 28.65], [28.65, 28.75, 28.15, 28.5], [28.5, 28.55, 27.75, 27.8], [27.8, 28.0, 27.45, 27.6], [27.6, 27.6, 27.05, 27.35], [27.35, 27.8, 27.3, 27.6], [27.6, 28.2, 27.5, 27.9], [27.9, 28.1, 27.85, 27.9], [27.9, 27.9, 27.4, 27.7], [27.7, 27.7, 27.4, 27.55], [27.55, 27.6, 27.25, 27.35], [27.35, 27.55, 27.25, 27.5], [27.5, 27.95, 27.35, 27.6], [27.6, 27.8, 27.4, 27.4], [27.4, 27.85, 26.5, 27.55]]\n",
      "[[22.1, 22.3, 22.05, 22.15], [22.15, 22.25, 22.1, 22.1], [22.1, 22.1, 22.0, 22.0], [22.0, 22.0, 21.9, 21.95], [21.95, 22.05, 21.9, 22.0], [22.0, 22.1, 22.0, 22.05], [22.0, 22.2, 22.0, 22.05], [22.05, 22.15, 22.0, 22.05], [22.05, 22.05, 21.95, 22.05], [22.05, 22.1, 22.0, 22.0], [22.05, 22.05, 22.0, 22.05], [22.05, 22.2, 22.0, 22.15], [22.15, 22.8, 22.0, 22.35], [22.35, 22.75, 22.25, 22.45], [22.45, 22.7, 22.45, 22.6], [22.6, 22.75, 22.35, 22.45], [22.45, 22.5, 22.15, 22.3], [22.3, 22.4, 22.15, 22.2], [22.2, 22.3, 22.15, 22.3], [22.3, 22.3, 21.75, 21.85], [21.85, 22.15, 21.8, 22.1], [22.1, 22.1, 22.0, 22.1], [22.1, 22.1, 21.95, 22.0], [22.0, 22.05, 21.95, 21.95], [21.95, 22.05, 21.75, 21.85], [21.85, 21.9, 21.6, 21.8], [21.8, 21.8, 21.65, 21.7], [21.7, 21.75, 21.6, 21.65], [21.65, 21.65, 21.45, 21.55], [21.55, 21.7, 21.5, 21.7], [21.7, 21.9, 21.7, 21.9], [21.9, 21.95, 21.75, 21.8], [21.8, 21.9, 21.75, 21.9], [21.9, 22.15, 21.85, 22.05], [22.05, 22.3, 22.05, 22.2], [22.25, 22.5, 22.2, 22.45], [22.45, 22.6, 22.2, 22.35], [22.35, 22.5, 22.25, 22.4], [22.45, 22.45, 22.15, 22.35], [22.35, 25.4, 22.3, 24.1], [24.1, 25.45, 24.1, 25.3], [25.3, 26.4, 25.1, 26.0], [26.0, 26.85, 25.25, 25.5], [25.5, 26.25, 25.45, 26.2], [26.2, 26.25, 25.5, 25.6], [25.6, 25.75, 25.4, 25.65], [25.65, 25.85, 25.6, 25.8], [25.8, 26.15, 25.55, 26.05], [26.05, 32.15, 25.6, 29.35], [29.35, 30.1, 28.3, 29.4], [29.45, 29.45, 28.85, 28.95], [28.95, 29.0, 28.2, 28.55], [28.55, 28.85, 28.3, 28.8], [28.8, 28.9, 28.25, 28.75], [28.7, 28.85, 28.3, 28.4], [28.4, 28.95, 28.35, 28.75], [28.75, 30.0, 28.6, 29.15], [29.15, 29.2, 27.65, 28.2], [28.2, 28.25, 27.8, 28.1], [28.1, 28.35, 27.95, 28.05], [28.05, 28.15, 27.4, 27.55], [27.55, 28.0, 27.4, 27.9], [27.9, 28.15, 27.7, 28.1], [28.05, 28.35, 27.95, 28.2], [28.2, 28.25, 27.0, 27.45], [27.45, 27.55, 26.7, 27.15], [27.15, 27.55, 25.6, 26.0], [26.0, 26.6, 25.6, 26.1], [26.1, 26.4, 25.25, 26.15], [26.15, 26.6, 26.15, 26.55], [26.5, 26.65, 26.25, 26.35], [26.35, 26.95, 26.35, 26.7], [26.7, 27.8, 26.45, 27.7], [27.7, 28.05, 27.35, 27.5], [27.5, 27.7, 27.35, 27.5], [27.5, 27.7, 27.05, 27.15], [27.15, 27.8, 27.15, 27.65], [27.65, 28.1, 27.6, 28.05], [28.05, 28.5, 27.9, 28.2], [28.2, 28.95, 28.15, 28.75], [28.75, 29.15, 28.55, 28.6], [28.6, 28.85, 28.45, 28.8], [28.8, 29.1, 28.75, 28.9], [28.9, 29.1, 28.6, 28.95], [28.95, 29.05, 28.65, 28.65], [28.65, 28.75, 28.15, 28.5], [28.5, 28.55, 27.75, 27.8], [27.8, 28.0, 27.45, 27.6], [27.6, 27.6, 27.05, 27.35], [27.35, 27.8, 27.3, 27.6], [27.6, 28.2, 27.5, 27.9], [27.9, 28.1, 27.85, 27.9], [27.9, 27.9, 27.4, 27.7], [27.7, 27.7, 27.4, 27.55], [27.55, 27.6, 27.25, 27.35], [27.35, 27.55, 27.25, 27.5], [27.5, 27.95, 27.35, 27.6], [27.6, 27.8, 27.4, 27.4], [27.4, 27.85, 26.5, 27.55], [27.55, 27.65, 26.95, 27.05]]\n",
      "[22.12115476 22.06082143 21.94673393 21.97724405 21.824825   22.011\n",
      " 21.967      22.0575     22.0975     22.02541667 22.059      22.0315\n",
      " 22.489      22.517      22.489      22.464      22.3245     21.91466667\n",
      " 22.29941667 22.023      22.132      22.00901429 21.90384504 22.05933333\n",
      " 21.73933333 21.82705    21.641      21.699      21.5945     21.58716667\n",
      " 21.838      21.653875   21.93158333 21.97491667 22.187      22.496\n",
      " 22.2145     22.38588571 22.30425    24.1605     26.3705     26.3185\n",
      " 25.7895     26.         25.609      25.5275     25.938      26.142\n",
      " 29.786      29.213      28.56033333 28.7015     28.756      28.546\n",
      " 28.613      28.8685     28.563      28.511      28.2425     27.999\n",
      " 27.48       28.121      28.128      28.282      27.757      27.331\n",
      " 26.2175     26.44       26.5835     26.5705     26.32106667 26.714\n",
      " 27.1715     28.1735     27.633      27.0685     27.646      27.851\n",
      " 27.77       28.6175     28.651      28.524      29.1375     29.2765\n",
      " 28.628      28.461      27.9515     27.721      27.287      27.8015\n",
      " 27.78283333 28.015      27.4565     27.585      27.237      27.416\n",
      " 28.08       27.492      27.158      27.1775    ]\n"
     ]
    },
    {
     "name": "stderr",
     "output_type": "stream",
     "text": [
      "C:\\Users\\raulg\\AppData\\Local\\Temp\\ipykernel_12484\\3783098748.py:7: FutureWarning: Series.__getitem__ treating keys as positions is deprecated. In a future version, integer keys will always be treated as labels (consistent with DataFrame behavior). To access a value by position, use `ser.iloc[pos]`\n",
      "  Vali1aux.append(aux[i])\n"
     ]
    }
   ],
   "source": [
    "Vali1 = []\n",
    "aux = df_vali.iloc[0]\n",
    "for r in range (0,100):\n",
    "    aux = df_vali.iloc[r]\n",
    "    Vali1aux = []\n",
    "    for i in range(1, aux.size):\n",
    "        Vali1aux.append(aux[i])\n",
    "    Vali1.append(Vali1aux)\n",
    "    print(Vali1)\n",
    "predict = regr1.predict(Vali1)\n",
    "print(predict)"
   ]
  },
  {
   "cell_type": "code",
   "execution_count": 13,
   "metadata": {},
   "outputs": [],
   "source": [
    "Valirpr = []\n",
    "for i in range(0,100):\n",
    "    Valirpr.append(df_vali.iloc[i].close)"
   ]
  },
  {
   "cell_type": "code",
   "execution_count": 14,
   "metadata": {},
   "outputs": [
    {
     "data": {
      "text/plain": [
       "0.9935510800503526"
      ]
     },
     "execution_count": 14,
     "metadata": {},
     "output_type": "execute_result"
    }
   ],
   "source": [
    "regr1.score(Vali1, Valirpr)"
   ]
  },
  {
   "cell_type": "code",
   "execution_count": 15,
   "metadata": {},
   "outputs": [
    {
     "data": {
      "image/png": "[encoded data removed]",
      "text/plain": [
       "<Figure size 640x480 with 1 Axes>"
      ]
     },
     "metadata": {},
     "output_type": "display_data"
    }
   ],
   "source": [
    "plt.plot(Valirpr, color='blue', label='Precio real')  # Línea azul\n",
    "plt.plot(predict, color='red', label='Predicción')   # Línea roja\n",
    "plt.title('Gráfico comparación predicción/precio real')\n",
    "plt.xlabel('Índice')\n",
    "plt.ylabel('Valor')\n",
    "plt.legend() \n",
    "\n",
    "plt.show()"
   ]
  },
  {
   "cell_type": "code",
   "execution_count": 16,
   "metadata": {},
   "outputs": [
    {
     "name": "stdout",
     "output_type": "stream",
     "text": [
      "El error medio absoluto es: 0.1531798888888873\n",
      "El error medio porcentualemente es: 0.5826308649396155\n"
     ]
    }
   ],
   "source": [
    "suma = 0\n",
    "n = len(Valirpr)\n",
    "mae = np.mean(np.abs(Valirpr - predict))\n",
    "print(\"El error medio absoluto es: \" + str(mae))\n",
    "for i in range(0,n):\n",
    "    suma = abs(predict[i] - Valirpr[i])/Valirpr[i] +  suma\n",
    "error_medio = suma/n\n",
    "emp = error_medio*100 # error medio en porcentaje\n",
    "print(\"El error medio porcentualemente es: \" + str(emp))"
   ]
  },
  {
   "cell_type": "code",
   "execution_count": 17,
   "metadata": {},
   "outputs": [
    {
     "data": {
      "text/plain": [
       "array([146.6205])"
      ]
     },
     "execution_count": 17,
     "metadata": {},
     "output_type": "execute_result"
    }
   ],
   "source": [
    "Vali1 = [[146.74, 147.32, 146.89, 147.06]]\n",
    "predict1 = regr1.predict(Vali1)\n",
    "predict1"
   ]
  },
  {
   "cell_type": "code",
   "execution_count": 18,
   "metadata": {},
   "outputs": [
    {
     "data": {
      "text/plain": [
       "array([0.00130096])"
      ]
     },
     "execution_count": 18,
     "metadata": {},
     "output_type": "execute_result"
    }
   ],
   "source": [
    "abs(predict1 - 146.43)/146.43"
   ]
  },
  {
   "cell_type": "markdown",
   "metadata": {},
   "source": [
    "# Predicción Utilizando XGBoost"
   ]
  },
  {
   "cell_type": "markdown",
   "metadata": {},
   "source": [
    "Ponemos los datos en el formato correcto"
   ]
  },
  {
   "cell_type": "code",
   "execution_count": 19,
   "metadata": {},
   "outputs": [],
   "source": [
    "df_xgb = df.copy()\n",
    "df_xgb['close_next'] = df_xgb['close'].shift(-1)\n"
   ]
  },
  {
   "cell_type": "code",
   "execution_count": 20,
   "metadata": {},
   "outputs": [
    {
     "data": {
      "text/html": [
       "<div>\n",
       "<style scoped>\n",
       "    .dataframe tbody tr th:only-of-type {\n",
       "        vertical-align: middle;\n",
       "    }\n",
       "\n",
       "    .dataframe tbody tr th {\n",
       "        vertical-align: top;\n",
       "    }\n",
       "\n",
       "    .dataframe thead th {\n",
       "        text-align: right;\n",
       "    }\n",
       "</style>\n",
       "<table border=\"1\" class=\"dataframe\">\n",
       "  <thead>\n",
       "    <tr style=\"text-align: right;\">\n",
       "      <th></th>\n",
       "      <th>date</th>\n",
       "      <th>open</th>\n",
       "      <th>high</th>\n",
       "      <th>low</th>\n",
       "      <th>close</th>\n",
       "      <th>close_next</th>\n",
       "    </tr>\n",
       "  </thead>\n",
       "  <tbody>\n",
       "    <tr>\n",
       "      <th>0</th>\n",
       "      <td>2020-08-12 03:00:00</td>\n",
       "      <td>3.10</td>\n",
       "      <td>3.35</td>\n",
       "      <td>3.10</td>\n",
       "      <td>3.25</td>\n",
       "      <td>3.15</td>\n",
       "    </tr>\n",
       "    <tr>\n",
       "      <th>1</th>\n",
       "      <td>2020-08-12 04:00:00</td>\n",
       "      <td>3.25</td>\n",
       "      <td>3.25</td>\n",
       "      <td>3.15</td>\n",
       "      <td>3.15</td>\n",
       "      <td>3.30</td>\n",
       "    </tr>\n",
       "    <tr>\n",
       "      <th>2</th>\n",
       "      <td>2020-08-12 05:00:00</td>\n",
       "      <td>3.15</td>\n",
       "      <td>3.30</td>\n",
       "      <td>3.15</td>\n",
       "      <td>3.30</td>\n",
       "      <td>3.30</td>\n",
       "    </tr>\n",
       "    <tr>\n",
       "      <th>3</th>\n",
       "      <td>2020-08-12 06:00:00</td>\n",
       "      <td>3.30</td>\n",
       "      <td>3.30</td>\n",
       "      <td>3.15</td>\n",
       "      <td>3.30</td>\n",
       "      <td>3.25</td>\n",
       "    </tr>\n",
       "    <tr>\n",
       "      <th>4</th>\n",
       "      <td>2020-08-12 07:00:00</td>\n",
       "      <td>3.25</td>\n",
       "      <td>3.25</td>\n",
       "      <td>3.20</td>\n",
       "      <td>3.25</td>\n",
       "      <td>3.25</td>\n",
       "    </tr>\n",
       "    <tr>\n",
       "      <th>...</th>\n",
       "      <td>...</td>\n",
       "      <td>...</td>\n",
       "      <td>...</td>\n",
       "      <td>...</td>\n",
       "      <td>...</td>\n",
       "      <td>...</td>\n",
       "    </tr>\n",
       "    <tr>\n",
       "      <th>36394</th>\n",
       "      <td>2024-10-08 19:00:00</td>\n",
       "      <td>143.80</td>\n",
       "      <td>143.95</td>\n",
       "      <td>142.40</td>\n",
       "      <td>143.35</td>\n",
       "      <td>142.95</td>\n",
       "    </tr>\n",
       "    <tr>\n",
       "      <th>36395</th>\n",
       "      <td>2024-10-08 20:00:00</td>\n",
       "      <td>143.35</td>\n",
       "      <td>143.90</td>\n",
       "      <td>142.35</td>\n",
       "      <td>142.95</td>\n",
       "      <td>143.75</td>\n",
       "    </tr>\n",
       "    <tr>\n",
       "      <th>36396</th>\n",
       "      <td>2024-10-08 21:00:00</td>\n",
       "      <td>142.95</td>\n",
       "      <td>144.10</td>\n",
       "      <td>142.25</td>\n",
       "      <td>143.75</td>\n",
       "      <td>144.50</td>\n",
       "    </tr>\n",
       "    <tr>\n",
       "      <th>36397</th>\n",
       "      <td>2024-10-08 22:00:00</td>\n",
       "      <td>143.75</td>\n",
       "      <td>144.50</td>\n",
       "      <td>143.35</td>\n",
       "      <td>144.50</td>\n",
       "      <td>144.25</td>\n",
       "    </tr>\n",
       "    <tr>\n",
       "      <th>36398</th>\n",
       "      <td>2024-10-08 23:00:00</td>\n",
       "      <td>144.50</td>\n",
       "      <td>144.70</td>\n",
       "      <td>144.05</td>\n",
       "      <td>144.25</td>\n",
       "      <td>143.80</td>\n",
       "    </tr>\n",
       "  </tbody>\n",
       "</table>\n",
       "<p>36399 rows × 6 columns</p>\n",
       "</div>"
      ],
      "text/plain": [
       "                      date    open    high     low   close  close_next\n",
       "0      2020-08-12 03:00:00    3.10    3.35    3.10    3.25        3.15\n",
       "1      2020-08-12 04:00:00    3.25    3.25    3.15    3.15        3.30\n",
       "2      2020-08-12 05:00:00    3.15    3.30    3.15    3.30        3.30\n",
       "3      2020-08-12 06:00:00    3.30    3.30    3.15    3.30        3.25\n",
       "4      2020-08-12 07:00:00    3.25    3.25    3.20    3.25        3.25\n",
       "...                    ...     ...     ...     ...     ...         ...\n",
       "36394  2024-10-08 19:00:00  143.80  143.95  142.40  143.35      142.95\n",
       "36395  2024-10-08 20:00:00  143.35  143.90  142.35  142.95      143.75\n",
       "36396  2024-10-08 21:00:00  142.95  144.10  142.25  143.75      144.50\n",
       "36397  2024-10-08 22:00:00  143.75  144.50  143.35  144.50      144.25\n",
       "36398  2024-10-08 23:00:00  144.50  144.70  144.05  144.25      143.80\n",
       "\n",
       "[36399 rows x 6 columns]"
      ]
     },
     "execution_count": 20,
     "metadata": {},
     "output_type": "execute_result"
    }
   ],
   "source": [
    "df_xgb = df_xgb.dropna()\n",
    "df_xgb"
   ]
  },
  {
   "cell_type": "code",
   "execution_count": 21,
   "metadata": {},
   "outputs": [
    {
     "data": {
      "text/plain": [
       "36399"
      ]
     },
     "execution_count": 21,
     "metadata": {},
     "output_type": "execute_result"
    }
   ],
   "source": [
    "tamanio_xgb = df_xgb.shape[0]\n",
    "tamanio_xgb"
   ]
  },
  {
   "cell_type": "code",
   "execution_count": 22,
   "metadata": {},
   "outputs": [
    {
     "data": {
      "text/html": [
       "<div>\n",
       "<style scoped>\n",
       "    .dataframe tbody tr th:only-of-type {\n",
       "        vertical-align: middle;\n",
       "    }\n",
       "\n",
       "    .dataframe tbody tr th {\n",
       "        vertical-align: top;\n",
       "    }\n",
       "\n",
       "    .dataframe thead th {\n",
       "        text-align: right;\n",
       "    }\n",
       "</style>\n",
       "<table border=\"1\" class=\"dataframe\">\n",
       "  <thead>\n",
       "    <tr style=\"text-align: right;\">\n",
       "      <th></th>\n",
       "      <th>date</th>\n",
       "      <th>open</th>\n",
       "      <th>high</th>\n",
       "      <th>low</th>\n",
       "      <th>close</th>\n",
       "      <th>close_next</th>\n",
       "    </tr>\n",
       "  </thead>\n",
       "  <tbody>\n",
       "    <tr>\n",
       "      <th>0</th>\n",
       "      <td>2020-08-12 03:00:00</td>\n",
       "      <td>3.10</td>\n",
       "      <td>3.35</td>\n",
       "      <td>3.10</td>\n",
       "      <td>3.25</td>\n",
       "      <td>3.15</td>\n",
       "    </tr>\n",
       "    <tr>\n",
       "      <th>1</th>\n",
       "      <td>2020-08-12 04:00:00</td>\n",
       "      <td>3.25</td>\n",
       "      <td>3.25</td>\n",
       "      <td>3.15</td>\n",
       "      <td>3.15</td>\n",
       "      <td>3.30</td>\n",
       "    </tr>\n",
       "    <tr>\n",
       "      <th>2</th>\n",
       "      <td>2020-08-12 05:00:00</td>\n",
       "      <td>3.15</td>\n",
       "      <td>3.30</td>\n",
       "      <td>3.15</td>\n",
       "      <td>3.30</td>\n",
       "      <td>3.30</td>\n",
       "    </tr>\n",
       "    <tr>\n",
       "      <th>3</th>\n",
       "      <td>2020-08-12 06:00:00</td>\n",
       "      <td>3.30</td>\n",
       "      <td>3.30</td>\n",
       "      <td>3.15</td>\n",
       "      <td>3.30</td>\n",
       "      <td>3.25</td>\n",
       "    </tr>\n",
       "    <tr>\n",
       "      <th>4</th>\n",
       "      <td>2020-08-12 07:00:00</td>\n",
       "      <td>3.25</td>\n",
       "      <td>3.25</td>\n",
       "      <td>3.20</td>\n",
       "      <td>3.25</td>\n",
       "      <td>3.25</td>\n",
       "    </tr>\n",
       "    <tr>\n",
       "      <th>...</th>\n",
       "      <td>...</td>\n",
       "      <td>...</td>\n",
       "      <td>...</td>\n",
       "      <td>...</td>\n",
       "      <td>...</td>\n",
       "      <td>...</td>\n",
       "    </tr>\n",
       "    <tr>\n",
       "      <th>25475</th>\n",
       "      <td>2023-07-11 20:00:00</td>\n",
       "      <td>22.10</td>\n",
       "      <td>22.10</td>\n",
       "      <td>21.95</td>\n",
       "      <td>22.00</td>\n",
       "      <td>22.00</td>\n",
       "    </tr>\n",
       "    <tr>\n",
       "      <th>25476</th>\n",
       "      <td>2023-07-11 21:00:00</td>\n",
       "      <td>22.00</td>\n",
       "      <td>22.05</td>\n",
       "      <td>21.90</td>\n",
       "      <td>22.00</td>\n",
       "      <td>22.00</td>\n",
       "    </tr>\n",
       "    <tr>\n",
       "      <th>25477</th>\n",
       "      <td>2023-07-11 22:00:00</td>\n",
       "      <td>22.00</td>\n",
       "      <td>22.10</td>\n",
       "      <td>21.90</td>\n",
       "      <td>22.00</td>\n",
       "      <td>21.95</td>\n",
       "    </tr>\n",
       "    <tr>\n",
       "      <th>25478</th>\n",
       "      <td>2023-07-11 23:00:00</td>\n",
       "      <td>22.00</td>\n",
       "      <td>22.05</td>\n",
       "      <td>21.75</td>\n",
       "      <td>21.95</td>\n",
       "      <td>22.05</td>\n",
       "    </tr>\n",
       "    <tr>\n",
       "      <th>25479</th>\n",
       "      <td>2023-07-12 00:00:00</td>\n",
       "      <td>21.95</td>\n",
       "      <td>22.10</td>\n",
       "      <td>21.90</td>\n",
       "      <td>22.05</td>\n",
       "      <td>22.10</td>\n",
       "    </tr>\n",
       "  </tbody>\n",
       "</table>\n",
       "<p>25480 rows × 6 columns</p>\n",
       "</div>"
      ],
      "text/plain": [
       "                      date   open   high    low  close  close_next\n",
       "0      2020-08-12 03:00:00   3.10   3.35   3.10   3.25        3.15\n",
       "1      2020-08-12 04:00:00   3.25   3.25   3.15   3.15        3.30\n",
       "2      2020-08-12 05:00:00   3.15   3.30   3.15   3.30        3.30\n",
       "3      2020-08-12 06:00:00   3.30   3.30   3.15   3.30        3.25\n",
       "4      2020-08-12 07:00:00   3.25   3.25   3.20   3.25        3.25\n",
       "...                    ...    ...    ...    ...    ...         ...\n",
       "25475  2023-07-11 20:00:00  22.10  22.10  21.95  22.00       22.00\n",
       "25476  2023-07-11 21:00:00  22.00  22.05  21.90  22.00       22.00\n",
       "25477  2023-07-11 22:00:00  22.00  22.10  21.90  22.00       21.95\n",
       "25478  2023-07-11 23:00:00  22.00  22.05  21.75  21.95       22.05\n",
       "25479  2023-07-12 00:00:00  21.95  22.10  21.90  22.05       22.10\n",
       "\n",
       "[25480 rows x 6 columns]"
      ]
     },
     "execution_count": 22,
     "metadata": {},
     "output_type": "execute_result"
    }
   ],
   "source": [
    "df_train_xgb = df_xgb.copy().loc[0:int(tamanio_xgb*0.7)]\n",
    "df_train_xgb"
   ]
  },
  {
   "cell_type": "code",
   "execution_count": 23,
   "metadata": {},
   "outputs": [
    {
     "data": {
      "text/html": [
       "<div>\n",
       "<style scoped>\n",
       "    .dataframe tbody tr th:only-of-type {\n",
       "        vertical-align: middle;\n",
       "    }\n",
       "\n",
       "    .dataframe tbody tr th {\n",
       "        vertical-align: top;\n",
       "    }\n",
       "\n",
       "    .dataframe thead th {\n",
       "        text-align: right;\n",
       "    }\n",
       "</style>\n",
       "<table border=\"1\" class=\"dataframe\">\n",
       "  <thead>\n",
       "    <tr style=\"text-align: right;\">\n",
       "      <th></th>\n",
       "      <th>date</th>\n",
       "      <th>open</th>\n",
       "      <th>high</th>\n",
       "      <th>low</th>\n",
       "      <th>close</th>\n",
       "      <th>close_next</th>\n",
       "    </tr>\n",
       "  </thead>\n",
       "  <tbody>\n",
       "    <tr>\n",
       "      <th>25480</th>\n",
       "      <td>2023-07-12 01:00:00</td>\n",
       "      <td>22.05</td>\n",
       "      <td>22.15</td>\n",
       "      <td>22.00</td>\n",
       "      <td>22.10</td>\n",
       "      <td>22.15</td>\n",
       "    </tr>\n",
       "    <tr>\n",
       "      <th>25481</th>\n",
       "      <td>2023-07-12 02:00:00</td>\n",
       "      <td>22.10</td>\n",
       "      <td>22.30</td>\n",
       "      <td>22.05</td>\n",
       "      <td>22.15</td>\n",
       "      <td>22.10</td>\n",
       "    </tr>\n",
       "    <tr>\n",
       "      <th>25482</th>\n",
       "      <td>2023-07-12 03:00:00</td>\n",
       "      <td>22.15</td>\n",
       "      <td>22.25</td>\n",
       "      <td>22.10</td>\n",
       "      <td>22.10</td>\n",
       "      <td>22.00</td>\n",
       "    </tr>\n",
       "    <tr>\n",
       "      <th>25483</th>\n",
       "      <td>2023-07-12 04:00:00</td>\n",
       "      <td>22.10</td>\n",
       "      <td>22.10</td>\n",
       "      <td>22.00</td>\n",
       "      <td>22.00</td>\n",
       "      <td>21.95</td>\n",
       "    </tr>\n",
       "    <tr>\n",
       "      <th>25484</th>\n",
       "      <td>2023-07-12 05:00:00</td>\n",
       "      <td>22.00</td>\n",
       "      <td>22.00</td>\n",
       "      <td>21.90</td>\n",
       "      <td>21.95</td>\n",
       "      <td>22.00</td>\n",
       "    </tr>\n",
       "    <tr>\n",
       "      <th>...</th>\n",
       "      <td>...</td>\n",
       "      <td>...</td>\n",
       "      <td>...</td>\n",
       "      <td>...</td>\n",
       "      <td>...</td>\n",
       "      <td>...</td>\n",
       "    </tr>\n",
       "    <tr>\n",
       "      <th>32755</th>\n",
       "      <td>2024-05-10 04:00:00</td>\n",
       "      <td>153.40</td>\n",
       "      <td>153.80</td>\n",
       "      <td>152.70</td>\n",
       "      <td>153.65</td>\n",
       "      <td>153.95</td>\n",
       "    </tr>\n",
       "    <tr>\n",
       "      <th>32756</th>\n",
       "      <td>2024-05-10 05:00:00</td>\n",
       "      <td>153.65</td>\n",
       "      <td>154.35</td>\n",
       "      <td>152.85</td>\n",
       "      <td>153.95</td>\n",
       "      <td>153.75</td>\n",
       "    </tr>\n",
       "    <tr>\n",
       "      <th>32757</th>\n",
       "      <td>2024-05-10 06:00:00</td>\n",
       "      <td>153.95</td>\n",
       "      <td>154.70</td>\n",
       "      <td>153.45</td>\n",
       "      <td>153.75</td>\n",
       "      <td>153.30</td>\n",
       "    </tr>\n",
       "    <tr>\n",
       "      <th>32758</th>\n",
       "      <td>2024-05-10 07:00:00</td>\n",
       "      <td>153.75</td>\n",
       "      <td>154.10</td>\n",
       "      <td>152.30</td>\n",
       "      <td>153.30</td>\n",
       "      <td>154.95</td>\n",
       "    </tr>\n",
       "    <tr>\n",
       "      <th>32759</th>\n",
       "      <td>2024-05-10 08:00:00</td>\n",
       "      <td>153.30</td>\n",
       "      <td>155.10</td>\n",
       "      <td>153.15</td>\n",
       "      <td>154.95</td>\n",
       "      <td>154.35</td>\n",
       "    </tr>\n",
       "  </tbody>\n",
       "</table>\n",
       "<p>7280 rows × 6 columns</p>\n",
       "</div>"
      ],
      "text/plain": [
       "                      date    open    high     low   close  close_next\n",
       "25480  2023-07-12 01:00:00   22.05   22.15   22.00   22.10       22.15\n",
       "25481  2023-07-12 02:00:00   22.10   22.30   22.05   22.15       22.10\n",
       "25482  2023-07-12 03:00:00   22.15   22.25   22.10   22.10       22.00\n",
       "25483  2023-07-12 04:00:00   22.10   22.10   22.00   22.00       21.95\n",
       "25484  2023-07-12 05:00:00   22.00   22.00   21.90   21.95       22.00\n",
       "...                    ...     ...     ...     ...     ...         ...\n",
       "32755  2024-05-10 04:00:00  153.40  153.80  152.70  153.65      153.95\n",
       "32756  2024-05-10 05:00:00  153.65  154.35  152.85  153.95      153.75\n",
       "32757  2024-05-10 06:00:00  153.95  154.70  153.45  153.75      153.30\n",
       "32758  2024-05-10 07:00:00  153.75  154.10  152.30  153.30      154.95\n",
       "32759  2024-05-10 08:00:00  153.30  155.10  153.15  154.95      154.35\n",
       "\n",
       "[7280 rows x 6 columns]"
      ]
     },
     "execution_count": 23,
     "metadata": {},
     "output_type": "execute_result"
    }
   ],
   "source": [
    "df_vali_xgb = df_xgb.copy().loc[int(tamanio_xgb*0.7 + 1):int(tamanio_xgb*0.9)]\n",
    "df_vali_xgb"
   ]
  },
  {
   "cell_type": "code",
   "execution_count": 24,
   "metadata": {},
   "outputs": [
    {
     "data": {
      "text/html": [
       "<div>\n",
       "<style scoped>\n",
       "    .dataframe tbody tr th:only-of-type {\n",
       "        vertical-align: middle;\n",
       "    }\n",
       "\n",
       "    .dataframe tbody tr th {\n",
       "        vertical-align: top;\n",
       "    }\n",
       "\n",
       "    .dataframe thead th {\n",
       "        text-align: right;\n",
       "    }\n",
       "</style>\n",
       "<table border=\"1\" class=\"dataframe\">\n",
       "  <thead>\n",
       "    <tr style=\"text-align: right;\">\n",
       "      <th></th>\n",
       "      <th>date</th>\n",
       "      <th>open</th>\n",
       "      <th>high</th>\n",
       "      <th>low</th>\n",
       "      <th>close</th>\n",
       "      <th>close_next</th>\n",
       "    </tr>\n",
       "  </thead>\n",
       "  <tbody>\n",
       "    <tr>\n",
       "      <th>32760</th>\n",
       "      <td>2024-05-10 09:00:00</td>\n",
       "      <td>154.95</td>\n",
       "      <td>155.75</td>\n",
       "      <td>154.25</td>\n",
       "      <td>154.35</td>\n",
       "      <td>154.10</td>\n",
       "    </tr>\n",
       "    <tr>\n",
       "      <th>32761</th>\n",
       "      <td>2024-05-10 10:00:00</td>\n",
       "      <td>154.35</td>\n",
       "      <td>154.50</td>\n",
       "      <td>153.45</td>\n",
       "      <td>154.10</td>\n",
       "      <td>154.15</td>\n",
       "    </tr>\n",
       "    <tr>\n",
       "      <th>32762</th>\n",
       "      <td>2024-05-10 11:00:00</td>\n",
       "      <td>154.10</td>\n",
       "      <td>154.80</td>\n",
       "      <td>153.25</td>\n",
       "      <td>154.15</td>\n",
       "      <td>154.15</td>\n",
       "    </tr>\n",
       "    <tr>\n",
       "      <th>32763</th>\n",
       "      <td>2024-05-10 12:00:00</td>\n",
       "      <td>154.15</td>\n",
       "      <td>154.30</td>\n",
       "      <td>153.25</td>\n",
       "      <td>154.15</td>\n",
       "      <td>155.05</td>\n",
       "    </tr>\n",
       "    <tr>\n",
       "      <th>32764</th>\n",
       "      <td>2024-05-10 13:00:00</td>\n",
       "      <td>154.15</td>\n",
       "      <td>155.20</td>\n",
       "      <td>153.00</td>\n",
       "      <td>155.05</td>\n",
       "      <td>153.30</td>\n",
       "    </tr>\n",
       "    <tr>\n",
       "      <th>...</th>\n",
       "      <td>...</td>\n",
       "      <td>...</td>\n",
       "      <td>...</td>\n",
       "      <td>...</td>\n",
       "      <td>...</td>\n",
       "      <td>...</td>\n",
       "    </tr>\n",
       "    <tr>\n",
       "      <th>36394</th>\n",
       "      <td>2024-10-08 19:00:00</td>\n",
       "      <td>143.80</td>\n",
       "      <td>143.95</td>\n",
       "      <td>142.40</td>\n",
       "      <td>143.35</td>\n",
       "      <td>142.95</td>\n",
       "    </tr>\n",
       "    <tr>\n",
       "      <th>36395</th>\n",
       "      <td>2024-10-08 20:00:00</td>\n",
       "      <td>143.35</td>\n",
       "      <td>143.90</td>\n",
       "      <td>142.35</td>\n",
       "      <td>142.95</td>\n",
       "      <td>143.75</td>\n",
       "    </tr>\n",
       "    <tr>\n",
       "      <th>36396</th>\n",
       "      <td>2024-10-08 21:00:00</td>\n",
       "      <td>142.95</td>\n",
       "      <td>144.10</td>\n",
       "      <td>142.25</td>\n",
       "      <td>143.75</td>\n",
       "      <td>144.50</td>\n",
       "    </tr>\n",
       "    <tr>\n",
       "      <th>36397</th>\n",
       "      <td>2024-10-08 22:00:00</td>\n",
       "      <td>143.75</td>\n",
       "      <td>144.50</td>\n",
       "      <td>143.35</td>\n",
       "      <td>144.50</td>\n",
       "      <td>144.25</td>\n",
       "    </tr>\n",
       "    <tr>\n",
       "      <th>36398</th>\n",
       "      <td>2024-10-08 23:00:00</td>\n",
       "      <td>144.50</td>\n",
       "      <td>144.70</td>\n",
       "      <td>144.05</td>\n",
       "      <td>144.25</td>\n",
       "      <td>143.80</td>\n",
       "    </tr>\n",
       "  </tbody>\n",
       "</table>\n",
       "<p>3639 rows × 6 columns</p>\n",
       "</div>"
      ],
      "text/plain": [
       "                      date    open    high     low   close  close_next\n",
       "32760  2024-05-10 09:00:00  154.95  155.75  154.25  154.35      154.10\n",
       "32761  2024-05-10 10:00:00  154.35  154.50  153.45  154.10      154.15\n",
       "32762  2024-05-10 11:00:00  154.10  154.80  153.25  154.15      154.15\n",
       "32763  2024-05-10 12:00:00  154.15  154.30  153.25  154.15      155.05\n",
       "32764  2024-05-10 13:00:00  154.15  155.20  153.00  155.05      153.30\n",
       "...                    ...     ...     ...     ...     ...         ...\n",
       "36394  2024-10-08 19:00:00  143.80  143.95  142.40  143.35      142.95\n",
       "36395  2024-10-08 20:00:00  143.35  143.90  142.35  142.95      143.75\n",
       "36396  2024-10-08 21:00:00  142.95  144.10  142.25  143.75      144.50\n",
       "36397  2024-10-08 22:00:00  143.75  144.50  143.35  144.50      144.25\n",
       "36398  2024-10-08 23:00:00  144.50  144.70  144.05  144.25      143.80\n",
       "\n",
       "[3639 rows x 6 columns]"
      ]
     },
     "execution_count": 24,
     "metadata": {},
     "output_type": "execute_result"
    }
   ],
   "source": [
    "df_test_xgb = df_xgb.copy().loc[int(tamanio_xgb*0.9 + 1):tamanio_xgb]\n",
    "df_test_xgb"
   ]
  },
  {
   "cell_type": "markdown",
   "metadata": {},
   "source": [
    "Definimos las características para el entrenamiento"
   ]
  },
  {
   "cell_type": "code",
   "execution_count": 25,
   "metadata": {},
   "outputs": [],
   "source": [
    "X = df_train_xgb[['open', 'high', 'low', 'close']] \n",
    "y = df_train_xgb['close_next']\n",
    "X1 = df_vali_xgb[['open', 'high', 'low', 'close']] \n",
    "y1 = df_vali_xgb['close_next']"
   ]
  },
  {
   "cell_type": "code",
   "execution_count": 26,
   "metadata": {},
   "outputs": [],
   "source": [
    "dtrain = xgb.DMatrix(data=X, label=y)\n",
    "dvali = xgb.DMatrix(data=X1, label=y1)"
   ]
  },
  {
   "cell_type": "code",
   "execution_count": 27,
   "metadata": {},
   "outputs": [],
   "source": [
    "param = {'max_depth': 10, 'eta': 0.1, 'objective': 'reg:squarederror'}\n",
    "evals = [(dtrain, 'train'), (dvali, 'validacion')]"
   ]
  },
  {
   "cell_type": "code",
   "execution_count": 28,
   "metadata": {},
   "outputs": [],
   "source": [
    "bst = xgb.train(param, dtrain, num_boost_round=10)"
   ]
  },
  {
   "cell_type": "code",
   "execution_count": 29,
   "metadata": {},
   "outputs": [
    {
     "name": "stdout",
     "output_type": "stream",
     "text": [
      "[0]\ttrain-rmse:52.03058\tvalidacion-rmse:55.14741\n",
      "[10]\ttrain-rmse:18.24075\tvalidacion-rmse:19.29663\n",
      "[20]\ttrain-rmse:6.47113\tvalidacion-rmse:6.89713\n",
      "[30]\ttrain-rmse:2.49259\tvalidacion-rmse:2.78981\n",
      "[40]\ttrain-rmse:1.33772\tvalidacion-rmse:1.70668\n",
      "[50]\ttrain-rmse:1.09531\tvalidacion-rmse:1.52521\n",
      "[60]\ttrain-rmse:1.05078\tvalidacion-rmse:1.50811\n",
      "[70]\ttrain-rmse:1.03892\tvalidacion-rmse:1.50938\n",
      "[71]\ttrain-rmse:1.03808\tvalidacion-rmse:1.50983\n"
     ]
    }
   ],
   "source": [
    "bst = xgb.train(param, dtrain, num_boost_round=1000, evals=evals, early_stopping_rounds=10, verbose_eval=10) # No se puede ejecutar con los parámetros evals=evals, early_stopping_rounds=10 "
   ]
  },
  {
   "cell_type": "markdown",
   "metadata": {},
   "source": [
    "Predicción con los datos de validación"
   ]
  },
  {
   "cell_type": "code",
   "execution_count": 30,
   "metadata": {},
   "outputs": [
    {
     "name": "stdout",
     "output_type": "stream",
     "text": [
      "[ 22.056341  22.250946  22.056341 ... 154.55492  152.90254  154.55492 ]\n"
     ]
    }
   ],
   "source": [
    "predict_xgb = bst.predict(dvali)\n",
    "print(predict_xgb)"
   ]
  },
  {
   "cell_type": "markdown",
   "metadata": {},
   "source": [
    "Comprobación de tasa de error en los datos de validación"
   ]
  },
  {
   "cell_type": "code",
   "execution_count": 31,
   "metadata": {},
   "outputs": [],
   "source": [
    "Valirpr_xgb = []\n",
    "for i in range(0,df_vali_xgb.shape[0]):\n",
    "    Valirpr_xgb.append(df_vali_xgb.iloc[i].close)"
   ]
  },
  {
   "cell_type": "code",
   "execution_count": 32,
   "metadata": {},
   "outputs": [
    {
     "data": {
      "image/png": "[encoded data removed]",
      "text/plain": [
       "<Figure size 640x480 with 1 Axes>"
      ]
     },
     "metadata": {},
     "output_type": "display_data"
    }
   ],
   "source": [
    "plt.plot(Valirpr_xgb, color='blue', label='Precio real')  # Línea azul\n",
    "plt.plot(predict_xgb, color='red', label='Predicción')   # Línea roja\n",
    "plt.title('Gráfico comparación predicción/precio real')\n",
    "plt.xlabel('Índice')\n",
    "plt.ylabel('Valor')\n",
    "plt.legend() \n",
    "\n",
    "plt.show()"
   ]
  },
  {
   "cell_type": "code",
   "execution_count": 33,
   "metadata": {},
   "outputs": [
    {
     "name": "stdout",
     "output_type": "stream",
     "text": [
      "El error medio absoluto es: 0.5122382410279995\n",
      "El error medio porcentualemente es: 0.6814544222019102\n"
     ]
    }
   ],
   "source": [
    "suma = 0\n",
    "n = len(Valirpr_xgb)\n",
    "mae = np.mean(np.abs(Valirpr_xgb - predict_xgb))\n",
    "print(\"El error medio absoluto es: \" + str(mae))\n",
    "for i in range(0,n):\n",
    "    suma = abs(predict_xgb[i] - Valirpr_xgb[i])/Valirpr_xgb[i] +  suma\n",
    "error_medio = suma/n\n",
    "emp = error_medio*100 # error medio en porcentaje\n",
    "print(\"El error medio porcentualemente es: \" + str(emp))"
   ]
  },
  {
   "cell_type": "markdown",
   "metadata": {},
   "source": [
    "Predicción con los datos de test"
   ]
  },
  {
   "cell_type": "code",
   "execution_count": 34,
   "metadata": {},
   "outputs": [],
   "source": [
    "X_test = df_test_xgb[['open', 'high', 'low', 'close']] \n",
    "y_test = df_test_xgb['close_next']\n",
    "dtest = xgb.DMatrix(data=X_test, label=y_test)"
   ]
  },
  {
   "cell_type": "code",
   "execution_count": 35,
   "metadata": {},
   "outputs": [
    {
     "name": "stdout",
     "output_type": "stream",
     "text": [
      "[154.55492 154.55492 154.55492 ... 143.13017 143.53885 143.53885]\n"
     ]
    }
   ],
   "source": [
    "predict_xgb_test = bst.predict(dtest)\n",
    "print(predict_xgb_test)"
   ]
  },
  {
   "cell_type": "markdown",
   "metadata": {},
   "source": [
    "Comprobación de la tasa de error en los datos de test"
   ]
  },
  {
   "cell_type": "code",
   "execution_count": 36,
   "metadata": {},
   "outputs": [],
   "source": [
    "Test_xgb = []\n",
    "for i in range(0,df_test_xgb.shape[0]):\n",
    "    Test_xgb.append(df_test_xgb.iloc[i].close)"
   ]
  },
  {
   "cell_type": "code",
   "execution_count": 37,
   "metadata": {},
   "outputs": [
    {
     "data": {
      "image/png": "[encoded data removed]",
      "text/plain": [
       "<Figure size 640x480 with 1 Axes>"
      ]
     },
     "metadata": {},
     "output_type": "display_data"
    }
   ],
   "source": [
    "plt.plot(Test_xgb, color='blue', label='Precio real')  # Línea azul\n",
    "plt.plot(predict_xgb_test, color='red', label='Predicción')   # Línea roja\n",
    "plt.title('Gráfico comparación predicción/precio real')\n",
    "plt.xlabel('Índice')\n",
    "plt.ylabel('Valor')\n",
    "plt.legend() \n",
    "\n",
    "plt.show()"
   ]
  },
  {
   "cell_type": "code",
   "execution_count": 38,
   "metadata": {},
   "outputs": [
    {
     "name": "stdout",
     "output_type": "stream",
     "text": [
      "El error medio absoluto es: 0.60002473274015\n",
      "El error medio porcentualemente es: 0.40824322781169725\n"
     ]
    }
   ],
   "source": [
    "suma = 0\n",
    "n = len(Test_xgb)\n",
    "mae = np.mean(np.abs(Test_xgb - predict_xgb_test))\n",
    "print(\"El error medio absoluto es: \" + str(mae))\n",
    "for i in range(0,n):\n",
    "    suma = abs(predict_xgb_test[i] - Test_xgb[i])/Test_xgb[i] +  suma\n",
    "error_medio = suma/n\n",
    "emp = error_medio*100 # error medio en porcentaje\n",
    "print(\"El error medio porcentualemente es: \" + str(emp))"
   ]
  },
  {
   "cell_type": "markdown",
   "metadata": {},
   "source": [
    "# Predicción usando red neuronal"
   ]
  },
  {
   "cell_type": "code",
   "execution_count": 39,
   "metadata": {},
   "outputs": [],
   "source": [
    "from tensorflow.keras.models import Sequential\n",
    "from tensorflow.keras.layers import Dense, Flatten"
   ]
  },
  {
   "cell_type": "code",
   "execution_count": 40,
   "metadata": {},
   "outputs": [
    {
     "data": {
      "text/plain": [
       "array([[[ 3.1 ,  3.35,  3.1 ,  3.25],\n",
       "        [ 3.25,  3.25,  3.15,  3.15],\n",
       "        [ 3.15,  3.3 ,  3.15,  3.3 ],\n",
       "        ...,\n",
       "        [ 3.25,  3.25,  3.2 ,  3.25],\n",
       "        [ 3.25,  3.3 ,  3.15,  3.25],\n",
       "        [ 3.25,  3.4 ,  3.25,  3.4 ]],\n",
       "\n",
       "       [[ 3.25,  3.25,  3.15,  3.15],\n",
       "        [ 3.15,  3.3 ,  3.15,  3.3 ],\n",
       "        [ 3.3 ,  3.3 ,  3.15,  3.3 ],\n",
       "        ...,\n",
       "        [ 3.25,  3.3 ,  3.15,  3.25],\n",
       "        [ 3.25,  3.4 ,  3.25,  3.4 ],\n",
       "        [ 3.35,  3.55,  3.35,  3.45]],\n",
       "\n",
       "       [[ 3.15,  3.3 ,  3.15,  3.3 ],\n",
       "        [ 3.3 ,  3.3 ,  3.15,  3.3 ],\n",
       "        [ 3.25,  3.25,  3.2 ,  3.25],\n",
       "        ...,\n",
       "        [ 3.25,  3.4 ,  3.25,  3.4 ],\n",
       "        [ 3.35,  3.55,  3.35,  3.45],\n",
       "        [ 3.45,  3.7 ,  3.4 ,  3.7 ]],\n",
       "\n",
       "       ...,\n",
       "\n",
       "       [[22.1 , 22.4 , 21.95, 22.2 ],\n",
       "        [22.2 , 22.25, 21.9 , 22.15],\n",
       "        [22.15, 22.2 , 21.95, 22.1 ],\n",
       "        ...,\n",
       "        [22.1 , 22.1 , 21.95, 22.  ],\n",
       "        [22.  , 22.05, 21.9 , 22.  ],\n",
       "        [22.  , 22.1 , 21.9 , 22.  ]],\n",
       "\n",
       "       [[22.2 , 22.25, 21.9 , 22.15],\n",
       "        [22.15, 22.2 , 21.95, 22.1 ],\n",
       "        [22.1 , 22.2 , 22.  , 22.1 ],\n",
       "        ...,\n",
       "        [22.  , 22.05, 21.9 , 22.  ],\n",
       "        [22.  , 22.1 , 21.9 , 22.  ],\n",
       "        [22.  , 22.05, 21.75, 21.95]],\n",
       "\n",
       "       [[22.15, 22.2 , 21.95, 22.1 ],\n",
       "        [22.1 , 22.2 , 22.  , 22.1 ],\n",
       "        [22.1 , 22.1 , 21.95, 22.  ],\n",
       "        ...,\n",
       "        [22.  , 22.1 , 21.9 , 22.  ],\n",
       "        [22.  , 22.05, 21.75, 21.95],\n",
       "        [21.95, 22.1 , 21.9 , 22.05]]])"
      ]
     },
     "execution_count": 40,
     "metadata": {},
     "output_type": "execute_result"
    }
   ],
   "source": [
    "def create_sequences(data, n_steps):\n",
    "    X, y = [], []\n",
    "    for i in range(len(data) - n_steps):\n",
    "        X.append(data[i:i+n_steps])\n",
    "        y.append(data[i+n_steps, 3])  \n",
    "    return np.array(X), np.array(y)\n",
    "df_train_aux = df_train[['open', 'high', 'low', 'close']].values\n",
    "X_train, y_train= create_sequences(df_train_aux, 7)\n",
    "X_train"
   ]
  },
  {
   "cell_type": "code",
   "execution_count": 41,
   "metadata": {},
   "outputs": [
    {
     "data": {
      "text/plain": [
       "array([[[ 22.1 ,  22.3 ,  22.05,  22.15],\n",
       "        [ 22.15,  22.25,  22.1 ,  22.1 ],\n",
       "        [ 22.1 ,  22.1 ,  22.  ,  22.  ],\n",
       "        ...,\n",
       "        [ 21.95,  22.05,  21.9 ,  22.  ],\n",
       "        [ 22.  ,  22.1 ,  22.  ,  22.05],\n",
       "        [ 22.  ,  22.2 ,  22.  ,  22.05]],\n",
       "\n",
       "       [[ 22.15,  22.25,  22.1 ,  22.1 ],\n",
       "        [ 22.1 ,  22.1 ,  22.  ,  22.  ],\n",
       "        [ 22.  ,  22.  ,  21.9 ,  21.95],\n",
       "        ...,\n",
       "        [ 22.  ,  22.1 ,  22.  ,  22.05],\n",
       "        [ 22.  ,  22.2 ,  22.  ,  22.05],\n",
       "        [ 22.05,  22.15,  22.  ,  22.05]],\n",
       "\n",
       "       [[ 22.1 ,  22.1 ,  22.  ,  22.  ],\n",
       "        [ 22.  ,  22.  ,  21.9 ,  21.95],\n",
       "        [ 21.95,  22.05,  21.9 ,  22.  ],\n",
       "        ...,\n",
       "        [ 22.  ,  22.2 ,  22.  ,  22.05],\n",
       "        [ 22.05,  22.15,  22.  ,  22.05],\n",
       "        [ 22.05,  22.05,  21.95,  22.05]],\n",
       "\n",
       "       ...,\n",
       "\n",
       "       [[150.35, 153.4 , 150.15, 152.95],\n",
       "        [152.95, 153.15, 151.2 , 152.6 ],\n",
       "        [152.6 , 153.25, 151.35, 152.05],\n",
       "        ...,\n",
       "        [153.4 , 153.8 , 152.7 , 153.65],\n",
       "        [153.65, 154.35, 152.85, 153.95],\n",
       "        [153.95, 154.7 , 153.45, 153.75]],\n",
       "\n",
       "       [[152.95, 153.15, 151.2 , 152.6 ],\n",
       "        [152.6 , 153.25, 151.35, 152.05],\n",
       "        [152.05, 155.  , 151.45, 153.4 ],\n",
       "        ...,\n",
       "        [153.65, 154.35, 152.85, 153.95],\n",
       "        [153.95, 154.7 , 153.45, 153.75],\n",
       "        [153.75, 154.1 , 152.3 , 153.3 ]],\n",
       "\n",
       "       [[152.6 , 153.25, 151.35, 152.05],\n",
       "        [152.05, 155.  , 151.45, 153.4 ],\n",
       "        [153.4 , 153.8 , 152.7 , 153.65],\n",
       "        ...,\n",
       "        [153.95, 154.7 , 153.45, 153.75],\n",
       "        [153.75, 154.1 , 152.3 , 153.3 ],\n",
       "        [153.3 , 155.1 , 153.15, 154.95]]])"
      ]
     },
     "execution_count": 41,
     "metadata": {},
     "output_type": "execute_result"
    }
   ],
   "source": [
    "df_vali_aux = df_vali[['open', 'high', 'low', 'close']].values\n",
    "X_vali, y_vali= create_sequences(df_vali_aux, 7)\n",
    "X_vali"
   ]
  },
  {
   "cell_type": "code",
   "execution_count": 42,
   "metadata": {},
   "outputs": [
    {
     "name": "stderr",
     "output_type": "stream",
     "text": [
      "C:\\Users\\raulg\\AppData\\Local\\Packages\\PythonSoftwareFoundation.Python.3.10_qbz5n2kfra8p0\\LocalCache\\local-packages\\Python310\\site-packages\\keras\\src\\layers\\core\\dense.py:87: UserWarning: Do not pass an `input_shape`/`input_dim` argument to a layer. When using Sequential models, prefer using an `Input(shape)` object as the first layer in the model instead.\n",
      "  super().__init__(activity_regularizer=activity_regularizer, **kwargs)\n"
     ]
    }
   ],
   "source": [
    "model = Sequential()\n",
    "model.add(Dense(64, activation='relu', input_shape=(28,)))\n",
    "model.add(Dense(64, activation='relu'))\n",
    "model.add(Dense(1))\n",
    "\n",
    "model.compile(optimizer='adam', loss='mape')"
   ]
  },
  {
   "cell_type": "code",
   "execution_count": 43,
   "metadata": {},
   "outputs": [],
   "source": [
    "X_trainR = []\n",
    "for i in X_train:\n",
    "    aux = []\n",
    "    for r in range(0, 7):\n",
    "        for elem in i[r]:\n",
    "            aux.append(elem)\n",
    "    X_trainR.append(aux)       \n",
    "X_trainR = np.array(X_trainR)    "
   ]
  },
  {
   "cell_type": "code",
   "execution_count": 44,
   "metadata": {},
   "outputs": [],
   "source": [
    "X_valiR = []\n",
    "for i in X_vali:\n",
    "    aux = []\n",
    "    for r in range(0, 7):\n",
    "        for elem in i[r]:\n",
    "            aux.append(elem)\n",
    "    X_valiR.append(aux)  \n",
    "X_valiR = np.array(X_valiR)"
   ]
  },
  {
   "cell_type": "code",
   "execution_count": 45,
   "metadata": {},
   "outputs": [
    {
     "name": "stdout",
     "output_type": "stream",
     "text": [
      "Epoch 1/3\n",
      "\u001b[1m266/266\u001b[0m \u001b[32m━━━━━━━━━━━━━━━━━━━━\u001b[0m\u001b[37m\u001b[0m \u001b[1m1s\u001b[0m 928us/step - loss: 3.6459 - val_loss: 1.0659\n",
      "Epoch 2/3\n",
      "\u001b[1m266/266\u001b[0m \u001b[32m━━━━━━━━━━━━━━━━━━━━\u001b[0m\u001b[37m\u001b[0m \u001b[1m0s\u001b[0m 649us/step - loss: 1.9865 - val_loss: 1.2819\n",
      "Epoch 3/3\n",
      "\u001b[1m266/266\u001b[0m \u001b[32m━━━━━━━━━━━━━━━━━━━━\u001b[0m\u001b[37m\u001b[0m \u001b[1m0s\u001b[0m 645us/step - loss: 1.9403 - val_loss: 1.0552\n"
     ]
    }
   ],
   "source": [
    "history = model.fit(X_trainR, y_train, epochs=3, batch_size=96, validation_data=(X_valiR, y_vali), shuffle=False)\n"
   ]
  },
  {
   "cell_type": "code",
   "execution_count": 46,
   "metadata": {},
   "outputs": [
    {
     "name": "stdout",
     "output_type": "stream",
     "text": [
      "\u001b[1m228/228\u001b[0m \u001b[32m━━━━━━━━━━━━━━━━━━━━\u001b[0m\u001b[37m\u001b[0m \u001b[1m0s\u001b[0m 515us/step\n"
     ]
    },
    {
     "data": {
      "text/plain": [
       "array([[ 22.1557  ],\n",
       "       [ 22.191095],\n",
       "       [ 22.186186],\n",
       "       ...,\n",
       "       [154.89716 ],\n",
       "       [154.23804 ],\n",
       "       [154.67682 ]], dtype=float32)"
      ]
     },
     "execution_count": 46,
     "metadata": {},
     "output_type": "execute_result"
    }
   ],
   "source": [
    "y_pred = model.predict(X_valiR)\n",
    "y_pred"
   ]
  },
  {
   "cell_type": "code",
   "execution_count": 47,
   "metadata": {},
   "outputs": [
    {
     "data": {
      "image/png": "[encoded data removed]",
      "text/plain": [
       "<Figure size 640x480 with 1 Axes>"
      ]
     },
     "metadata": {},
     "output_type": "display_data"
    }
   ],
   "source": [
    "Valirpr = []\n",
    "for i in range(7,df_vali.shape[0]):\n",
    "    Valirpr.append(df_vali.iloc[i].close)\n",
    "plt.plot(Valirpr, color='blue', label='Precio real')  # Línea azul\n",
    "plt.plot(y_pred, color='red', label='Predicción')   # Línea roja\n",
    "plt.title('Gráfico comparación predicción/precio real')\n",
    "plt.xlabel('Índice')\n",
    "plt.ylabel('Valor')\n",
    "plt.legend() \n",
    "\n",
    "plt.show()"
   ]
  },
  {
   "cell_type": "code",
   "execution_count": 48,
   "metadata": {},
   "outputs": [
    {
     "name": "stdout",
     "output_type": "stream",
     "text": [
      "7273\n"
     ]
    }
   ],
   "source": [
    "print(len(y_pred))"
   ]
  },
  {
   "cell_type": "code",
   "execution_count": 49,
   "metadata": {},
   "outputs": [],
   "source": [
    "y_pred_aux=[]\n",
    "for elem in y_pred:\n",
    "    y_pred_aux.append(elem[0])\n",
    "y_pred_aux = np.array(y_pred_aux)"
   ]
  },
  {
   "cell_type": "code",
   "execution_count": 50,
   "metadata": {},
   "outputs": [
    {
     "name": "stdout",
     "output_type": "stream",
     "text": [
      "El error medio absoluto es: 0.8750063696475365\n",
      "El error medio porcentualemente es: 1.0551969320624164\n"
     ]
    }
   ],
   "source": [
    "suma = 0\n",
    "n = len(Valirpr)\n",
    "mae = np.mean(np.abs(Valirpr - y_pred_aux))\n",
    "print(\"El error medio absoluto es: \" + str(mae))\n",
    "for i in range(0,n):\n",
    "    suma = abs(y_pred_aux[i] - Valirpr[i])/Valirpr[i] +  suma\n",
    "error_medio = suma/n\n",
    "emp = error_medio*100 # error medio en porcentaje\n",
    "print(\"El error medio porcentualemente es: \" + str(emp))"
   ]
  },
  {
   "cell_type": "code",
   "execution_count": 51,
   "metadata": {},
   "outputs": [
    {
     "name": "stderr",
     "output_type": "stream",
     "text": [
      "WARNING:absl:You are saving your model as an HDF5 file via `model.save()` or `keras.saving.save_model(model)`. This file format is considered legacy. We recommend using instead the native Keras format, e.g. `model.save('my_model.keras')` or `keras.saving.save_model(model, 'my_model.keras')`. \n"
     ]
    }
   ],
   "source": [
    "model.save('mi_modelo_denso3_96.h5')"
   ]
  },
  {
   "cell_type": "markdown",
   "metadata": {},
   "source": [
    "# Implementación con red neuronal LSTM"
   ]
  },
  {
   "cell_type": "code",
   "execution_count": 52,
   "metadata": {},
   "outputs": [],
   "source": [
    "from tensorflow.keras.layers import LSTM"
   ]
  },
  {
   "cell_type": "code",
   "execution_count": 53,
   "metadata": {},
   "outputs": [
    {
     "name": "stderr",
     "output_type": "stream",
     "text": [
      "C:\\Users\\raulg\\AppData\\Local\\Packages\\PythonSoftwareFoundation.Python.3.10_qbz5n2kfra8p0\\LocalCache\\local-packages\\Python310\\site-packages\\keras\\src\\layers\\rnn\\rnn.py:204: UserWarning: Do not pass an `input_shape`/`input_dim` argument to a layer. When using Sequential models, prefer using an `Input(shape)` object as the first layer in the model instead.\n",
      "  super().__init__(**kwargs)\n"
     ]
    }
   ],
   "source": [
    "modelLSTM = Sequential()\n",
    "modelLSTM.add(LSTM(64, activation='relu', input_shape=(7, 4)))\n",
    "modelLSTM.add(Dense(1))"
   ]
  },
  {
   "cell_type": "code",
   "execution_count": 54,
   "metadata": {},
   "outputs": [],
   "source": [
    "modelLSTM.compile(optimizer='adam', loss='mape')"
   ]
  },
  {
   "cell_type": "code",
   "execution_count": 66,
   "metadata": {},
   "outputs": [
    {
     "name": "stdout",
     "output_type": "stream",
     "text": [
      "Epoch 1/15\n",
      "\u001b[1m4246/4246\u001b[0m \u001b[32m━━━━━━━━━━━━━━━━━━━━\u001b[0m\u001b[37m\u001b[0m \u001b[1m5s\u001b[0m 1ms/step - loss: 2.0732 - val_loss: 4.5062\n",
      "Epoch 2/15\n",
      "\u001b[1m4246/4246\u001b[0m \u001b[32m━━━━━━━━━━━━━━━━━━━━\u001b[0m\u001b[37m\u001b[0m \u001b[1m5s\u001b[0m 1ms/step - loss: 2.0048 - val_loss: 5.3071\n",
      "Epoch 3/15\n",
      "\u001b[1m4246/4246\u001b[0m \u001b[32m━━━━━━━━━━━━━━━━━━━━\u001b[0m\u001b[37m\u001b[0m \u001b[1m5s\u001b[0m 1ms/step - loss: 1.8176 - val_loss: 4.9452\n",
      "Epoch 4/15\n",
      "\u001b[1m4246/4246\u001b[0m \u001b[32m━━━━━━━━━━━━━━━━━━━━\u001b[0m\u001b[37m\u001b[0m \u001b[1m5s\u001b[0m 1ms/step - loss: 1.8375 - val_loss: 3.5523\n",
      "Epoch 5/15\n",
      "\u001b[1m4246/4246\u001b[0m \u001b[32m━━━━━━━━━━━━━━━━━━━━\u001b[0m\u001b[37m\u001b[0m \u001b[1m5s\u001b[0m 1ms/step - loss: 1.7949 - val_loss: 3.3329\n",
      "Epoch 6/15\n",
      "\u001b[1m4246/4246\u001b[0m \u001b[32m━━━━━━━━━━━━━━━━━━━━\u001b[0m\u001b[37m\u001b[0m \u001b[1m5s\u001b[0m 1ms/step - loss: 1.7883 - val_loss: 3.1412\n",
      "Epoch 7/15\n",
      "\u001b[1m4246/4246\u001b[0m \u001b[32m━━━━━━━━━━━━━━━━━━━━\u001b[0m\u001b[37m\u001b[0m \u001b[1m5s\u001b[0m 1ms/step - loss: 1.7756 - val_loss: 2.4447\n",
      "Epoch 8/15\n",
      "\u001b[1m4246/4246\u001b[0m \u001b[32m━━━━━━━━━━━━━━━━━━━━\u001b[0m\u001b[37m\u001b[0m \u001b[1m5s\u001b[0m 1ms/step - loss: 1.7178 - val_loss: 2.3020\n",
      "Epoch 9/15\n",
      "\u001b[1m4246/4246\u001b[0m \u001b[32m━━━━━━━━━━━━━━━━━━━━\u001b[0m\u001b[37m\u001b[0m \u001b[1m5s\u001b[0m 1ms/step - loss: 1.6748 - val_loss: 2.2619\n",
      "Epoch 10/15\n",
      "\u001b[1m4246/4246\u001b[0m \u001b[32m━━━━━━━━━━━━━━━━━━━━\u001b[0m\u001b[37m\u001b[0m \u001b[1m5s\u001b[0m 1ms/step - loss: 1.6769 - val_loss: 2.2396\n",
      "Epoch 11/15\n",
      "\u001b[1m4246/4246\u001b[0m \u001b[32m━━━━━━━━━━━━━━━━━━━━\u001b[0m\u001b[37m\u001b[0m \u001b[1m5s\u001b[0m 1ms/step - loss: 1.6720 - val_loss: 2.0994\n",
      "Epoch 12/15\n",
      "\u001b[1m4246/4246\u001b[0m \u001b[32m━━━━━━━━━━━━━━━━━━━━\u001b[0m\u001b[37m\u001b[0m \u001b[1m5s\u001b[0m 1ms/step - loss: 1.6518 - val_loss: 1.9461\n",
      "Epoch 13/15\n",
      "\u001b[1m4246/4246\u001b[0m \u001b[32m━━━━━━━━━━━━━━━━━━━━\u001b[0m\u001b[37m\u001b[0m \u001b[1m5s\u001b[0m 1ms/step - loss: 1.6588 - val_loss: 1.8080\n",
      "Epoch 14/15\n",
      "\u001b[1m4246/4246\u001b[0m \u001b[32m━━━━━━━━━━━━━━━━━━━━\u001b[0m\u001b[37m\u001b[0m \u001b[1m5s\u001b[0m 1ms/step - loss: 1.6197 - val_loss: 1.8800\n",
      "Epoch 15/15\n",
      "\u001b[1m4246/4246\u001b[0m \u001b[32m━━━━━━━━━━━━━━━━━━━━\u001b[0m\u001b[37m\u001b[0m \u001b[1m5s\u001b[0m 1ms/step - loss: 1.6214 - val_loss: 1.9138\n"
     ]
    }
   ],
   "source": [
    "historyLSTM = modelLSTM.fit(X_train, y_train, epochs=15, batch_size=6, validation_data=(X_vali, y_vali), shuffle=False)"
   ]
  },
  {
   "cell_type": "code",
   "execution_count": 67,
   "metadata": {},
   "outputs": [
    {
     "name": "stdout",
     "output_type": "stream",
     "text": [
      "\u001b[1m228/228\u001b[0m \u001b[32m━━━━━━━━━━━━━━━━━━━━\u001b[0m\u001b[37m\u001b[0m \u001b[1m0s\u001b[0m 687us/step\n"
     ]
    },
    {
     "data": {
      "text/plain": [
       "array([[ 22.141006],\n",
       "       [ 22.144964],\n",
       "       [ 22.110836],\n",
       "       ...,\n",
       "       [149.7911  ],\n",
       "       [149.11423 ],\n",
       "       [150.40132 ]], dtype=float32)"
      ]
     },
     "execution_count": 67,
     "metadata": {},
     "output_type": "execute_result"
    }
   ],
   "source": [
    "y_predLSTM = modelLSTM.predict(X_vali)\n",
    "y_predLSTM"
   ]
  },
  {
   "cell_type": "code",
   "execution_count": 68,
   "metadata": {},
   "outputs": [
    {
     "data": {
      "image/png": "[encoded data removed]",
      "text/plain": [
       "<Figure size 640x480 with 1 Axes>"
      ]
     },
     "metadata": {},
     "output_type": "display_data"
    }
   ],
   "source": [
    "Valirpr = []\n",
    "for i in range(7,df_vali.shape[0]):\n",
    "    Valirpr.append(df_vali.iloc[i].close)\n",
    "plt.plot(Valirpr, color='blue', label='Precio real')  # Línea azul\n",
    "plt.plot(y_predLSTM, color='red', label='Predicción')   # Línea roja\n",
    "plt.title('Gráfico comparación predicción/precio real')\n",
    "plt.xlabel('Índice')\n",
    "plt.ylabel('Valor')\n",
    "plt.legend() \n",
    "\n",
    "plt.show()"
   ]
  },
  {
   "cell_type": "code",
   "execution_count": 69,
   "metadata": {},
   "outputs": [],
   "source": [
    "y_pred_auxLSTM=[]\n",
    "for elem in y_predLSTM:\n",
    "    y_pred_auxLSTM.append(elem[0])\n",
    "y_pred_auxLSTM = np.array(y_pred_auxLSTM)"
   ]
  },
  {
   "cell_type": "code",
   "execution_count": 70,
   "metadata": {},
   "outputs": [
    {
     "name": "stdout",
     "output_type": "stream",
     "text": [
      "El error medio absoluto es: 1.9392126261442184\n",
      "El error medio porcentualemente es: 1.913783900930002\n"
     ]
    }
   ],
   "source": [
    "suma = 0\n",
    "n = len(Valirpr)\n",
    "mae = np.mean(np.abs(Valirpr - y_pred_auxLSTM))\n",
    "print(\"El error medio absoluto es: \" + str(mae))\n",
    "for i in range(0,n):\n",
    "    suma = abs(y_pred_auxLSTM[i] - Valirpr[i])/Valirpr[i] +  suma\n",
    "error_medio = suma/n\n",
    "emp = error_medio*100 # error medio en porcentaje\n",
    "print(\"El error medio porcentualemente es: \" + str(emp))"
   ]
  },
  {
   "cell_type": "code",
   "execution_count": 60,
   "metadata": {},
   "outputs": [
    {
     "name": "stderr",
     "output_type": "stream",
     "text": [
      "WARNING:absl:You are saving your model as an HDF5 file via `model.save()` or `keras.saving.save_model(model)`. This file format is considered legacy. We recommend using instead the native Keras format, e.g. `model.save('my_model.keras')` or `keras.saving.save_model(model, 'my_model.keras')`. \n"
     ]
    }
   ],
   "source": [
    "modelLSTM.save('mi_modelo_lstm5_6.h5')"
   ]
  },
  {
   "cell_type": "markdown",
   "metadata": {},
   "source": [
    "Probamos en los datos de test"
   ]
  },
  {
   "cell_type": "code",
   "execution_count": 61,
   "metadata": {},
   "outputs": [
    {
     "data": {
      "text/plain": [
       "array([[[154.35, 154.5 , 153.45, 154.1 ],\n",
       "        [154.1 , 154.8 , 153.25, 154.15],\n",
       "        [154.15, 154.3 , 153.25, 154.15],\n",
       "        ...,\n",
       "        [155.05, 155.4 , 153.1 , 153.3 ],\n",
       "        [153.3 , 153.7 , 152.45, 153.05],\n",
       "        [153.05, 153.25, 145.75, 147.5 ]],\n",
       "\n",
       "       [[154.1 , 154.8 , 153.25, 154.15],\n",
       "        [154.15, 154.3 , 153.25, 154.15],\n",
       "        [154.15, 155.2 , 153.  , 155.05],\n",
       "        ...,\n",
       "        [153.3 , 153.7 , 152.45, 153.05],\n",
       "        [153.05, 153.25, 145.75, 147.5 ],\n",
       "        [147.5 , 148.65, 145.35, 146.95]],\n",
       "\n",
       "       [[154.15, 154.3 , 153.25, 154.15],\n",
       "        [154.15, 155.2 , 153.  , 155.05],\n",
       "        [155.05, 155.4 , 153.1 , 153.3 ],\n",
       "        ...,\n",
       "        [153.05, 153.25, 145.75, 147.5 ],\n",
       "        [147.5 , 148.65, 145.35, 146.95],\n",
       "        [146.95, 148.8 , 145.15, 148.  ]],\n",
       "\n",
       "       ...,\n",
       "\n",
       "       [[143.3 , 145.1 , 142.7 , 145.05],\n",
       "        [145.05, 145.55, 142.45, 144.15],\n",
       "        [144.15, 144.4 , 141.2 , 142.8 ],\n",
       "        ...,\n",
       "        [143.8 , 143.95, 142.4 , 143.35],\n",
       "        [143.35, 143.9 , 142.35, 142.95],\n",
       "        [142.95, 144.1 , 142.25, 143.75]],\n",
       "\n",
       "       [[145.05, 145.55, 142.45, 144.15],\n",
       "        [144.15, 144.4 , 141.2 , 142.8 ],\n",
       "        [142.8 , 143.95, 141.75, 143.8 ],\n",
       "        ...,\n",
       "        [143.35, 143.9 , 142.35, 142.95],\n",
       "        [142.95, 144.1 , 142.25, 143.75],\n",
       "        [143.75, 144.5 , 143.35, 144.5 ]],\n",
       "\n",
       "       [[144.15, 144.4 , 141.2 , 142.8 ],\n",
       "        [142.8 , 143.95, 141.75, 143.8 ],\n",
       "        [143.8 , 143.95, 142.4 , 143.35],\n",
       "        ...,\n",
       "        [142.95, 144.1 , 142.25, 143.75],\n",
       "        [143.75, 144.5 , 143.35, 144.5 ],\n",
       "        [144.5 , 144.7 , 144.05, 144.25]]])"
      ]
     },
     "execution_count": 61,
     "metadata": {},
     "output_type": "execute_result"
    }
   ],
   "source": [
    "df_test_aux = df_test[['open', 'high', 'low', 'close']].values\n",
    "X_test, y_test = create_sequences(df_test_aux, 7)\n",
    "X_test"
   ]
  },
  {
   "cell_type": "code",
   "execution_count": 62,
   "metadata": {},
   "outputs": [
    {
     "name": "stdout",
     "output_type": "stream",
     "text": [
      "\u001b[1m114/114\u001b[0m \u001b[32m━━━━━━━━━━━━━━━━━━━━\u001b[0m\u001b[37m\u001b[0m \u001b[1m0s\u001b[0m 690us/step\n"
     ]
    },
    {
     "data": {
      "text/plain": [
       "array([[135.88231],\n",
       "       [134.15677],\n",
       "       [133.57518],\n",
       "       ...,\n",
       "       [128.83514],\n",
       "       [129.24039],\n",
       "       [129.49242]], dtype=float32)"
      ]
     },
     "execution_count": 62,
     "metadata": {},
     "output_type": "execute_result"
    }
   ],
   "source": [
    "y_predLSTMt = modelLSTM.predict(X_test)\n",
    "y_predLSTMt"
   ]
  },
  {
   "cell_type": "code",
   "execution_count": 63,
   "metadata": {},
   "outputs": [
    {
     "data": {
      "image/png": "[encoded data removed]",
      "text/plain": [
       "<Figure size 640x480 with 1 Axes>"
      ]
     },
     "metadata": {},
     "output_type": "display_data"
    }
   ],
   "source": [
    "Testrpr = []\n",
    "for i in range(7,df_test.shape[0]):\n",
    "    Testrpr.append(df_test.iloc[i].close)\n",
    "plt.plot(Testrpr, color='blue', label='Precio real')  # Línea azul\n",
    "plt.plot(y_predLSTMt, color='red', label='Predicción')   # Línea roja\n",
    "plt.title('Gráfico comparación predicción/precio real')\n",
    "plt.xlabel('Índice')\n",
    "plt.ylabel('Valor')\n",
    "plt.legend() \n",
    "\n",
    "plt.show()"
   ]
  },
  {
   "cell_type": "code",
   "execution_count": 64,
   "metadata": {},
   "outputs": [],
   "source": [
    "y_pred_auxLSTM=[]\n",
    "for elem in y_predLSTMt:\n",
    "    y_pred_auxLSTM.append(elem[0])\n",
    "y_pred_auxLSTM = np.array(y_pred_auxLSTM)"
   ]
  },
  {
   "cell_type": "code",
   "execution_count": 65,
   "metadata": {},
   "outputs": [
    {
     "name": "stdout",
     "output_type": "stream",
     "text": [
      "El error medio absoluto es: 15.246892724058176\n",
      "El error medio porcentualemente es: 10.108636800741898\n"
     ]
    }
   ],
   "source": [
    "suma = 0\n",
    "n = len(Testrpr)\n",
    "mae = np.mean(np.abs(Testrpr - y_pred_auxLSTM))\n",
    "print(\"El error medio absoluto es: \" + str(mae))\n",
    "for i in range(0,n):\n",
    "    suma = abs(y_pred_auxLSTM[i] - Testrpr[i])/Testrpr[i] +  suma\n",
    "error_medio = suma/n\n",
    "emp = error_medio*100 # error medio en porcentaje\n",
    "print(\"El error medio porcentualemente es: \" + str(emp))"
   ]
  }
 ],
 "metadata": {
  "kernelspec": {
   "display_name": "Python 3",
   "language": "python",
   "name": "python3"
  },
  "language_info": {
   "codemirror_mode": {
    "name": "ipython",
    "version": 3
   },
   "file_extension": ".py",
   "mimetype": "text/x-python",
   "name": "python",
   "nbconvert_exporter": "python",
   "pygments_lexer": "ipython3",
   "version": "3.10.11"
  }
 },
 "nbformat": 4,
 "nbformat_minor": 2
}
