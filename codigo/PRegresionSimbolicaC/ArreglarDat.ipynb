{
 "cells": [
  {
   "cell_type": "code",
   "execution_count": 2,
   "id": "5bab98b8",
   "metadata": {},
   "outputs": [],
   "source": [
    "import pandas as pd"
   ]
  },
  {
   "cell_type": "code",
   "execution_count": 3,
   "id": "4ec25303",
   "metadata": {},
   "outputs": [],
   "source": [
    "df = pd.read_csv(\"Dataframes/resultados_regresionSimbolicaC_it3600.csv\")"
   ]
  },
  {
   "cell_type": "code",
   "execution_count": null,
   "id": "06ae8666",
   "metadata": {},
   "outputs": [
    {
     "name": "stdout",
     "output_type": "stream",
     "text": [
      "     iteracion     valor                                                gen\n",
      "0         3901  5.696107  p26 / p12 + c0.12380681600764776 + p2 - c0.622...\n",
      "1         3902  1.446052  p25 - c0.0859310402847574 / p24 * c0.399231366...\n",
      "2         3903  1.489168  p25 - c0.0859310402847574 / p24 * c0.399231366...\n",
      "3         3904  1.514060        p25 - c0.0859310402847574 / p24 * p8 / p18 \n",
      "4         3905  1.575160              p25 - c0.0859310402847574 / p24 * p8 \n",
      "..         ...       ...                                                ...\n",
      "595       4496  7.475406     c2.930316004759172 - c3.5795608960686205 + p4 \n",
      "596       4497  1.796774                                     p9 + p22 - p9 \n",
      "597       4498  1.796774                                     p9 + p22 - p9 \n",
      "598       4499  1.796774                                     p9 + p22 - p9 \n",
      "599       4500  1.796774                                     p9 + p22 - p9 \n",
      "\n",
      "[600 rows x 3 columns]\n"
     ]
    }
   ],
   "source": [
    "df['iteracion'] += 900\n",
    "print(df)"
   ]
  },
  {
   "cell_type": "code",
   "execution_count": 5,
   "id": "3bf2677d",
   "metadata": {},
   "outputs": [],
   "source": [
    "df.to_csv(\"Dataframes/resultados_regresionSimbolicaC_it4500.csv\", index=False)"
   ]
  }
 ],
 "metadata": {
  "kernelspec": {
   "display_name": "Python 3",
   "language": "python",
   "name": "python3"
  },
  "language_info": {
   "codemirror_mode": {
    "name": "ipython",
    "version": 3
   },
   "file_extension": ".py",
   "mimetype": "text/x-python",
   "name": "python",
   "nbconvert_exporter": "python",
   "pygments_lexer": "ipython3",
   "version": "3.9.0"
  }
 },
 "nbformat": 4,
 "nbformat_minor": 5
}
