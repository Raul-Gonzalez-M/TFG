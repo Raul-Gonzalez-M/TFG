{
 "cells": [
  {
   "cell_type": "code",
   "execution_count": 1,
   "metadata": {},
   "outputs": [],
   "source": [
    "import pandas as pd\n",
    "import numpy as np\n",
    "import random\n",
    "import re"
   ]
  },
  {
   "cell_type": "code",
   "execution_count": 2,
   "metadata": {},
   "outputs": [
    {
     "name": "stdout",
     "output_type": "stream",
     "text": [
      "<class 'pandas.core.frame.DataFrame'>\n",
      "RangeIndex: 36400 entries, 0 to 36399\n",
      "Data columns (total 6 columns):\n",
      " #   Column  Non-Null Count  Dtype  \n",
      "---  ------  --------------  -----  \n",
      " 0   date    36400 non-null  object \n",
      " 1   open    36400 non-null  float64\n",
      " 2   high    36400 non-null  float64\n",
      " 3   low     36400 non-null  float64\n",
      " 4   close   36400 non-null  float64\n",
      " 5   value   36400 non-null  int64  \n",
      "dtypes: float64(4), int64(1), object(1)\n",
      "memory usage: 1.7+ MB\n",
      "None\n"
     ]
    }
   ],
   "source": [
    "df = pd.read_csv('SolAtasIMC_tratado.csv')\n",
    "print(df.info())"
   ]
  },
  {
   "cell_type": "markdown",
   "metadata": {},
   "source": [
    "# Preprocesado de Datos"
   ]
  },
  {
   "cell_type": "code",
   "execution_count": 3,
   "metadata": {},
   "outputs": [],
   "source": [
    "tamanio = df.shape[0]"
   ]
  },
  {
   "cell_type": "code",
   "execution_count": 4,
   "metadata": {},
   "outputs": [],
   "source": [
    "NUMHORAS = 7"
   ]
  },
  {
   "cell_type": "code",
   "execution_count": 5,
   "metadata": {},
   "outputs": [],
   "source": [
    "df_train = df.copy().loc[0:int(tamanio*0.7)]\n",
    "df_vali = df.copy().loc[int(tamanio*0.7 + 1):int(tamanio*0.9)]\n",
    "df_test = df.copy().loc[int(tamanio*0.9 + 1):tamanio]"
   ]
  },
  {
   "cell_type": "markdown",
   "metadata": {},
   "source": [
    "# Desarrollo del modelo"
   ]
  },
  {
   "cell_type": "code",
   "execution_count": null,
   "metadata": {},
   "outputs": [],
   "source": [
    "class RegresionSimbolica:\n",
    "    def __init__(self, funcionOptimizacion: callable, operations: list[list], maxSize: int, minSize: int, n : int): # n es la cantidad de horas anteriores que se tienen en cuenta\n",
    "        self.funcionOptimizacion = funcionOptimizacion\n",
    "        self.operations = operations  # La primera lista contendrá las operaciones más prioritarias y así progresivamente\n",
    "        self.maxSize = maxSize\n",
    "        self.minSize = minSize\n",
    "        self.genes: list[list] = []\n",
    "        self.n = n\n",
    "        pass\n",
    "    \n",
    "    \n",
    "    def __create_priv(self, r : int, numGenes: int):\n",
    "        genes = []\n",
    "        for j in range(numGenes):   # Se genera un número aleatorio de genes entre 2 y numGenes\n",
    "            aux = []\n",
    "            aux.append(random.randint(0, r))\n",
    "            for i in range(random.randint(self.minSize, self.maxSize - 1)):\n",
    "                numLO = random.randint(0, len(self.operations) - 1)\n",
    "                aux.append(self.operations[numLO][random.randint(0, len(self.operations[numLO]) - 1)])\n",
    "                aux.append(random.randint(0, r))\n",
    "            genes.append(aux)\n",
    "        return genes\n",
    "            \n",
    "    \n",
    "    \n",
    "    def create(self, numGenes: int):\n",
    "        if numGenes > 0:\n",
    "            return self.__create_priv(5*self.n - 1, numGenes)\n",
    "        else:\n",
    "            raise Exception(\"El número de genes no puede ser menor que 1\")\n",
    "        \n",
    "    def __aplica_operacion(self, op, i, j):\n",
    "        if op == '+':\n",
    "            return i + j\n",
    "        elif op == '-':\n",
    "            return i - j\n",
    "        elif op == '*':\n",
    "            return i * j\n",
    "        elif op == '/':\n",
    "            return i / j if j != 0 else 1e6\n",
    "        elif op == '^':\n",
    "            return i ** j\n",
    "        \n",
    "    def __evaluate(self, valores: list[float], candidato: list):\n",
    "        candidato_aux = []\n",
    "        for i in range(0, len(candidato) - 1, 2):\n",
    "            candidato_aux.append(valores[candidato[i]])\n",
    "            candidato_aux.append(candidato[i+1])\n",
    "        candidato_aux.append(valores[candidato[len(candidato) - 1]])\n",
    "        for categoria_operaciones in self.operations:\n",
    "            j_offset = 0\n",
    "            for j in range(1, len(candidato_aux), 2):\n",
    "                indice = j + j_offset\n",
    "                op = candidato_aux[indice]\n",
    "                if(op in categoria_operaciones):\n",
    "                    op_result = self.__aplica_operacion( op, candidato_aux[indice-1], candidato_aux[indice+1])\n",
    "                    candidato_aux[indice-1] = op_result\n",
    "                    del candidato_aux[indice+1]\n",
    "                    del candidato_aux[indice]\n",
    "                    j_offset = j_offset - 2\n",
    "        return candidato_aux[0]   \n",
    "    \n",
    "    \n",
    "    def fitness(self, X, y, candidato: list):\n",
    "        valores_generados = []\n",
    "        for elem in X:\n",
    "            valores_generados.append(self.__evaluate(elem, candidato))\n",
    "        return self.funcionOptimizacion(valores_generados, y)\n",
    "    \n",
    "    def fitness2(self, X, y, candidato: list):\n",
    "        valores_generados = []\n",
    "        for elem in X:\n",
    "            valores_generados.append(self.__evaluate(elem, candidato))\n",
    "        return self.funcionOptimizacion(valores_generados, y)\n",
    "               \n",
    "                \n",
    "        \n",
    "            \n",
    "        \n",
    "    def display(self,  candidato: list):\n",
    "        return  ' '.join(map(str, [i for i in candidato]))\n",
    "        \n",
    "    def mutate(self, candidato: list):\n",
    "        numberC = (1 + len(candidato)) / 2\n",
    "        if numberC < self.maxSize and random.randint(0,100) == 0:\n",
    "            op_cat = random.randint(0, len(self.operations) - 1)\n",
    "            candidato.append(self.operations[op_cat][random.randint(0, len(self.operations[op_cat]) - 1)])\n",
    "            candidato.append(random.randrange(0, 4*self.n))\n",
    "            return candidato\n",
    "        elif numberC > self.minSize and random.randint(0,50) == 0:\n",
    "            indice = random.randrange(0, len(candidato) - 1)\n",
    "            del candidato[indice]\n",
    "            del candidato[indice]\n",
    "            return candidato\n",
    "        return candidato\n",
    "    \n",
    "    def mutate2(self, candidato: list):\n",
    "        numberC = (1 + len(candidato)) / 2\n",
    "        #for i in range(0,20):\n",
    "        if numberC < self.maxSize and random.randint(0,50) == 0:\n",
    "            op_cat = random.randint(0, len(self.operations) - 1)\n",
    "            candidato.append(self.operations[op_cat][random.randint(0, len(self.operations[op_cat]) - 1)])\n",
    "            candidato.append(random.randrange(0, 4*self.n))\n",
    "            numberC += 2\n",
    "        elif numberC > self.minSize and random.randint(0,50) == 0:\n",
    "            indice = random.randrange(0, len(candidato) - 1)\n",
    "            del candidato[indice]\n",
    "            del candidato[indice]\n",
    "            numberC -= 2\n",
    "        return candidato\n",
    "    \n",
    "    def run(self, numGenes, X, y, baremo: float):\n",
    "        best = 1000000\n",
    "        post_best = 0\n",
    "        self.genes = self.create(numGenes)\n",
    "        for i in range (0, len(self.genes)):\n",
    "            value = self.fitness(X, y, self.genes[i])\n",
    "            if(value < best):\n",
    "                best = value\n",
    "                post_best = i\n",
    "        while(best > baremo):\n",
    "            for j in range (0, len(self.genes)):\n",
    "                self.genes[j] = self.mutate2(self.genes[j])\n",
    "            for i in range (0, len(self.genes)):\n",
    "                value = self.fitness(X, y, self.genes[i])\n",
    "                if(value < best):\n",
    "                    best = value\n",
    "                    post_best = i\n",
    "        print(\"El mejor gen tiene un rendimiento de \" + str(best))\n",
    "        self.display(self.genes[post_best])\n",
    "        return (post_best, best)\n",
    "        \n",
    "        \n",
    "    def run2(self, numGenes, X, y, baremo: float):\n",
    "        best = 1000000\n",
    "        candidato_best = []\n",
    "        self.genes = self.create(numGenes)\n",
    "        for i in range (0, len(self.genes)):\n",
    "            value = self.fitness(X, y, self.genes[i])\n",
    "            if(value < best):\n",
    "                best = value\n",
    "                candidato_best = self.genes[i]\n",
    "        ronda = 0\n",
    "        while(best > baremo):\n",
    "            ronda +=1\n",
    "            for j in range (0, len(self.genes)):\n",
    "                self.genes[j] = self.mutate2(self.genes[j])\n",
    "            dicc_aux = {}\n",
    "            genes_aux = self.genes.copy()\n",
    "            values_list = []\n",
    "            for r in range (0, len(self.genes)):\n",
    "                value = self.fitness(X, y, self.genes[r])\n",
    "                values_list.append(value)\n",
    "                dicc_aux[value] = r\n",
    "                if(value < best):\n",
    "                    best = value\n",
    "                    candidato_best = self.genes[r]\n",
    "            values_array = np.array(values_list)\n",
    "            values_array.sort()\n",
    "            #Crear la lista que va a ir en el dataFrame\n",
    "            genesauxiliares = []\n",
    "            for value in values_array:\n",
    "                genesauxiliares.append(self.genes[dicc_aux[value]])\n",
    "            df = pd.DataFrame({\n",
    "                'Genes': genesauxiliares,\n",
    "                'Valor': values_array,\n",
    "                'NumHoras': NUMHORAS,\n",
    "                'Ronda': ronda\n",
    "            })\n",
    "            nombre = \"pandas/dataframe\" + str(ronda)\n",
    "            df.to_csv(nombre + '.csv', index=False) \n",
    "            num_del = 0\n",
    "            if(values_array.size <= (numGenes - 4)/2):\n",
    "                genescreados = self.create(4)\n",
    "                for gen in genescreados:\n",
    "                    self.genes.append(gen)\n",
    "            else:\n",
    "                for z in range(int(values_array.size/ 2), values_array.size):\n",
    "                    if genes_aux[dicc_aux[values_array[z]]] in self.genes:\n",
    "                        self.genes.remove(genes_aux[dicc_aux[values_array[z]]])\n",
    "                        num_del += 1\n",
    "                if num_del > 2:\n",
    "                    genescreados = self.create(num_del)\n",
    "                    for gen in genescreados:\n",
    "                        self.genes.append(gen)\n",
    "            print(\"El mejor gen,\" + str(display(candidato_best)) + \",de la ronda \" + str(ronda) + \" tiene un rendimiento de \" + str(best))\n",
    "            with open('candidatos.txt', 'a') as archivo:\n",
    "                archivo.write(\"El mejor gen,\" + str(display(candidato_best)) + \",de la ronda \" + str(ronda) + \" tiene un rendimiento de \" + str(best) + \"\\n\")\n",
    "        print(\"El mejor gen tiene un rendimiento de \" + str(best))\n",
    "        self.display(candidato_best)\n",
    "        return (candidato_best, best)\n",
    "    \n",
    "    \n",
    "    def cargar(self, linea):\n",
    "        gen = []\n",
    "        gen = re.findall(r'\\d+|[+\\-*/]', linea)\n",
    "        gen = [int(tok) if tok.isdigit() else tok for tok in gen]\n",
    "        return gen\n",
    "\n",
    "\n",
    "\n",
    "    def runcopy(self, numGenes, X, y, baremo: float):\n",
    "        resultado = []\n",
    "        num_veces = 0\n",
    "        best = 1000000\n",
    "        candidato_best = []\n",
    "        cargar = False\n",
    "        if cargar:\n",
    "            with open('estado.txt', 'r') as archivo:\n",
    "                for linea in archivo:\n",
    "                    linea = linea.strip()\n",
    "                    self.genes.append(self.cargar(linea))\n",
    "                numGenes = len(self.genes)\n",
    "        else:\n",
    "            self.genes = self.create(numGenes)\n",
    "        for i in range (0, len(self.genes)):\n",
    "            value = self.fitness2(X, y, self.genes[i])\n",
    "            if(value < best):\n",
    "                best = value\n",
    "                candidato_best = self.genes[i]\n",
    "        while(best > baremo and num_veces < 1000000):\n",
    "            for j in range (0, len(self.genes)):\n",
    "                self.genes[j] = self.mutate2(self.genes[j])\n",
    "            dicc_aux = {}\n",
    "            genes_aux = self.genes.copy()\n",
    "            values_list = []\n",
    "            for r in range (0, len(self.genes)):\n",
    "                value = self.fitness2(X, y, self.genes[r])\n",
    "                values_list.append(value)\n",
    "                dicc_aux[value] = r\n",
    "                if(value < best):\n",
    "                    best = value\n",
    "                    candidato_best = self.genes[r]\n",
    "            values_array = np.array(values_list)\n",
    "            values_array.sort()\n",
    "            if num_veces > 200 and num_veces % 50 == 0:\n",
    "                aux = self.genes[dicc_aux[values_array[0]]] # Selecciono el mejor gen\n",
    "                peores_indices = [dicc_aux[values_array[-ind]] for ind in range(1, 6)]    # Obtengo los índices de los peores 5 genes\n",
    "                peores_indices.sort(reverse=True)   # Ordeno los índices de mayor a menor para evitar errores al eliminar\n",
    "                for indice in peores_indices:  # Elimino los peores genes de self.genes\n",
    "                    del self.genes[indice]\n",
    "                for _ in range(5): # Añade 5 copias del mejor gen\n",
    "                    self.genes.append(aux)\n",
    "            num_veces += 1\n",
    "            print(f\"Vez num:{num_veces}, valor{best}\")\n",
    "            genBest = self.display(candidato_best)\n",
    "            resultado.append({'iteracion' : num_veces, 'valor' : best, 'gen' : genBest})\n",
    "            with open('genesIteracion.txt', 'a') as archivo:\n",
    "                archivo.write(f\"Vez num:{num_veces}, valor{best}, gen: {genBest} \\n\")\n",
    "            if num_veces % 5 == 0:\n",
    "                df_resultados = pd.DataFrame(resultado)\n",
    "                cadena = \"Dataframes/resultados_regresionSimbolicaC_it\" + str(num_veces) + \".csv\"\n",
    "                df_resultados.to_csv(cadena, index=False)\n",
    "                with open('estado.txt', 'w') as archivo_estado:\n",
    "                    for gen in self.genes:\n",
    "                        cadena  = str(self.display(gen)) + \"\\n\"\n",
    "                        archivo_estado.write(cadena)\n",
    "        print(\"El mejor gen tiene un rendimiento de \" + str(best))\n",
    "        self.display(candidato_best)\n",
    "        df_resultados = pd.DataFrame(resultado)\n",
    "        cadena = \"Dataframes/resultados_regresionSimbolica.csv\"\n",
    "        df_resultados.to_csv(cadena, index=False)\n",
    "        return (candidato_best, best)"
   ]
  },
  {
   "cell_type": "code",
   "execution_count": 7,
   "metadata": {},
   "outputs": [],
   "source": [
    "def funcion_optimizacion_mape(valores_generados, y):\n",
    "    suma = 0\n",
    "    n = len(valores_generados)\n",
    "    for i in range(0,n):\n",
    "        suma = abs(valores_generados[i] - y[i])/y[i] +  suma\n",
    "    error_medio = suma/n\n",
    "    return error_medio*100 "
   ]
  },
  {
   "cell_type": "code",
   "execution_count": 13,
   "metadata": {},
   "outputs": [],
   "source": [
    "\n",
    "operations = [\n",
    "    ['*', '/'],   # Primera lista de operaciones prioritarias\n",
    "    ['+', '-']    # Segunda lista de operaciones con menor prioridad\n",
    "]\n",
    "\n",
    "# Declarar el objeto\n",
    "objeto_regresion = RegresionSimbolica(\n",
    "    funcionOptimizacion=funcion_optimizacion_mape,  # Pasas tu función de optimización\n",
    "    operations=operations,                          # Pasas la lista de operaciones\n",
    "    maxSize=50,                                     # Tamaño máximo del cromosoma\n",
    "    minSize=5,                                      # Tamaño mínimo del cromosoma\n",
    "    n=NUMHORAS                                            # Cantidad de horas anteriores a considerar\n",
    ")"
   ]
  },
  {
   "cell_type": "code",
   "execution_count": 9,
   "metadata": {},
   "outputs": [
    {
     "name": "stdout",
     "output_type": "stream",
     "text": [
      "1 + 3 * 5 - 6 + 9 / 2\n"
     ]
    },
    {
     "data": {
      "text/plain": [
       "'1 + 3 * 5 - 20 - 16 - 25'"
      ]
     },
     "execution_count": 9,
     "metadata": {},
     "output_type": "execute_result"
    }
   ],
   "source": [
    "print(objeto_regresion.display([1, '+', 3, '*', 5, '-', 6, '+', 9, '/', 2]))\n",
    "objeto_regresion.fitness([[1, 3,1,4,5,2,5,8,5]], [10.2], [1, '+', 3, '*', 5])\n",
    "candidato = [1, '+', 3, '*', 5]\n",
    "for i in range(0, 300):\n",
    "    objeto_regresion.mutate(candidato)\n",
    "objeto_regresion.display(candidato)    \n",
    "\n"
   ]
  },
  {
   "cell_type": "markdown",
   "metadata": {},
   "source": [
    "Preparar X e y"
   ]
  },
  {
   "cell_type": "code",
   "execution_count": 10,
   "metadata": {},
   "outputs": [],
   "source": [
    "X = []\n",
    "y= []\n",
    "for i in range(0, df_train.shape[0] - NUMHORAS):\n",
    "    aux = []\n",
    "    for r in range(0, NUMHORAS):\n",
    "        aux.append(df_train.iloc[i + r].open)\n",
    "        aux.append(df_train.iloc[i + r].high)\n",
    "        aux.append(df_train.iloc[i + r].low)\n",
    "        aux.append(df_train.iloc[i + r].close)\n",
    "        aux.append(df_train.iloc[i + r].value)\n",
    "    X.append(aux)\n",
    "    y.append(df_train.iloc[i + NUMHORAS].close)"
   ]
  },
  {
   "cell_type": "code",
   "execution_count": 14,
   "metadata": {},
   "outputs": [
    {
     "name": "stdout",
     "output_type": "stream",
     "text": [
      "Vez num:1, valor1334.145713191831\n",
      "Vez num:2, valor1334.145713191831\n",
      "Vez num:3, valor1334.145713191831\n",
      "Vez num:4, valor1334.145713191831\n",
      "Vez num:5, valor1334.145713191831\n",
      "Vez num:6, valor1334.145713191831\n",
      "Vez num:7, valor1334.145713191831\n",
      "Vez num:8, valor1334.145713191831\n",
      "Vez num:9, valor1334.145713191831\n",
      "Vez num:10, valor1334.145713191831\n",
      "Vez num:11, valor1334.145713191831\n",
      "Vez num:12, valor1334.145713191831\n",
      "Vez num:13, valor1334.145713191831\n",
      "Vez num:14, valor1334.145713191831\n",
      "Vez num:15, valor1334.145713191831\n",
      "Vez num:16, valor1334.145713191831\n",
      "Vez num:17, valor1334.145713191831\n",
      "Vez num:18, valor1334.145713191831\n",
      "Vez num:19, valor1334.145713191831\n",
      "Vez num:20, valor1334.145713191831\n",
      "Vez num:21, valor1334.145713191831\n"
     ]
    },
    {
     "ename": "KeyboardInterrupt",
     "evalue": "",
     "output_type": "error",
     "traceback": [
      "\u001b[1;31m---------------------------------------------------------------------------\u001b[0m",
      "\u001b[1;31mKeyboardInterrupt\u001b[0m                         Traceback (most recent call last)",
      "Cell \u001b[1;32mIn[14], line 1\u001b[0m\n\u001b[1;32m----> 1\u001b[0m pos \u001b[38;5;241m=\u001b[39m \u001b[43mobjeto_regresion\u001b[49m\u001b[38;5;241;43m.\u001b[39;49m\u001b[43mruncopy\u001b[49m\u001b[43m(\u001b[49m\u001b[38;5;241;43m10\u001b[39;49m\u001b[43m,\u001b[49m\u001b[43m \u001b[49m\u001b[43mX\u001b[49m\u001b[43m,\u001b[49m\u001b[43m \u001b[49m\u001b[43my\u001b[49m\u001b[43m,\u001b[49m\u001b[43m \u001b[49m\u001b[38;5;241;43m0.5\u001b[39;49m\u001b[43m)\u001b[49m\n",
      "Cell \u001b[1;32mIn[12], line 228\u001b[0m, in \u001b[0;36mRegresionSimbolica.runcopy\u001b[1;34m(self, numGenes, X, y, baremo)\u001b[0m\n\u001b[0;32m    226\u001b[0m values_list \u001b[38;5;241m=\u001b[39m []\n\u001b[0;32m    227\u001b[0m \u001b[38;5;28;01mfor\u001b[39;00m r \u001b[38;5;129;01min\u001b[39;00m \u001b[38;5;28mrange\u001b[39m (\u001b[38;5;241m0\u001b[39m, \u001b[38;5;28mlen\u001b[39m(\u001b[38;5;28mself\u001b[39m\u001b[38;5;241m.\u001b[39mgenes)):\n\u001b[1;32m--> 228\u001b[0m     value \u001b[38;5;241m=\u001b[39m \u001b[38;5;28;43mself\u001b[39;49m\u001b[38;5;241;43m.\u001b[39;49m\u001b[43mfitness2\u001b[49m\u001b[43m(\u001b[49m\u001b[43mX\u001b[49m\u001b[43m,\u001b[49m\u001b[43m \u001b[49m\u001b[43my\u001b[49m\u001b[43m,\u001b[49m\u001b[43m \u001b[49m\u001b[38;5;28;43mself\u001b[39;49m\u001b[38;5;241;43m.\u001b[39;49m\u001b[43mgenes\u001b[49m\u001b[43m[\u001b[49m\u001b[43mr\u001b[49m\u001b[43m]\u001b[49m\u001b[43m)\u001b[49m\n\u001b[0;32m    229\u001b[0m     values_list\u001b[38;5;241m.\u001b[39mappend(value)\n\u001b[0;32m    230\u001b[0m     dicc_aux[value] \u001b[38;5;241m=\u001b[39m r\n",
      "Cell \u001b[1;32mIn[12], line 73\u001b[0m, in \u001b[0;36mRegresionSimbolica.fitness2\u001b[1;34m(self, X, y, candidato)\u001b[0m\n\u001b[0;32m     71\u001b[0m valores_generados \u001b[38;5;241m=\u001b[39m []\n\u001b[0;32m     72\u001b[0m \u001b[38;5;28;01mfor\u001b[39;00m elem \u001b[38;5;129;01min\u001b[39;00m X:\n\u001b[1;32m---> 73\u001b[0m     valores_generados\u001b[38;5;241m.\u001b[39mappend(\u001b[38;5;28;43mself\u001b[39;49m\u001b[38;5;241;43m.\u001b[39;49m\u001b[43m__evaluate\u001b[49m\u001b[43m(\u001b[49m\u001b[43melem\u001b[49m\u001b[43m,\u001b[49m\u001b[43m \u001b[49m\u001b[43mcandidato\u001b[49m\u001b[43m)\u001b[49m)\n\u001b[0;32m     74\u001b[0m \u001b[38;5;28;01mreturn\u001b[39;00m \u001b[38;5;28mself\u001b[39m\u001b[38;5;241m.\u001b[39mfuncionOptimizacion(valores_generados, y)\n",
      "Cell \u001b[1;32mIn[12], line 48\u001b[0m, in \u001b[0;36mRegresionSimbolica.__evaluate\u001b[1;34m(self, valores, candidato)\u001b[0m\n\u001b[0;32m     46\u001b[0m \u001b[38;5;28;01mfor\u001b[39;00m i \u001b[38;5;129;01min\u001b[39;00m \u001b[38;5;28mrange\u001b[39m(\u001b[38;5;241m0\u001b[39m, \u001b[38;5;28mlen\u001b[39m(candidato) \u001b[38;5;241m-\u001b[39m \u001b[38;5;241m1\u001b[39m, \u001b[38;5;241m2\u001b[39m):\n\u001b[0;32m     47\u001b[0m     candidato_aux\u001b[38;5;241m.\u001b[39mappend(valores[candidato[i]])\n\u001b[1;32m---> 48\u001b[0m     candidato_aux\u001b[38;5;241m.\u001b[39mappend(candidato[i\u001b[38;5;241m+\u001b[39m\u001b[38;5;241m1\u001b[39m])\n\u001b[0;32m     49\u001b[0m candidato_aux\u001b[38;5;241m.\u001b[39mappend(valores[candidato[\u001b[38;5;28mlen\u001b[39m(candidato) \u001b[38;5;241m-\u001b[39m \u001b[38;5;241m1\u001b[39m]])\n\u001b[0;32m     50\u001b[0m \u001b[38;5;28;01mfor\u001b[39;00m categoria_operaciones \u001b[38;5;129;01min\u001b[39;00m \u001b[38;5;28mself\u001b[39m\u001b[38;5;241m.\u001b[39moperations:\n",
      "\u001b[1;31mKeyboardInterrupt\u001b[0m: "
     ]
    }
   ],
   "source": [
    "pos = objeto_regresion.runcopy(10, X, y, 0.5)"
   ]
  },
  {
   "cell_type": "code",
   "execution_count": null,
   "metadata": {},
   "outputs": [
    {
     "data": {
      "text/plain": [
       "([27, '-', 7, '+', 7], 1.0167578391944412)"
      ]
     },
     "execution_count": 11,
     "metadata": {},
     "output_type": "execute_result"
    }
   ],
   "source": [
    "pos"
   ]
  },
  {
   "cell_type": "code",
   "execution_count": null,
   "metadata": {},
   "outputs": [],
   "source": [
    "with open('ecuaciones.txt', 'a') as archivo:\n",
    "    archivo.write(str(pos[0]) + \" : \" + str(pos[1]) + \"_nh\" + str(NUMHORAS) + \"\\n\")"
   ]
  }
 ],
 "metadata": {
  "kernelspec": {
   "display_name": "Python 3",
   "language": "python",
   "name": "python3"
  },
  "language_info": {
   "codemirror_mode": {
    "name": "ipython",
    "version": 3
   },
   "file_extension": ".py",
   "mimetype": "text/x-python",
   "name": "python",
   "nbconvert_exporter": "python",
   "pygments_lexer": "ipython3",
   "version": "3.9.0"
  }
 },
 "nbformat": 4,
 "nbformat_minor": 2
}
