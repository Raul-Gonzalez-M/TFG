{
 "cells": [
  {
   "cell_type": "code",
   "execution_count": 1,
   "metadata": {},
   "outputs": [],
   "source": [
    "import pandas as pd"
   ]
  },
  {
   "cell_type": "code",
   "execution_count": null,
   "metadata": {},
   "outputs": [],
   "source": [
    "# Leo el dataframe y asigno nombre a las columnas\n",
    "df = pd.read_csv('IMC.csv', header=None, names=['fecha', 'valor', 'sentimiento']) \n",
    "# Selecciono solo las columnas fecha y valor\n",
    "df_filtrado = df[['fecha', 'valor']]    \n",
    "# Guardo el nuevo dataframe\n",
    "df_filtrado.to_csv('Indice_miedo_codicia.csv', index=False) "
   ]
  }
 ],
 "metadata": {
  "kernelspec": {
   "display_name": "Python 3",
   "language": "python",
   "name": "python3"
  },
  "language_info": {
   "codemirror_mode": {
    "name": "ipython",
    "version": 3
   },
   "file_extension": ".py",
   "mimetype": "text/x-python",
   "name": "python",
   "nbconvert_exporter": "python",
   "pygments_lexer": "ipython3",
   "version": "3.9.0"
  }
 },
 "nbformat": 4,
 "nbformat_minor": 2
}
