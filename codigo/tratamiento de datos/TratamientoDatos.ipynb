{
 "cells": [
  {
   "cell_type": "code",
   "execution_count": 2,
   "metadata": {},
   "outputs": [],
   "source": [
    "import pandas as pd\n",
    "import numpy as np\n",
    "import matplotlib.pyplot as plt \n",
    "import seaborn as sea"
   ]
  },
  {
   "cell_type": "code",
   "execution_count": null,
   "metadata": {},
   "outputs": [
    {
     "data": {
      "text/html": [
       "<div>\n",
       "<style scoped>\n",
       "    .dataframe tbody tr th:only-of-type {\n",
       "        vertical-align: middle;\n",
       "    }\n",
       "\n",
       "    .dataframe tbody tr th {\n",
       "        vertical-align: top;\n",
       "    }\n",
       "\n",
       "    .dataframe thead th {\n",
       "        text-align: right;\n",
       "    }\n",
       "</style>\n",
       "<table border=\"1\" class=\"dataframe\">\n",
       "  <thead>\n",
       "    <tr style=\"text-align: right;\">\n",
       "      <th></th>\n",
       "      <th>date</th>\n",
       "      <th>open</th>\n",
       "      <th>high</th>\n",
       "      <th>low</th>\n",
       "      <th>close</th>\n",
       "    </tr>\n",
       "  </thead>\n",
       "  <tbody>\n",
       "    <tr>\n",
       "      <th>0</th>\n",
       "      <td>2018-01-09</td>\n",
       "      <td>15000.0</td>\n",
       "      <td>15500.0</td>\n",
       "      <td>14100.0</td>\n",
       "      <td>14400.0</td>\n",
       "    </tr>\n",
       "    <tr>\n",
       "      <th>1</th>\n",
       "      <td>2018-01-10</td>\n",
       "      <td>14500.0</td>\n",
       "      <td>15000.0</td>\n",
       "      <td>13200.0</td>\n",
       "      <td>15000.0</td>\n",
       "    </tr>\n",
       "    <tr>\n",
       "      <th>2</th>\n",
       "      <td>2018-01-11</td>\n",
       "      <td>15000.0</td>\n",
       "      <td>15000.0</td>\n",
       "      <td>11400.0</td>\n",
       "      <td>13300.0</td>\n",
       "    </tr>\n",
       "    <tr>\n",
       "      <th>3</th>\n",
       "      <td>2018-01-12</td>\n",
       "      <td>13300.0</td>\n",
       "      <td>14200.0</td>\n",
       "      <td>12500.0</td>\n",
       "      <td>13800.0</td>\n",
       "    </tr>\n",
       "    <tr>\n",
       "      <th>4</th>\n",
       "      <td>2018-01-13</td>\n",
       "      <td>14000.0</td>\n",
       "      <td>14600.0</td>\n",
       "      <td>14000.0</td>\n",
       "      <td>14300.0</td>\n",
       "    </tr>\n",
       "  </tbody>\n",
       "</table>\n",
       "</div>"
      ],
      "text/plain": [
       "        date     open     high      low    close\n",
       "0 2018-01-09  15000.0  15500.0  14100.0  14400.0\n",
       "1 2018-01-10  14500.0  15000.0  13200.0  15000.0\n",
       "2 2018-01-11  15000.0  15000.0  11400.0  13300.0\n",
       "3 2018-01-12  13300.0  14200.0  12500.0  13800.0\n",
       "4 2018-01-13  14000.0  14600.0  14000.0  14300.0"
      ]
     },
     "execution_count": 11,
     "metadata": {},
     "output_type": "execute_result"
    }
   ],
   "source": [
    "df = pd.read_csv('SOLUSDTAtasH.csv')\n",
    "# Separo los datos en columnas usando como separador los puntos y coma\n",
    "df[['date', 'open', 'high', 'low', 'close']] = df['2020-12-08 00:00:00;3.30;3.30;3.10;3.15'].str.split(';', expand = True) \n",
    "# Asigno el tipo datetime con el formato %Y-%d-%m %H:%M:%S a la columna date\n",
    "df['date'] = pd.to_datetime(df['date'], format=\"%Y-%d-%m %H:%M:%S\")\n",
    "# Asigno el tipo float a las columnas open, high, low y close\n",
    "df[['open', 'high', 'low', 'close']] = df[['open', 'high', 'low', 'close']].astype(float)\n",
    "df = df.drop('2020-12-08 00:00:00', axis=1)\n",
    "\n"
   ]
  },
  {
   "cell_type": "code",
   "execution_count": 12,
   "metadata": {},
   "outputs": [
    {
     "data": {
      "text/html": [
       "<div>\n",
       "<style scoped>\n",
       "    .dataframe tbody tr th:only-of-type {\n",
       "        vertical-align: middle;\n",
       "    }\n",
       "\n",
       "    .dataframe tbody tr th {\n",
       "        vertical-align: top;\n",
       "    }\n",
       "\n",
       "    .dataframe thead th {\n",
       "        text-align: right;\n",
       "    }\n",
       "</style>\n",
       "<table border=\"1\" class=\"dataframe\">\n",
       "  <thead>\n",
       "    <tr style=\"text-align: right;\">\n",
       "      <th></th>\n",
       "      <th>date</th>\n",
       "      <th>open</th>\n",
       "      <th>high</th>\n",
       "      <th>low</th>\n",
       "      <th>close</th>\n",
       "    </tr>\n",
       "  </thead>\n",
       "  <tbody>\n",
       "    <tr>\n",
       "      <th>2455</th>\n",
       "      <td>2024-10-04</td>\n",
       "      <td>60800.0</td>\n",
       "      <td>62500.0</td>\n",
       "      <td>60500.0</td>\n",
       "      <td>62100.0</td>\n",
       "    </tr>\n",
       "    <tr>\n",
       "      <th>2456</th>\n",
       "      <td>2024-10-05</td>\n",
       "      <td>62100.0</td>\n",
       "      <td>62400.0</td>\n",
       "      <td>61700.0</td>\n",
       "      <td>62100.0</td>\n",
       "    </tr>\n",
       "    <tr>\n",
       "      <th>2457</th>\n",
       "      <td>2024-10-06</td>\n",
       "      <td>62100.0</td>\n",
       "      <td>63000.0</td>\n",
       "      <td>61800.0</td>\n",
       "      <td>62900.0</td>\n",
       "    </tr>\n",
       "    <tr>\n",
       "      <th>2458</th>\n",
       "      <td>2024-10-07</td>\n",
       "      <td>62900.0</td>\n",
       "      <td>64500.0</td>\n",
       "      <td>62200.0</td>\n",
       "      <td>62300.0</td>\n",
       "    </tr>\n",
       "    <tr>\n",
       "      <th>2459</th>\n",
       "      <td>2024-10-08</td>\n",
       "      <td>62300.0</td>\n",
       "      <td>63200.0</td>\n",
       "      <td>61900.0</td>\n",
       "      <td>62600.0</td>\n",
       "    </tr>\n",
       "  </tbody>\n",
       "</table>\n",
       "</div>"
      ],
      "text/plain": [
       "           date     open     high      low    close\n",
       "2455 2024-10-04  60800.0  62500.0  60500.0  62100.0\n",
       "2456 2024-10-05  62100.0  62400.0  61700.0  62100.0\n",
       "2457 2024-10-06  62100.0  63000.0  61800.0  62900.0\n",
       "2458 2024-10-07  62900.0  64500.0  62200.0  62300.0\n",
       "2459 2024-10-08  62300.0  63200.0  61900.0  62600.0"
      ]
     },
     "execution_count": 12,
     "metadata": {},
     "output_type": "execute_result"
    }
   ],
   "source": [
    "df.tail()"
   ]
  },
  {
   "cell_type": "code",
   "execution_count": 13,
   "metadata": {},
   "outputs": [
    {
     "name": "stdout",
     "output_type": "stream",
     "text": [
      "                    date     open     high      low    close\n",
      "0    2018-01-09 02:00:00  15000.0  15500.0  14100.0  14400.0\n",
      "1    2018-01-10 02:00:00  14500.0  15000.0  13200.0  15000.0\n",
      "2    2018-01-11 02:00:00  15000.0  15000.0  11400.0  13300.0\n",
      "3    2018-01-12 02:00:00  13300.0  14200.0  12500.0  13800.0\n",
      "4    2018-01-13 02:00:00  14000.0  14600.0  14000.0  14300.0\n",
      "...                  ...      ...      ...      ...      ...\n",
      "2455 2024-10-04 02:00:00  60800.0  62500.0  60500.0  62100.0\n",
      "2456 2024-10-05 02:00:00  62100.0  62400.0  61700.0  62100.0\n",
      "2457 2024-10-06 02:00:00  62100.0  63000.0  61800.0  62900.0\n",
      "2458 2024-10-07 02:00:00  62900.0  64500.0  62200.0  62300.0\n",
      "2459 2024-10-08 02:00:00  62300.0  63200.0  61900.0  62600.0\n",
      "\n",
      "[2460 rows x 5 columns]\n"
     ]
    }
   ],
   "source": [
    "df['date'] = df['date'] + pd.to_timedelta(2, unit='h')\n",
    "print(df)"
   ]
  },
  {
   "cell_type": "code",
   "execution_count": null,
   "metadata": {},
   "outputs": [],
   "source": [
    "# Guardo el dataframe modificado\n",
    "df.to_csv('SOLUSTDAtas_tratado.csv', index=False)   "
   ]
  }
 ],
 "metadata": {
  "kernelspec": {
   "display_name": "Python 3",
   "language": "python",
   "name": "python3"
  },
  "language_info": {
   "codemirror_mode": {
    "name": "ipython",
    "version": 3
   },
   "file_extension": ".py",
   "mimetype": "text/x-python",
   "name": "python",
   "nbconvert_exporter": "python",
   "pygments_lexer": "ipython3",
   "version": "3.10.11"
  }
 },
 "nbformat": 4,
 "nbformat_minor": 2
}
