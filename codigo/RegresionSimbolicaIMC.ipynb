{
 "cells": [
  {
   "cell_type": "code",
   "execution_count": 1,
   "metadata": {},
   "outputs": [],
   "source": [
    "import pandas as pd\n",
    "import numpy as np\n",
    "import matplotlib.pyplot as plt \n",
    "import random"
   ]
  },
  {
   "cell_type": "code",
   "execution_count": 2,
   "metadata": {},
   "outputs": [
    {
     "name": "stdout",
     "output_type": "stream",
     "text": [
      "<class 'pandas.core.frame.DataFrame'>\n",
      "RangeIndex: 36400 entries, 0 to 36399\n",
      "Data columns (total 6 columns):\n",
      " #   Column  Non-Null Count  Dtype  \n",
      "---  ------  --------------  -----  \n",
      " 0   date    36400 non-null  object \n",
      " 1   open    36400 non-null  float64\n",
      " 2   high    36400 non-null  float64\n",
      " 3   low     36400 non-null  float64\n",
      " 4   close   36400 non-null  float64\n",
      " 5   value   36400 non-null  int64  \n",
      "dtypes: float64(4), int64(1), object(1)\n",
      "memory usage: 1.7+ MB\n",
      "None\n"
     ]
    }
   ],
   "source": [
    "df = pd.read_csv('SolAtasIMC_tratado.csv')\n",
    "print(df.info())"
   ]
  },
  {
   "cell_type": "markdown",
   "metadata": {},
   "source": [
    "# Preprocesado de Datos"
   ]
  },
  {
   "cell_type": "code",
   "execution_count": 3,
   "metadata": {},
   "outputs": [],
   "source": [
    "tamanio = df.shape[0]"
   ]
  },
  {
   "cell_type": "code",
   "execution_count": 4,
   "metadata": {},
   "outputs": [],
   "source": [
    "df_train = df.copy().loc[0:int(tamanio*0.7)]\n",
    "df_vali = df.copy().loc[int(tamanio*0.7 + 1):int(tamanio*0.9)]\n",
    "df_test = df.copy().loc[int(tamanio*0.9 + 1):tamanio]"
   ]
  },
  {
   "cell_type": "markdown",
   "metadata": {},
   "source": [
    "# Desarrollo del modelo"
   ]
  },
  {
   "cell_type": "code",
   "execution_count": 5,
   "metadata": {},
   "outputs": [],
   "source": [
    "class RegresionSimbolica:\n",
    "    def __init__(self, funcionOptimizacion: callable, operations: list[list], maxSize: int, minSize: int, n : int): # n es la cantidad de horas anteriores que se tienen en cuenta\n",
    "        self.funcionOptimizacion = funcionOptimizacion\n",
    "        self.operations = operations  # La primera lista contendrá las operaciones más prioritarias y así progresivamente\n",
    "        self.maxSize = maxSize\n",
    "        self.minSize = minSize\n",
    "        self.genes: list[list] = []\n",
    "        self.n = n\n",
    "        pass\n",
    "    \n",
    "    \n",
    "    def __create_priv(self, r : int, numGenes: int):\n",
    "        genes = []\n",
    "        for j in range(random.randint(2, numGenes)):   # Se genera un número aleatorio de genes entre 2 y numGenes\n",
    "            aux = []\n",
    "            aux.append(random.randint(0, r))\n",
    "            for i in range(random.randint(self.minSize, self.maxSize - 1)):\n",
    "                numLO = random.randint(0, len(self.operations) - 1)\n",
    "                aux.append(self.operations[numLO][random.randint(0, len(self.operations[numLO]) - 1)])\n",
    "                aux.append(random.randint(0, r))\n",
    "            genes.append(aux)\n",
    "        return genes\n",
    "            \n",
    "    \n",
    "    \n",
    "    def create(self, numGenes: int):\n",
    "        if numGenes > 0:\n",
    "            return self.__create_priv(5*self.n - 1, numGenes)\n",
    "        else:\n",
    "            raise Exception(\"El número de genes no puede ser menor que 1\")\n",
    "        \n",
    "    def __aplica_operacion(self, op, i, j):\n",
    "        if op == '+':\n",
    "            return i + j\n",
    "        elif op == '-':\n",
    "            return i - j\n",
    "        elif op == '*':\n",
    "            return i * j\n",
    "        elif op == '/':\n",
    "            return i / j\n",
    "        elif op == '^':\n",
    "            return i ** j\n",
    "        \n",
    "    def __evaluate(self, valores: list[float], candidato: list):\n",
    "        candidato_aux = []\n",
    "        for i in range(0, len(candidato) - 1, 2):\n",
    "            candidato_aux.append(valores[candidato[i]])\n",
    "            candidato_aux.append(candidato[i+1])\n",
    "        candidato_aux.append(valores[candidato[len(candidato) - 1]])\n",
    "        for categoria_operaciones in self.operations:\n",
    "            j_offset = 0\n",
    "            for j in range(1, len(candidato_aux), 2):\n",
    "                indice = j + j_offset\n",
    "                op = candidato_aux[indice]\n",
    "                if(op in categoria_operaciones):\n",
    "                    op_result = self.__aplica_operacion( op, candidato_aux[indice-1], candidato_aux[indice+1])\n",
    "                    candidato_aux[indice-1] = op_result\n",
    "                    del candidato_aux[indice+1]\n",
    "                    del candidato_aux[indice]\n",
    "                    j_offset = j_offset - 2\n",
    "        return candidato_aux[0]   \n",
    "    \n",
    "    \n",
    "    def fitness(self, X, y, candidato: list):\n",
    "        valores_generados = []\n",
    "        for elem in X:\n",
    "            valores_generados.append(self.__evaluate(elem, candidato))\n",
    "        return self.funcionOptimizacion(valores_generados, y)\n",
    "    \n",
    "    def fitness2(self, X, y, candidato: list):\n",
    "        valores_generados = []\n",
    "        for elem in X:\n",
    "            valores_generados.append(self.__evaluate(elem, candidato))\n",
    "        return self.funcionOptimizacion(valores_generados, y)\n",
    "               \n",
    "                \n",
    "        \n",
    "            \n",
    "        \n",
    "    def display(self,  candidato: list):\n",
    "        print(' '.join(map(str, [i for i in candidato])))\n",
    "        return  ' '.join(map(str, [i for i in candidato]))\n",
    "        \n",
    "    def mutate(self, candidato: list):\n",
    "        numberC = (1 + len(candidato)) / 2\n",
    "        if numberC < self.maxSize and random.randint(0,100) == 0:\n",
    "            op_cat = random.randint(0, len(self.operations) - 1)\n",
    "            candidato.append(self.operations[op_cat][random.randint(0, len(self.operations[op_cat]) - 1)])\n",
    "            candidato.append(random.randrange(0, 5*self.n))\n",
    "            return candidato\n",
    "        elif numberC > self.minSize and random.randint(0,50) == 0:\n",
    "            indice = random.randrange(0, len(candidato) - 1)\n",
    "            del candidato[indice]\n",
    "            del candidato[indice]\n",
    "            return candidato\n",
    "        return candidato\n",
    "    \n",
    "    def mutate2(self, candidato: list):\n",
    "        numberC = (1 + len(candidato)) / 2\n",
    "        for i in range(0,20):\n",
    "            if numberC < self.maxSize and random.randint(0,50) == 0:\n",
    "                op_cat = random.randint(0, len(self.operations) - 1)\n",
    "                candidato.append(self.operations[op_cat][random.randint(0, len(self.operations[op_cat]) - 1)])\n",
    "                candidato.append(random.randrange(0, 5*self.n))\n",
    "                numberC += 2\n",
    "            elif numberC > self.minSize and random.randint(0,50) == 0:\n",
    "                indice = random.randrange(0, len(candidato) - 1)\n",
    "                del candidato[indice]\n",
    "                del candidato[indice]\n",
    "                numberC -= 2\n",
    "        return candidato\n",
    "    \n",
    "    def run(self, numGenes, X, y, baremo: float):\n",
    "        best = 1000000\n",
    "        post_best = 0\n",
    "        self.genes = self.create(numGenes)\n",
    "        for i in range (0, len(self.genes)):\n",
    "            value = self.fitness(X, y, self.genes[i])\n",
    "            if(value < best):\n",
    "                best = value\n",
    "                post_best = i\n",
    "        while(best > baremo):\n",
    "            for j in range (0, len(self.genes)):\n",
    "                self.genes[j] = self.mutate2(self.genes[j])\n",
    "            for i in range (0, len(self.genes)):\n",
    "                value = self.fitness(X, y, self.genes[i])\n",
    "                if(value < best):\n",
    "                    best = value\n",
    "                    post_best = i\n",
    "        print(\"El mejor gen tiene un rendimiento de \" + str(best))\n",
    "        self.display(self.genes[post_best])\n",
    "        return (post_best, best)\n",
    "        \n",
    "        \n",
    "    def run2(self, numGenes, X, y, baremo: float):\n",
    "        best = 1000000\n",
    "        candidato_best = []\n",
    "        self.genes = self.create(numGenes)\n",
    "        for i in range (0, len(self.genes)):\n",
    "            value = self.fitness(X, y, self.genes[i])\n",
    "            if(value < best):\n",
    "                best = value\n",
    "                candidato_best = self.genes[i]\n",
    "        while(best > baremo):\n",
    "            for j in range (0, len(self.genes)):\n",
    "                self.genes[j] = self.mutate2(self.genes[j])\n",
    "            dicc_aux = {}\n",
    "            genes_aux = self.genes.copy()\n",
    "            values_list = []\n",
    "            for r in range (0, len(self.genes)):\n",
    "                value = self.fitness(X, y, self.genes[r])\n",
    "                values_list.append(value)\n",
    "                dicc_aux[value] = r\n",
    "                if(value < best):\n",
    "                    best = value\n",
    "                    candidato_best = self.genes[r]\n",
    "            values_array = np.array(values_list)\n",
    "            values_array.sort()\n",
    "            num_del = 0\n",
    "            if(values_array.size <= (numGenes - 4)/2):\n",
    "                genescreados = self.create(4)\n",
    "                for gen in genescreados:\n",
    "                    self.genes.append(gen)\n",
    "            else:\n",
    "                for z in range(int(values_array.size/ 2), values_array.size):\n",
    "                    if genes_aux[dicc_aux[values_array[z]]] in self.genes:\n",
    "                        self.genes.remove(genes_aux[dicc_aux[values_array[z]]])\n",
    "                        num_del += 1\n",
    "                if num_del > 2:\n",
    "                    genescreados = self.create(num_del)\n",
    "                    for gen in genescreados:\n",
    "                        self.genes.append(gen)\n",
    "        print(\"El mejor gen tiene un rendimiento de \" + str(best))\n",
    "        self.display(candidato_best)\n",
    "        return (candidato_best, best)\n",
    "        "
   ]
  },
  {
   "cell_type": "code",
   "execution_count": 6,
   "metadata": {},
   "outputs": [],
   "source": [
    "def funcion_optimizacion_mape(valores_generados, y):\n",
    "    suma = 0\n",
    "    n = len(valores_generados)\n",
    "    for i in range(0,n):\n",
    "        suma = abs(valores_generados[i] - y[i])/y[i] +  suma\n",
    "    error_medio = suma/n\n",
    "    return error_medio*100 "
   ]
  },
  {
   "cell_type": "code",
   "execution_count": 7,
   "metadata": {},
   "outputs": [],
   "source": [
    "\n",
    "operations = [\n",
    "    ['*', '/'],   # Primera lista de operaciones prioritarias\n",
    "    ['+', '-']    # Segunda lista de operaciones con menor prioridad\n",
    "]\n",
    "\n",
    "# Declarar el objeto\n",
    "objeto_regresion = RegresionSimbolica(\n",
    "    funcionOptimizacion=funcion_optimizacion_mape,  # Pasas tu función de optimización\n",
    "    operations=operations,                          # Pasas la lista de operaciones\n",
    "    maxSize=15,                                     # Tamaño máximo del cromosoma\n",
    "    minSize=3,                                      # Tamaño mínimo del cromosoma\n",
    "    n=7                                             # Cantidad de horas anteriores a considerar\n",
    ")"
   ]
  },
  {
   "cell_type": "code",
   "execution_count": 8,
   "metadata": {},
   "outputs": [
    {
     "name": "stdout",
     "output_type": "stream",
     "text": [
      "1 + 3 * 5 - 6 + 9 / 2\n",
      "1 + 3 * 5 / 12 - 7\n"
     ]
    },
    {
     "data": {
      "text/plain": [
       "'1 + 3 * 5 / 12 - 7'"
      ]
     },
     "execution_count": 8,
     "metadata": {},
     "output_type": "execute_result"
    }
   ],
   "source": [
    "objeto_regresion.display([1, '+', 3, '*', 5, '-', 6, '+', 9, '/', 2])\n",
    "objeto_regresion.fitness([[1, 3,1,4,5,2,5,8,5]], [10.2], [1, '+', 3, '*', 5])\n",
    "candidato = [1, '+', 3, '*', 5]\n",
    "for i in range(0, 300):\n",
    "    objeto_regresion.mutate(candidato)\n",
    "objeto_regresion.display(candidato)    "
   ]
  },
  {
   "cell_type": "markdown",
   "metadata": {},
   "source": [
    "Preparar X e y"
   ]
  },
  {
   "cell_type": "code",
   "execution_count": 9,
   "metadata": {},
   "outputs": [],
   "source": [
    "X = []\n",
    "y= []\n",
    "for i in range(0, df_train.shape[0] - 7):\n",
    "    aux = []\n",
    "    for r in range(0, 7):\n",
    "        aux.append(df_train.iloc[i + r].open)\n",
    "        aux.append(df_train.iloc[i + r].high)\n",
    "        aux.append(df_train.iloc[i + r].low)\n",
    "        aux.append(df_train.iloc[i + r].close)\n",
    "        aux.append(df_train.iloc[i + r].value)\n",
    "    X.append(aux)\n",
    "    y.append(df_train.iloc[i + 7].close)"
   ]
  },
  {
   "cell_type": "code",
   "execution_count": 16,
   "metadata": {},
   "outputs": [
    {
     "ename": "KeyboardInterrupt",
     "evalue": "",
     "output_type": "error",
     "traceback": [
      "\u001b[1;31m---------------------------------------------------------------------------\u001b[0m",
      "\u001b[1;31mKeyboardInterrupt\u001b[0m                         Traceback (most recent call last)",
      "Cell \u001b[1;32mIn[16], line 1\u001b[0m\n\u001b[1;32m----> 1\u001b[0m pos \u001b[38;5;241m=\u001b[39m \u001b[43mobjeto_regresion\u001b[49m\u001b[38;5;241;43m.\u001b[39;49m\u001b[43mrun2\u001b[49m\u001b[43m(\u001b[49m\u001b[38;5;241;43m20\u001b[39;49m\u001b[43m,\u001b[49m\u001b[43m \u001b[49m\u001b[43mX\u001b[49m\u001b[43m,\u001b[49m\u001b[43m \u001b[49m\u001b[43my\u001b[49m\u001b[43m,\u001b[49m\u001b[43m \u001b[49m\u001b[38;5;241;43m1.0\u001b[39;49m\u001b[43m)\u001b[49m\n",
      "Cell \u001b[1;32mIn[5], line 151\u001b[0m, in \u001b[0;36mRegresionSimbolica.run2\u001b[1;34m(self, numGenes, X, y, baremo)\u001b[0m\n\u001b[0;32m    149\u001b[0m values_list \u001b[38;5;241m=\u001b[39m []\n\u001b[0;32m    150\u001b[0m \u001b[38;5;28;01mfor\u001b[39;00m r \u001b[38;5;129;01min\u001b[39;00m \u001b[38;5;28mrange\u001b[39m (\u001b[38;5;241m0\u001b[39m, \u001b[38;5;28mlen\u001b[39m(\u001b[38;5;28mself\u001b[39m\u001b[38;5;241m.\u001b[39mgenes)):\n\u001b[1;32m--> 151\u001b[0m     value \u001b[38;5;241m=\u001b[39m \u001b[38;5;28;43mself\u001b[39;49m\u001b[38;5;241;43m.\u001b[39;49m\u001b[43mfitness\u001b[49m\u001b[43m(\u001b[49m\u001b[43mX\u001b[49m\u001b[43m,\u001b[49m\u001b[43m \u001b[49m\u001b[43my\u001b[49m\u001b[43m,\u001b[49m\u001b[43m \u001b[49m\u001b[38;5;28;43mself\u001b[39;49m\u001b[38;5;241;43m.\u001b[39;49m\u001b[43mgenes\u001b[49m\u001b[43m[\u001b[49m\u001b[43mr\u001b[49m\u001b[43m]\u001b[49m\u001b[43m)\u001b[49m\n\u001b[0;32m    152\u001b[0m     values_list\u001b[38;5;241m.\u001b[39mappend(value)\n\u001b[0;32m    153\u001b[0m     dicc_aux[value] \u001b[38;5;241m=\u001b[39m r\n",
      "Cell \u001b[1;32mIn[5], line 67\u001b[0m, in \u001b[0;36mRegresionSimbolica.fitness\u001b[1;34m(self, X, y, candidato)\u001b[0m\n\u001b[0;32m     65\u001b[0m valores_generados \u001b[38;5;241m=\u001b[39m []\n\u001b[0;32m     66\u001b[0m \u001b[38;5;28;01mfor\u001b[39;00m elem \u001b[38;5;129;01min\u001b[39;00m X:\n\u001b[1;32m---> 67\u001b[0m     valores_generados\u001b[38;5;241m.\u001b[39mappend(\u001b[38;5;28;43mself\u001b[39;49m\u001b[38;5;241;43m.\u001b[39;49m\u001b[43m__evaluate\u001b[49m\u001b[43m(\u001b[49m\u001b[43melem\u001b[49m\u001b[43m,\u001b[49m\u001b[43m \u001b[49m\u001b[43mcandidato\u001b[49m\u001b[43m)\u001b[49m)\n\u001b[0;32m     68\u001b[0m \u001b[38;5;28;01mreturn\u001b[39;00m \u001b[38;5;28mself\u001b[39m\u001b[38;5;241m.\u001b[39mfuncionOptimizacion(valores_generados, y)\n",
      "Cell \u001b[1;32mIn[5], line 56\u001b[0m, in \u001b[0;36mRegresionSimbolica.__evaluate\u001b[1;34m(self, valores, candidato)\u001b[0m\n\u001b[0;32m     54\u001b[0m op \u001b[38;5;241m=\u001b[39m candidato_aux[indice]\n\u001b[0;32m     55\u001b[0m \u001b[38;5;28;01mif\u001b[39;00m(op \u001b[38;5;129;01min\u001b[39;00m categoria_operaciones):\n\u001b[1;32m---> 56\u001b[0m     op_result \u001b[38;5;241m=\u001b[39m \u001b[38;5;28;43mself\u001b[39;49m\u001b[38;5;241;43m.\u001b[39;49m\u001b[43m__aplica_operacion\u001b[49m\u001b[43m(\u001b[49m\u001b[43m \u001b[49m\u001b[43mop\u001b[49m\u001b[43m,\u001b[49m\u001b[43m \u001b[49m\u001b[43mcandidato_aux\u001b[49m\u001b[43m[\u001b[49m\u001b[43mindice\u001b[49m\u001b[38;5;241;43m-\u001b[39;49m\u001b[38;5;241;43m1\u001b[39;49m\u001b[43m]\u001b[49m\u001b[43m,\u001b[49m\u001b[43m \u001b[49m\u001b[43mcandidato_aux\u001b[49m\u001b[43m[\u001b[49m\u001b[43mindice\u001b[49m\u001b[38;5;241;43m+\u001b[39;49m\u001b[38;5;241;43m1\u001b[39;49m\u001b[43m]\u001b[49m\u001b[43m)\u001b[49m\n\u001b[0;32m     57\u001b[0m     candidato_aux[indice\u001b[38;5;241m-\u001b[39m\u001b[38;5;241m1\u001b[39m] \u001b[38;5;241m=\u001b[39m op_result\n\u001b[0;32m     58\u001b[0m     \u001b[38;5;28;01mdel\u001b[39;00m candidato_aux[indice\u001b[38;5;241m+\u001b[39m\u001b[38;5;241m1\u001b[39m]\n",
      "Cell \u001b[1;32mIn[5], line 33\u001b[0m, in \u001b[0;36mRegresionSimbolica.__aplica_operacion\u001b[1;34m(self, op, i, j)\u001b[0m\n\u001b[0;32m     32\u001b[0m \u001b[38;5;28;01mdef\u001b[39;00m \u001b[38;5;21m__aplica_operacion\u001b[39m(\u001b[38;5;28mself\u001b[39m, op, i, j):\n\u001b[1;32m---> 33\u001b[0m     \u001b[38;5;28;01mif\u001b[39;00m \u001b[43mop\u001b[49m\u001b[43m \u001b[49m\u001b[38;5;241;43m==\u001b[39;49m\u001b[43m \u001b[49m\u001b[38;5;124;43m'\u001b[39;49m\u001b[38;5;124;43m+\u001b[39;49m\u001b[38;5;124;43m'\u001b[39;49m:\n\u001b[0;32m     34\u001b[0m         \u001b[38;5;28;01mreturn\u001b[39;00m i \u001b[38;5;241m+\u001b[39m j\n\u001b[0;32m     35\u001b[0m     \u001b[38;5;28;01melif\u001b[39;00m op \u001b[38;5;241m==\u001b[39m \u001b[38;5;124m'\u001b[39m\u001b[38;5;124m-\u001b[39m\u001b[38;5;124m'\u001b[39m:\n",
      "\u001b[1;31mKeyboardInterrupt\u001b[0m: "
     ]
    }
   ],
   "source": [
    "pos = objeto_regresion.run2(20, X, y, 1.0)"
   ]
  },
  {
   "cell_type": "code",
   "execution_count": 14,
   "metadata": {},
   "outputs": [
    {
     "data": {
      "text/plain": [
       "([33, '-', 5, '/', 15, '/', 16, '*', 1, '/', 19], 1.0769040005469948)"
      ]
     },
     "execution_count": 14,
     "metadata": {},
     "output_type": "execute_result"
    }
   ],
   "source": [
    "pos"
   ]
  },
  {
   "cell_type": "code",
   "execution_count": 15,
   "metadata": {},
   "outputs": [],
   "source": [
    "with open('ecuacionesIMC.txt', 'a') as archivo:\n",
    "    archivo.write(str(pos[0]) + \" : \" + str(pos[1]) + \"\\n\")"
   ]
  }
 ],
 "metadata": {
  "kernelspec": {
   "display_name": "Python 3",
   "language": "python",
   "name": "python3"
  },
  "language_info": {
   "codemirror_mode": {
    "name": "ipython",
    "version": 3
   },
   "file_extension": ".py",
   "mimetype": "text/x-python",
   "name": "python",
   "nbconvert_exporter": "python",
   "pygments_lexer": "ipython3",
   "version": "3.10.11"
  }
 },
 "nbformat": 4,
 "nbformat_minor": 2
}
