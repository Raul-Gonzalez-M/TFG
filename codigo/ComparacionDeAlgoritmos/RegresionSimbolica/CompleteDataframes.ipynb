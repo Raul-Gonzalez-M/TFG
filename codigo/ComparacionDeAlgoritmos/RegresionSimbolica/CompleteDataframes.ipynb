{
 "cells": [
  {
   "cell_type": "code",
   "execution_count": 1,
   "id": "3d8f0d4f",
   "metadata": {},
   "outputs": [],
   "source": [
    "import pandas as pd"
   ]
  },
  {
   "cell_type": "code",
   "execution_count": 2,
   "id": "b603a2e2",
   "metadata": {},
   "outputs": [],
   "source": [
    "df1 = pd.read_csv(\"Dataframes/resultados_regresionSimbolicaCIMC_it3725f.csv\")\n",
    "df2 = pd.read_csv(\"Dataframes/resultados_regresionSimbolicaCIMC_it7000.csv\")"
   ]
  },
  {
   "cell_type": "code",
   "execution_count": 3,
   "id": "3aa49929",
   "metadata": {},
   "outputs": [],
   "source": [
    "df_completo = pd.concat([df1, df2], ignore_index=True)"
   ]
  },
  {
   "cell_type": "code",
   "execution_count": 4,
   "id": "66fe8e64",
   "metadata": {},
   "outputs": [
    {
     "name": "stdout",
     "output_type": "stream",
     "text": [
      "<class 'pandas.core.frame.DataFrame'>\n",
      "RangeIndex: 7000 entries, 0 to 6999\n",
      "Data columns (total 3 columns):\n",
      " #   Column     Non-Null Count  Dtype  \n",
      "---  ------     --------------  -----  \n",
      " 0   iteracion  7000 non-null   int64  \n",
      " 1   valor      7000 non-null   float64\n",
      " 2   gen        7000 non-null   object \n",
      "dtypes: float64(1), int64(1), object(1)\n",
      "memory usage: 164.2+ KB\n"
     ]
    }
   ],
   "source": [
    "df_completo.info()"
   ]
  },
  {
   "cell_type": "code",
   "execution_count": 5,
   "id": "bf003680",
   "metadata": {},
   "outputs": [],
   "source": [
    "df_completo.to_csv(\"Dataframes/resultados_regresionSimbolicaCIMC_it7000f.csv\", index=False)"
   ]
  }
 ],
 "metadata": {
  "kernelspec": {
   "display_name": "Python 3",
   "language": "python",
   "name": "python3"
  },
  "language_info": {
   "codemirror_mode": {
    "name": "ipython",
    "version": 3
   },
   "file_extension": ".py",
   "mimetype": "text/x-python",
   "name": "python",
   "nbconvert_exporter": "python",
   "pygments_lexer": "ipython3",
   "version": "3.9.0"
  }
 },
 "nbformat": 4,
 "nbformat_minor": 5
}
